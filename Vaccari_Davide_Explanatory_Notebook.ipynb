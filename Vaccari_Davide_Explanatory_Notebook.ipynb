{
  "nbformat": 4,
  "nbformat_minor": 0,
  "metadata": {
    "colab": {
      "name": "Vaccari_Davide_Explanatory_Notebook.ipynb",
      "provenance": [],
      "collapsed_sections": [],
      "toc_visible": true
    },
    "kernelspec": {
      "name": "python3",
      "display_name": "Python 3"
    },
    "language_info": {
      "name": "python"
    }
  },
  "cells": [
    {
      "cell_type": "markdown",
      "metadata": {
        "id": "NvMGj5YXTAFB"
      },
      "source": [
        "# Davide Vaccari\n",
        "[dv2438]\n",
        "\n",
        "## Explanatory Notebook for Projects in Machine Learning"
      ]
    },
    {
      "cell_type": "markdown",
      "metadata": {
        "id": "8FHzqwJLTKXI"
      },
      "source": [
        "This notebook will provide an overview of the projects contained in this repository.\n",
        "\n",
        "* Analyzing World Happiness with Neural Networks (NN) [Link](https://github.com/davidev7/Machine_Learning_Projects/blob/main/Analyzing%20World%20Happiness%20with%20NN/Vaccari_Davide_HW1.ipynb)\n",
        "\n",
        "* Predicting Covid X-Rays with NN and Transfer Learning [Link](https://github.com/davidev7/Machine_Learning_Projects/blob/main/Predicting%20Covid%20X-Rays%20with%20NN%20and%20Transfer%20Learning/Vaccari_Davide_HW2.ipynb)\n",
        "\n",
        "* Covid Misinformation Hackathon [Link](https://github.com/davidev7/Machine_Learning_Projects/blob/main/Covid%20Misinformation%20Hackathon/Vaccari_Davide_Covid_Tweet_Misinformation_Hackathon.ipynb)"
      ]
    },
    {
      "cell_type": "markdown",
      "metadata": {
        "id": "-mkbKj_eTTfx"
      },
      "source": [
        "___\n",
        "# Analyzing World Happiness with Neural Networks (NN)"
      ]
    },
    {
      "cell_type": "markdown",
      "metadata": {
        "id": "giwUpj0kTcvI"
      },
      "source": [
        "[This project](https://github.com/davidev7/Machine_Learning_Projects/blob/main/Analyzing%20World%20Happiness%20with%20NN/Vaccari_Davide_HW1.ipynb) (link to the actual notebook) aims at predicting Country' Happiness levels ([United Nation's World Happiness Rankings](https://worldhappiness.report/)) through other external variables.  \n",
        "\n",
        "These are:  \n",
        "\n",
        "*   Country or region\n",
        "*   GDP per capita\n",
        "*   Social support\n",
        "*   Healthy life expectancy\n",
        "*   Freedom to make life choices\n",
        "*   Generosity\n",
        "*   Perceptions of corruption\n",
        "* [Air quality](https://www.stateofglobalair.org/data/#/air/plot). [Hong Kong and Kosovo are the only two countries for which data is missing. For those, I've imputed the mean of the neighboring countries. Macedonia, Albania, Serbia, Montenegro, for Kosovo; China for Hong Kong.]\n",
        "\n",
        "* [Population density](https://data.worldbank.org/indicator/EN.POP.DNST)\n",
        "\n",
        "* [Suicide rates](https://apps.who.int/gho/data/node.main.MHSUICIDE?lang=en)"
      ]
    },
    {
      "cell_type": "markdown",
      "metadata": {
        "id": "lTdA2-xgVfti"
      },
      "source": [
        "## Dataset"
      ]
    },
    {
      "cell_type": "code",
      "metadata": {
        "id": "VfTZoC1t7gVO",
        "colab": {
          "base_uri": "https://localhost:8080/",
          "height": 313
        },
        "outputId": "2ec3cbf6-3bed-455d-dcc1-ac663856dcb6"
      },
      "source": [
        ""
      ],
      "execution_count": null,
      "outputs": [
        {
          "output_type": "execute_result",
          "data": {
            "text/html": [
              "<div>\n",
              "<style scoped>\n",
              "    .dataframe tbody tr th:only-of-type {\n",
              "        vertical-align: middle;\n",
              "    }\n",
              "\n",
              "    .dataframe tbody tr th {\n",
              "        vertical-align: top;\n",
              "    }\n",
              "\n",
              "    .dataframe thead th {\n",
              "        text-align: right;\n",
              "    }\n",
              "</style>\n",
              "<table border=\"1\" class=\"dataframe\">\n",
              "  <thead>\n",
              "    <tr style=\"text-align: right;\">\n",
              "      <th></th>\n",
              "      <th>Happiness_level</th>\n",
              "      <th>Happiness_level_code</th>\n",
              "      <th>Country</th>\n",
              "      <th>GDP.per.capita</th>\n",
              "      <th>Social.support</th>\n",
              "      <th>Healthy.life.expectancy</th>\n",
              "      <th>Freedom.to.make.life.choices</th>\n",
              "      <th>Generosity</th>\n",
              "      <th>Perceptions.of.corruption</th>\n",
              "      <th>name</th>\n",
              "      <th>region</th>\n",
              "      <th>sub.region</th>\n",
              "      <th>Mean_Exposure_pm25</th>\n",
              "      <th>Gini_2017</th>\n",
              "      <th>Density</th>\n",
              "      <th>Suicide.rates.2016.</th>\n",
              "    </tr>\n",
              "  </thead>\n",
              "  <tbody>\n",
              "    <tr>\n",
              "      <th>0</th>\n",
              "      <td>Very High</td>\n",
              "      <td>4</td>\n",
              "      <td>Finland</td>\n",
              "      <td>1.340</td>\n",
              "      <td>1.587</td>\n",
              "      <td>0.986</td>\n",
              "      <td>0.596</td>\n",
              "      <td>0.153</td>\n",
              "      <td>0.393</td>\n",
              "      <td>Finland</td>\n",
              "      <td>Europe</td>\n",
              "      <td>Northern Europe</td>\n",
              "      <td>5.57</td>\n",
              "      <td>27.4</td>\n",
              "      <td>18.148547</td>\n",
              "      <td>15.9</td>\n",
              "    </tr>\n",
              "    <tr>\n",
              "      <th>1</th>\n",
              "      <td>Very High</td>\n",
              "      <td>4</td>\n",
              "      <td>Denmark</td>\n",
              "      <td>1.383</td>\n",
              "      <td>1.573</td>\n",
              "      <td>0.996</td>\n",
              "      <td>0.592</td>\n",
              "      <td>0.252</td>\n",
              "      <td>0.410</td>\n",
              "      <td>Denmark</td>\n",
              "      <td>Europe</td>\n",
              "      <td>Northern Europe</td>\n",
              "      <td>9.79</td>\n",
              "      <td>28.7</td>\n",
              "      <td>137.976566</td>\n",
              "      <td>12.8</td>\n",
              "    </tr>\n",
              "    <tr>\n",
              "      <th>2</th>\n",
              "      <td>Very High</td>\n",
              "      <td>4</td>\n",
              "      <td>Norway</td>\n",
              "      <td>1.488</td>\n",
              "      <td>1.582</td>\n",
              "      <td>1.028</td>\n",
              "      <td>0.603</td>\n",
              "      <td>0.271</td>\n",
              "      <td>0.341</td>\n",
              "      <td>Norway</td>\n",
              "      <td>Europe</td>\n",
              "      <td>Northern Europe</td>\n",
              "      <td>6.64</td>\n",
              "      <td>27.0</td>\n",
              "      <td>14.548292</td>\n",
              "      <td>12.2</td>\n",
              "    </tr>\n",
              "    <tr>\n",
              "      <th>3</th>\n",
              "      <td>Very High</td>\n",
              "      <td>4</td>\n",
              "      <td>Iceland</td>\n",
              "      <td>1.380</td>\n",
              "      <td>1.624</td>\n",
              "      <td>1.026</td>\n",
              "      <td>0.591</td>\n",
              "      <td>0.354</td>\n",
              "      <td>0.118</td>\n",
              "      <td>Iceland</td>\n",
              "      <td>Europe</td>\n",
              "      <td>Northern Europe</td>\n",
              "      <td>5.70</td>\n",
              "      <td>NaN</td>\n",
              "      <td>3.518414</td>\n",
              "      <td>14.0</td>\n",
              "    </tr>\n",
              "    <tr>\n",
              "      <th>4</th>\n",
              "      <td>Very High</td>\n",
              "      <td>4</td>\n",
              "      <td>Netherlands</td>\n",
              "      <td>1.396</td>\n",
              "      <td>1.522</td>\n",
              "      <td>0.999</td>\n",
              "      <td>0.557</td>\n",
              "      <td>0.322</td>\n",
              "      <td>0.298</td>\n",
              "      <td>Netherlands</td>\n",
              "      <td>Europe</td>\n",
              "      <td>Western Europe</td>\n",
              "      <td>12.00</td>\n",
              "      <td>28.5</td>\n",
              "      <td>511.475928</td>\n",
              "      <td>12.6</td>\n",
              "    </tr>\n",
              "  </tbody>\n",
              "</table>\n",
              "</div>"
            ],
            "text/plain": [
              "  Happiness_level  Happiness_level_code  ...     Density  Suicide.rates.2016.\n",
              "0       Very High                     4  ...   18.148547                 15.9\n",
              "1       Very High                     4  ...  137.976566                 12.8\n",
              "2       Very High                     4  ...   14.548292                 12.2\n",
              "3       Very High                     4  ...    3.518414                 14.0\n",
              "4       Very High                     4  ...  511.475928                 12.6\n",
              "\n",
              "[5 rows x 16 columns]"
            ]
          },
          "metadata": {
            "tags": []
          },
          "execution_count": 3
        }
      ]
    },
    {
      "cell_type": "markdown",
      "metadata": {
        "id": "3yGGxdHFVKdY"
      },
      "source": [
        "**Note:** GINI information was discarded as it wasn't present for a sufficient number of Countries.\n",
        "\n",
        "**Target feauture**: Happiness level code."
      ]
    },
    {
      "cell_type": "markdown",
      "metadata": {
        "id": "MitW2su0WrGM"
      },
      "source": [
        "## Best Model\n",
        "The most model was obtained from the following training:"
      ]
    },
    {
      "cell_type": "code",
      "metadata": {
        "id": "tc5DuCxcXqRn"
      },
      "source": [
        "model = Sequential()\n",
        "model.add(Dense(128, input_dim=14, activation='relu', kernel_regularizer=l2(0.01), bias_regularizer=l2(0.01)))\n",
        "model.add(Dense(64, activation='relu', kernel_regularizer=l2(0.07), bias_regularizer=l2(0.07)))\n",
        "model.add(Dense(32, activation='relu', kernel_regularizer=l2(0.01), bias_regularizer=l2(0.01)))\n",
        "model.add(Dense(16, activation='relu', kernel_regularizer=l2(0.01), bias_regularizer=l2(0.01)))\n",
        "\n",
        "model.add(Dense(5, activation='softmax')) \n",
        "                                            \n",
        "# Compile model\n",
        "model.compile(loss='categorical_crossentropy', optimizer='adagrad', metrics=['accuracy'])\n",
        "\n",
        "# save best model given maximum val_accuracy, stop early if loss does not improve after 200 further iterations beyond best loss\n",
        "es = EarlyStopping(monitor='val_loss', mode='min', verbose=1, patience=200)\n",
        "mc = ModelCheckpoint('best_model.h5', monitor='val_accuracy',mode='max', verbose=1, save_best_only=True) # evaluating val_acc maximization\n",
        "\n",
        "# Fitting the NN to the Training set\n",
        "model.fit(preprocessor(X_train), pd.get_dummies(y_train), batch_size=50,\n",
        "          validation_data=(preprocessor(X_test), pd.get_dummies(y_test)), epochs=700, verbose=1, callbacks=[es,mc])"
      ],
      "execution_count": null,
      "outputs": []
    },
    {
      "cell_type": "markdown",
      "metadata": {
        "id": "T88prFvhYBha"
      },
      "source": [
        "Overall, it provides these are the classification measurements for the best model:"
      ]
    },
    {
      "cell_type": "code",
      "metadata": {
        "colab": {
          "base_uri": "https://localhost:8080/",
          "height": 81
        },
        "id": "lySH4aliZ8RO",
        "outputId": "806142f5-714d-4828-cfe9-362593e6c8b8"
      },
      "source": [
        ""
      ],
      "execution_count": null,
      "outputs": [
        {
          "output_type": "execute_result",
          "data": {
            "text/html": [
              "<div>\n",
              "<style scoped>\n",
              "    .dataframe tbody tr th:only-of-type {\n",
              "        vertical-align: middle;\n",
              "    }\n",
              "\n",
              "    .dataframe tbody tr th {\n",
              "        vertical-align: top;\n",
              "    }\n",
              "\n",
              "    .dataframe thead th {\n",
              "        text-align: right;\n",
              "    }\n",
              "</style>\n",
              "<table border=\"1\" class=\"dataframe\">\n",
              "  <thead>\n",
              "    <tr style=\"text-align: right;\">\n",
              "      <th></th>\n",
              "      <th>accuracy</th>\n",
              "      <th>f1_score</th>\n",
              "      <th>precision</th>\n",
              "      <th>recall</th>\n",
              "      <th>mse</th>\n",
              "      <th>rmse</th>\n",
              "      <th>mae</th>\n",
              "      <th>r2</th>\n",
              "    </tr>\n",
              "  </thead>\n",
              "  <tbody>\n",
              "    <tr>\n",
              "      <th>0</th>\n",
              "      <td>0.673077</td>\n",
              "      <td>0.659399</td>\n",
              "      <td>0.694127</td>\n",
              "      <td>0.677121</td>\n",
              "      <td>0</td>\n",
              "      <td>0</td>\n",
              "      <td>0</td>\n",
              "      <td>0</td>\n",
              "    </tr>\n",
              "  </tbody>\n",
              "</table>\n",
              "</div>"
            ],
            "text/plain": [
              "   accuracy  f1_score  precision    recall  mse  rmse  mae  r2\n",
              "0  0.673077  0.659399   0.694127  0.677121    0     0    0   0"
            ]
          },
          "metadata": {
            "tags": []
          },
          "execution_count": 71
        }
      ]
    },
    {
      "cell_type": "markdown",
      "metadata": {
        "id": "W3SKniuJYQ7h"
      },
      "source": [
        "___\n",
        "# Predicting Covid X-Rays with NN and Transfer Learning\n",
        "\n",
        "[The project](https://github.com/davidev7/Machine_Learning_Projects/blob/main/Predicting%20Covid%20X-Rays%20with%20NN%20and%20Transfer%20Learning/Vaccari_Davide_HW2.ipynb) consisted in creating a model capable of identifying X-Ray images of individuals and dinstinguish them on whether they had COVID-19, Pneumonia by other causes, or they were healthy."
      ]
    },
    {
      "cell_type": "markdown",
      "metadata": {
        "id": "dC4iIIKrYZmG"
      },
      "source": [
        "## Dataset\n",
        "\n",
        "The best model came from a combination of **Convolutional Neural Networks**  helped by pre-trained parameters (**Transfer Learning**).\n",
        "\n",
        "The **dataset** contains:  \n",
        "Total RX: 3886  \n",
        "Covid-19: 1200  \n",
        "Normal: 1341  \n",
        "Pneumonia: 1345\n",
        "\n",
        "20% of these are used as test data. Respectively: COVID 240, NORMAL 269, PNEUMONIA 269."
      ]
    },
    {
      "cell_type": "markdown",
      "metadata": {
        "id": "sgd3aitEaKxi"
      },
      "source": [
        "The images in the dataset were preprocessed in order to fit the model. Each of them was rescaled to 192x192 pixels.  \n",
        "\n",
        "In the following example, the first two (up) are X-Rays of individuals with Covid, the images below are X-Rays of healthy individuals."
      ]
    },
    {
      "cell_type": "code",
      "metadata": {
        "colab": {
          "base_uri": "https://localhost:8080/",
          "height": 269
        },
        "id": "nUTR0fRkybas",
        "outputId": "69ce43e8-4e70-4bf2-9e77-40ae8b5cc73e"
      },
      "source": [
        ""
      ],
      "execution_count": null,
      "outputs": [
        {
          "output_type": "display_data",
          "data": {
            "image/png": "[encoded data removed]",
            "text/plain": [
              "<Figure size 288x288 with 8 Axes>"
            ]
          },
          "metadata": {
            "tags": [],
            "needs_background": "light"
          }
        }
      ]
    },
    {
      "cell_type": "markdown",
      "metadata": {
        "id": "1E1Gy01EamER"
      },
      "source": [
        "## Best model"
      ]
    },
    {
      "cell_type": "markdown",
      "metadata": {
        "id": "YxcCdhuybDQ6"
      },
      "source": [
        "The best model was trained adding three Dense layers (with 1024, 256, and 3 neurons respectively) to the [VGG19 Model](https://keras.io/api/applications/vgg/#vgg19-function) and its pre-trained parameters."
      ]
    },
    {
      "cell_type": "code",
      "metadata": {
        "id": "o0pMOL5H2_xs"
      },
      "source": [
        "base_model = VGG19(input_shape=(192,192,3),\n",
        "                                               include_top=False, # Drops fully connected layers and output layer structure from pretrained model.\n",
        "                                               weights='imagenet') # Using weight from model trained to 1000 categories of imagenet competition"
      ],
      "execution_count": null,
      "outputs": []
    },
    {
      "cell_type": "code",
      "metadata": {
        "colab": {
          "base_uri": "https://localhost:8080/"
        },
        "id": "WL8tp4bCC4EX",
        "outputId": "973e6785-0a7f-44a3-a2c6-98a67002e073"
      },
      "source": [
        "flat1 = Flatten()(base_model.layers[-1].output)\n",
        "class1 = Dense(1024, activation='relu',\n",
        "               kernel_initializer=tf.keras.initializers.glorot_uniform(), \n",
        "               bias_initializer=tf.keras.initializers.zeros())(flat1)\n",
        "class2 = Dense(256, activation='relu',\n",
        "               kernel_initializer=tf.keras.initializers.glorot_uniform(), \n",
        "               bias_initializer=tf.keras.initializers.zeros())(class1)\n",
        "output = Dense(3, activation='softmax', \n",
        "               kernel_initializer=tf.keras.initializers.glorot_uniform(), \n",
        "               bias_initializer=tf.keras.initializers.zeros())(class2)\n",
        "\n",
        "# define new model\n",
        "model = Model(inputs=base_model.inputs, outputs=output) #base_model.inputs imports the vgg19 model defined in base_model\n",
        "  \n",
        "# summarize\n",
        "model.summary()"
      ],
      "execution_count": null,
      "outputs": [
        {
          "output_type": "stream",
          "text": [
            "Model: \"model_11\"\n",
            "_________________________________________________________________\n",
            "Layer (type)                 Output Shape              Param #   \n",
            "=================================================================\n",
            "input_9 (InputLayer)         [(None, 192, 192, 3)]     0         \n",
            "_________________________________________________________________\n",
            "block1_conv1 (Conv2D)        (None, 192, 192, 64)      1792      \n",
            "_________________________________________________________________\n",
            "block1_conv2 (Conv2D)        (None, 192, 192, 64)      36928     \n",
            "_________________________________________________________________\n",
            "block1_pool (MaxPooling2D)   (None, 96, 96, 64)        0         \n",
            "_________________________________________________________________\n",
            "block2_conv1 (Conv2D)        (None, 96, 96, 128)       73856     \n",
            "_________________________________________________________________\n",
            "block2_conv2 (Conv2D)        (None, 96, 96, 128)       147584    \n",
            "_________________________________________________________________\n",
            "block2_pool (MaxPooling2D)   (None, 48, 48, 128)       0         \n",
            "_________________________________________________________________\n",
            "block3_conv1 (Conv2D)        (None, 48, 48, 256)       295168    \n",
            "_________________________________________________________________\n",
            "block3_conv2 (Conv2D)        (None, 48, 48, 256)       590080    \n",
            "_________________________________________________________________\n",
            "block3_conv3 (Conv2D)        (None, 48, 48, 256)       590080    \n",
            "_________________________________________________________________\n",
            "block3_conv4 (Conv2D)        (None, 48, 48, 256)       590080    \n",
            "_________________________________________________________________\n",
            "block3_pool (MaxPooling2D)   (None, 24, 24, 256)       0         \n",
            "_________________________________________________________________\n",
            "block4_conv1 (Conv2D)        (None, 24, 24, 512)       1180160   \n",
            "_________________________________________________________________\n",
            "block4_conv2 (Conv2D)        (None, 24, 24, 512)       2359808   \n",
            "_________________________________________________________________\n",
            "block4_conv3 (Conv2D)        (None, 24, 24, 512)       2359808   \n",
            "_________________________________________________________________\n",
            "block4_conv4 (Conv2D)        (None, 24, 24, 512)       2359808   \n",
            "_________________________________________________________________\n",
            "block4_pool (MaxPooling2D)   (None, 12, 12, 512)       0         \n",
            "_________________________________________________________________\n",
            "block5_conv1 (Conv2D)        (None, 12, 12, 512)       2359808   \n",
            "_________________________________________________________________\n",
            "block5_conv2 (Conv2D)        (None, 12, 12, 512)       2359808   \n",
            "_________________________________________________________________\n",
            "block5_conv3 (Conv2D)        (None, 12, 12, 512)       2359808   \n",
            "_________________________________________________________________\n",
            "block5_conv4 (Conv2D)        (None, 12, 12, 512)       2359808   \n",
            "_________________________________________________________________\n",
            "block5_pool (MaxPooling2D)   (None, 6, 6, 512)         0         \n",
            "_________________________________________________________________\n",
            "flatten_16 (Flatten)         (None, 18432)             0         \n",
            "_________________________________________________________________\n",
            "dense_44 (Dense)             (None, 1024)              18875392  \n",
            "_________________________________________________________________\n",
            "dense_45 (Dense)             (None, 256)               262400    \n",
            "_________________________________________________________________\n",
            "dense_46 (Dense)             (None, 3)                 771       \n",
            "=================================================================\n",
            "Total params: 39,162,947\n",
            "Trainable params: 20,874,051\n",
            "Non-trainable params: 18,288,896\n",
            "_________________________________________________________________\n"
          ],
          "name": "stdout"
        }
      ]
    },
    {
      "cell_type": "code",
      "metadata": {
        "id": "gep1PDZccKpL"
      },
      "source": [
        "mc = ModelCheckpoint('best_model.h5', monitor='val_acc',mode='max', verbose=1, save_best_only=True) # evaluating val_acc maximization\n",
        "red_lr= ReduceLROnPlateau(monitor='val_acc',patience=2,verbose=1,factor=0.5, min_lr=0) # dividing lr by half when val_accuracy fails to improve after 2 epochs\n",
        "es = EarlyStopping(monitor='val_loss', mode='min', verbose=1, patience=10) # save best model given maximum val_accuracy, stop early if loss does not improve after 10 epochs beyond best loss\n",
        "\n",
        "model.compile(loss='categorical_crossentropy', optimizer=opt, metrics=['acc']) \n",
        "\n",
        "model.fit(X_train, y_train,\n",
        "          epochs = 30, verbose=1,validation_data=(X_test,y_test), callbacks=[mc,red_lr, es])"
      ],
      "execution_count": null,
      "outputs": []
    },
    {
      "cell_type": "markdown",
      "metadata": {
        "id": "eHfLjq2pcRhT"
      },
      "source": [
        "Overall this model did extremely well."
      ]
    },
    {
      "cell_type": "code",
      "metadata": {
        "colab": {
          "base_uri": "https://localhost:8080/",
          "height": 81
        },
        "id": "X3PNCRlu6gec",
        "outputId": "96871a49-ff43-4fad-e051-057cc7cf041d"
      },
      "source": [
        ""
      ],
      "execution_count": null,
      "outputs": [
        {
          "output_type": "execute_result",
          "data": {
            "text/html": [
              "<div>\n",
              "<style scoped>\n",
              "    .dataframe tbody tr th:only-of-type {\n",
              "        vertical-align: middle;\n",
              "    }\n",
              "\n",
              "    .dataframe tbody tr th {\n",
              "        vertical-align: top;\n",
              "    }\n",
              "\n",
              "    .dataframe thead th {\n",
              "        text-align: right;\n",
              "    }\n",
              "</style>\n",
              "<table border=\"1\" class=\"dataframe\">\n",
              "  <thead>\n",
              "    <tr style=\"text-align: right;\">\n",
              "      <th></th>\n",
              "      <th>accuracy</th>\n",
              "      <th>f1_score</th>\n",
              "      <th>precision</th>\n",
              "      <th>recall</th>\n",
              "      <th>mse</th>\n",
              "      <th>rmse</th>\n",
              "      <th>mae</th>\n",
              "      <th>r2</th>\n",
              "    </tr>\n",
              "  </thead>\n",
              "  <tbody>\n",
              "    <tr>\n",
              "      <th>0</th>\n",
              "      <td>0.992288</td>\n",
              "      <td>0.992486</td>\n",
              "      <td>0.992412</td>\n",
              "      <td>0.992565</td>\n",
              "      <td>0</td>\n",
              "      <td>0</td>\n",
              "      <td>0</td>\n",
              "      <td>0</td>\n",
              "    </tr>\n",
              "  </tbody>\n",
              "</table>\n",
              "</div>"
            ],
            "text/plain": [
              "   accuracy  f1_score  precision    recall  mse  rmse  mae  r2\n",
              "0  0.992288  0.992486   0.992412  0.992565    0     0    0   0"
            ]
          },
          "metadata": {
            "tags": []
          },
          "execution_count": 100
        }
      ]
    },
    {
      "cell_type": "markdown",
      "metadata": {
        "id": "xW7kRL2tcZSb"
      },
      "source": [
        "___\n",
        "# Covid Misinformation Hackathon\n",
        "\n",
        "[This project](https://github.com/davidev7/Machine_Learning_Projects/blob/main/Covid%20Misinformation%20Hackathon/Vaccari_Davide_Covid_Tweet_Misinformation_Hackathon.ipynb) consisted in creating a model capable of identifying whether a tweet contains truthful information or fake news. Moreover, the idea was to use **Recurrent Neural Networks** for sequential data (for text analysis). My best model had a **LSTM** layer in it."
      ]
    },
    {
      "cell_type": "markdown",
      "metadata": {
        "id": "5BZnQJjDlvT9"
      },
      "source": [
        "## Citation\n",
        "The dataset used in this report comes from the following paper:  \n",
        "\n",
        "*Shahi, Gautam Kishore, Anne Dirkson, and Tim A. Majchrzak.*  \n",
        "**\"An exploratory study of covid-19 misinformation on twitter.\"**  \n",
        "Online Social Networks and Media 22 (2021): 100104."
      ]
    },
    {
      "cell_type": "markdown",
      "metadata": {
        "id": "-QgYwkXqdDEb"
      },
      "source": [
        "## Dataset\n",
        "\n",
        "The dataset were tweets read and labelled by individual on whether they contained or not false information.\n",
        "\n",
        "Here are a few examples:"
      ]
    },
    {
      "cell_type": "code",
      "metadata": {
        "id": "YoqSwgStNzT4",
        "colab": {
          "base_uri": "https://localhost:8080/",
          "height": 416
        },
        "outputId": "91222894-4452-4048-b764-f039547cb9b3"
      },
      "source": [
        ""
      ],
      "execution_count": null,
      "outputs": [
        {
          "output_type": "execute_result",
          "data": {
            "text/html": [
              "<div>\n",
              "<style scoped>\n",
              "    .dataframe tbody tr th:only-of-type {\n",
              "        vertical-align: middle;\n",
              "    }\n",
              "\n",
              "    .dataframe tbody tr th {\n",
              "        vertical-align: top;\n",
              "    }\n",
              "\n",
              "    .dataframe thead th {\n",
              "        text-align: right;\n",
              "    }\n",
              "</style>\n",
              "<table border=\"1\" class=\"dataframe\">\n",
              "  <thead>\n",
              "    <tr style=\"text-align: right;\">\n",
              "      <th></th>\n",
              "      <th>tweet</th>\n",
              "      <th>label</th>\n",
              "    </tr>\n",
              "  </thead>\n",
              "  <tbody>\n",
              "    <tr>\n",
              "      <th>0</th>\n",
              "      <td>The CDC currently reports 99031 deaths. In gen...</td>\n",
              "      <td>real</td>\n",
              "    </tr>\n",
              "    <tr>\n",
              "      <th>1</th>\n",
              "      <td>States reported 1121 deaths a small rise from ...</td>\n",
              "      <td>real</td>\n",
              "    </tr>\n",
              "    <tr>\n",
              "      <th>2</th>\n",
              "      <td>Politically Correct Woman (Almost) Uses Pandem...</td>\n",
              "      <td>fake</td>\n",
              "    </tr>\n",
              "    <tr>\n",
              "      <th>3</th>\n",
              "      <td>#IndiaFightsCorona: We have 1524 #COVID testin...</td>\n",
              "      <td>real</td>\n",
              "    </tr>\n",
              "    <tr>\n",
              "      <th>4</th>\n",
              "      <td>Populous states can generate large case counts...</td>\n",
              "      <td>real</td>\n",
              "    </tr>\n",
              "    <tr>\n",
              "      <th>...</th>\n",
              "      <td>...</td>\n",
              "      <td>...</td>\n",
              "    </tr>\n",
              "    <tr>\n",
              "      <th>6415</th>\n",
              "      <td>A tiger tested positive for COVID-19 please st...</td>\n",
              "      <td>fake</td>\n",
              "    </tr>\n",
              "    <tr>\n",
              "      <th>6416</th>\n",
              "      <td>???Autopsies prove that COVID-19 is??� a blood...</td>\n",
              "      <td>fake</td>\n",
              "    </tr>\n",
              "    <tr>\n",
              "      <th>6417</th>\n",
              "      <td>_A post claims a COVID-19 vaccine has already ...</td>\n",
              "      <td>fake</td>\n",
              "    </tr>\n",
              "    <tr>\n",
              "      <th>6418</th>\n",
              "      <td>Aamir Khan Donate 250 Cr. In PM Relief Cares Fund</td>\n",
              "      <td>fake</td>\n",
              "    </tr>\n",
              "    <tr>\n",
              "      <th>6419</th>\n",
              "      <td>It has been 93 days since the last case of COV...</td>\n",
              "      <td>real</td>\n",
              "    </tr>\n",
              "  </tbody>\n",
              "</table>\n",
              "<p>6420 rows × 2 columns</p>\n",
              "</div>"
            ],
            "text/plain": [
              "                                                  tweet label\n",
              "0     The CDC currently reports 99031 deaths. In gen...  real\n",
              "1     States reported 1121 deaths a small rise from ...  real\n",
              "2     Politically Correct Woman (Almost) Uses Pandem...  fake\n",
              "3     #IndiaFightsCorona: We have 1524 #COVID testin...  real\n",
              "4     Populous states can generate large case counts...  real\n",
              "...                                                 ...   ...\n",
              "6415  A tiger tested positive for COVID-19 please st...  fake\n",
              "6416  ???Autopsies prove that COVID-19 is??� a blood...  fake\n",
              "6417  _A post claims a COVID-19 vaccine has already ...  fake\n",
              "6418  Aamir Khan Donate 250 Cr. In PM Relief Cares Fund  fake\n",
              "6419  It has been 93 days since the last case of COV...  real\n",
              "\n",
              "[6420 rows x 2 columns]"
            ]
          },
          "metadata": {
            "tags": []
          },
          "execution_count": 6
        }
      ]
    },
    {
      "cell_type": "code",
      "metadata": {
        "colab": {
          "base_uri": "https://localhost:8080/"
        },
        "id": "HTgkP2tOuaJv",
        "outputId": "1df7b31a-97d2-4620-f6a5-33257d88c07a"
      },
      "source": [
        ""
      ],
      "execution_count": null,
      "outputs": [
        {
          "output_type": "stream",
          "text": [
            "Example tweet with real news 1:  Survey people COVID-19 Colorado finds half reported close contact someone symptoms lab-confirmed COVID-19 14 days showing symptoms. If #COVID19 symptoms stay home avoid contact others.   \n",
            "Example tweet with real news 2:  #coronavirus testing centre Kent shut reportedly make way lorry park run next big Brexit deadline \n",
            "Example tweet with real news 3:  “It’s individual responsibility assess risks ourselves.” Professor Karol Sikora says “should carry go” find right balance tackling spread #coronavirus. Get latest #COVID19:  \n"
          ],
          "name": "stdout"
        }
      ]
    },
    {
      "cell_type": "code",
      "metadata": {
        "colab": {
          "base_uri": "https://localhost:8080/"
        },
        "id": "co1zIej1uUEv",
        "outputId": "b6eca259-929e-467c-8d74-91fee4fcf47f"
      },
      "source": [
        ""
      ],
      "execution_count": null,
      "outputs": [
        {
          "output_type": "stream",
          "text": [
            "Example fake news 1:  Devastated stock brokers faces hands clearly not taking coronavirus precautions seriously #coronavirus #COVID19 #StockMarketCrash2020  \n",
            "Example fake news 2:  Video Chinese Prime Minister Li Keqiang visiting mosque offering prayers seeking protection country coronavirus.\n",
            "Example fake news 3:  An old man infected 300 people coronavirus Jaipur India tobacco smoke.\n"
          ],
          "name": "stdout"
        }
      ]
    },
    {
      "cell_type": "markdown",
      "metadata": {
        "id": "EssBltZf0iEI"
      },
      "source": [
        "## Discussion\n",
        "The training dataset contains 3360 tweets containing real information and 3060 tweets containing fake news.  \n",
        "\n",
        "The plague of fake news has hit almost every possible social sector in the world; famously the American elections. However, during the coronavirus pandemic, fake news could have had even more serious effects, convincing people to directly risk their lives or those of their families. A model capable of autonomously selecting tweets containing fake news has proved to be a useful and important tool, such that Twitter itself, but also Facebook, have created models capable of interpreting the contents of posts containing information regarding the coronavirus pandemic and, possibly, censor them."
      ]
    },
    {
      "cell_type": "markdown",
      "metadata": {
        "id": "5IDAHUtleHBj"
      },
      "source": [
        "## (My) Best Model\n",
        "The model I created that performed the best is a fairly simple model, composed of just three layers.\n"
      ]
    },
    {
      "cell_type": "code",
      "metadata": {
        "colab": {
          "base_uri": "https://localhost:8080/"
        },
        "id": "Lf6Uh3uPch3z",
        "outputId": "fc5f9210-6b72-45f4-da9b-aaee972fdeee"
      },
      "source": [
        "model = Sequential()\n",
        "model.add(Embedding(10000, 32, input_length=maxlen))\n",
        "model.add(LSTM(32))\n",
        "model.add(Dense(2, activation='softmax'))\n",
        "\n",
        "model.summary()"
      ],
      "execution_count": null,
      "outputs": [
        {
          "output_type": "stream",
          "text": [
            "Model: \"sequential_4\"\n",
            "_________________________________________________________________\n",
            "Layer (type)                 Output Shape              Param #   \n",
            "=================================================================\n",
            "embedding_4 (Embedding)      (None, 100, 32)           320000    \n",
            "_________________________________________________________________\n",
            "lstm (LSTM)                  (None, 32)                8320      \n",
            "_________________________________________________________________\n",
            "dense_4 (Dense)              (None, 2)                 66        \n",
            "=================================================================\n",
            "Total params: 328,386\n",
            "Trainable params: 328,386\n",
            "Non-trainable params: 0\n",
            "_________________________________________________________________\n"
          ],
          "name": "stdout"
        }
      ]
    },
    {
      "cell_type": "code",
      "metadata": {
        "id": "InI4KLW1k7IM"
      },
      "source": [
        "model.compile(optimizer='rmsprop', loss='categorical_crossentropy', metrics=['acc'])\n",
        "\n",
        "mc = ModelCheckpoint('best_model_3.h5', monitor='val_acc',mode='max', verbose=1, save_best_only=True) # evaluating val_acc maximization\n",
        "red_lr= ReduceLROnPlateau(monitor='val_acc',patience=3,verbose=1,factor=0.5, min_lr=0) # dividing lr by half when val_accuracy fails to improve after 2 epochs\n",
        "es = EarlyStopping(monitor='val_loss', mode='min', verbose=1, patience=15)\n",
        "\n",
        "history = model.fit(X_train, y_train,\n",
        "                    epochs=50,\n",
        "                    batch_size=32,\n",
        "                    validation_split=0.2, callbacks=[mc, red_lr,es])"
      ],
      "execution_count": null,
      "outputs": []
    },
    {
      "cell_type": "code",
      "metadata": {
        "colab": {
          "base_uri": "https://localhost:8080/"
        },
        "id": "Kq7ceoI7lDsQ",
        "outputId": "ba3d2918-3bdd-44fb-c6b8-aa79021bd309"
      },
      "source": [
        "accuracy = accuracy_score(y_test, labels_pred)\n",
        "print('Accuracy: %f' % accuracy)\n",
        "precision = precision_score(y_test, labels_pred, average=None)\n",
        "print('Precision:', precision)\n",
        "recall = recall_score(y_test, labels_pred, average=None)\n",
        "print('Recall:', recall)\n",
        "f1 = f1_score(y_test, labels_pred, average=None)\n",
        "print('F1 score:', f1)\n",
        "\n",
        "auc = roc_auc_score(y_test, labels_pred)\n",
        "print('ROC AUC: %f' % auc)"
      ],
      "execution_count": null,
      "outputs": [
        {
          "output_type": "stream",
          "text": [
            "Accuracy: 0.928505\n",
            "Precision: [0.9172281  0.93914623]\n",
            "Recall: [0.93431373 0.92321429]\n",
            "F1 score: [0.92569208 0.93111211]\n",
            "ROC AUC: 0.928764\n"
          ],
          "name": "stdout"
        }
      ]
    },
    {
      "cell_type": "markdown",
      "metadata": {
        "id": "qZ7pWKWBejyc"
      },
      "source": [
        "### Application\n",
        "Let's show a few applications of this model by letting it evaluating some tweets found online."
      ]
    },
    {
      "cell_type": "code",
      "metadata": {
        "colab": {
          "base_uri": "https://localhost:8080/"
        },
        "id": "GZxyBlsSlDsR",
        "outputId": "85484bcc-faaa-41d8-961d-19e530c80cb4"
      },
      "source": [
        "tweet = \"The CDC currently reports 99031 deaths. In general discrepancies death counts different sources small explicable. The death toll stands roughly 100000 people today.\"\n",
        "\n",
        "tweet_stats(tweet)"
      ],
      "execution_count": null,
      "outputs": [
        {
          "output_type": "stream",
          "text": [
            "Tweet: The CDC currently reports 99031 deaths. In general discrepancies death counts different sources small explicable. The death toll stands roughly 100000 people today.\n",
            "Tweet chances: [[0.01990921 0.9800908 ]]\n",
            "It's telling the truth\n"
          ],
          "name": "stdout"
        }
      ]
    },
    {
      "cell_type": "code",
      "metadata": {
        "colab": {
          "base_uri": "https://localhost:8080/"
        },
        "id": "hwqnOpJcT58t",
        "outputId": "c2b45d7a-0869-4d6d-f0bb-fb3aad0df179"
      },
      "source": [
        "tweet2 = \"???Autopsies prove that COVID-19 is?? a blood chinese virus\"\n",
        "\n",
        "tweet_stats(tweet2)"
      ],
      "execution_count": null,
      "outputs": [
        {
          "output_type": "stream",
          "text": [
            "Tweet: ???Autopsies prove that COVID-19 is?? a blood chinese virus\n",
            "Tweet chances: [[9.9977428e-01 2.2568514e-04]]\n",
            "99.97742772102356 % CHANCE OF BEING FAKE NEEEWS\n"
          ],
          "name": "stdout"
        }
      ]
    },
    {
      "cell_type": "code",
      "metadata": {
        "colab": {
          "base_uri": "https://localhost:8080/"
        },
        "id": "ahhUVVpHX5yU",
        "outputId": "c4f63226-3cf5-4472-b4ad-4559dbec0f7d"
      },
      "source": [
        "tweet_online = \"#COVID: If they haven’t isolated the virus, how can they make a vaccine?\"\n",
        "tweet_stats(tweet_online)"
      ],
      "execution_count": null,
      "outputs": [
        {
          "output_type": "stream",
          "text": [
            "Tweet: #COVID: If they haven’t isolated the virus, how can they make a vaccine?\n",
            "Tweet chances: [[0.9540024  0.04599761]]\n",
            "95.40023803710938 % CHANCE OF BEING FAKE NEEEWS\n"
          ],
          "name": "stdout"
        }
      ]
    },
    {
      "cell_type": "code",
      "metadata": {
        "colab": {
          "base_uri": "https://localhost:8080/"
        },
        "id": "TZlYXTbHaATl",
        "outputId": "3e49d6e4-adb8-4874-b974-a1d39922ec5d"
      },
      "source": [
        "tweet_online4 = \"Frontline workers: We need more resources to deal with #COVID19\"\n",
        "tweet_stats(tweet_online4)"
      ],
      "execution_count": null,
      "outputs": [
        {
          "output_type": "stream",
          "text": [
            "Tweet: Frontline workers: We need more resources to deal with #COVID19\n",
            "Tweet chances: [[0.08119022 0.9188098 ]]\n",
            "It's telling the truth\n"
          ],
          "name": "stdout"
        }
      ]
    }
  ]
}