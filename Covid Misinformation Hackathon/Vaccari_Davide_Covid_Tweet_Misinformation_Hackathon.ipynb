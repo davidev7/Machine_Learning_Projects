{
  "nbformat": 4,
  "nbformat_minor": 0,
  "metadata": {
    "colab": {
      "name": "Vaccari_Davide_Covid_Tweet_Misinformation_Hackathon.ipynb",
      "provenance": [],
      "collapsed_sections": [],
      "toc_visible": true
    },
    "kernelspec": {
      "name": "python3",
      "display_name": "Python 3"
    }
  },
  "cells": [
    {
      "cell_type": "markdown",
      "metadata": {
        "id": "ftx3zZt8OHvd"
      },
      "source": [
        "# Davide Vaccari\n",
        "[dv2438]\n",
        "\n",
        "## Covid Tweet Misinformation Classification Hackathon\n",
        "\n",
        "\n",
        "\n",
        "\n"
      ]
    },
    {
      "cell_type": "markdown",
      "metadata": {
        "id": "EcJVLNPDmulL"
      },
      "source": [
        "# Report Description\n",
        "\n",
        "This is a python notebook that aims to create an effective machine learning model to recognize tweets that contain real information and tweets that contain false information using Recurrent Neural Networks for sequential data and not. Conv1d, LSTM, GRU layers will be used.  \n",
        "\n",
        "This notebook is also available on [Github](link)."
      ]
    },
    {
      "cell_type": "markdown",
      "metadata": {
        "id": "5BZnQJjDlvT9"
      },
      "source": [
        "## Citation\n",
        "The dataset used in this report comes from the following paper:  \n",
        "\n",
        "*Shahi, Gautam Kishore, Anne Dirkson, and Tim A. Majchrzak.*  \n",
        "**\"An exploratory study of covid-19 misinformation on twitter.\"**  \n",
        "Online Social Networks and Media 22 (2021): 100104."
      ]
    },
    {
      "cell_type": "code",
      "metadata": {
        "id": "EdOrHuq8T4RQ"
      },
      "source": [
        "import os\n",
        "import tensorflow as tf\n",
        "import re"
      ],
      "execution_count": 4,
      "outputs": []
    },
    {
      "cell_type": "code",
      "metadata": {
        "colab": {
          "base_uri": "https://localhost:8080/"
        },
        "id": "lYMRnMy6IZ34",
        "outputId": "3e4fdcbd-1b37-4f0c-8b61-55a3e7c9bcd4"
      },
      "source": [
        "! pip install delayed"
      ],
      "execution_count": 5,
      "outputs": [
        {
          "output_type": "stream",
          "text": [
            "Requirement already satisfied: delayed in /usr/local/lib/python3.7/dist-packages (0.11.0b1)\n",
            "Requirement already satisfied: hiredis in /usr/local/lib/python3.7/dist-packages (from delayed) (2.0.0)\n",
            "Requirement already satisfied: redis in /usr/local/lib/python3.7/dist-packages (from delayed) (3.5.3)\n"
          ],
          "name": "stdout"
        }
      ]
    },
    {
      "cell_type": "markdown",
      "metadata": {
        "id": "2wH8Af4Le6qs"
      },
      "source": [
        "## Import Data"
      ]
    },
    {
      "cell_type": "code",
      "metadata": {
        "id": "YoqSwgStNzT4",
        "colab": {
          "base_uri": "https://localhost:8080/",
          "height": 416
        },
        "outputId": "91222894-4452-4048-b764-f039547cb9b3"
      },
      "source": [
        "#Source:Fighting an Infodemic: COVID-19 Fake News Dataset, https://github.com/diptamath/covid_fake_news,https://arxiv.org/abs/2011.03327 \n",
        "\n",
        "import pandas as pd\n",
        "trainingdata=pd.read_csv(\"https://raw.githubusercontent.com/diptamath/covid_fake_news/main/data/Constraint_Train.csv\", usecols = ['tweet','label'])\n",
        "testdata=pd.read_csv(\"https://raw.githubusercontent.com/diptamath/covid_fake_news/main/data/english_test_with_labels.csv\", usecols = ['tweet','label'])\n",
        "\n",
        "trainingdata"
      ],
      "execution_count": 6,
      "outputs": [
        {
          "output_type": "execute_result",
          "data": {
            "text/html": [
              "<div>\n",
              "<style scoped>\n",
              "    .dataframe tbody tr th:only-of-type {\n",
              "        vertical-align: middle;\n",
              "    }\n",
              "\n",
              "    .dataframe tbody tr th {\n",
              "        vertical-align: top;\n",
              "    }\n",
              "\n",
              "    .dataframe thead th {\n",
              "        text-align: right;\n",
              "    }\n",
              "</style>\n",
              "<table border=\"1\" class=\"dataframe\">\n",
              "  <thead>\n",
              "    <tr style=\"text-align: right;\">\n",
              "      <th></th>\n",
              "      <th>tweet</th>\n",
              "      <th>label</th>\n",
              "    </tr>\n",
              "  </thead>\n",
              "  <tbody>\n",
              "    <tr>\n",
              "      <th>0</th>\n",
              "      <td>The CDC currently reports 99031 deaths. In gen...</td>\n",
              "      <td>real</td>\n",
              "    </tr>\n",
              "    <tr>\n",
              "      <th>1</th>\n",
              "      <td>States reported 1121 deaths a small rise from ...</td>\n",
              "      <td>real</td>\n",
              "    </tr>\n",
              "    <tr>\n",
              "      <th>2</th>\n",
              "      <td>Politically Correct Woman (Almost) Uses Pandem...</td>\n",
              "      <td>fake</td>\n",
              "    </tr>\n",
              "    <tr>\n",
              "      <th>3</th>\n",
              "      <td>#IndiaFightsCorona: We have 1524 #COVID testin...</td>\n",
              "      <td>real</td>\n",
              "    </tr>\n",
              "    <tr>\n",
              "      <th>4</th>\n",
              "      <td>Populous states can generate large case counts...</td>\n",
              "      <td>real</td>\n",
              "    </tr>\n",
              "    <tr>\n",
              "      <th>...</th>\n",
              "      <td>...</td>\n",
              "      <td>...</td>\n",
              "    </tr>\n",
              "    <tr>\n",
              "      <th>6415</th>\n",
              "      <td>A tiger tested positive for COVID-19 please st...</td>\n",
              "      <td>fake</td>\n",
              "    </tr>\n",
              "    <tr>\n",
              "      <th>6416</th>\n",
              "      <td>???Autopsies prove that COVID-19 is??� a blood...</td>\n",
              "      <td>fake</td>\n",
              "    </tr>\n",
              "    <tr>\n",
              "      <th>6417</th>\n",
              "      <td>_A post claims a COVID-19 vaccine has already ...</td>\n",
              "      <td>fake</td>\n",
              "    </tr>\n",
              "    <tr>\n",
              "      <th>6418</th>\n",
              "      <td>Aamir Khan Donate 250 Cr. In PM Relief Cares Fund</td>\n",
              "      <td>fake</td>\n",
              "    </tr>\n",
              "    <tr>\n",
              "      <th>6419</th>\n",
              "      <td>It has been 93 days since the last case of COV...</td>\n",
              "      <td>real</td>\n",
              "    </tr>\n",
              "  </tbody>\n",
              "</table>\n",
              "<p>6420 rows × 2 columns</p>\n",
              "</div>"
            ],
            "text/plain": [
              "                                                  tweet label\n",
              "0     The CDC currently reports 99031 deaths. In gen...  real\n",
              "1     States reported 1121 deaths a small rise from ...  real\n",
              "2     Politically Correct Woman (Almost) Uses Pandem...  fake\n",
              "3     #IndiaFightsCorona: We have 1524 #COVID testin...  real\n",
              "4     Populous states can generate large case counts...  real\n",
              "...                                                 ...   ...\n",
              "6415  A tiger tested positive for COVID-19 please st...  fake\n",
              "6416  ???Autopsies prove that COVID-19 is??� a blood...  fake\n",
              "6417  _A post claims a COVID-19 vaccine has already ...  fake\n",
              "6418  Aamir Khan Donate 250 Cr. In PM Relief Cares Fund  fake\n",
              "6419  It has been 93 days since the last case of COV...  real\n",
              "\n",
              "[6420 rows x 2 columns]"
            ]
          },
          "metadata": {
            "tags": []
          },
          "execution_count": 6
        }
      ]
    },
    {
      "cell_type": "markdown",
      "metadata": {
        "id": "4eL7q5UJn1Z_"
      },
      "source": [
        "### Examples of tweets containing real information"
      ]
    },
    {
      "cell_type": "code",
      "metadata": {
        "colab": {
          "base_uri": "https://localhost:8080/",
          "height": 34
        },
        "id": "n82ITNtz69aK",
        "outputId": "baf41b50-cd1a-4a2e-c912-99cfd368330b"
      },
      "source": [
        "trainingdata.tweet[0]"
      ],
      "execution_count": 7,
      "outputs": [
        {
          "output_type": "execute_result",
          "data": {
            "application/vnd.google.colaboratory.intrinsic+json": {
              "type": "string"
            },
            "text/plain": [
              "'The CDC currently reports 99031 deaths. In general the discrepancies in death counts between different sources are small and explicable. The death toll stands at roughly 100000 people today.'"
            ]
          },
          "metadata": {
            "tags": []
          },
          "execution_count": 7
        }
      ]
    },
    {
      "cell_type": "code",
      "metadata": {
        "id": "HOqFwjoXru93"
      },
      "source": [
        "# trainingdata.label[trainingdata.label.eq('real')].sample(3).index"
      ],
      "execution_count": 8,
      "outputs": []
    },
    {
      "cell_type": "code",
      "metadata": {
        "colab": {
          "base_uri": "https://localhost:8080/"
        },
        "id": "xg8FEmvLtFWP",
        "outputId": "e9e0ce11-1217-445b-dafd-71d0ddd7c2c0"
      },
      "source": [
        "print(\"Example tweet with real news 1: \", trainingdata.tweet[5476])\n",
        "print(\"Example tweet with real news 2: \", trainingdata.tweet[1959])\n",
        "print(\"Example tweet with real news 3: \", trainingdata.tweet[4364])"
      ],
      "execution_count": 9,
      "outputs": [
        {
          "output_type": "stream",
          "text": [
            "Example tweet with real news 1:  Survey of people with COVID-19 in Colorado finds half reported close contact with someone with symptoms of or lab-confirmed COVID-19 in the 14 days before showing symptoms. If you have #COVID19 symptoms stay home and avoid contact with others. @CDCMMWR https://t.co/urssmS60ac https://t.co/EcoSyr7Mo3\n",
            "Example tweet with real news 2:  A #coronavirus testing centre in Kent has been shut - reportedly to make way for a lorry park in the run up to the next big Brexit deadline https://t.co/FaQTTuRLLK\n",
            "Example tweet with real news 3:  “It’s all our individual responsibility to assess the risks for ourselves.” Professor Karol Sikora says we “should carry on as we go” to find the right balance in tackling the spread of #coronavirus. Get the latest on #COVID19: https://t.co/N4ZDlImWKK https://t.co/RecbKF4Y1Y\n"
          ],
          "name": "stdout"
        }
      ]
    },
    {
      "cell_type": "markdown",
      "metadata": {
        "id": "yN9bS6pSsGQd"
      },
      "source": [
        "### Examples of tweets containing fake news"
      ]
    },
    {
      "cell_type": "code",
      "metadata": {
        "colab": {
          "base_uri": "https://localhost:8080/",
          "height": 34
        },
        "id": "sSZqpqKDbUSE",
        "outputId": "fe3c8611-710e-4fd2-daf8-0163f3d245cb"
      },
      "source": [
        "trainingdata.tweet[6416]"
      ],
      "execution_count": 10,
      "outputs": [
        {
          "output_type": "execute_result",
          "data": {
            "application/vnd.google.colaboratory.intrinsic+json": {
              "type": "string"
            },
            "text/plain": [
              "'???Autopsies prove that COVID-19 is??� a blood clot, not pneumonia, ???and ought to be fought with antibiotics??� and the whole world has been wrong in treating the ???so-called??� pandemic.'"
            ]
          },
          "metadata": {
            "tags": []
          },
          "execution_count": 10
        }
      ]
    },
    {
      "cell_type": "code",
      "metadata": {
        "id": "t_X1SBHwsKmW"
      },
      "source": [
        "# trainingdata.label[trainingdata.label.eq('fake')].sample(3).index"
      ],
      "execution_count": 11,
      "outputs": []
    },
    {
      "cell_type": "code",
      "metadata": {
        "colab": {
          "base_uri": "https://localhost:8080/"
        },
        "id": "LhLMml3_sPeL",
        "outputId": "4623d719-92b3-475c-fd97-2f32393248d7"
      },
      "source": [
        "print(\"Example fake news 1: \", trainingdata.tweet[1694])\n",
        "print(\"Example fake news 2: \", trainingdata.tweet[5335])\n",
        "print(\"Example fake news 3: \", trainingdata.tweet[2165])"
      ],
      "execution_count": 12,
      "outputs": [
        {
          "output_type": "stream",
          "text": [
            "Example fake news 1:  Devastated stock brokers with faces in hands clearly not taking coronavirus precautions seriously\n",
            "#coronavirus #COVID19 #StockMarketCrash2020 \n",
            "https://t.co/NtCvhtQ1yT https://t.co/DqddhnetiM\n",
            "Example fake news 2:  Video of Chinese Prime Minister Li Keqiang visiting a mosque and offering prayers seeking protection to the country from coronavirus.\n",
            "Example fake news 3:  An old man infected 300 people with coronavirus in Jaipur India through tobacco smoke.\n"
          ],
          "name": "stdout"
        }
      ]
    },
    {
      "cell_type": "code",
      "metadata": {
        "colab": {
          "base_uri": "https://localhost:8080/"
        },
        "id": "Pf2-Fl-Q1_kA",
        "outputId": "0f6f1b6f-b5f3-4249-c517-3a2d0607bc9d"
      },
      "source": [
        "trainingdata['label'].value_counts()"
      ],
      "execution_count": 13,
      "outputs": [
        {
          "output_type": "execute_result",
          "data": {
            "text/plain": [
              "real    3360\n",
              "fake    3060\n",
              "Name: label, dtype: int64"
            ]
          },
          "metadata": {
            "tags": []
          },
          "execution_count": 13
        }
      ]
    },
    {
      "cell_type": "code",
      "metadata": {
        "colab": {
          "base_uri": "https://localhost:8080/"
        },
        "id": "AYpJv8r925Sd",
        "outputId": "9efa0bd9-e0e7-4424-ce91-96779812c4ab"
      },
      "source": [
        "testdata['label'].value_counts()"
      ],
      "execution_count": 14,
      "outputs": [
        {
          "output_type": "execute_result",
          "data": {
            "text/plain": [
              "real    1120\n",
              "fake    1020\n",
              "Name: label, dtype: int64"
            ]
          },
          "metadata": {
            "tags": []
          },
          "execution_count": 14
        }
      ]
    },
    {
      "cell_type": "markdown",
      "metadata": {
        "id": "5KJLgC4Sqvv2"
      },
      "source": [
        "## Helper functions"
      ]
    },
    {
      "cell_type": "code",
      "metadata": {
        "colab": {
          "base_uri": "https://localhost:8080/"
        },
        "id": "8M4weSBnqxjh",
        "outputId": "712f6422-6d73-447a-8956-5c694488a3d8"
      },
      "source": [
        "import nltk\n",
        "nltk.download('stopwords')\n",
        "from nltk.corpus import stopwords\n",
        "\n",
        "def remove_stopwords(input_text):\n",
        "\n",
        "    stopwords_list = stopwords.words('english')\n",
        "    # Some words which might indicate a certain sentiment are kept via a whitelist\n",
        "    whitelist = [\"n't\", \"not\", \"no\"]\n",
        "    words = input_text.split() \n",
        "    clean_words = [word for word in words if (word not in stopwords_list or word in whitelist) and len(word) > 1] \n",
        "    return \" \".join(clean_words) \n",
        "    \n",
        "def remove_mentions(input_text):\n",
        "\n",
        "    return re.sub(r\"@\\w+\", \"\", input_text) \n",
        "    \n",
        "def remove_links(input_text):\n",
        "    \n",
        "    return re.sub(r\"http\\S+\", \"\", input_text)"
      ],
      "execution_count": 15,
      "outputs": [
        {
          "output_type": "stream",
          "text": [
            "[nltk_data] Downloading package stopwords to /root/nltk_data...\n",
            "[nltk_data]   Package stopwords is already up-to-date!\n"
          ],
          "name": "stdout"
        }
      ]
    },
    {
      "cell_type": "code",
      "metadata": {
        "id": "acFycFWDq5b1"
      },
      "source": [
        "trainingdata['tweet'] = trainingdata['tweet'].apply(remove_stopwords).apply(remove_mentions).apply(remove_links)\n",
        "testdata['tweet'] = testdata['tweet'].apply(remove_stopwords).apply(remove_mentions).apply(remove_links)"
      ],
      "execution_count": 16,
      "outputs": []
    },
    {
      "cell_type": "markdown",
      "metadata": {
        "id": "EIgxMbK4XbRE"
      },
      "source": [
        "I decided to remove stopwords and mentions from the tweets. This may backfire since it's a loss of information and some fake tweets may use unnecessary words."
      ]
    },
    {
      "cell_type": "markdown",
      "metadata": {
        "id": "0KbeKVKfufij"
      },
      "source": [
        "Let's see now the previous tweets again."
      ]
    },
    {
      "cell_type": "code",
      "metadata": {
        "colab": {
          "base_uri": "https://localhost:8080/"
        },
        "id": "HTgkP2tOuaJv",
        "outputId": "1df7b31a-97d2-4620-f6a5-33257d88c07a"
      },
      "source": [
        "print(\"Example tweet with real news 1: \", trainingdata.tweet[5476])\n",
        "print(\"Example tweet with real news 2: \", trainingdata.tweet[1959])\n",
        "print(\"Example tweet with real news 3: \", trainingdata.tweet[4364])"
      ],
      "execution_count": 17,
      "outputs": [
        {
          "output_type": "stream",
          "text": [
            "Example tweet with real news 1:  Survey people COVID-19 Colorado finds half reported close contact someone symptoms lab-confirmed COVID-19 14 days showing symptoms. If #COVID19 symptoms stay home avoid contact others.   \n",
            "Example tweet with real news 2:  #coronavirus testing centre Kent shut reportedly make way lorry park run next big Brexit deadline \n",
            "Example tweet with real news 3:  “It’s individual responsibility assess risks ourselves.” Professor Karol Sikora says “should carry go” find right balance tackling spread #coronavirus. Get latest #COVID19:  \n"
          ],
          "name": "stdout"
        }
      ]
    },
    {
      "cell_type": "code",
      "metadata": {
        "colab": {
          "base_uri": "https://localhost:8080/"
        },
        "id": "co1zIej1uUEv",
        "outputId": "b6eca259-929e-467c-8d74-91fee4fcf47f"
      },
      "source": [
        "print(\"Example fake news 1: \", trainingdata.tweet[1694])\n",
        "print(\"Example fake news 2: \", trainingdata.tweet[5335])\n",
        "print(\"Example fake news 3: \", trainingdata.tweet[2165])"
      ],
      "execution_count": 18,
      "outputs": [
        {
          "output_type": "stream",
          "text": [
            "Example fake news 1:  Devastated stock brokers faces hands clearly not taking coronavirus precautions seriously #coronavirus #COVID19 #StockMarketCrash2020  \n",
            "Example fake news 2:  Video Chinese Prime Minister Li Keqiang visiting mosque offering prayers seeking protection country coronavirus.\n",
            "Example fake news 3:  An old man infected 300 people coronavirus Jaipur India tobacco smoke.\n"
          ],
          "name": "stdout"
        }
      ]
    },
    {
      "cell_type": "markdown",
      "metadata": {
        "id": "8aEynuO2ujp5"
      },
      "source": [
        "Perfect, text has been cleaned."
      ]
    },
    {
      "cell_type": "markdown",
      "metadata": {
        "id": "EssBltZf0iEI"
      },
      "source": [
        "## Discussion\n",
        "The training dataset contains 3360 tweets containing real information and 3060 tweets containing fake news.  \n",
        "\n",
        "The plague of fake news has hit almost every possible social sector in the world; famously the American elections. However, during the coronavirus pandemic, fake news could have had even more serious effects, convincing people to directly risk their lives or those of their families. A model capable of autonomously selecting tweets containing fake news has proved to be a useful and important tool, such that Twitter itself, but also Facebook, have created models capable of interpreting the contents of posts containing information regarding the coronavirus pandemic and, possibly, censor them."
      ]
    },
    {
      "cell_type": "markdown",
      "metadata": {
        "id": "5mbsEn4hy1d5"
      },
      "source": [
        "## Define Preprocessor"
      ]
    },
    {
      "cell_type": "code",
      "metadata": {
        "id": "yrbG7iM0xyg7"
      },
      "source": [
        "from tensorflow.keras.preprocessing.text import Tokenizer\n",
        "from tensorflow.keras.preprocessing.sequence import pad_sequences\n",
        "import numpy as np\n",
        "\n",
        "# Build vocabulary from training text data\n",
        "tokenizer = Tokenizer(num_words=10000) #, filters='!\"#$%&()*+,-./:;<=>?@[\\\\]^_`{\"}~\\t\\n', lower=True, char_level=False, split=' ')\n",
        "# I've tried to use these in my tokenizers, but the results got worse. It's likely that weird symbols might be an indicator of a tweet being fake.\n",
        "\n",
        "tokenizer.fit_on_texts(trainingdata.tweet)\n",
        "\n",
        "# preprocessor tokenizes words and makes sure all documents have the same length\n",
        "def preprocessor(data, maxlen, max_words):\n",
        "\n",
        "    sequences = tokenizer.texts_to_sequences(data)\n",
        "\n",
        "    word_index = tokenizer.word_index\n",
        "    X = pad_sequences(sequences, maxlen=maxlen)\n",
        "\n",
        "    return X"
      ],
      "execution_count": 19,
      "outputs": []
    },
    {
      "cell_type": "markdown",
      "metadata": {
        "id": "Xm3oEXabew5S"
      },
      "source": [
        "## Prepare Train and Test Data"
      ]
    },
    {
      "cell_type": "code",
      "metadata": {
        "id": "OOURByqmf_Dl"
      },
      "source": [
        "maxlen = 100"
      ],
      "execution_count": 20,
      "outputs": []
    },
    {
      "cell_type": "code",
      "metadata": {
        "id": "FyVH6TUfR2yK"
      },
      "source": [
        "# tokenize and pad X data\n",
        "X_train = preprocessor(trainingdata.tweet, maxlen=maxlen, max_words=10000)\n",
        "X_test = preprocessor(testdata.tweet, maxlen=maxlen, max_words=10000)\n",
        "\n",
        "# ohe encode Y data\n",
        "y_train = pd.get_dummies(trainingdata.label)\n",
        "y_test = pd.get_dummies(testdata.label)"
      ],
      "execution_count": 21,
      "outputs": []
    },
    {
      "cell_type": "code",
      "metadata": {
        "colab": {
          "base_uri": "https://localhost:8080/"
        },
        "id": "KgP4-b463nQ0",
        "outputId": "ba26b32f-468b-46d9-d2fe-6985fa4ac356"
      },
      "source": [
        "print(X_train.shape)\n",
        "print(X_test.shape)"
      ],
      "execution_count": 22,
      "outputs": [
        {
          "output_type": "stream",
          "text": [
            "(6420, 100)\n",
            "(2140, 100)\n"
          ],
          "name": "stdout"
        }
      ]
    },
    {
      "cell_type": "markdown",
      "metadata": {
        "id": "GiHkYyb0fgmO"
      },
      "source": [
        "# 1. Simple Base Model\n",
        "\n",
        "Let's start with a simple base model."
      ]
    },
    {
      "cell_type": "code",
      "metadata": {
        "colab": {
          "base_uri": "https://localhost:8080/"
        },
        "id": "Gep1hEGL1Jg4",
        "outputId": "900e16b3-ca42-4131-e0cf-d2d19b903f9f"
      },
      "source": [
        "from tensorflow.keras.layers import Dense, Embedding,Flatten\n",
        "from tensorflow.keras.models import Sequential\n",
        "from tensorflow.keras import regularizers, optimizers, initializers\n",
        "\n",
        "# replace this model with the architectures from the task description\n",
        "model = Sequential()\n",
        "model.add(Embedding(10000, 16, input_length=maxlen, embeddings_initializer='RandomUniform'))\n",
        "model.add(Flatten())\n",
        "model.add(Dense(2, activation='softmax', kernel_initializer='GlorotUniform', bias_initializer='Zeros'))\n",
        "\n",
        "model.summary()"
      ],
      "execution_count": 23,
      "outputs": [
        {
          "output_type": "stream",
          "text": [
            "Model: \"sequential\"\n",
            "_________________________________________________________________\n",
            "Layer (type)                 Output Shape              Param #   \n",
            "=================================================================\n",
            "embedding (Embedding)        (None, 100, 16)           160000    \n",
            "_________________________________________________________________\n",
            "flatten (Flatten)            (None, 1600)              0         \n",
            "_________________________________________________________________\n",
            "dense (Dense)                (None, 2)                 3202      \n",
            "=================================================================\n",
            "Total params: 163,202\n",
            "Trainable params: 163,202\n",
            "Non-trainable params: 0\n",
            "_________________________________________________________________\n"
          ],
          "name": "stdout"
        }
      ]
    },
    {
      "cell_type": "code",
      "metadata": {
        "id": "nnhdJGtNU3_1"
      },
      "source": [
        "with tf.device('/device:GPU:0'): #\"/GPU:0\": Short-hand notation for the first GPU of your machine that is visible to TensorFlow.\n",
        "  from tensorflow.python.keras.callbacks import ReduceLROnPlateau\n",
        "  from tensorflow.python.keras.callbacks import ModelCheckpoint\n",
        "  from keras.callbacks import EarlyStopping\n",
        "  \n",
        "  mc = ModelCheckpoint('best_model_1.h5', monitor='val_acc',mode='max', verbose=1, save_best_only=True) # evaluating val_acc maximization\n",
        "  red_lr= ReduceLROnPlateau(monitor='val_acc',patience=3,verbose=1,factor=0.5, min_lr=0) # dividing lr by half when val_accuracy fails to improve after 2 epochs\n",
        "  es = EarlyStopping(monitor='val_loss', mode='min', verbose=1, patience=25)\n",
        "\n",
        "\n",
        "  model.compile(optimizer='rmsprop', loss='categorical_crossentropy', metrics=['acc'])\n",
        "\n",
        "  history = model.fit(X_train, y_train,\n",
        "                      epochs=50,\n",
        "                      batch_size=32,\n",
        "                      validation_split=0.20, callbacks=[mc,red_lr, es])"
      ],
      "execution_count": null,
      "outputs": []
    },
    {
      "cell_type": "code",
      "metadata": {
        "colab": {
          "base_uri": "https://localhost:8080/"
        },
        "id": "cOPpIO1xpUdM",
        "outputId": "003f64da-102a-4d35-f67d-b82d31f06aad"
      },
      "source": [
        "# format y_pred as labels \n",
        "model.load_weights('best_model_1.h5')\n",
        "\n",
        "y_pred = model.predict(X_test).argmax(axis=1)\n",
        "predicted_labels = [y_test.columns[i] for i in y_pred]\n",
        "print(len(predicted_labels))\n",
        "predicted_labels[0:5]"
      ],
      "execution_count": 25,
      "outputs": [
        {
          "output_type": "stream",
          "text": [
            "2140\n"
          ],
          "name": "stdout"
        },
        {
          "output_type": "execute_result",
          "data": {
            "text/plain": [
              "['real', 'fake', 'fake', 'real', 'real']"
            ]
          },
          "metadata": {
            "tags": []
          },
          "execution_count": 25
        }
      ]
    },
    {
      "cell_type": "code",
      "metadata": {
        "id": "u0HUBWjYUheu"
      },
      "source": [
        "labels_pred = pd.get_dummies(predicted_labels)"
      ],
      "execution_count": 26,
      "outputs": []
    },
    {
      "cell_type": "code",
      "metadata": {
        "colab": {
          "base_uri": "https://localhost:8080/"
        },
        "id": "rPZ8OIAsT7lV",
        "outputId": "abe9c4a9-d95d-470c-ebb6-0964906fe091"
      },
      "source": [
        "from sklearn.metrics import accuracy_score\n",
        "from sklearn.metrics import precision_score\n",
        "from sklearn.metrics import recall_score\n",
        "from sklearn.metrics import f1_score\n",
        "from sklearn.metrics import roc_auc_score\n",
        "\n",
        "# accuracy: (tp + tn) / (p + n)\n",
        "accuracy = accuracy_score(y_test, labels_pred)\n",
        "print('Accuracy: %f' % accuracy)\n",
        "# precision tp / (tp + fp)\n",
        "precision = precision_score(y_test, labels_pred, average=None)\n",
        "print('Precision:', precision)\n",
        "# recall: tp / (tp + fn)\n",
        "recall = recall_score(y_test, labels_pred, average=None)\n",
        "print('Recall:', recall)\n",
        "# f1: 2 tp / (2 tp + fp + fn)\n",
        "f1 = f1_score(y_test, labels_pred, average=None)\n",
        "print('F1 score:', f1)\n",
        " \n",
        "# ROC AUC\n",
        "auc = roc_auc_score(y_test, labels_pred)\n",
        "print('ROC AUC: %f' % auc)"
      ],
      "execution_count": 27,
      "outputs": [
        {
          "output_type": "stream",
          "text": [
            "Accuracy: 0.929907\n",
            "Precision: [0.92315175 0.93615108]\n",
            "Recall: [0.93039216 0.92946429]\n",
            "F1 score: [0.92675781 0.9327957 ]\n",
            "ROC AUC: 0.929928\n"
          ],
          "name": "stdout"
        }
      ]
    },
    {
      "cell_type": "code",
      "metadata": {
        "colab": {
          "base_uri": "https://localhost:8080/"
        },
        "id": "uebH2DnE4AeE",
        "outputId": "a223c399-ada9-40dd-8ff2-bd5c782c5484"
      },
      "source": [
        "# How to write a preprocessor function for text preprocessing using keras?\n",
        "\n",
        "def preprocessor_for_test(textinput, maxlen=maxlen):\n",
        "        from tensorflow.keras.preprocessing.text import Tokenizer\n",
        "        from tensorflow.keras.preprocessing.sequence import pad_sequences        \n",
        "\n",
        "        sequences = tokenizer.texts_to_sequences(textinput) # converts words in each text to each word's numeric index in tokenizer dictionary.\n",
        "\n",
        "        data = pad_sequences(sequences, maxlen=maxlen)\n",
        "        return data\n",
        "\n",
        "\n",
        "\n",
        "#See preprocessor output\n",
        "print(preprocessor_for_test([\"???Autopsies prove that COVID-19 is?? a blood chinese virus\"]).shape)\n",
        "print(preprocessor_for_test([\"???Autopsies prove that COVID-19 is?? a blood chinese virus\"]))\n",
        "\n",
        "print(model.predict(preprocessor_for_test([\"The CDC currently reports 99031 deaths. In general discrepancies death counts different sources small explicable. The death toll stands roughly 100000 people today.\"])))\n",
        "print(model.predict(preprocessor_for_test([\"???Autopsies prove that COVID-19 is?? a blood virus\"])))"
      ],
      "execution_count": 28,
      "outputs": [
        {
          "output_type": "stream",
          "text": [
            "(1, 100)\n",
            "[[   0    0    0    0    0    0    0    0    0    0    0    0    0    0\n",
            "     0    0    0    0    0    0    0    0    0    0    0    0    0    0\n",
            "     0    0    0    0    0    0    0    0    0    0    0    0    0    0\n",
            "     0    0    0    0    0    0    0    0    0    0    0    0    0    0\n",
            "     0    0    0    0    0    0    0    0    0    0    0    0    0    0\n",
            "     0    0    0    0    0    0    0    0    0    0    0    0    0    0\n",
            "     0    0    0    0    0    0 5824 3219  252    1    2  311  257  864\n",
            "   256   32]]\n",
            "[[4.2742642e-04 9.9957258e-01]]\n",
            "[[9.9978405e-01 2.1596857e-04]]\n"
          ],
          "name": "stdout"
        }
      ]
    },
    {
      "cell_type": "markdown",
      "metadata": {
        "id": "A5qhUlNDWP90"
      },
      "source": [
        "The first prediction is for \"fake\", the second for \"real\". The numbers add up to 1. This is how \"softmax\" evaluates our \"multiclass\". This model, in fact, was not trained as binary between real and fake, but both were considered classes that could be 1 or 0. This is why we used \"softmax\" and \"categorical_crossentropy\". \n",
        "\n",
        "As we can see, our model predicts the first phrase as real (which in fact is, I took it from the dataset and it was labelled as real) with slightly more than 99% confidence, and the second one as fake with almost 100% confidence. The second one is a combination of a real fake tweet and my imagination."
      ]
    },
    {
      "cell_type": "markdown",
      "metadata": {
        "id": "D6jZR0JAVBwZ"
      },
      "source": [
        "# Bonus: External Weights\n",
        "\n",
        "Let's apply transfer learning and import weights from outside."
      ]
    },
    {
      "cell_type": "markdown",
      "metadata": {
        "id": "JpMZlLZ2S4D2"
      },
      "source": [
        "### Glove embedding matrix weights"
      ]
    },
    {
      "cell_type": "code",
      "metadata": {
        "id": "47WiRoptS-10"
      },
      "source": [
        "! wget http://nlp.stanford.edu/data/wordvecs/glove.6B.zip"
      ],
      "execution_count": null,
      "outputs": []
    },
    {
      "cell_type": "code",
      "metadata": {
        "id": "7TbMiNbzTGgx",
        "colab": {
          "base_uri": "https://localhost:8080/"
        },
        "outputId": "abdf0cbf-85f5-49e2-97f9-4c818956ae30"
      },
      "source": [
        "! unzip glove.6B.zip "
      ],
      "execution_count": 30,
      "outputs": [
        {
          "output_type": "stream",
          "text": [
            "Archive:  glove.6B.zip\n",
            "replace glove.6B.100d.txt? [y]es, [n]o, [A]ll, [N]one, [r]ename: N\n"
          ],
          "name": "stdout"
        }
      ]
    },
    {
      "cell_type": "code",
      "metadata": {
        "colab": {
          "base_uri": "https://localhost:8080/"
        },
        "id": "Afkbv2rNTHOf",
        "outputId": "2ada15d8-acf3-4661-ba24-25dcce2d0922"
      },
      "source": [
        "# Extract embedding data for 100 feature embedding matrix\n",
        "glove_dir = os.getcwd()\n",
        "\n",
        "embeddings_index = {}\n",
        "f = open(os.path.join(glove_dir, 'glove.6B.100d.txt'))\n",
        "for line in f:\n",
        "    values = line.split()\n",
        "    word = values[0]\n",
        "    coefs = np.asarray(values[1:], dtype='float32')\n",
        "    embeddings_index[word] = coefs\n",
        "f.close()\n",
        "\n",
        "print('Found %s word vectors.' % len(embeddings_index))"
      ],
      "execution_count": 31,
      "outputs": [
        {
          "output_type": "stream",
          "text": [
            "Found 400001 word vectors.\n"
          ],
          "name": "stdout"
        }
      ]
    },
    {
      "cell_type": "code",
      "metadata": {
        "id": "McI2mbYWWEUd"
      },
      "source": [
        "sequences = tokenizer.texts_to_sequences(trainingdata['tweet'])\n",
        "data = pad_sequences(sequences, maxlen=maxlen)\n",
        "\n",
        "labels = np.asarray(trainingdata['label'])"
      ],
      "execution_count": 32,
      "outputs": []
    },
    {
      "cell_type": "code",
      "metadata": {
        "colab": {
          "base_uri": "https://localhost:8080/"
        },
        "id": "XkLdLHNNXZyO",
        "outputId": "8aecf1d8-0ece-40e5-a59b-8a2091825665"
      },
      "source": [
        "print('Shape of data tensor:', data.shape)\n",
        "print('Shape of label tensor:', labels.shape)"
      ],
      "execution_count": 33,
      "outputs": [
        {
          "output_type": "stream",
          "text": [
            "Shape of data tensor: (6420, 100)\n",
            "Shape of label tensor: (6420,)\n"
          ],
          "name": "stdout"
        }
      ]
    },
    {
      "cell_type": "code",
      "metadata": {
        "id": "hYrNx3OLUJJY"
      },
      "source": [
        "training_samples = 10000  # We will be training on 10000 samples\n",
        "validation_samples = 10000  # We will be validating on 10000 samples\n",
        "max_words = 10000  # We will only consider the top 10,000 words in the dataset\n",
        "\n",
        "x_val = data[training_samples: training_samples + validation_samples]\n",
        "y_val = labels[training_samples: training_samples + validation_samples]"
      ],
      "execution_count": 34,
      "outputs": []
    },
    {
      "cell_type": "code",
      "metadata": {
        "colab": {
          "base_uri": "https://localhost:8080/"
        },
        "id": "qi5CVG1sUexo",
        "outputId": "b7f259fe-e16c-4aae-f103-f94415d1e45a"
      },
      "source": [
        "word_index = tokenizer.word_index\n",
        "print('Found %s unique tokens.' % len(word_index))"
      ],
      "execution_count": 35,
      "outputs": [
        {
          "output_type": "stream",
          "text": [
            "Found 14876 unique tokens.\n"
          ],
          "name": "stdout"
        }
      ]
    },
    {
      "cell_type": "code",
      "metadata": {
        "id": "xu4hU980SuOb"
      },
      "source": [
        "# Build embedding matrix\n",
        "embedding_dim = 100 # change if you use txt files using larger number of features\n",
        "\n",
        "embedding_matrix = np.zeros((max_words, embedding_dim))\n",
        "for word, i in word_index.items():\n",
        "    embedding_vector = embeddings_index.get(word)\n",
        "    if i < max_words:\n",
        "        if embedding_vector is not None:\n",
        "            # Words not found in embedding index will be all-zeros.\n",
        "            embedding_matrix[i] = embedding_vector"
      ],
      "execution_count": 36,
      "outputs": []
    },
    {
      "cell_type": "code",
      "metadata": {
        "colab": {
          "base_uri": "https://localhost:8080/"
        },
        "id": "-PCVQdpzVGN2",
        "outputId": "95d3e860-2654-4f35-efa0-c1c751e34741"
      },
      "source": [
        "from tensorflow.keras import layers\n",
        "\n",
        "model = Sequential()\n",
        "model.add(Embedding(10000, embedding_dim, input_length=maxlen))\n",
        "model.add(layers.Conv1D(32, 4, activation='relu')) \n",
        "model.add(layers.MaxPooling1D(5)) \n",
        "model.add(layers.Conv1D(32, 4, activation='relu'))\n",
        "model.add(layers.GlobalMaxPooling1D())\n",
        "model.add(Dense(2, activation='softmax', kernel_initializer='GlorotUniform', bias_initializer='Zeros',\n",
        "                kernel_regularizer=regularizers.l1_l2(l1=1e-5, l2=1e-4),\n",
        "                bias_regularizer=regularizers.l2(1e-4),\n",
        "                activity_regularizer=regularizers.l2(1e-5)))\n",
        "\n",
        "model.summary()"
      ],
      "execution_count": 37,
      "outputs": [
        {
          "output_type": "stream",
          "text": [
            "Model: \"sequential_1\"\n",
            "_________________________________________________________________\n",
            "Layer (type)                 Output Shape              Param #   \n",
            "=================================================================\n",
            "embedding_1 (Embedding)      (None, 100, 100)          1000000   \n",
            "_________________________________________________________________\n",
            "conv1d (Conv1D)              (None, 97, 32)            12832     \n",
            "_________________________________________________________________\n",
            "max_pooling1d (MaxPooling1D) (None, 19, 32)            0         \n",
            "_________________________________________________________________\n",
            "conv1d_1 (Conv1D)            (None, 16, 32)            4128      \n",
            "_________________________________________________________________\n",
            "global_max_pooling1d (Global (None, 32)                0         \n",
            "_________________________________________________________________\n",
            "dense_1 (Dense)              (None, 2)                 66        \n",
            "=================================================================\n",
            "Total params: 1,017,026\n",
            "Trainable params: 1,017,026\n",
            "Non-trainable params: 0\n",
            "_________________________________________________________________\n"
          ],
          "name": "stdout"
        }
      ]
    },
    {
      "cell_type": "code",
      "metadata": {
        "id": "GMK00ugjSa4M"
      },
      "source": [
        "model.layers[0].set_weights([embedding_matrix])\n",
        "model.layers[0].trainable = False\n",
        "\n",
        "# mc = ModelCheckpoint('best_model.h5', monitor='val_acc',mode='max', verbose=1, save_best_only=True)#\n",
        "red_lr= ReduceLROnPlateau(monitor='val_acc',patience=3,verbose=1,factor=0.5, min_lr=0)\n",
        "es = EarlyStopping(monitor='val_loss', mode='min', verbose=1, patience=15)\n",
        "\n",
        "\n",
        "model.compile(optimizer='rmsprop', loss='categorical_crossentropy', metrics=['acc'])\n",
        "\n",
        "history = model.fit(X_train, y_train,\n",
        "                      epochs=50,\n",
        "                      batch_size=32,\n",
        "                      validation_split=0.20, callbacks=[red_lr,es])\n",
        "\n",
        "model.save_weights('pre_trained_glove_model.h5')"
      ],
      "execution_count": null,
      "outputs": []
    },
    {
      "cell_type": "code",
      "metadata": {
        "id": "kAxqUzbZp9i4",
        "colab": {
          "base_uri": "https://localhost:8080/"
        },
        "outputId": "48523067-fff8-4e2c-daa3-0722856b7352"
      },
      "source": [
        "model.load_weights('pre_trained_glove_model.h5')\n",
        "\n",
        "y_pred = model.predict(X_test).argmax(axis=1)\n",
        "predicted_labels = [y_test.columns[i] for i in y_pred]\n",
        "labels_pred = pd.get_dummies(predicted_labels)\n",
        "predicted_labels[0:5]"
      ],
      "execution_count": 39,
      "outputs": [
        {
          "output_type": "execute_result",
          "data": {
            "text/plain": [
              "['real', 'fake', 'fake', 'real', 'fake']"
            ]
          },
          "metadata": {
            "tags": []
          },
          "execution_count": 39
        }
      ]
    },
    {
      "cell_type": "code",
      "metadata": {
        "colab": {
          "base_uri": "https://localhost:8080/"
        },
        "id": "1I5v_JUo0B08",
        "outputId": "f40767fb-a737-462b-9fca-a62455b683a5"
      },
      "source": [
        "accuracy = accuracy_score(y_test, labels_pred)\n",
        "print('Accuracy: %f' % accuracy)\n",
        "precision = precision_score(y_test, labels_pred, average=None)\n",
        "print('Precision:', precision)\n",
        "recall = recall_score(y_test, labels_pred, average=None)\n",
        "print('Recall:', recall)\n",
        "f1 = f1_score(y_test, labels_pred, average=None)\n",
        "print('F1 score:', f1)\n",
        "\n",
        "auc = roc_auc_score(y_test, labels_pred)\n",
        "print('ROC AUC: %f' % auc)"
      ],
      "execution_count": 40,
      "outputs": [
        {
          "output_type": "stream",
          "text": [
            "Accuracy: 0.874766\n",
            "Precision: [0.86647173 0.88240575]\n",
            "Recall: [0.87156863 0.87767857]\n",
            "F1 score: [0.86901271 0.88003581]\n",
            "ROC AUC: 0.874624\n"
          ],
          "name": "stdout"
        }
      ]
    },
    {
      "cell_type": "markdown",
      "metadata": {
        "id": "LIhSCrWf1YlS"
      },
      "source": [
        "I tried to use pre-trained weights trying to improve the model, but it actually got worse!"
      ]
    },
    {
      "cell_type": "code",
      "metadata": {
        "colab": {
          "base_uri": "https://localhost:8080/"
        },
        "id": "ro8d5l696Af8",
        "outputId": "6b256921-5f1a-41e1-8c86-e80925a93eb7"
      },
      "source": [
        "print(preprocessor_for_test([\"The CDC currently reports 99031 deaths. In general discrepancies death counts different sources small explicable. The death toll stands roughly 100000 people today.\"]).shape)\n",
        "print(preprocessor_for_test([\"The CDC currently reports 99031 deaths. In general discrepancies death counts different sources small explicable. The death toll stands roughly 100000 people today.\"]))\n",
        "\n",
        "print(model.predict(preprocessor_for_test([\"The CDC currently reports 99031 deaths. In general discrepancies death counts different sources small explicable. The death toll stands roughly 100000 people today.\"])))\n",
        "print(model.predict(preprocessor_for_test([\"???Autopsies prove that COVID-19 is?? a blood chinese virus\"])))"
      ],
      "execution_count": 41,
      "outputs": [
        {
          "output_type": "stream",
          "text": [
            "(1, 100)\n",
            "[[   0    0    0    0    0    0    0    0    0    0    0    0    0    0\n",
            "     0    0    0    0    0    0    0    0    0    0    0    0    0    0\n",
            "     0    0    0    0    0    0    0    0    0    0    0    0    0    0\n",
            "     0    0    0    0    0    0    0    0    0    0    0    0    0    0\n",
            "     0    0    0    0    0    0    0    0    0    0    0    0    0    0\n",
            "     0    0    0    0    0    0    0    7   97  231  218 6985   10   53\n",
            "   617 6986   86 1204  407 1718  669 6987    7   86  639  530 1719  888\n",
            "     8   23]]\n",
            "[[1.3508716e-05 9.9998653e-01]]\n",
            "[[9.9999988e-01 1.7527901e-07]]\n"
          ],
          "name": "stdout"
        }
      ]
    },
    {
      "cell_type": "markdown",
      "metadata": {
        "id": "VW4HEmsxgqQh"
      },
      "source": [
        "Nonetheless, this model appears to be quite certain about the labels of these two tweets and it gets both right."
      ]
    },
    {
      "cell_type": "markdown",
      "metadata": {
        "id": "hsdf1pKhZuU_"
      },
      "source": [
        "# 2. A model with Convolutional 1D layers\n"
      ]
    },
    {
      "cell_type": "code",
      "metadata": {
        "colab": {
          "base_uri": "https://localhost:8080/"
        },
        "id": "rdkjC71pd1PZ",
        "outputId": "ddcd6823-a97e-45e0-9c17-8c60ca56e210"
      },
      "source": [
        "model = Sequential()\n",
        "model.add(layers.Embedding(10000, 16, input_length=maxlen))\n",
        "model.add(layers.Conv1D(32, 4, activation='relu')) \n",
        "model.add(layers.MaxPooling1D(5)) \n",
        "model.add(layers.Conv1D(32, 4, activation='relu'))\n",
        "model.add(layers.GlobalMaxPooling1D())\n",
        "model.add(layers.Dense(2, activation=\"softmax\"))\n",
        "\n",
        "model.summary()"
      ],
      "execution_count": 42,
      "outputs": [
        {
          "output_type": "stream",
          "text": [
            "Model: \"sequential_2\"\n",
            "_________________________________________________________________\n",
            "Layer (type)                 Output Shape              Param #   \n",
            "=================================================================\n",
            "embedding_2 (Embedding)      (None, 100, 16)           160000    \n",
            "_________________________________________________________________\n",
            "conv1d_2 (Conv1D)            (None, 97, 32)            2080      \n",
            "_________________________________________________________________\n",
            "max_pooling1d_1 (MaxPooling1 (None, 19, 32)            0         \n",
            "_________________________________________________________________\n",
            "conv1d_3 (Conv1D)            (None, 16, 32)            4128      \n",
            "_________________________________________________________________\n",
            "global_max_pooling1d_1 (Glob (None, 32)                0         \n",
            "_________________________________________________________________\n",
            "dense_2 (Dense)              (None, 2)                 66        \n",
            "=================================================================\n",
            "Total params: 166,274\n",
            "Trainable params: 166,274\n",
            "Non-trainable params: 0\n",
            "_________________________________________________________________\n"
          ],
          "name": "stdout"
        }
      ]
    },
    {
      "cell_type": "code",
      "metadata": {
        "id": "BY21IqhTeNTW"
      },
      "source": [
        "from tensorflow.keras.optimizers import RMSprop\n",
        "\n",
        "model.compile(optimizer=RMSprop(lr=1e-4),\n",
        "              loss='categorical_crossentropy',\n",
        "              metrics=['acc'])\n",
        "\n",
        "mc = ModelCheckpoint('best_model_2.h5', monitor='val_acc',mode='max', verbose=1, save_best_only=True) # evaluating val_acc maximization\n",
        "red_lr= ReduceLROnPlateau(monitor='val_acc',patience=3,verbose=1,factor=0.5, min_lr=0) # dividing lr by half when val_accuracy fails to improve after 2 epochs\n",
        "es = EarlyStopping(monitor='val_loss', mode='min', verbose=1, patience=25)\n",
        "\n",
        "history = model.fit(X_train, y_train,\n",
        "                    epochs=50,\n",
        "                    batch_size=32,\n",
        "                    validation_split=0.2, callbacks=[mc, red_lr,es])"
      ],
      "execution_count": null,
      "outputs": []
    },
    {
      "cell_type": "code",
      "metadata": {
        "colab": {
          "base_uri": "https://localhost:8080/"
        },
        "id": "zWx_j1MuiOMH",
        "outputId": "30935380-8b8a-482c-de9e-396324e91e3e"
      },
      "source": [
        "model.load_weights('best_model_2.h5')\n",
        "\n",
        "y_pred = model.predict(X_test).argmax(axis=1)\n",
        "predicted_labels = [y_test.columns[i] for i in y_pred]\n",
        "labels_pred = pd.get_dummies(predicted_labels)\n",
        "predicted_labels[0:5]"
      ],
      "execution_count": 44,
      "outputs": [
        {
          "output_type": "execute_result",
          "data": {
            "text/plain": [
              "['real', 'fake', 'fake', 'real', 'real']"
            ]
          },
          "metadata": {
            "tags": []
          },
          "execution_count": 44
        }
      ]
    },
    {
      "cell_type": "code",
      "metadata": {
        "colab": {
          "base_uri": "https://localhost:8080/"
        },
        "id": "2QYQSvIEiR6E",
        "outputId": "29fba0ab-bc53-488c-895c-28b16b959bb7"
      },
      "source": [
        "accuracy = accuracy_score(y_test, labels_pred)\n",
        "print('Accuracy: %f' % accuracy)\n",
        "precision = precision_score(y_test, labels_pred, average=None)\n",
        "print('Precision:', precision)\n",
        "recall = recall_score(y_test, labels_pred, average=None)\n",
        "print('Recall:', recall)\n",
        "f1 = f1_score(y_test, labels_pred, average=None)\n",
        "print('F1 score:', f1)\n",
        "\n",
        "auc = roc_auc_score(y_test, labels_pred)\n",
        "print('ROC AUC: %f' % auc)"
      ],
      "execution_count": 45,
      "outputs": [
        {
          "output_type": "stream",
          "text": [
            "Accuracy: 0.908411\n",
            "Precision: [0.90155945 0.91472172]\n",
            "Recall: [0.90686275 0.90982143]\n",
            "F1 score: [0.90420332 0.912265  ]\n",
            "ROC AUC: 0.908342\n"
          ],
          "name": "stdout"
        }
      ]
    },
    {
      "cell_type": "markdown",
      "metadata": {
        "id": "RjmVKjAziY2R"
      },
      "source": [
        "Overall a good model! It's my best one yet, and it has a reasonable amount of parameters."
      ]
    },
    {
      "cell_type": "code",
      "metadata": {
        "colab": {
          "base_uri": "https://localhost:8080/"
        },
        "id": "XArL5xoTiY-6",
        "outputId": "6978dfef-f4d9-4816-e835-6bcdeff6f725"
      },
      "source": [
        "print(model.predict(preprocessor_for_test([\"The CDC currently reports 99031 deaths. In general discrepancies death counts different sources small explicable. The death toll stands roughly 100000 people today.\"])))\n",
        "print(model.predict(preprocessor_for_test([\"???Autopsies prove that COVID-19 is?? a blood chinese virus\"])))"
      ],
      "execution_count": 46,
      "outputs": [
        {
          "output_type": "stream",
          "text": [
            "[[0.01222894 0.98777103]]\n",
            "[[0.98807424 0.01192572]]\n"
          ],
          "name": "stdout"
        }
      ]
    },
    {
      "cell_type": "markdown",
      "metadata": {
        "id": "JVD3XCabbpBx"
      },
      "source": [
        "# Bonus: Simple RNN"
      ]
    },
    {
      "cell_type": "code",
      "metadata": {
        "colab": {
          "base_uri": "https://localhost:8080/"
        },
        "id": "YL9razfoZ84u",
        "outputId": "0c84de2d-be75-404b-e05a-417f69b53706"
      },
      "source": [
        "from tensorflow.keras.layers import SimpleRNN, LSTM, GRU\n",
        "\n",
        "model = Sequential()\n",
        "model.add(Embedding(10000, 32, input_length=maxlen))\n",
        "model.add(SimpleRNN(32))\n",
        "model.add(Dense(2, activation='softmax'))\n",
        "\n",
        "model.summary()"
      ],
      "execution_count": 47,
      "outputs": [
        {
          "output_type": "stream",
          "text": [
            "Model: \"sequential_3\"\n",
            "_________________________________________________________________\n",
            "Layer (type)                 Output Shape              Param #   \n",
            "=================================================================\n",
            "embedding_3 (Embedding)      (None, 100, 32)           320000    \n",
            "_________________________________________________________________\n",
            "simple_rnn (SimpleRNN)       (None, 32)                2080      \n",
            "_________________________________________________________________\n",
            "dense_3 (Dense)              (None, 2)                 66        \n",
            "=================================================================\n",
            "Total params: 322,146\n",
            "Trainable params: 322,146\n",
            "Non-trainable params: 0\n",
            "_________________________________________________________________\n"
          ],
          "name": "stdout"
        }
      ]
    },
    {
      "cell_type": "code",
      "metadata": {
        "id": "V6IHDKT-kBt0"
      },
      "source": [
        "model.compile(optimizer='rmsprop', loss='categorical_crossentropy', metrics=['acc'])\n",
        "\n",
        "mc = ModelCheckpoint('best_model_bonus2.h5', monitor='val_acc',mode='max', verbose=1, save_best_only=True) # evaluating val_acc maximization\n",
        "red_lr= ReduceLROnPlateau(monitor='val_acc',patience=3,verbose=1,factor=0.5, min_lr=0) # dividing lr by half when val_accuracy fails to improve after 2 epochs\n",
        "es = EarlyStopping(monitor='val_loss', mode='min', verbose=1, patience=25)\n",
        "\n",
        "history = model.fit(X_train, y_train,\n",
        "                    epochs=50,\n",
        "                    batch_size=32,\n",
        "                    validation_split=0.2, callbacks=[mc, red_lr,es])"
      ],
      "execution_count": null,
      "outputs": []
    },
    {
      "cell_type": "code",
      "metadata": {
        "id": "pPLxSJB7kS4Z"
      },
      "source": [
        "model.load_weights('best_model_bonus2.h5')\n",
        "\n",
        "y_pred = model.predict(X_test).argmax(axis=1)\n",
        "predicted_labels = [y_test.columns[i] for i in y_pred]\n",
        "labels_pred = pd.get_dummies(predicted_labels)"
      ],
      "execution_count": 49,
      "outputs": []
    },
    {
      "cell_type": "code",
      "metadata": {
        "colab": {
          "base_uri": "https://localhost:8080/"
        },
        "id": "KPfg4GrMkV4t",
        "outputId": "6458104b-64dc-42a7-cb6d-714a28df827b"
      },
      "source": [
        "accuracy = accuracy_score(y_test, labels_pred)\n",
        "print('Accuracy: %f' % accuracy)\n",
        "precision = precision_score(y_test, labels_pred, average=None)\n",
        "print('Precision:', precision)\n",
        "recall = recall_score(y_test, labels_pred, average=None)\n",
        "print('Recall:', recall)\n",
        "f1 = f1_score(y_test, labels_pred, average=None)\n",
        "print('F1 score:', f1)\n",
        "\n",
        "auc = roc_auc_score(y_test, labels_pred)\n",
        "print('ROC AUC: %f' % auc)"
      ],
      "execution_count": 50,
      "outputs": [
        {
          "output_type": "stream",
          "text": [
            "Accuracy: 0.917290\n",
            "Precision: [0.89282386 0.94189316]\n",
            "Recall: [0.93921569 0.89732143]\n",
            "F1 score: [0.91543239 0.91906722]\n",
            "ROC AUC: 0.918269\n"
          ],
          "name": "stdout"
        }
      ]
    },
    {
      "cell_type": "code",
      "metadata": {
        "colab": {
          "base_uri": "https://localhost:8080/"
        },
        "id": "oHBcFyt0kZOL",
        "outputId": "5cad10fd-6bc1-4218-fab4-dd6b0ad7778d"
      },
      "source": [
        "print(model.predict(preprocessor_for_test([\"The CDC currently reports 99031 deaths. In general discrepancies death counts different sources small explicable. The death toll stands roughly 100000 people today.\"])))\n",
        "print(model.predict(preprocessor_for_test([\"???Autopsies prove that COVID-19 is?? a blood chinese virus\"])))"
      ],
      "execution_count": 51,
      "outputs": [
        {
          "output_type": "stream",
          "text": [
            "[[0.00120524 0.9987948 ]]\n",
            "[[9.996692e-01 3.307948e-04]]\n"
          ],
          "name": "stdout"
        }
      ]
    },
    {
      "cell_type": "markdown",
      "metadata": {
        "id": "b666GqFykg85"
      },
      "source": [
        "A decent model. Gets right the two example tweets."
      ]
    },
    {
      "cell_type": "markdown",
      "metadata": {
        "id": "RWEPiDkjcdop"
      },
      "source": [
        "# 3. One sequential layer (LSTM or GRU)"
      ]
    },
    {
      "cell_type": "markdown",
      "metadata": {
        "id": "2djyUi18kts3"
      },
      "source": [
        "### Let's start with **LSTM**"
      ]
    },
    {
      "cell_type": "code",
      "metadata": {
        "colab": {
          "base_uri": "https://localhost:8080/"
        },
        "id": "Lf6Uh3uPch3z",
        "outputId": "fc5f9210-6b72-45f4-da9b-aaee972fdeee"
      },
      "source": [
        "model = Sequential()\n",
        "model.add(Embedding(10000, 32, input_length=maxlen))\n",
        "model.add(LSTM(32))\n",
        "model.add(Dense(2, activation='softmax'))\n",
        "\n",
        "model.summary()"
      ],
      "execution_count": 52,
      "outputs": [
        {
          "output_type": "stream",
          "text": [
            "Model: \"sequential_4\"\n",
            "_________________________________________________________________\n",
            "Layer (type)                 Output Shape              Param #   \n",
            "=================================================================\n",
            "embedding_4 (Embedding)      (None, 100, 32)           320000    \n",
            "_________________________________________________________________\n",
            "lstm (LSTM)                  (None, 32)                8320      \n",
            "_________________________________________________________________\n",
            "dense_4 (Dense)              (None, 2)                 66        \n",
            "=================================================================\n",
            "Total params: 328,386\n",
            "Trainable params: 328,386\n",
            "Non-trainable params: 0\n",
            "_________________________________________________________________\n"
          ],
          "name": "stdout"
        }
      ]
    },
    {
      "cell_type": "code",
      "metadata": {
        "id": "InI4KLW1k7IM"
      },
      "source": [
        "model.compile(optimizer='rmsprop', loss='categorical_crossentropy', metrics=['acc'])\n",
        "\n",
        "mc = ModelCheckpoint('best_model_3.h5', monitor='val_acc',mode='max', verbose=1, save_best_only=True) # evaluating val_acc maximization\n",
        "red_lr= ReduceLROnPlateau(monitor='val_acc',patience=3,verbose=1,factor=0.5, min_lr=0) # dividing lr by half when val_accuracy fails to improve after 2 epochs\n",
        "es = EarlyStopping(monitor='val_loss', mode='min', verbose=1, patience=15)\n",
        "\n",
        "history = model.fit(X_train, y_train,\n",
        "                    epochs=50,\n",
        "                    batch_size=32,\n",
        "                    validation_split=0.2, callbacks=[mc, red_lr,es])"
      ],
      "execution_count": null,
      "outputs": []
    },
    {
      "cell_type": "code",
      "metadata": {
        "id": "-RI1fBMflDsQ"
      },
      "source": [
        "model.load_weights('best_model_3.h5')\n",
        "\n",
        "y_pred = model.predict(X_test).argmax(axis=1)\n",
        "predicted_labels = [y_test.columns[i] for i in y_pred]\n",
        "labels_pred = pd.get_dummies(predicted_labels)"
      ],
      "execution_count": 54,
      "outputs": []
    },
    {
      "cell_type": "code",
      "metadata": {
        "colab": {
          "base_uri": "https://localhost:8080/"
        },
        "id": "Kq7ceoI7lDsQ",
        "outputId": "ba3d2918-3bdd-44fb-c6b8-aa79021bd309"
      },
      "source": [
        "accuracy = accuracy_score(y_test, labels_pred)\n",
        "print('Accuracy: %f' % accuracy)\n",
        "precision = precision_score(y_test, labels_pred, average=None)\n",
        "print('Precision:', precision)\n",
        "recall = recall_score(y_test, labels_pred, average=None)\n",
        "print('Recall:', recall)\n",
        "f1 = f1_score(y_test, labels_pred, average=None)\n",
        "print('F1 score:', f1)\n",
        "\n",
        "auc = roc_auc_score(y_test, labels_pred)\n",
        "print('ROC AUC: %f' % auc)"
      ],
      "execution_count": 55,
      "outputs": [
        {
          "output_type": "stream",
          "text": [
            "Accuracy: 0.928505\n",
            "Precision: [0.9172281  0.93914623]\n",
            "Recall: [0.93431373 0.92321429]\n",
            "F1 score: [0.92569208 0.93111211]\n",
            "ROC AUC: 0.928764\n"
          ],
          "name": "stdout"
        }
      ]
    },
    {
      "cell_type": "code",
      "metadata": {
        "id": "2DYYgDMpzjMP"
      },
      "source": [
        "def tweet_stats(tweet):\n",
        "\n",
        "  print(\"Tweet:\", tweet)\n",
        "\n",
        "  print(\"Tweet chances:\", model.predict(preprocessor_for_test([tweet])))\n",
        "    \n",
        "  if (model.predict(preprocessor_for_test([tweet]))[0][0] > 0.5):\n",
        "    print((model.predict(preprocessor_for_test([tweet]))[0][0] *100) , \"% CHANCE OF BEING FAKE NEEEWS\")\n",
        "  else:\n",
        "    print(\"It's telling the truth\")"
      ],
      "execution_count": 56,
      "outputs": []
    },
    {
      "cell_type": "code",
      "metadata": {
        "colab": {
          "base_uri": "https://localhost:8080/"
        },
        "id": "GZxyBlsSlDsR",
        "outputId": "85484bcc-faaa-41d8-961d-19e530c80cb4"
      },
      "source": [
        "tweet = \"The CDC currently reports 99031 deaths. In general discrepancies death counts different sources small explicable. The death toll stands roughly 100000 people today.\"\n",
        "\n",
        "tweet_stats(tweet)"
      ],
      "execution_count": 57,
      "outputs": [
        {
          "output_type": "stream",
          "text": [
            "Tweet: The CDC currently reports 99031 deaths. In general discrepancies death counts different sources small explicable. The death toll stands roughly 100000 people today.\n",
            "Tweet chances: [[0.01990921 0.9800908 ]]\n",
            "It's telling the truth\n"
          ],
          "name": "stdout"
        }
      ]
    },
    {
      "cell_type": "code",
      "metadata": {
        "colab": {
          "base_uri": "https://localhost:8080/"
        },
        "id": "hwqnOpJcT58t",
        "outputId": "c2b45d7a-0869-4d6d-f0bb-fb3aad0df179"
      },
      "source": [
        "tweet2 = \"???Autopsies prove that COVID-19 is?? a blood chinese virus\"\n",
        "\n",
        "tweet_stats(tweet2)"
      ],
      "execution_count": 58,
      "outputs": [
        {
          "output_type": "stream",
          "text": [
            "Tweet: ???Autopsies prove that COVID-19 is?? a blood chinese virus\n",
            "Tweet chances: [[9.9977428e-01 2.2568514e-04]]\n",
            "99.97742772102356 % CHANCE OF BEING FAKE NEEEWS\n"
          ],
          "name": "stdout"
        }
      ]
    },
    {
      "cell_type": "markdown",
      "metadata": {
        "id": "Xb0WpcikloVs"
      },
      "source": [
        "This is my new best model!"
      ]
    },
    {
      "cell_type": "markdown",
      "metadata": {
        "id": "fghF6rCzvown"
      },
      "source": [
        "### Let's try now **GRU**"
      ]
    },
    {
      "cell_type": "code",
      "metadata": {
        "colab": {
          "base_uri": "https://localhost:8080/"
        },
        "id": "4rrg_7n1vrkE",
        "outputId": "088b614f-ea0d-4441-fb70-8476ded0d1e4"
      },
      "source": [
        "model = Sequential()\n",
        "model.add(Embedding(10000, 32, input_length=maxlen))\n",
        "model.add(GRU(32))\n",
        "model.add(Dense(2, activation='softmax'))\n",
        "\n",
        "model.summary()"
      ],
      "execution_count": 59,
      "outputs": [
        {
          "output_type": "stream",
          "text": [
            "Model: \"sequential_5\"\n",
            "_________________________________________________________________\n",
            "Layer (type)                 Output Shape              Param #   \n",
            "=================================================================\n",
            "embedding_5 (Embedding)      (None, 100, 32)           320000    \n",
            "_________________________________________________________________\n",
            "gru (GRU)                    (None, 32)                6336      \n",
            "_________________________________________________________________\n",
            "dense_5 (Dense)              (None, 2)                 66        \n",
            "=================================================================\n",
            "Total params: 326,402\n",
            "Trainable params: 326,402\n",
            "Non-trainable params: 0\n",
            "_________________________________________________________________\n"
          ],
          "name": "stdout"
        }
      ]
    },
    {
      "cell_type": "code",
      "metadata": {
        "id": "6b2o_WpWvz15"
      },
      "source": [
        "model.compile(optimizer='rmsprop', loss='categorical_crossentropy', metrics=['acc'])\n",
        "\n",
        "mc = ModelCheckpoint('best_model_3bis.h5', monitor='val_acc',mode='max', verbose=1, save_best_only=True) # evaluating val_acc maximization\n",
        "red_lr= ReduceLROnPlateau(monitor='val_acc',patience=3,verbose=1,factor=0.5, min_lr=0) # dividing lr by half when val_accuracy fails to improve after 2 epochs\n",
        "es = EarlyStopping(monitor='val_loss', mode='min', verbose=1, patience=15)\n",
        "\n",
        "history = model.fit(X_train, y_train,\n",
        "                    epochs=50,\n",
        "                    batch_size=32,\n",
        "                    validation_split=0.2, callbacks=[mc, red_lr,es])"
      ],
      "execution_count": null,
      "outputs": []
    },
    {
      "cell_type": "code",
      "metadata": {
        "id": "-XoYSKPKvz15"
      },
      "source": [
        "model.load_weights('best_model_3bis.h5')\n",
        "\n",
        "y_pred = model.predict(X_test).argmax(axis=1)\n",
        "predicted_labels = [y_test.columns[i] for i in y_pred]\n",
        "labels_pred = pd.get_dummies(predicted_labels)"
      ],
      "execution_count": 61,
      "outputs": []
    },
    {
      "cell_type": "code",
      "metadata": {
        "colab": {
          "base_uri": "https://localhost:8080/"
        },
        "id": "4MMOiTpgvz15",
        "outputId": "f29329c1-a5a1-4bff-e5b7-13338a3ff5be"
      },
      "source": [
        "accuracy = accuracy_score(y_test, labels_pred)\n",
        "print('Accuracy: %f' % accuracy)\n",
        "precision = precision_score(y_test, labels_pred, average=None)\n",
        "print('Precision:', precision)\n",
        "recall = recall_score(y_test, labels_pred, average=None)\n",
        "print('Recall:', recall)\n",
        "f1 = f1_score(y_test, labels_pred, average=None)\n",
        "print('F1 score:', f1)\n",
        "\n",
        "auc = roc_auc_score(y_test, labels_pred)\n",
        "print('ROC AUC: %f' % auc)"
      ],
      "execution_count": 62,
      "outputs": [
        {
          "output_type": "stream",
          "text": [
            "Accuracy: 0.927103\n",
            "Precision: [0.89416058 0.96168582]\n",
            "Recall: [0.96078431 0.89642857]\n",
            "F1 score: [0.92627599 0.92791128]\n",
            "ROC AUC: 0.928606\n"
          ],
          "name": "stdout"
        }
      ]
    },
    {
      "cell_type": "markdown",
      "metadata": {
        "id": "mRBVf-LgwYJr"
      },
      "source": [
        "Results are very similar to those of LSTM. Slightly worse."
      ]
    },
    {
      "cell_type": "markdown",
      "metadata": {
        "id": "G38tzbCFeigt"
      },
      "source": [
        "# 4.  Stacked Sequential Layers (LSTM or GRU)"
      ]
    },
    {
      "cell_type": "code",
      "metadata": {
        "colab": {
          "base_uri": "https://localhost:8080/"
        },
        "id": "xul5mY77emdW",
        "outputId": "a4ba941f-abb6-4df5-9428-107aeb2e9f79"
      },
      "source": [
        "model = Sequential()\n",
        "model.add(Embedding(10000, 32, input_length=maxlen))\n",
        "model.add(LSTM(64, return_sequences=True, dropout=0.2, recurrent_dropout=0.2))\n",
        "model.add(LSTM(32, return_sequences=True, dropout=0.1, recurrent_dropout=0.1))\n",
        "model.add(LSTM(32, return_sequences=True, dropout=0.1, recurrent_dropout=0.1))\n",
        "model.add(LSTM(16))\n",
        "model.add(Dense(2, activation='softmax'))\n",
        "\n",
        "model.summary()"
      ],
      "execution_count": 63,
      "outputs": [
        {
          "output_type": "stream",
          "text": [
            "Model: \"sequential_6\"\n",
            "_________________________________________________________________\n",
            "Layer (type)                 Output Shape              Param #   \n",
            "=================================================================\n",
            "embedding_6 (Embedding)      (None, 100, 32)           320000    \n",
            "_________________________________________________________________\n",
            "lstm_1 (LSTM)                (None, 100, 64)           24832     \n",
            "_________________________________________________________________\n",
            "lstm_2 (LSTM)                (None, 100, 32)           12416     \n",
            "_________________________________________________________________\n",
            "lstm_3 (LSTM)                (None, 100, 32)           8320      \n",
            "_________________________________________________________________\n",
            "lstm_4 (LSTM)                (None, 16)                3136      \n",
            "_________________________________________________________________\n",
            "dense_6 (Dense)              (None, 2)                 34        \n",
            "=================================================================\n",
            "Total params: 368,738\n",
            "Trainable params: 368,738\n",
            "Non-trainable params: 0\n",
            "_________________________________________________________________\n"
          ],
          "name": "stdout"
        }
      ]
    },
    {
      "cell_type": "code",
      "metadata": {
        "id": "maUAYF-TxGba"
      },
      "source": [
        "model.compile(optimizer='rmsprop', loss='categorical_crossentropy', metrics=['acc'])\n",
        "\n",
        "mc = ModelCheckpoint('best_model_4.h5', monitor='val_acc',mode='max', verbose=1, save_best_only=True) # evaluating val_acc maximization\n",
        "red_lr= ReduceLROnPlateau(monitor='val_acc',patience=3,verbose=1,factor=0.5, min_lr=0) # dividing lr by half when val_accuracy fails to improve after 2 epochs\n",
        "es = EarlyStopping(monitor='val_loss', mode='min', verbose=1, patience=5)\n",
        "\n",
        "history = model.fit(X_train, y_train,\n",
        "                    epochs=20,\n",
        "                    batch_size=32,\n",
        "                    validation_split=0.2, callbacks=[mc, red_lr,es])"
      ],
      "execution_count": null,
      "outputs": []
    },
    {
      "cell_type": "code",
      "metadata": {
        "id": "Q99U9fu-xGbq"
      },
      "source": [
        "model.load_weights('best_model_4.h5')\n",
        "\n",
        "y_pred = model.predict(X_test).argmax(axis=1)\n",
        "predicted_labels = [y_test.columns[i] for i in y_pred]\n",
        "labels_pred = pd.get_dummies(predicted_labels)"
      ],
      "execution_count": 65,
      "outputs": []
    },
    {
      "cell_type": "code",
      "metadata": {
        "colab": {
          "base_uri": "https://localhost:8080/"
        },
        "id": "KqjkQE_gxGbr",
        "outputId": "d5bb863d-ebd1-4682-f5f2-6978083eb8c5"
      },
      "source": [
        "accuracy = accuracy_score(y_test, labels_pred)\n",
        "print('Accuracy: %f' % accuracy)\n",
        "precision = precision_score(y_test, labels_pred, average=None)\n",
        "print('Precision:', precision)\n",
        "recall = recall_score(y_test, labels_pred, average=None)\n",
        "print('Recall:', recall)\n",
        "f1 = f1_score(y_test, labels_pred, average=None)\n",
        "print('F1 score:', f1)\n",
        "\n",
        "auc = roc_auc_score(y_test, labels_pred)\n",
        "print('ROC AUC: %f' % auc)"
      ],
      "execution_count": 66,
      "outputs": [
        {
          "output_type": "stream",
          "text": [
            "Accuracy: 0.929439\n",
            "Precision: [0.9402229  0.92020815]\n",
            "Recall: [0.90980392 0.94732143]\n",
            "F1 score: [0.92476333 0.93356797]\n",
            "ROC AUC: 0.928563\n"
          ],
          "name": "stdout"
        }
      ]
    },
    {
      "cell_type": "markdown",
      "metadata": {
        "id": "fsd-6YWG1Fgu"
      },
      "source": [
        "Not that great for a model that took so much time to train."
      ]
    },
    {
      "cell_type": "markdown",
      "metadata": {
        "id": "I6f-lOEAfSn2"
      },
      "source": [
        "# 5. Bidirectional Sequential Layers (LSTM)"
      ]
    },
    {
      "cell_type": "code",
      "metadata": {
        "colab": {
          "base_uri": "https://localhost:8080/"
        },
        "id": "OkOReTH6fVTj",
        "outputId": "c9f5ef82-8e12-4544-96e3-6d37cdae6400"
      },
      "source": [
        "#Example 4: Bidirectional LSTM\n",
        "from tensorflow.keras.layers import Bidirectional\n",
        "\n",
        "model = Sequential()\n",
        "model.add(Embedding(10000, 32, input_length=maxlen))\n",
        "model.add(Bidirectional(LSTM(32, return_sequences=True, dropout=0.2, recurrent_dropout=0.2)))\n",
        "model.add(Bidirectional(LSTM(32, dropout=0.1, recurrent_dropout=0.1)))\n",
        "model.add(Dense(2, activation='softmax'))\n",
        "\n",
        "model.summary()"
      ],
      "execution_count": 67,
      "outputs": [
        {
          "output_type": "stream",
          "text": [
            "Model: \"sequential_7\"\n",
            "_________________________________________________________________\n",
            "Layer (type)                 Output Shape              Param #   \n",
            "=================================================================\n",
            "embedding_7 (Embedding)      (None, 100, 32)           320000    \n",
            "_________________________________________________________________\n",
            "bidirectional (Bidirectional (None, 100, 64)           16640     \n",
            "_________________________________________________________________\n",
            "bidirectional_1 (Bidirection (None, 64)                24832     \n",
            "_________________________________________________________________\n",
            "dense_7 (Dense)              (None, 2)                 130       \n",
            "=================================================================\n",
            "Total params: 361,602\n",
            "Trainable params: 361,602\n",
            "Non-trainable params: 0\n",
            "_________________________________________________________________\n"
          ],
          "name": "stdout"
        }
      ]
    },
    {
      "cell_type": "code",
      "metadata": {
        "id": "3psjC4Av1xa_"
      },
      "source": [
        "model.compile(optimizer='rmsprop', loss='categorical_crossentropy', metrics=['acc'])\n",
        "\n",
        "mc = ModelCheckpoint('best_model_5.h5', monitor='val_acc',mode='max', verbose=1, save_best_only=True) # evaluating val_acc maximization\n",
        "red_lr= ReduceLROnPlateau(monitor='val_acc',patience=3,verbose=1,factor=0.5, min_lr=0) # dividing lr by half when val_accuracy fails to improve after 2 epochs\n",
        "es = EarlyStopping(monitor='val_loss', mode='min', verbose=1, patience=5)\n",
        "\n",
        "history = model.fit(X_train, y_train,\n",
        "                    epochs=20,\n",
        "                    batch_size=32,\n",
        "                    validation_split=0.2, callbacks=[mc, red_lr,es])"
      ],
      "execution_count": null,
      "outputs": []
    },
    {
      "cell_type": "code",
      "metadata": {
        "id": "LOuvvy0F1xbQ"
      },
      "source": [
        "model.load_weights('best_model_5.h5')\n",
        "\n",
        "y_pred = model.predict(X_test).argmax(axis=1)\n",
        "predicted_labels = [y_test.columns[i] for i in y_pred]\n",
        "labels_pred = pd.get_dummies(predicted_labels)"
      ],
      "execution_count": 69,
      "outputs": []
    },
    {
      "cell_type": "code",
      "metadata": {
        "colab": {
          "base_uri": "https://localhost:8080/"
        },
        "id": "lbKhXuRB1xbQ",
        "outputId": "1a842179-4935-4e03-a589-8ee4d652c64a"
      },
      "source": [
        "accuracy = accuracy_score(y_test, labels_pred)\n",
        "print('Accuracy: %f' % accuracy)\n",
        "precision = precision_score(y_test, labels_pred, average=None)\n",
        "print('Precision:', precision)\n",
        "recall = recall_score(y_test, labels_pred, average=None)\n",
        "print('Recall:', recall)\n",
        "f1 = f1_score(y_test, labels_pred, average=None)\n",
        "print('F1 score:', f1)\n",
        "\n",
        "auc = roc_auc_score(y_test, labels_pred)\n",
        "print('ROC AUC: %f' % auc)"
      ],
      "execution_count": 70,
      "outputs": [
        {
          "output_type": "stream",
          "text": [
            "Accuracy: 0.931776\n",
            "Precision: [0.91382576 0.94926199]\n",
            "Recall: [0.94607843 0.91875   ]\n",
            "F1 score: [0.92967245 0.93375681]\n",
            "ROC AUC: 0.932414\n"
          ],
          "name": "stdout"
        }
      ]
    },
    {
      "cell_type": "markdown",
      "metadata": {
        "id": "o7gnkEAP15EZ"
      },
      "source": [
        "# Trying to create the best model"
      ]
    },
    {
      "cell_type": "code",
      "metadata": {
        "colab": {
          "base_uri": "https://localhost:8080/"
        },
        "id": "OkEwqHj-5LIC",
        "outputId": "3d25d817-7027-4d2a-b010-4c02692207a0"
      },
      "source": [
        "from keras.layers import Dropout\n",
        "\n",
        "model = Sequential()\n",
        "model.add(Embedding(10000, 32, input_length=maxlen, embeddings_initializer='RandomUniform'))\n",
        "model.add(Dropout(0.2))\n",
        "model.add(Bidirectional(LSTM(32, return_sequences=True, dropout=0.2, recurrent_dropout=0.2)))\n",
        "model.add(LSTM(32, return_sequences=True, dropout=0.2, recurrent_dropout=0.2))\n",
        "model.add(LSTM(32, dropout=0.1, recurrent_dropout=0.1))\n",
        "model.add(Flatten())\n",
        "model.add(Dense(8, activation='relu', kernel_initializer='GlorotUniform', bias_initializer='Zeros' ))\n",
        "model.add(Dense(2, activation='softmax', kernel_initializer='GlorotUniform', bias_initializer='Zeros'))\n",
        "\n",
        "model.summary()"
      ],
      "execution_count": 71,
      "outputs": [
        {
          "output_type": "stream",
          "text": [
            "Model: \"sequential_8\"\n",
            "_________________________________________________________________\n",
            "Layer (type)                 Output Shape              Param #   \n",
            "=================================================================\n",
            "embedding_8 (Embedding)      (None, 100, 32)           320000    \n",
            "_________________________________________________________________\n",
            "dropout (Dropout)            (None, 100, 32)           0         \n",
            "_________________________________________________________________\n",
            "bidirectional_2 (Bidirection (None, 100, 64)           16640     \n",
            "_________________________________________________________________\n",
            "lstm_8 (LSTM)                (None, 100, 32)           12416     \n",
            "_________________________________________________________________\n",
            "lstm_9 (LSTM)                (None, 32)                8320      \n",
            "_________________________________________________________________\n",
            "flatten_1 (Flatten)          (None, 32)                0         \n",
            "_________________________________________________________________\n",
            "dense_8 (Dense)              (None, 8)                 264       \n",
            "_________________________________________________________________\n",
            "dense_9 (Dense)              (None, 2)                 18        \n",
            "=================================================================\n",
            "Total params: 357,658\n",
            "Trainable params: 357,658\n",
            "Non-trainable params: 0\n",
            "_________________________________________________________________\n"
          ],
          "name": "stdout"
        }
      ]
    },
    {
      "cell_type": "code",
      "metadata": {
        "id": "dEmd_e1d_o-Y"
      },
      "source": [
        "model.compile(optimizer='rmsprop', loss='categorical_crossentropy', metrics=['acc'])\n",
        "\n",
        "mc = ModelCheckpoint('best_model.h5', monitor='val_acc',mode='max', verbose=1, save_best_only=True) # evaluating val_acc maximization\n",
        "red_lr= ReduceLROnPlateau(monitor='val_acc',patience=3,verbose=1,factor=0.5, min_lr=0) # dividing lr by half when val_accuracy fails to improve after 2 epochs\n",
        "es = EarlyStopping(monitor='val_loss', mode='min', verbose=1, patience=5)\n",
        "\n",
        "history = model.fit(X_train, y_train,\n",
        "                    epochs=20,\n",
        "                    batch_size=32,\n",
        "                    validation_split=0.2, callbacks=[mc, red_lr, es])"
      ],
      "execution_count": null,
      "outputs": []
    },
    {
      "cell_type": "code",
      "metadata": {
        "id": "z0b9eLbZB21X"
      },
      "source": [
        "model.load_weights('best_model.h5')\n",
        "\n",
        "y_pred = model.predict(X_test).argmax(axis=1)\n",
        "predicted_labels = [y_test.columns[i] for i in y_pred]\n",
        "labels_pred = pd.get_dummies(predicted_labels)"
      ],
      "execution_count": 73,
      "outputs": []
    },
    {
      "cell_type": "code",
      "metadata": {
        "colab": {
          "base_uri": "https://localhost:8080/"
        },
        "id": "FNBwo9t3B21a",
        "outputId": "3177071d-8f2a-4da7-9490-daff91c34e7c"
      },
      "source": [
        "accuracy = accuracy_score(y_test, labels_pred)\n",
        "print('Accuracy: %f' % accuracy)\n",
        "precision = precision_score(y_test, labels_pred, average=None)\n",
        "print('Precision:', precision)\n",
        "recall = recall_score(y_test, labels_pred, average=None)\n",
        "print('Recall:', recall)\n",
        "f1 = f1_score(y_test, labels_pred, average=None)\n",
        "print('F1 score:', f1)\n",
        "\n",
        "auc = roc_auc_score(y_test, labels_pred)\n",
        "print('ROC AUC: %f' % auc)"
      ],
      "execution_count": 74,
      "outputs": [
        {
          "output_type": "stream",
          "text": [
            "Accuracy: 0.926636\n",
            "Precision: [0.91371045 0.93892434]\n",
            "Recall: [0.93431373 0.91964286]\n",
            "F1 score: [0.92389724 0.92918358]\n",
            "ROC AUC: 0.926978\n"
          ],
          "name": "stdout"
        }
      ]
    },
    {
      "cell_type": "markdown",
      "metadata": {
        "id": "k42NHGcLBdrH"
      },
      "source": [
        "I tried to do something fancier than the other models. Especially, I tried to fix the overfitting, something that caused problems while working on this notebook. However, this didn't result in the best model."
      ]
    },
    {
      "cell_type": "markdown",
      "metadata": {
        "id": "ACnM37EoCEeV"
      },
      "source": [
        "# My best model"
      ]
    },
    {
      "cell_type": "code",
      "metadata": {
        "colab": {
          "base_uri": "https://localhost:8080/"
        },
        "id": "wRfqpRXuD1L4",
        "outputId": "29c23fc4-ec27-437e-b30a-5219b6024c45"
      },
      "source": [
        "model = Sequential()\n",
        "model.add(Embedding(10000, 32, input_length=maxlen))\n",
        "model.add(LSTM(32))\n",
        "model.add(Dense(2, activation='softmax'))\n",
        "\n",
        "model.summary()"
      ],
      "execution_count": 75,
      "outputs": [
        {
          "output_type": "stream",
          "text": [
            "Model: \"sequential_9\"\n",
            "_________________________________________________________________\n",
            "Layer (type)                 Output Shape              Param #   \n",
            "=================================================================\n",
            "embedding_9 (Embedding)      (None, 100, 32)           320000    \n",
            "_________________________________________________________________\n",
            "lstm_10 (LSTM)               (None, 32)                8320      \n",
            "_________________________________________________________________\n",
            "dense_10 (Dense)             (None, 2)                 66        \n",
            "=================================================================\n",
            "Total params: 328,386\n",
            "Trainable params: 328,386\n",
            "Non-trainable params: 0\n",
            "_________________________________________________________________\n"
          ],
          "name": "stdout"
        }
      ]
    },
    {
      "cell_type": "code",
      "metadata": {
        "id": "cStvFMtTD1MK"
      },
      "source": [
        "model.load_weights('best_model_3.h5')\n",
        "\n",
        "y_pred = model.predict(X_test).argmax(axis=1)\n",
        "predicted_labels = [y_test.columns[i] for i in y_pred]\n",
        "labels_pred = pd.get_dummies(predicted_labels)"
      ],
      "execution_count": 76,
      "outputs": []
    },
    {
      "cell_type": "code",
      "metadata": {
        "colab": {
          "base_uri": "https://localhost:8080/"
        },
        "id": "AUNdGU-iD1MK",
        "outputId": "d215fe2d-9332-4b50-c9ad-a078cf4b8bbf"
      },
      "source": [
        "accuracy = accuracy_score(y_test, labels_pred)\n",
        "print('Accuracy: %f' % accuracy)\n",
        "precision = precision_score(y_test, labels_pred, average=None)\n",
        "print('Precision:', precision)\n",
        "recall = recall_score(y_test, labels_pred, average=None)\n",
        "print('Recall:', recall)\n",
        "f1 = f1_score(y_test, labels_pred, average=None)\n",
        "print('F1 score:', f1)\n",
        "\n",
        "auc = roc_auc_score(y_test, labels_pred)\n",
        "print('ROC AUC: %f' % auc)"
      ],
      "execution_count": 77,
      "outputs": [
        {
          "output_type": "stream",
          "text": [
            "Accuracy: 0.928505\n",
            "Precision: [0.9172281  0.93914623]\n",
            "Recall: [0.93431373 0.92321429]\n",
            "F1 score: [0.92569208 0.93111211]\n",
            "ROC AUC: 0.928764\n"
          ],
          "name": "stdout"
        }
      ]
    },
    {
      "cell_type": "markdown",
      "metadata": {
        "id": "qX818kYQD4WR"
      },
      "source": [
        "Overall, this has been my best model. I tried different variations of it (trying different initializers, changing optimizers) but nothing increased the F1 score.\n",
        "\n",
        "These models are plenty of hyper-parameters to be tuned. The most evident is the number of neurons per layer. But each layer has an exceptional number of [arguments](https://keras.io/api/layers/recurrent_layers/lstm/) to suit the model to its goal."
      ]
    },
    {
      "cell_type": "markdown",
      "metadata": {
        "id": "koFfNHxAiyAf"
      },
      "source": [
        "# Submitting the best Model"
      ]
    },
    {
      "cell_type": "code",
      "metadata": {
        "id": "Kl2FN0rBm2MO"
      },
      "source": [
        "# install aimodelshare library\n",
        "%%capture\n",
        "! pip install aimodelshare --upgrade --extra-index-url https://test.pypi.org/simple/ "
      ],
      "execution_count": 78,
      "outputs": []
    },
    {
      "cell_type": "code",
      "metadata": {
        "id": "IfoP1dQzGswt"
      },
      "source": [
        "import aimodelshare as ai\n",
        "from aimodelshare.aimsonnx import model_to_onnx"
      ],
      "execution_count": 79,
      "outputs": []
    },
    {
      "cell_type": "code",
      "metadata": {
        "id": "0jvDR6v53mWc"
      },
      "source": [
        "# save preprocessor\n",
        "ai.export_preprocessor(preprocessor,\"\")"
      ],
      "execution_count": 80,
      "outputs": []
    },
    {
      "cell_type": "code",
      "metadata": {
        "id": "GVMTI06jl31A",
        "colab": {
          "base_uri": "https://localhost:8080/"
        },
        "outputId": "632afbb9-981e-48e9-f49c-6e7adcac4c48"
      },
      "source": [
        "# save model in onnx format\n",
        "onnx_model = model_to_onnx(model, framework='keras',\n",
        "                          transfer_learning=False,\n",
        "                          deep_learning=True)\n",
        "\n",
        "with open(\"onnx_model.onnx\", \"wb\") as f:\n",
        "    f.write(onnx_model.SerializeToString())"
      ],
      "execution_count": 81,
      "outputs": [
        {
          "output_type": "stream",
          "text": [
            "WARNING:absl:Found untraced functions such as lstm_cell_16_layer_call_fn, lstm_cell_16_layer_call_and_return_conditional_losses, lstm_cell_16_layer_call_fn, lstm_cell_16_layer_call_and_return_conditional_losses, lstm_cell_16_layer_call_and_return_conditional_losses while saving (showing 5 of 5). These functions will not be directly callable after loading.\n",
            "WARNING:absl:Found untraced functions such as lstm_cell_16_layer_call_fn, lstm_cell_16_layer_call_and_return_conditional_losses, lstm_cell_16_layer_call_fn, lstm_cell_16_layer_call_and_return_conditional_losses, lstm_cell_16_layer_call_and_return_conditional_losses while saving (showing 5 of 5). These functions will not be directly callable after loading.\n"
          ],
          "name": "stderr"
        },
        {
          "output_type": "stream",
          "text": [
            "INFO:tensorflow:Assets written to: /tmp/assets\n"
          ],
          "name": "stdout"
        },
        {
          "output_type": "stream",
          "text": [
            "INFO:tensorflow:Assets written to: /tmp/assets\n"
          ],
          "name": "stderr"
        }
      ]
    },
    {
      "cell_type": "code",
      "metadata": {
        "colab": {
          "base_uri": "https://localhost:8080/"
        },
        "id": "ziwE9Qn9m8dd",
        "outputId": "97acc5d0-e852-4375-bb28-0e664095bd16"
      },
      "source": [
        "# set credentials for modeltoapi function \n",
        "# make sure you have uploaded your credentials.txt file\n",
        "from aimodelshare.aws import set_credentials\n",
        "api_url = \"https://wvr23l2z9i.execute-api.us-east-1.amazonaws.com/prod/m\"\n",
        "\n",
        "set_credentials(apiurl=api_url,credential_file=\"credentials.txt\", type=\"submit_model\", manual=False)"
      ],
      "execution_count": 82,
      "outputs": [
        {
          "output_type": "stream",
          "text": [
            "AI Model Share login credentials set successfully.\n",
            "AWS credentials set successfully.\n"
          ],
          "name": "stdout"
        }
      ]
    },
    {
      "cell_type": "code",
      "metadata": {
        "colab": {
          "base_uri": "https://localhost:8080/",
          "height": 34
        },
        "id": "4vBawsMo6wPs",
        "outputId": "6f4b2529-1414-4723-bc33-10a89149737b"
      },
      "source": [
        "# submit model and predictions to competition\n",
        "ai.submit_model(\"onnx_model.onnx\",\n",
        "                api_url,\n",
        "                prediction_submission=predicted_labels,\n",
        "                preprocessor=\"preprocessor.zip\")"
      ],
      "execution_count": 84,
      "outputs": [
        {
          "output_type": "execute_result",
          "data": {
            "application/vnd.google.colaboratory.intrinsic+json": {
              "type": "string"
            },
            "text/plain": [
              "'Your model has been submitted as model version 82'"
            ]
          },
          "metadata": {
            "tags": []
          },
          "execution_count": 84
        }
      ]
    },
    {
      "cell_type": "code",
      "metadata": {
        "colab": {
          "base_uri": "https://localhost:8080/",
          "height": 1000
        },
        "id": "LoIrB34Ex_Ru",
        "outputId": "aa29f9f4-5c4c-4573-8a38-a228208cd55a"
      },
      "source": [
        "# check leaderboard\n",
        "data=ai.get_leaderboard(api_url, verbose=2)\n",
        "data=data.loc[data.iloc[:,0:8].duplicated()==False,:] #getting rid of any duplicate model submissions\n",
        "data.fillna(0,inplace=True)\n",
        "ai.leaderboard.stylize_leaderboard(data)"
      ],
      "execution_count": 85,
      "outputs": [
        {
          "output_type": "execute_result",
          "data": {
            "text/html": [
              "<style  type=\"text/css\" >\n",
              "#T_58b9e05e_a161_11eb_bbba_0242ac1c0002row0_col0{\n",
              "            text-align:  center;\n",
              "            width:  10em;\n",
              "             height:  80%;\n",
              "            background:  linear-gradient(90deg,#f5f8d6 95.1%, transparent 95.1%);\n",
              "            color:  #251e1b;\n",
              "            font-size:  12px;\n",
              "        }#T_58b9e05e_a161_11eb_bbba_0242ac1c0002row0_col1{\n",
              "            text-align:  center;\n",
              "            width:  10em;\n",
              "             height:  80%;\n",
              "            background:  linear-gradient(90deg,#c778c8 95.1%, transparent 95.1%);\n",
              "            color:  #251e1b;\n",
              "            font-size:  12px;\n",
              "        }#T_58b9e05e_a161_11eb_bbba_0242ac1c0002row0_col2{\n",
              "            text-align:  center;\n",
              "            width:  10em;\n",
              "             height:  80%;\n",
              "            background:  linear-gradient(90deg,#ff4971 95.1%, transparent 95.1%);\n",
              "            color:  #251e1b;\n",
              "            font-size:  12px;\n",
              "        }#T_58b9e05e_a161_11eb_bbba_0242ac1c0002row0_col3{\n",
              "            text-align:  center;\n",
              "            width:  10em;\n",
              "             height:  80%;\n",
              "            background:  linear-gradient(90deg,#aadbaa 95.1%, transparent 95.1%);\n",
              "            color:  #251e1b;\n",
              "            font-size:  12px;\n",
              "        }#T_58b9e05e_a161_11eb_bbba_0242ac1c0002row0_col4,#T_58b9e05e_a161_11eb_bbba_0242ac1c0002row0_col5,#T_58b9e05e_a161_11eb_bbba_0242ac1c0002row0_col6,#T_58b9e05e_a161_11eb_bbba_0242ac1c0002row0_col7,#T_58b9e05e_a161_11eb_bbba_0242ac1c0002row0_col8,#T_58b9e05e_a161_11eb_bbba_0242ac1c0002row0_col9,#T_58b9e05e_a161_11eb_bbba_0242ac1c0002row0_col10,#T_58b9e05e_a161_11eb_bbba_0242ac1c0002row0_col11,#T_58b9e05e_a161_11eb_bbba_0242ac1c0002row0_col12,#T_58b9e05e_a161_11eb_bbba_0242ac1c0002row0_col13,#T_58b9e05e_a161_11eb_bbba_0242ac1c0002row0_col14,#T_58b9e05e_a161_11eb_bbba_0242ac1c0002row0_col15,#T_58b9e05e_a161_11eb_bbba_0242ac1c0002row0_col16,#T_58b9e05e_a161_11eb_bbba_0242ac1c0002row0_col17,#T_58b9e05e_a161_11eb_bbba_0242ac1c0002row0_col18,#T_58b9e05e_a161_11eb_bbba_0242ac1c0002row0_col19,#T_58b9e05e_a161_11eb_bbba_0242ac1c0002row0_col20,#T_58b9e05e_a161_11eb_bbba_0242ac1c0002row0_col21,#T_58b9e05e_a161_11eb_bbba_0242ac1c0002row0_col22,#T_58b9e05e_a161_11eb_bbba_0242ac1c0002row0_col23,#T_58b9e05e_a161_11eb_bbba_0242ac1c0002row1_col4,#T_58b9e05e_a161_11eb_bbba_0242ac1c0002row1_col5,#T_58b9e05e_a161_11eb_bbba_0242ac1c0002row1_col6,#T_58b9e05e_a161_11eb_bbba_0242ac1c0002row1_col7,#T_58b9e05e_a161_11eb_bbba_0242ac1c0002row1_col8,#T_58b9e05e_a161_11eb_bbba_0242ac1c0002row1_col9,#T_58b9e05e_a161_11eb_bbba_0242ac1c0002row1_col10,#T_58b9e05e_a161_11eb_bbba_0242ac1c0002row1_col11,#T_58b9e05e_a161_11eb_bbba_0242ac1c0002row1_col12,#T_58b9e05e_a161_11eb_bbba_0242ac1c0002row1_col13,#T_58b9e05e_a161_11eb_bbba_0242ac1c0002row1_col14,#T_58b9e05e_a161_11eb_bbba_0242ac1c0002row1_col15,#T_58b9e05e_a161_11eb_bbba_0242ac1c0002row1_col16,#T_58b9e05e_a161_11eb_bbba_0242ac1c0002row1_col17,#T_58b9e05e_a161_11eb_bbba_0242ac1c0002row1_col18,#T_58b9e05e_a161_11eb_bbba_0242ac1c0002row1_col19,#T_58b9e05e_a161_11eb_bbba_0242ac1c0002row1_col20,#T_58b9e05e_a161_11eb_bbba_0242ac1c0002row1_col21,#T_58b9e05e_a161_11eb_bbba_0242ac1c0002row1_col22,#T_58b9e05e_a161_11eb_bbba_0242ac1c0002row1_col23,#T_58b9e05e_a161_11eb_bbba_0242ac1c0002row2_col4,#T_58b9e05e_a161_11eb_bbba_0242ac1c0002row2_col5,#T_58b9e05e_a161_11eb_bbba_0242ac1c0002row2_col6,#T_58b9e05e_a161_11eb_bbba_0242ac1c0002row2_col7,#T_58b9e05e_a161_11eb_bbba_0242ac1c0002row2_col8,#T_58b9e05e_a161_11eb_bbba_0242ac1c0002row2_col9,#T_58b9e05e_a161_11eb_bbba_0242ac1c0002row2_col10,#T_58b9e05e_a161_11eb_bbba_0242ac1c0002row2_col11,#T_58b9e05e_a161_11eb_bbba_0242ac1c0002row2_col12,#T_58b9e05e_a161_11eb_bbba_0242ac1c0002row2_col13,#T_58b9e05e_a161_11eb_bbba_0242ac1c0002row2_col14,#T_58b9e05e_a161_11eb_bbba_0242ac1c0002row2_col15,#T_58b9e05e_a161_11eb_bbba_0242ac1c0002row2_col16,#T_58b9e05e_a161_11eb_bbba_0242ac1c0002row2_col17,#T_58b9e05e_a161_11eb_bbba_0242ac1c0002row2_col18,#T_58b9e05e_a161_11eb_bbba_0242ac1c0002row2_col19,#T_58b9e05e_a161_11eb_bbba_0242ac1c0002row2_col20,#T_58b9e05e_a161_11eb_bbba_0242ac1c0002row2_col21,#T_58b9e05e_a161_11eb_bbba_0242ac1c0002row2_col22,#T_58b9e05e_a161_11eb_bbba_0242ac1c0002row2_col23,#T_58b9e05e_a161_11eb_bbba_0242ac1c0002row3_col4,#T_58b9e05e_a161_11eb_bbba_0242ac1c0002row3_col5,#T_58b9e05e_a161_11eb_bbba_0242ac1c0002row3_col6,#T_58b9e05e_a161_11eb_bbba_0242ac1c0002row3_col7,#T_58b9e05e_a161_11eb_bbba_0242ac1c0002row3_col8,#T_58b9e05e_a161_11eb_bbba_0242ac1c0002row3_col9,#T_58b9e05e_a161_11eb_bbba_0242ac1c0002row3_col10,#T_58b9e05e_a161_11eb_bbba_0242ac1c0002row3_col11,#T_58b9e05e_a161_11eb_bbba_0242ac1c0002row3_col12,#T_58b9e05e_a161_11eb_bbba_0242ac1c0002row3_col13,#T_58b9e05e_a161_11eb_bbba_0242ac1c0002row3_col14,#T_58b9e05e_a161_11eb_bbba_0242ac1c0002row3_col15,#T_58b9e05e_a161_11eb_bbba_0242ac1c0002row3_col16,#T_58b9e05e_a161_11eb_bbba_0242ac1c0002row3_col17,#T_58b9e05e_a161_11eb_bbba_0242ac1c0002row3_col18,#T_58b9e05e_a161_11eb_bbba_0242ac1c0002row3_col19,#T_58b9e05e_a161_11eb_bbba_0242ac1c0002row3_col20,#T_58b9e05e_a161_11eb_bbba_0242ac1c0002row3_col21,#T_58b9e05e_a161_11eb_bbba_0242ac1c0002row3_col22,#T_58b9e05e_a161_11eb_bbba_0242ac1c0002row3_col23,#T_58b9e05e_a161_11eb_bbba_0242ac1c0002row4_col4,#T_58b9e05e_a161_11eb_bbba_0242ac1c0002row4_col5,#T_58b9e05e_a161_11eb_bbba_0242ac1c0002row4_col6,#T_58b9e05e_a161_11eb_bbba_0242ac1c0002row4_col7,#T_58b9e05e_a161_11eb_bbba_0242ac1c0002row4_col8,#T_58b9e05e_a161_11eb_bbba_0242ac1c0002row4_col9,#T_58b9e05e_a161_11eb_bbba_0242ac1c0002row4_col10,#T_58b9e05e_a161_11eb_bbba_0242ac1c0002row4_col11,#T_58b9e05e_a161_11eb_bbba_0242ac1c0002row4_col12,#T_58b9e05e_a161_11eb_bbba_0242ac1c0002row4_col13,#T_58b9e05e_a161_11eb_bbba_0242ac1c0002row4_col14,#T_58b9e05e_a161_11eb_bbba_0242ac1c0002row4_col15,#T_58b9e05e_a161_11eb_bbba_0242ac1c0002row4_col16,#T_58b9e05e_a161_11eb_bbba_0242ac1c0002row4_col17,#T_58b9e05e_a161_11eb_bbba_0242ac1c0002row4_col18,#T_58b9e05e_a161_11eb_bbba_0242ac1c0002row4_col19,#T_58b9e05e_a161_11eb_bbba_0242ac1c0002row4_col20,#T_58b9e05e_a161_11eb_bbba_0242ac1c0002row4_col21,#T_58b9e05e_a161_11eb_bbba_0242ac1c0002row4_col22,#T_58b9e05e_a161_11eb_bbba_0242ac1c0002row4_col23,#T_58b9e05e_a161_11eb_bbba_0242ac1c0002row5_col4,#T_58b9e05e_a161_11eb_bbba_0242ac1c0002row5_col5,#T_58b9e05e_a161_11eb_bbba_0242ac1c0002row5_col6,#T_58b9e05e_a161_11eb_bbba_0242ac1c0002row5_col7,#T_58b9e05e_a161_11eb_bbba_0242ac1c0002row5_col8,#T_58b9e05e_a161_11eb_bbba_0242ac1c0002row5_col9,#T_58b9e05e_a161_11eb_bbba_0242ac1c0002row5_col10,#T_58b9e05e_a161_11eb_bbba_0242ac1c0002row5_col11,#T_58b9e05e_a161_11eb_bbba_0242ac1c0002row5_col12,#T_58b9e05e_a161_11eb_bbba_0242ac1c0002row5_col13,#T_58b9e05e_a161_11eb_bbba_0242ac1c0002row5_col14,#T_58b9e05e_a161_11eb_bbba_0242ac1c0002row5_col15,#T_58b9e05e_a161_11eb_bbba_0242ac1c0002row5_col16,#T_58b9e05e_a161_11eb_bbba_0242ac1c0002row5_col17,#T_58b9e05e_a161_11eb_bbba_0242ac1c0002row5_col18,#T_58b9e05e_a161_11eb_bbba_0242ac1c0002row5_col19,#T_58b9e05e_a161_11eb_bbba_0242ac1c0002row5_col20,#T_58b9e05e_a161_11eb_bbba_0242ac1c0002row5_col21,#T_58b9e05e_a161_11eb_bbba_0242ac1c0002row5_col22,#T_58b9e05e_a161_11eb_bbba_0242ac1c0002row5_col23,#T_58b9e05e_a161_11eb_bbba_0242ac1c0002row6_col4,#T_58b9e05e_a161_11eb_bbba_0242ac1c0002row6_col5,#T_58b9e05e_a161_11eb_bbba_0242ac1c0002row6_col6,#T_58b9e05e_a161_11eb_bbba_0242ac1c0002row6_col7,#T_58b9e05e_a161_11eb_bbba_0242ac1c0002row6_col8,#T_58b9e05e_a161_11eb_bbba_0242ac1c0002row6_col9,#T_58b9e05e_a161_11eb_bbba_0242ac1c0002row6_col10,#T_58b9e05e_a161_11eb_bbba_0242ac1c0002row6_col11,#T_58b9e05e_a161_11eb_bbba_0242ac1c0002row6_col12,#T_58b9e05e_a161_11eb_bbba_0242ac1c0002row6_col13,#T_58b9e05e_a161_11eb_bbba_0242ac1c0002row6_col14,#T_58b9e05e_a161_11eb_bbba_0242ac1c0002row6_col15,#T_58b9e05e_a161_11eb_bbba_0242ac1c0002row6_col16,#T_58b9e05e_a161_11eb_bbba_0242ac1c0002row6_col17,#T_58b9e05e_a161_11eb_bbba_0242ac1c0002row6_col18,#T_58b9e05e_a161_11eb_bbba_0242ac1c0002row6_col19,#T_58b9e05e_a161_11eb_bbba_0242ac1c0002row6_col20,#T_58b9e05e_a161_11eb_bbba_0242ac1c0002row6_col21,#T_58b9e05e_a161_11eb_bbba_0242ac1c0002row6_col22,#T_58b9e05e_a161_11eb_bbba_0242ac1c0002row6_col23,#T_58b9e05e_a161_11eb_bbba_0242ac1c0002row7_col4,#T_58b9e05e_a161_11eb_bbba_0242ac1c0002row7_col5,#T_58b9e05e_a161_11eb_bbba_0242ac1c0002row7_col6,#T_58b9e05e_a161_11eb_bbba_0242ac1c0002row7_col7,#T_58b9e05e_a161_11eb_bbba_0242ac1c0002row7_col8,#T_58b9e05e_a161_11eb_bbba_0242ac1c0002row7_col9,#T_58b9e05e_a161_11eb_bbba_0242ac1c0002row7_col10,#T_58b9e05e_a161_11eb_bbba_0242ac1c0002row7_col11,#T_58b9e05e_a161_11eb_bbba_0242ac1c0002row7_col12,#T_58b9e05e_a161_11eb_bbba_0242ac1c0002row7_col13,#T_58b9e05e_a161_11eb_bbba_0242ac1c0002row7_col14,#T_58b9e05e_a161_11eb_bbba_0242ac1c0002row7_col15,#T_58b9e05e_a161_11eb_bbba_0242ac1c0002row7_col16,#T_58b9e05e_a161_11eb_bbba_0242ac1c0002row7_col17,#T_58b9e05e_a161_11eb_bbba_0242ac1c0002row7_col18,#T_58b9e05e_a161_11eb_bbba_0242ac1c0002row7_col19,#T_58b9e05e_a161_11eb_bbba_0242ac1c0002row7_col20,#T_58b9e05e_a161_11eb_bbba_0242ac1c0002row7_col21,#T_58b9e05e_a161_11eb_bbba_0242ac1c0002row7_col22,#T_58b9e05e_a161_11eb_bbba_0242ac1c0002row7_col23,#T_58b9e05e_a161_11eb_bbba_0242ac1c0002row8_col4,#T_58b9e05e_a161_11eb_bbba_0242ac1c0002row8_col5,#T_58b9e05e_a161_11eb_bbba_0242ac1c0002row8_col6,#T_58b9e05e_a161_11eb_bbba_0242ac1c0002row8_col7,#T_58b9e05e_a161_11eb_bbba_0242ac1c0002row8_col8,#T_58b9e05e_a161_11eb_bbba_0242ac1c0002row8_col9,#T_58b9e05e_a161_11eb_bbba_0242ac1c0002row8_col10,#T_58b9e05e_a161_11eb_bbba_0242ac1c0002row8_col11,#T_58b9e05e_a161_11eb_bbba_0242ac1c0002row8_col12,#T_58b9e05e_a161_11eb_bbba_0242ac1c0002row8_col13,#T_58b9e05e_a161_11eb_bbba_0242ac1c0002row8_col14,#T_58b9e05e_a161_11eb_bbba_0242ac1c0002row8_col15,#T_58b9e05e_a161_11eb_bbba_0242ac1c0002row8_col16,#T_58b9e05e_a161_11eb_bbba_0242ac1c0002row8_col17,#T_58b9e05e_a161_11eb_bbba_0242ac1c0002row8_col18,#T_58b9e05e_a161_11eb_bbba_0242ac1c0002row8_col19,#T_58b9e05e_a161_11eb_bbba_0242ac1c0002row8_col20,#T_58b9e05e_a161_11eb_bbba_0242ac1c0002row8_col21,#T_58b9e05e_a161_11eb_bbba_0242ac1c0002row8_col22,#T_58b9e05e_a161_11eb_bbba_0242ac1c0002row8_col23,#T_58b9e05e_a161_11eb_bbba_0242ac1c0002row9_col4,#T_58b9e05e_a161_11eb_bbba_0242ac1c0002row9_col5,#T_58b9e05e_a161_11eb_bbba_0242ac1c0002row9_col6,#T_58b9e05e_a161_11eb_bbba_0242ac1c0002row9_col7,#T_58b9e05e_a161_11eb_bbba_0242ac1c0002row9_col8,#T_58b9e05e_a161_11eb_bbba_0242ac1c0002row9_col9,#T_58b9e05e_a161_11eb_bbba_0242ac1c0002row9_col10,#T_58b9e05e_a161_11eb_bbba_0242ac1c0002row9_col11,#T_58b9e05e_a161_11eb_bbba_0242ac1c0002row9_col12,#T_58b9e05e_a161_11eb_bbba_0242ac1c0002row9_col13,#T_58b9e05e_a161_11eb_bbba_0242ac1c0002row9_col14,#T_58b9e05e_a161_11eb_bbba_0242ac1c0002row9_col15,#T_58b9e05e_a161_11eb_bbba_0242ac1c0002row9_col16,#T_58b9e05e_a161_11eb_bbba_0242ac1c0002row9_col17,#T_58b9e05e_a161_11eb_bbba_0242ac1c0002row9_col18,#T_58b9e05e_a161_11eb_bbba_0242ac1c0002row9_col19,#T_58b9e05e_a161_11eb_bbba_0242ac1c0002row9_col20,#T_58b9e05e_a161_11eb_bbba_0242ac1c0002row9_col21,#T_58b9e05e_a161_11eb_bbba_0242ac1c0002row9_col22,#T_58b9e05e_a161_11eb_bbba_0242ac1c0002row9_col23,#T_58b9e05e_a161_11eb_bbba_0242ac1c0002row10_col4,#T_58b9e05e_a161_11eb_bbba_0242ac1c0002row10_col5,#T_58b9e05e_a161_11eb_bbba_0242ac1c0002row10_col6,#T_58b9e05e_a161_11eb_bbba_0242ac1c0002row10_col7,#T_58b9e05e_a161_11eb_bbba_0242ac1c0002row10_col8,#T_58b9e05e_a161_11eb_bbba_0242ac1c0002row10_col9,#T_58b9e05e_a161_11eb_bbba_0242ac1c0002row10_col10,#T_58b9e05e_a161_11eb_bbba_0242ac1c0002row10_col11,#T_58b9e05e_a161_11eb_bbba_0242ac1c0002row10_col12,#T_58b9e05e_a161_11eb_bbba_0242ac1c0002row10_col13,#T_58b9e05e_a161_11eb_bbba_0242ac1c0002row10_col14,#T_58b9e05e_a161_11eb_bbba_0242ac1c0002row10_col15,#T_58b9e05e_a161_11eb_bbba_0242ac1c0002row10_col16,#T_58b9e05e_a161_11eb_bbba_0242ac1c0002row10_col17,#T_58b9e05e_a161_11eb_bbba_0242ac1c0002row10_col18,#T_58b9e05e_a161_11eb_bbba_0242ac1c0002row10_col19,#T_58b9e05e_a161_11eb_bbba_0242ac1c0002row10_col20,#T_58b9e05e_a161_11eb_bbba_0242ac1c0002row10_col21,#T_58b9e05e_a161_11eb_bbba_0242ac1c0002row10_col22,#T_58b9e05e_a161_11eb_bbba_0242ac1c0002row10_col23,#T_58b9e05e_a161_11eb_bbba_0242ac1c0002row11_col4,#T_58b9e05e_a161_11eb_bbba_0242ac1c0002row11_col5,#T_58b9e05e_a161_11eb_bbba_0242ac1c0002row11_col6,#T_58b9e05e_a161_11eb_bbba_0242ac1c0002row11_col7,#T_58b9e05e_a161_11eb_bbba_0242ac1c0002row11_col8,#T_58b9e05e_a161_11eb_bbba_0242ac1c0002row11_col9,#T_58b9e05e_a161_11eb_bbba_0242ac1c0002row11_col10,#T_58b9e05e_a161_11eb_bbba_0242ac1c0002row11_col11,#T_58b9e05e_a161_11eb_bbba_0242ac1c0002row11_col12,#T_58b9e05e_a161_11eb_bbba_0242ac1c0002row11_col13,#T_58b9e05e_a161_11eb_bbba_0242ac1c0002row11_col14,#T_58b9e05e_a161_11eb_bbba_0242ac1c0002row11_col15,#T_58b9e05e_a161_11eb_bbba_0242ac1c0002row11_col16,#T_58b9e05e_a161_11eb_bbba_0242ac1c0002row11_col17,#T_58b9e05e_a161_11eb_bbba_0242ac1c0002row11_col18,#T_58b9e05e_a161_11eb_bbba_0242ac1c0002row11_col19,#T_58b9e05e_a161_11eb_bbba_0242ac1c0002row11_col20,#T_58b9e05e_a161_11eb_bbba_0242ac1c0002row11_col21,#T_58b9e05e_a161_11eb_bbba_0242ac1c0002row11_col22,#T_58b9e05e_a161_11eb_bbba_0242ac1c0002row11_col23,#T_58b9e05e_a161_11eb_bbba_0242ac1c0002row12_col4,#T_58b9e05e_a161_11eb_bbba_0242ac1c0002row12_col5,#T_58b9e05e_a161_11eb_bbba_0242ac1c0002row12_col6,#T_58b9e05e_a161_11eb_bbba_0242ac1c0002row12_col7,#T_58b9e05e_a161_11eb_bbba_0242ac1c0002row12_col8,#T_58b9e05e_a161_11eb_bbba_0242ac1c0002row12_col9,#T_58b9e05e_a161_11eb_bbba_0242ac1c0002row12_col10,#T_58b9e05e_a161_11eb_bbba_0242ac1c0002row12_col11,#T_58b9e05e_a161_11eb_bbba_0242ac1c0002row12_col12,#T_58b9e05e_a161_11eb_bbba_0242ac1c0002row12_col13,#T_58b9e05e_a161_11eb_bbba_0242ac1c0002row12_col14,#T_58b9e05e_a161_11eb_bbba_0242ac1c0002row12_col15,#T_58b9e05e_a161_11eb_bbba_0242ac1c0002row12_col16,#T_58b9e05e_a161_11eb_bbba_0242ac1c0002row12_col17,#T_58b9e05e_a161_11eb_bbba_0242ac1c0002row12_col18,#T_58b9e05e_a161_11eb_bbba_0242ac1c0002row12_col19,#T_58b9e05e_a161_11eb_bbba_0242ac1c0002row12_col20,#T_58b9e05e_a161_11eb_bbba_0242ac1c0002row12_col21,#T_58b9e05e_a161_11eb_bbba_0242ac1c0002row12_col22,#T_58b9e05e_a161_11eb_bbba_0242ac1c0002row12_col23,#T_58b9e05e_a161_11eb_bbba_0242ac1c0002row13_col4,#T_58b9e05e_a161_11eb_bbba_0242ac1c0002row13_col5,#T_58b9e05e_a161_11eb_bbba_0242ac1c0002row13_col6,#T_58b9e05e_a161_11eb_bbba_0242ac1c0002row13_col7,#T_58b9e05e_a161_11eb_bbba_0242ac1c0002row13_col8,#T_58b9e05e_a161_11eb_bbba_0242ac1c0002row13_col9,#T_58b9e05e_a161_11eb_bbba_0242ac1c0002row13_col10,#T_58b9e05e_a161_11eb_bbba_0242ac1c0002row13_col11,#T_58b9e05e_a161_11eb_bbba_0242ac1c0002row13_col12,#T_58b9e05e_a161_11eb_bbba_0242ac1c0002row13_col13,#T_58b9e05e_a161_11eb_bbba_0242ac1c0002row13_col14,#T_58b9e05e_a161_11eb_bbba_0242ac1c0002row13_col15,#T_58b9e05e_a161_11eb_bbba_0242ac1c0002row13_col16,#T_58b9e05e_a161_11eb_bbba_0242ac1c0002row13_col17,#T_58b9e05e_a161_11eb_bbba_0242ac1c0002row13_col18,#T_58b9e05e_a161_11eb_bbba_0242ac1c0002row13_col19,#T_58b9e05e_a161_11eb_bbba_0242ac1c0002row13_col20,#T_58b9e05e_a161_11eb_bbba_0242ac1c0002row13_col21,#T_58b9e05e_a161_11eb_bbba_0242ac1c0002row13_col22,#T_58b9e05e_a161_11eb_bbba_0242ac1c0002row13_col23,#T_58b9e05e_a161_11eb_bbba_0242ac1c0002row14_col4,#T_58b9e05e_a161_11eb_bbba_0242ac1c0002row14_col5,#T_58b9e05e_a161_11eb_bbba_0242ac1c0002row14_col6,#T_58b9e05e_a161_11eb_bbba_0242ac1c0002row14_col7,#T_58b9e05e_a161_11eb_bbba_0242ac1c0002row14_col8,#T_58b9e05e_a161_11eb_bbba_0242ac1c0002row14_col9,#T_58b9e05e_a161_11eb_bbba_0242ac1c0002row14_col10,#T_58b9e05e_a161_11eb_bbba_0242ac1c0002row14_col11,#T_58b9e05e_a161_11eb_bbba_0242ac1c0002row14_col12,#T_58b9e05e_a161_11eb_bbba_0242ac1c0002row14_col13,#T_58b9e05e_a161_11eb_bbba_0242ac1c0002row14_col14,#T_58b9e05e_a161_11eb_bbba_0242ac1c0002row14_col15,#T_58b9e05e_a161_11eb_bbba_0242ac1c0002row14_col16,#T_58b9e05e_a161_11eb_bbba_0242ac1c0002row14_col17,#T_58b9e05e_a161_11eb_bbba_0242ac1c0002row14_col18,#T_58b9e05e_a161_11eb_bbba_0242ac1c0002row14_col19,#T_58b9e05e_a161_11eb_bbba_0242ac1c0002row14_col20,#T_58b9e05e_a161_11eb_bbba_0242ac1c0002row14_col21,#T_58b9e05e_a161_11eb_bbba_0242ac1c0002row14_col22,#T_58b9e05e_a161_11eb_bbba_0242ac1c0002row14_col23,#T_58b9e05e_a161_11eb_bbba_0242ac1c0002row15_col4,#T_58b9e05e_a161_11eb_bbba_0242ac1c0002row15_col5,#T_58b9e05e_a161_11eb_bbba_0242ac1c0002row15_col6,#T_58b9e05e_a161_11eb_bbba_0242ac1c0002row15_col7,#T_58b9e05e_a161_11eb_bbba_0242ac1c0002row15_col8,#T_58b9e05e_a161_11eb_bbba_0242ac1c0002row15_col9,#T_58b9e05e_a161_11eb_bbba_0242ac1c0002row15_col10,#T_58b9e05e_a161_11eb_bbba_0242ac1c0002row15_col11,#T_58b9e05e_a161_11eb_bbba_0242ac1c0002row15_col12,#T_58b9e05e_a161_11eb_bbba_0242ac1c0002row15_col13,#T_58b9e05e_a161_11eb_bbba_0242ac1c0002row15_col14,#T_58b9e05e_a161_11eb_bbba_0242ac1c0002row15_col15,#T_58b9e05e_a161_11eb_bbba_0242ac1c0002row15_col16,#T_58b9e05e_a161_11eb_bbba_0242ac1c0002row15_col17,#T_58b9e05e_a161_11eb_bbba_0242ac1c0002row15_col18,#T_58b9e05e_a161_11eb_bbba_0242ac1c0002row15_col19,#T_58b9e05e_a161_11eb_bbba_0242ac1c0002row15_col20,#T_58b9e05e_a161_11eb_bbba_0242ac1c0002row15_col21,#T_58b9e05e_a161_11eb_bbba_0242ac1c0002row15_col22,#T_58b9e05e_a161_11eb_bbba_0242ac1c0002row15_col23,#T_58b9e05e_a161_11eb_bbba_0242ac1c0002row16_col4,#T_58b9e05e_a161_11eb_bbba_0242ac1c0002row16_col5,#T_58b9e05e_a161_11eb_bbba_0242ac1c0002row16_col6,#T_58b9e05e_a161_11eb_bbba_0242ac1c0002row16_col7,#T_58b9e05e_a161_11eb_bbba_0242ac1c0002row16_col8,#T_58b9e05e_a161_11eb_bbba_0242ac1c0002row16_col9,#T_58b9e05e_a161_11eb_bbba_0242ac1c0002row16_col10,#T_58b9e05e_a161_11eb_bbba_0242ac1c0002row16_col11,#T_58b9e05e_a161_11eb_bbba_0242ac1c0002row16_col12,#T_58b9e05e_a161_11eb_bbba_0242ac1c0002row16_col13,#T_58b9e05e_a161_11eb_bbba_0242ac1c0002row16_col14,#T_58b9e05e_a161_11eb_bbba_0242ac1c0002row16_col15,#T_58b9e05e_a161_11eb_bbba_0242ac1c0002row16_col16,#T_58b9e05e_a161_11eb_bbba_0242ac1c0002row16_col17,#T_58b9e05e_a161_11eb_bbba_0242ac1c0002row16_col18,#T_58b9e05e_a161_11eb_bbba_0242ac1c0002row16_col19,#T_58b9e05e_a161_11eb_bbba_0242ac1c0002row16_col20,#T_58b9e05e_a161_11eb_bbba_0242ac1c0002row16_col21,#T_58b9e05e_a161_11eb_bbba_0242ac1c0002row16_col22,#T_58b9e05e_a161_11eb_bbba_0242ac1c0002row16_col23,#T_58b9e05e_a161_11eb_bbba_0242ac1c0002row17_col4,#T_58b9e05e_a161_11eb_bbba_0242ac1c0002row17_col5,#T_58b9e05e_a161_11eb_bbba_0242ac1c0002row17_col6,#T_58b9e05e_a161_11eb_bbba_0242ac1c0002row17_col7,#T_58b9e05e_a161_11eb_bbba_0242ac1c0002row17_col8,#T_58b9e05e_a161_11eb_bbba_0242ac1c0002row17_col9,#T_58b9e05e_a161_11eb_bbba_0242ac1c0002row17_col10,#T_58b9e05e_a161_11eb_bbba_0242ac1c0002row17_col11,#T_58b9e05e_a161_11eb_bbba_0242ac1c0002row17_col12,#T_58b9e05e_a161_11eb_bbba_0242ac1c0002row17_col13,#T_58b9e05e_a161_11eb_bbba_0242ac1c0002row17_col14,#T_58b9e05e_a161_11eb_bbba_0242ac1c0002row17_col15,#T_58b9e05e_a161_11eb_bbba_0242ac1c0002row17_col16,#T_58b9e05e_a161_11eb_bbba_0242ac1c0002row17_col17,#T_58b9e05e_a161_11eb_bbba_0242ac1c0002row17_col18,#T_58b9e05e_a161_11eb_bbba_0242ac1c0002row17_col19,#T_58b9e05e_a161_11eb_bbba_0242ac1c0002row17_col20,#T_58b9e05e_a161_11eb_bbba_0242ac1c0002row17_col21,#T_58b9e05e_a161_11eb_bbba_0242ac1c0002row17_col22,#T_58b9e05e_a161_11eb_bbba_0242ac1c0002row17_col23,#T_58b9e05e_a161_11eb_bbba_0242ac1c0002row18_col4,#T_58b9e05e_a161_11eb_bbba_0242ac1c0002row18_col5,#T_58b9e05e_a161_11eb_bbba_0242ac1c0002row18_col6,#T_58b9e05e_a161_11eb_bbba_0242ac1c0002row18_col7,#T_58b9e05e_a161_11eb_bbba_0242ac1c0002row18_col8,#T_58b9e05e_a161_11eb_bbba_0242ac1c0002row18_col9,#T_58b9e05e_a161_11eb_bbba_0242ac1c0002row18_col10,#T_58b9e05e_a161_11eb_bbba_0242ac1c0002row18_col11,#T_58b9e05e_a161_11eb_bbba_0242ac1c0002row18_col12,#T_58b9e05e_a161_11eb_bbba_0242ac1c0002row18_col13,#T_58b9e05e_a161_11eb_bbba_0242ac1c0002row18_col14,#T_58b9e05e_a161_11eb_bbba_0242ac1c0002row18_col15,#T_58b9e05e_a161_11eb_bbba_0242ac1c0002row18_col16,#T_58b9e05e_a161_11eb_bbba_0242ac1c0002row18_col17,#T_58b9e05e_a161_11eb_bbba_0242ac1c0002row18_col18,#T_58b9e05e_a161_11eb_bbba_0242ac1c0002row18_col19,#T_58b9e05e_a161_11eb_bbba_0242ac1c0002row18_col20,#T_58b9e05e_a161_11eb_bbba_0242ac1c0002row18_col21,#T_58b9e05e_a161_11eb_bbba_0242ac1c0002row18_col22,#T_58b9e05e_a161_11eb_bbba_0242ac1c0002row18_col23,#T_58b9e05e_a161_11eb_bbba_0242ac1c0002row19_col4,#T_58b9e05e_a161_11eb_bbba_0242ac1c0002row19_col5,#T_58b9e05e_a161_11eb_bbba_0242ac1c0002row19_col6,#T_58b9e05e_a161_11eb_bbba_0242ac1c0002row19_col7,#T_58b9e05e_a161_11eb_bbba_0242ac1c0002row19_col8,#T_58b9e05e_a161_11eb_bbba_0242ac1c0002row19_col9,#T_58b9e05e_a161_11eb_bbba_0242ac1c0002row19_col10,#T_58b9e05e_a161_11eb_bbba_0242ac1c0002row19_col11,#T_58b9e05e_a161_11eb_bbba_0242ac1c0002row19_col12,#T_58b9e05e_a161_11eb_bbba_0242ac1c0002row19_col13,#T_58b9e05e_a161_11eb_bbba_0242ac1c0002row19_col14,#T_58b9e05e_a161_11eb_bbba_0242ac1c0002row19_col15,#T_58b9e05e_a161_11eb_bbba_0242ac1c0002row19_col16,#T_58b9e05e_a161_11eb_bbba_0242ac1c0002row19_col17,#T_58b9e05e_a161_11eb_bbba_0242ac1c0002row19_col18,#T_58b9e05e_a161_11eb_bbba_0242ac1c0002row19_col19,#T_58b9e05e_a161_11eb_bbba_0242ac1c0002row19_col20,#T_58b9e05e_a161_11eb_bbba_0242ac1c0002row19_col21,#T_58b9e05e_a161_11eb_bbba_0242ac1c0002row19_col22,#T_58b9e05e_a161_11eb_bbba_0242ac1c0002row19_col23,#T_58b9e05e_a161_11eb_bbba_0242ac1c0002row20_col4,#T_58b9e05e_a161_11eb_bbba_0242ac1c0002row20_col5,#T_58b9e05e_a161_11eb_bbba_0242ac1c0002row20_col6,#T_58b9e05e_a161_11eb_bbba_0242ac1c0002row20_col7,#T_58b9e05e_a161_11eb_bbba_0242ac1c0002row20_col8,#T_58b9e05e_a161_11eb_bbba_0242ac1c0002row20_col9,#T_58b9e05e_a161_11eb_bbba_0242ac1c0002row20_col10,#T_58b9e05e_a161_11eb_bbba_0242ac1c0002row20_col11,#T_58b9e05e_a161_11eb_bbba_0242ac1c0002row20_col12,#T_58b9e05e_a161_11eb_bbba_0242ac1c0002row20_col13,#T_58b9e05e_a161_11eb_bbba_0242ac1c0002row20_col14,#T_58b9e05e_a161_11eb_bbba_0242ac1c0002row20_col15,#T_58b9e05e_a161_11eb_bbba_0242ac1c0002row20_col16,#T_58b9e05e_a161_11eb_bbba_0242ac1c0002row20_col17,#T_58b9e05e_a161_11eb_bbba_0242ac1c0002row20_col18,#T_58b9e05e_a161_11eb_bbba_0242ac1c0002row20_col19,#T_58b9e05e_a161_11eb_bbba_0242ac1c0002row20_col20,#T_58b9e05e_a161_11eb_bbba_0242ac1c0002row20_col21,#T_58b9e05e_a161_11eb_bbba_0242ac1c0002row20_col22,#T_58b9e05e_a161_11eb_bbba_0242ac1c0002row20_col23,#T_58b9e05e_a161_11eb_bbba_0242ac1c0002row21_col4,#T_58b9e05e_a161_11eb_bbba_0242ac1c0002row21_col5,#T_58b9e05e_a161_11eb_bbba_0242ac1c0002row21_col6,#T_58b9e05e_a161_11eb_bbba_0242ac1c0002row21_col7,#T_58b9e05e_a161_11eb_bbba_0242ac1c0002row21_col8,#T_58b9e05e_a161_11eb_bbba_0242ac1c0002row21_col9,#T_58b9e05e_a161_11eb_bbba_0242ac1c0002row21_col10,#T_58b9e05e_a161_11eb_bbba_0242ac1c0002row21_col11,#T_58b9e05e_a161_11eb_bbba_0242ac1c0002row21_col12,#T_58b9e05e_a161_11eb_bbba_0242ac1c0002row21_col13,#T_58b9e05e_a161_11eb_bbba_0242ac1c0002row21_col14,#T_58b9e05e_a161_11eb_bbba_0242ac1c0002row21_col15,#T_58b9e05e_a161_11eb_bbba_0242ac1c0002row21_col16,#T_58b9e05e_a161_11eb_bbba_0242ac1c0002row21_col17,#T_58b9e05e_a161_11eb_bbba_0242ac1c0002row21_col18,#T_58b9e05e_a161_11eb_bbba_0242ac1c0002row21_col19,#T_58b9e05e_a161_11eb_bbba_0242ac1c0002row21_col20,#T_58b9e05e_a161_11eb_bbba_0242ac1c0002row21_col21,#T_58b9e05e_a161_11eb_bbba_0242ac1c0002row21_col22,#T_58b9e05e_a161_11eb_bbba_0242ac1c0002row21_col23,#T_58b9e05e_a161_11eb_bbba_0242ac1c0002row22_col4,#T_58b9e05e_a161_11eb_bbba_0242ac1c0002row22_col5,#T_58b9e05e_a161_11eb_bbba_0242ac1c0002row22_col6,#T_58b9e05e_a161_11eb_bbba_0242ac1c0002row22_col7,#T_58b9e05e_a161_11eb_bbba_0242ac1c0002row22_col8,#T_58b9e05e_a161_11eb_bbba_0242ac1c0002row22_col9,#T_58b9e05e_a161_11eb_bbba_0242ac1c0002row22_col10,#T_58b9e05e_a161_11eb_bbba_0242ac1c0002row22_col11,#T_58b9e05e_a161_11eb_bbba_0242ac1c0002row22_col12,#T_58b9e05e_a161_11eb_bbba_0242ac1c0002row22_col13,#T_58b9e05e_a161_11eb_bbba_0242ac1c0002row22_col14,#T_58b9e05e_a161_11eb_bbba_0242ac1c0002row22_col15,#T_58b9e05e_a161_11eb_bbba_0242ac1c0002row22_col16,#T_58b9e05e_a161_11eb_bbba_0242ac1c0002row22_col17,#T_58b9e05e_a161_11eb_bbba_0242ac1c0002row22_col18,#T_58b9e05e_a161_11eb_bbba_0242ac1c0002row22_col19,#T_58b9e05e_a161_11eb_bbba_0242ac1c0002row22_col20,#T_58b9e05e_a161_11eb_bbba_0242ac1c0002row22_col21,#T_58b9e05e_a161_11eb_bbba_0242ac1c0002row22_col22,#T_58b9e05e_a161_11eb_bbba_0242ac1c0002row22_col23,#T_58b9e05e_a161_11eb_bbba_0242ac1c0002row23_col4,#T_58b9e05e_a161_11eb_bbba_0242ac1c0002row23_col5,#T_58b9e05e_a161_11eb_bbba_0242ac1c0002row23_col6,#T_58b9e05e_a161_11eb_bbba_0242ac1c0002row23_col7,#T_58b9e05e_a161_11eb_bbba_0242ac1c0002row23_col8,#T_58b9e05e_a161_11eb_bbba_0242ac1c0002row23_col9,#T_58b9e05e_a161_11eb_bbba_0242ac1c0002row23_col10,#T_58b9e05e_a161_11eb_bbba_0242ac1c0002row23_col11,#T_58b9e05e_a161_11eb_bbba_0242ac1c0002row23_col12,#T_58b9e05e_a161_11eb_bbba_0242ac1c0002row23_col13,#T_58b9e05e_a161_11eb_bbba_0242ac1c0002row23_col14,#T_58b9e05e_a161_11eb_bbba_0242ac1c0002row23_col15,#T_58b9e05e_a161_11eb_bbba_0242ac1c0002row23_col16,#T_58b9e05e_a161_11eb_bbba_0242ac1c0002row23_col17,#T_58b9e05e_a161_11eb_bbba_0242ac1c0002row23_col18,#T_58b9e05e_a161_11eb_bbba_0242ac1c0002row23_col19,#T_58b9e05e_a161_11eb_bbba_0242ac1c0002row23_col20,#T_58b9e05e_a161_11eb_bbba_0242ac1c0002row23_col21,#T_58b9e05e_a161_11eb_bbba_0242ac1c0002row23_col22,#T_58b9e05e_a161_11eb_bbba_0242ac1c0002row23_col23,#T_58b9e05e_a161_11eb_bbba_0242ac1c0002row24_col4,#T_58b9e05e_a161_11eb_bbba_0242ac1c0002row24_col5,#T_58b9e05e_a161_11eb_bbba_0242ac1c0002row24_col6,#T_58b9e05e_a161_11eb_bbba_0242ac1c0002row24_col7,#T_58b9e05e_a161_11eb_bbba_0242ac1c0002row24_col8,#T_58b9e05e_a161_11eb_bbba_0242ac1c0002row24_col9,#T_58b9e05e_a161_11eb_bbba_0242ac1c0002row24_col10,#T_58b9e05e_a161_11eb_bbba_0242ac1c0002row24_col11,#T_58b9e05e_a161_11eb_bbba_0242ac1c0002row24_col12,#T_58b9e05e_a161_11eb_bbba_0242ac1c0002row24_col13,#T_58b9e05e_a161_11eb_bbba_0242ac1c0002row24_col14,#T_58b9e05e_a161_11eb_bbba_0242ac1c0002row24_col15,#T_58b9e05e_a161_11eb_bbba_0242ac1c0002row24_col16,#T_58b9e05e_a161_11eb_bbba_0242ac1c0002row24_col17,#T_58b9e05e_a161_11eb_bbba_0242ac1c0002row24_col18,#T_58b9e05e_a161_11eb_bbba_0242ac1c0002row24_col19,#T_58b9e05e_a161_11eb_bbba_0242ac1c0002row24_col20,#T_58b9e05e_a161_11eb_bbba_0242ac1c0002row24_col21,#T_58b9e05e_a161_11eb_bbba_0242ac1c0002row24_col22,#T_58b9e05e_a161_11eb_bbba_0242ac1c0002row24_col23,#T_58b9e05e_a161_11eb_bbba_0242ac1c0002row25_col4,#T_58b9e05e_a161_11eb_bbba_0242ac1c0002row25_col5,#T_58b9e05e_a161_11eb_bbba_0242ac1c0002row25_col6,#T_58b9e05e_a161_11eb_bbba_0242ac1c0002row25_col7,#T_58b9e05e_a161_11eb_bbba_0242ac1c0002row25_col8,#T_58b9e05e_a161_11eb_bbba_0242ac1c0002row25_col9,#T_58b9e05e_a161_11eb_bbba_0242ac1c0002row25_col10,#T_58b9e05e_a161_11eb_bbba_0242ac1c0002row25_col11,#T_58b9e05e_a161_11eb_bbba_0242ac1c0002row25_col12,#T_58b9e05e_a161_11eb_bbba_0242ac1c0002row25_col13,#T_58b9e05e_a161_11eb_bbba_0242ac1c0002row25_col14,#T_58b9e05e_a161_11eb_bbba_0242ac1c0002row25_col15,#T_58b9e05e_a161_11eb_bbba_0242ac1c0002row25_col16,#T_58b9e05e_a161_11eb_bbba_0242ac1c0002row25_col17,#T_58b9e05e_a161_11eb_bbba_0242ac1c0002row25_col18,#T_58b9e05e_a161_11eb_bbba_0242ac1c0002row25_col19,#T_58b9e05e_a161_11eb_bbba_0242ac1c0002row25_col20,#T_58b9e05e_a161_11eb_bbba_0242ac1c0002row25_col21,#T_58b9e05e_a161_11eb_bbba_0242ac1c0002row25_col22,#T_58b9e05e_a161_11eb_bbba_0242ac1c0002row25_col23,#T_58b9e05e_a161_11eb_bbba_0242ac1c0002row26_col4,#T_58b9e05e_a161_11eb_bbba_0242ac1c0002row26_col5,#T_58b9e05e_a161_11eb_bbba_0242ac1c0002row26_col6,#T_58b9e05e_a161_11eb_bbba_0242ac1c0002row26_col7,#T_58b9e05e_a161_11eb_bbba_0242ac1c0002row26_col8,#T_58b9e05e_a161_11eb_bbba_0242ac1c0002row26_col9,#T_58b9e05e_a161_11eb_bbba_0242ac1c0002row26_col10,#T_58b9e05e_a161_11eb_bbba_0242ac1c0002row26_col11,#T_58b9e05e_a161_11eb_bbba_0242ac1c0002row26_col12,#T_58b9e05e_a161_11eb_bbba_0242ac1c0002row26_col13,#T_58b9e05e_a161_11eb_bbba_0242ac1c0002row26_col14,#T_58b9e05e_a161_11eb_bbba_0242ac1c0002row26_col15,#T_58b9e05e_a161_11eb_bbba_0242ac1c0002row26_col16,#T_58b9e05e_a161_11eb_bbba_0242ac1c0002row26_col17,#T_58b9e05e_a161_11eb_bbba_0242ac1c0002row26_col18,#T_58b9e05e_a161_11eb_bbba_0242ac1c0002row26_col19,#T_58b9e05e_a161_11eb_bbba_0242ac1c0002row26_col20,#T_58b9e05e_a161_11eb_bbba_0242ac1c0002row26_col21,#T_58b9e05e_a161_11eb_bbba_0242ac1c0002row26_col22,#T_58b9e05e_a161_11eb_bbba_0242ac1c0002row26_col23,#T_58b9e05e_a161_11eb_bbba_0242ac1c0002row27_col4,#T_58b9e05e_a161_11eb_bbba_0242ac1c0002row27_col5,#T_58b9e05e_a161_11eb_bbba_0242ac1c0002row27_col6,#T_58b9e05e_a161_11eb_bbba_0242ac1c0002row27_col7,#T_58b9e05e_a161_11eb_bbba_0242ac1c0002row27_col8,#T_58b9e05e_a161_11eb_bbba_0242ac1c0002row27_col9,#T_58b9e05e_a161_11eb_bbba_0242ac1c0002row27_col10,#T_58b9e05e_a161_11eb_bbba_0242ac1c0002row27_col11,#T_58b9e05e_a161_11eb_bbba_0242ac1c0002row27_col12,#T_58b9e05e_a161_11eb_bbba_0242ac1c0002row27_col13,#T_58b9e05e_a161_11eb_bbba_0242ac1c0002row27_col14,#T_58b9e05e_a161_11eb_bbba_0242ac1c0002row27_col15,#T_58b9e05e_a161_11eb_bbba_0242ac1c0002row27_col16,#T_58b9e05e_a161_11eb_bbba_0242ac1c0002row27_col17,#T_58b9e05e_a161_11eb_bbba_0242ac1c0002row27_col18,#T_58b9e05e_a161_11eb_bbba_0242ac1c0002row27_col19,#T_58b9e05e_a161_11eb_bbba_0242ac1c0002row27_col20,#T_58b9e05e_a161_11eb_bbba_0242ac1c0002row27_col21,#T_58b9e05e_a161_11eb_bbba_0242ac1c0002row27_col22,#T_58b9e05e_a161_11eb_bbba_0242ac1c0002row27_col23,#T_58b9e05e_a161_11eb_bbba_0242ac1c0002row28_col4,#T_58b9e05e_a161_11eb_bbba_0242ac1c0002row28_col5,#T_58b9e05e_a161_11eb_bbba_0242ac1c0002row28_col6,#T_58b9e05e_a161_11eb_bbba_0242ac1c0002row28_col7,#T_58b9e05e_a161_11eb_bbba_0242ac1c0002row28_col8,#T_58b9e05e_a161_11eb_bbba_0242ac1c0002row28_col9,#T_58b9e05e_a161_11eb_bbba_0242ac1c0002row28_col10,#T_58b9e05e_a161_11eb_bbba_0242ac1c0002row28_col11,#T_58b9e05e_a161_11eb_bbba_0242ac1c0002row28_col12,#T_58b9e05e_a161_11eb_bbba_0242ac1c0002row28_col13,#T_58b9e05e_a161_11eb_bbba_0242ac1c0002row28_col14,#T_58b9e05e_a161_11eb_bbba_0242ac1c0002row28_col15,#T_58b9e05e_a161_11eb_bbba_0242ac1c0002row28_col16,#T_58b9e05e_a161_11eb_bbba_0242ac1c0002row28_col17,#T_58b9e05e_a161_11eb_bbba_0242ac1c0002row28_col18,#T_58b9e05e_a161_11eb_bbba_0242ac1c0002row28_col19,#T_58b9e05e_a161_11eb_bbba_0242ac1c0002row28_col20,#T_58b9e05e_a161_11eb_bbba_0242ac1c0002row28_col21,#T_58b9e05e_a161_11eb_bbba_0242ac1c0002row28_col22,#T_58b9e05e_a161_11eb_bbba_0242ac1c0002row28_col23,#T_58b9e05e_a161_11eb_bbba_0242ac1c0002row29_col4,#T_58b9e05e_a161_11eb_bbba_0242ac1c0002row29_col5,#T_58b9e05e_a161_11eb_bbba_0242ac1c0002row29_col6,#T_58b9e05e_a161_11eb_bbba_0242ac1c0002row29_col7,#T_58b9e05e_a161_11eb_bbba_0242ac1c0002row29_col8,#T_58b9e05e_a161_11eb_bbba_0242ac1c0002row29_col9,#T_58b9e05e_a161_11eb_bbba_0242ac1c0002row29_col10,#T_58b9e05e_a161_11eb_bbba_0242ac1c0002row29_col11,#T_58b9e05e_a161_11eb_bbba_0242ac1c0002row29_col12,#T_58b9e05e_a161_11eb_bbba_0242ac1c0002row29_col13,#T_58b9e05e_a161_11eb_bbba_0242ac1c0002row29_col14,#T_58b9e05e_a161_11eb_bbba_0242ac1c0002row29_col15,#T_58b9e05e_a161_11eb_bbba_0242ac1c0002row29_col16,#T_58b9e05e_a161_11eb_bbba_0242ac1c0002row29_col17,#T_58b9e05e_a161_11eb_bbba_0242ac1c0002row29_col18,#T_58b9e05e_a161_11eb_bbba_0242ac1c0002row29_col19,#T_58b9e05e_a161_11eb_bbba_0242ac1c0002row29_col20,#T_58b9e05e_a161_11eb_bbba_0242ac1c0002row29_col21,#T_58b9e05e_a161_11eb_bbba_0242ac1c0002row29_col22,#T_58b9e05e_a161_11eb_bbba_0242ac1c0002row29_col23,#T_58b9e05e_a161_11eb_bbba_0242ac1c0002row30_col4,#T_58b9e05e_a161_11eb_bbba_0242ac1c0002row30_col5,#T_58b9e05e_a161_11eb_bbba_0242ac1c0002row30_col6,#T_58b9e05e_a161_11eb_bbba_0242ac1c0002row30_col7,#T_58b9e05e_a161_11eb_bbba_0242ac1c0002row30_col8,#T_58b9e05e_a161_11eb_bbba_0242ac1c0002row30_col9,#T_58b9e05e_a161_11eb_bbba_0242ac1c0002row30_col10,#T_58b9e05e_a161_11eb_bbba_0242ac1c0002row30_col11,#T_58b9e05e_a161_11eb_bbba_0242ac1c0002row30_col12,#T_58b9e05e_a161_11eb_bbba_0242ac1c0002row30_col13,#T_58b9e05e_a161_11eb_bbba_0242ac1c0002row30_col14,#T_58b9e05e_a161_11eb_bbba_0242ac1c0002row30_col15,#T_58b9e05e_a161_11eb_bbba_0242ac1c0002row30_col16,#T_58b9e05e_a161_11eb_bbba_0242ac1c0002row30_col17,#T_58b9e05e_a161_11eb_bbba_0242ac1c0002row30_col18,#T_58b9e05e_a161_11eb_bbba_0242ac1c0002row30_col19,#T_58b9e05e_a161_11eb_bbba_0242ac1c0002row30_col20,#T_58b9e05e_a161_11eb_bbba_0242ac1c0002row30_col21,#T_58b9e05e_a161_11eb_bbba_0242ac1c0002row30_col22,#T_58b9e05e_a161_11eb_bbba_0242ac1c0002row30_col23,#T_58b9e05e_a161_11eb_bbba_0242ac1c0002row31_col4,#T_58b9e05e_a161_11eb_bbba_0242ac1c0002row31_col5,#T_58b9e05e_a161_11eb_bbba_0242ac1c0002row31_col6,#T_58b9e05e_a161_11eb_bbba_0242ac1c0002row31_col7,#T_58b9e05e_a161_11eb_bbba_0242ac1c0002row31_col8,#T_58b9e05e_a161_11eb_bbba_0242ac1c0002row31_col9,#T_58b9e05e_a161_11eb_bbba_0242ac1c0002row31_col10,#T_58b9e05e_a161_11eb_bbba_0242ac1c0002row31_col11,#T_58b9e05e_a161_11eb_bbba_0242ac1c0002row31_col12,#T_58b9e05e_a161_11eb_bbba_0242ac1c0002row31_col13,#T_58b9e05e_a161_11eb_bbba_0242ac1c0002row31_col14,#T_58b9e05e_a161_11eb_bbba_0242ac1c0002row31_col15,#T_58b9e05e_a161_11eb_bbba_0242ac1c0002row31_col16,#T_58b9e05e_a161_11eb_bbba_0242ac1c0002row31_col17,#T_58b9e05e_a161_11eb_bbba_0242ac1c0002row31_col18,#T_58b9e05e_a161_11eb_bbba_0242ac1c0002row31_col19,#T_58b9e05e_a161_11eb_bbba_0242ac1c0002row31_col20,#T_58b9e05e_a161_11eb_bbba_0242ac1c0002row31_col21,#T_58b9e05e_a161_11eb_bbba_0242ac1c0002row31_col22,#T_58b9e05e_a161_11eb_bbba_0242ac1c0002row31_col23,#T_58b9e05e_a161_11eb_bbba_0242ac1c0002row32_col4,#T_58b9e05e_a161_11eb_bbba_0242ac1c0002row32_col5,#T_58b9e05e_a161_11eb_bbba_0242ac1c0002row32_col6,#T_58b9e05e_a161_11eb_bbba_0242ac1c0002row32_col7,#T_58b9e05e_a161_11eb_bbba_0242ac1c0002row32_col8,#T_58b9e05e_a161_11eb_bbba_0242ac1c0002row32_col9,#T_58b9e05e_a161_11eb_bbba_0242ac1c0002row32_col10,#T_58b9e05e_a161_11eb_bbba_0242ac1c0002row32_col11,#T_58b9e05e_a161_11eb_bbba_0242ac1c0002row32_col12,#T_58b9e05e_a161_11eb_bbba_0242ac1c0002row32_col13,#T_58b9e05e_a161_11eb_bbba_0242ac1c0002row32_col14,#T_58b9e05e_a161_11eb_bbba_0242ac1c0002row32_col15,#T_58b9e05e_a161_11eb_bbba_0242ac1c0002row32_col16,#T_58b9e05e_a161_11eb_bbba_0242ac1c0002row32_col17,#T_58b9e05e_a161_11eb_bbba_0242ac1c0002row32_col18,#T_58b9e05e_a161_11eb_bbba_0242ac1c0002row32_col19,#T_58b9e05e_a161_11eb_bbba_0242ac1c0002row32_col20,#T_58b9e05e_a161_11eb_bbba_0242ac1c0002row32_col21,#T_58b9e05e_a161_11eb_bbba_0242ac1c0002row32_col22,#T_58b9e05e_a161_11eb_bbba_0242ac1c0002row32_col23,#T_58b9e05e_a161_11eb_bbba_0242ac1c0002row33_col4,#T_58b9e05e_a161_11eb_bbba_0242ac1c0002row33_col5,#T_58b9e05e_a161_11eb_bbba_0242ac1c0002row33_col6,#T_58b9e05e_a161_11eb_bbba_0242ac1c0002row33_col7,#T_58b9e05e_a161_11eb_bbba_0242ac1c0002row33_col8,#T_58b9e05e_a161_11eb_bbba_0242ac1c0002row33_col9,#T_58b9e05e_a161_11eb_bbba_0242ac1c0002row33_col10,#T_58b9e05e_a161_11eb_bbba_0242ac1c0002row33_col11,#T_58b9e05e_a161_11eb_bbba_0242ac1c0002row33_col12,#T_58b9e05e_a161_11eb_bbba_0242ac1c0002row33_col13,#T_58b9e05e_a161_11eb_bbba_0242ac1c0002row33_col14,#T_58b9e05e_a161_11eb_bbba_0242ac1c0002row33_col15,#T_58b9e05e_a161_11eb_bbba_0242ac1c0002row33_col16,#T_58b9e05e_a161_11eb_bbba_0242ac1c0002row33_col17,#T_58b9e05e_a161_11eb_bbba_0242ac1c0002row33_col18,#T_58b9e05e_a161_11eb_bbba_0242ac1c0002row33_col19,#T_58b9e05e_a161_11eb_bbba_0242ac1c0002row33_col20,#T_58b9e05e_a161_11eb_bbba_0242ac1c0002row33_col21,#T_58b9e05e_a161_11eb_bbba_0242ac1c0002row33_col22,#T_58b9e05e_a161_11eb_bbba_0242ac1c0002row33_col23,#T_58b9e05e_a161_11eb_bbba_0242ac1c0002row34_col4,#T_58b9e05e_a161_11eb_bbba_0242ac1c0002row34_col5,#T_58b9e05e_a161_11eb_bbba_0242ac1c0002row34_col6,#T_58b9e05e_a161_11eb_bbba_0242ac1c0002row34_col7,#T_58b9e05e_a161_11eb_bbba_0242ac1c0002row34_col8,#T_58b9e05e_a161_11eb_bbba_0242ac1c0002row34_col9,#T_58b9e05e_a161_11eb_bbba_0242ac1c0002row34_col10,#T_58b9e05e_a161_11eb_bbba_0242ac1c0002row34_col11,#T_58b9e05e_a161_11eb_bbba_0242ac1c0002row34_col12,#T_58b9e05e_a161_11eb_bbba_0242ac1c0002row34_col13,#T_58b9e05e_a161_11eb_bbba_0242ac1c0002row34_col14,#T_58b9e05e_a161_11eb_bbba_0242ac1c0002row34_col15,#T_58b9e05e_a161_11eb_bbba_0242ac1c0002row34_col16,#T_58b9e05e_a161_11eb_bbba_0242ac1c0002row34_col17,#T_58b9e05e_a161_11eb_bbba_0242ac1c0002row34_col18,#T_58b9e05e_a161_11eb_bbba_0242ac1c0002row34_col19,#T_58b9e05e_a161_11eb_bbba_0242ac1c0002row34_col20,#T_58b9e05e_a161_11eb_bbba_0242ac1c0002row34_col21,#T_58b9e05e_a161_11eb_bbba_0242ac1c0002row34_col22,#T_58b9e05e_a161_11eb_bbba_0242ac1c0002row34_col23,#T_58b9e05e_a161_11eb_bbba_0242ac1c0002row35_col4,#T_58b9e05e_a161_11eb_bbba_0242ac1c0002row35_col5,#T_58b9e05e_a161_11eb_bbba_0242ac1c0002row35_col6,#T_58b9e05e_a161_11eb_bbba_0242ac1c0002row35_col7,#T_58b9e05e_a161_11eb_bbba_0242ac1c0002row35_col8,#T_58b9e05e_a161_11eb_bbba_0242ac1c0002row35_col9,#T_58b9e05e_a161_11eb_bbba_0242ac1c0002row35_col10,#T_58b9e05e_a161_11eb_bbba_0242ac1c0002row35_col11,#T_58b9e05e_a161_11eb_bbba_0242ac1c0002row35_col12,#T_58b9e05e_a161_11eb_bbba_0242ac1c0002row35_col13,#T_58b9e05e_a161_11eb_bbba_0242ac1c0002row35_col14,#T_58b9e05e_a161_11eb_bbba_0242ac1c0002row35_col15,#T_58b9e05e_a161_11eb_bbba_0242ac1c0002row35_col16,#T_58b9e05e_a161_11eb_bbba_0242ac1c0002row35_col17,#T_58b9e05e_a161_11eb_bbba_0242ac1c0002row35_col18,#T_58b9e05e_a161_11eb_bbba_0242ac1c0002row35_col19,#T_58b9e05e_a161_11eb_bbba_0242ac1c0002row35_col20,#T_58b9e05e_a161_11eb_bbba_0242ac1c0002row35_col21,#T_58b9e05e_a161_11eb_bbba_0242ac1c0002row35_col22,#T_58b9e05e_a161_11eb_bbba_0242ac1c0002row35_col23,#T_58b9e05e_a161_11eb_bbba_0242ac1c0002row36_col4,#T_58b9e05e_a161_11eb_bbba_0242ac1c0002row36_col5,#T_58b9e05e_a161_11eb_bbba_0242ac1c0002row36_col6,#T_58b9e05e_a161_11eb_bbba_0242ac1c0002row36_col7,#T_58b9e05e_a161_11eb_bbba_0242ac1c0002row36_col8,#T_58b9e05e_a161_11eb_bbba_0242ac1c0002row36_col9,#T_58b9e05e_a161_11eb_bbba_0242ac1c0002row36_col10,#T_58b9e05e_a161_11eb_bbba_0242ac1c0002row36_col11,#T_58b9e05e_a161_11eb_bbba_0242ac1c0002row36_col12,#T_58b9e05e_a161_11eb_bbba_0242ac1c0002row36_col13,#T_58b9e05e_a161_11eb_bbba_0242ac1c0002row36_col14,#T_58b9e05e_a161_11eb_bbba_0242ac1c0002row36_col15,#T_58b9e05e_a161_11eb_bbba_0242ac1c0002row36_col16,#T_58b9e05e_a161_11eb_bbba_0242ac1c0002row36_col17,#T_58b9e05e_a161_11eb_bbba_0242ac1c0002row36_col18,#T_58b9e05e_a161_11eb_bbba_0242ac1c0002row36_col19,#T_58b9e05e_a161_11eb_bbba_0242ac1c0002row36_col20,#T_58b9e05e_a161_11eb_bbba_0242ac1c0002row36_col21,#T_58b9e05e_a161_11eb_bbba_0242ac1c0002row36_col22,#T_58b9e05e_a161_11eb_bbba_0242ac1c0002row36_col23,#T_58b9e05e_a161_11eb_bbba_0242ac1c0002row37_col4,#T_58b9e05e_a161_11eb_bbba_0242ac1c0002row37_col5,#T_58b9e05e_a161_11eb_bbba_0242ac1c0002row37_col6,#T_58b9e05e_a161_11eb_bbba_0242ac1c0002row37_col7,#T_58b9e05e_a161_11eb_bbba_0242ac1c0002row37_col8,#T_58b9e05e_a161_11eb_bbba_0242ac1c0002row37_col9,#T_58b9e05e_a161_11eb_bbba_0242ac1c0002row37_col10,#T_58b9e05e_a161_11eb_bbba_0242ac1c0002row37_col11,#T_58b9e05e_a161_11eb_bbba_0242ac1c0002row37_col12,#T_58b9e05e_a161_11eb_bbba_0242ac1c0002row37_col13,#T_58b9e05e_a161_11eb_bbba_0242ac1c0002row37_col14,#T_58b9e05e_a161_11eb_bbba_0242ac1c0002row37_col15,#T_58b9e05e_a161_11eb_bbba_0242ac1c0002row37_col16,#T_58b9e05e_a161_11eb_bbba_0242ac1c0002row37_col17,#T_58b9e05e_a161_11eb_bbba_0242ac1c0002row37_col18,#T_58b9e05e_a161_11eb_bbba_0242ac1c0002row37_col19,#T_58b9e05e_a161_11eb_bbba_0242ac1c0002row37_col20,#T_58b9e05e_a161_11eb_bbba_0242ac1c0002row37_col21,#T_58b9e05e_a161_11eb_bbba_0242ac1c0002row37_col22,#T_58b9e05e_a161_11eb_bbba_0242ac1c0002row37_col23,#T_58b9e05e_a161_11eb_bbba_0242ac1c0002row38_col4,#T_58b9e05e_a161_11eb_bbba_0242ac1c0002row38_col5,#T_58b9e05e_a161_11eb_bbba_0242ac1c0002row38_col6,#T_58b9e05e_a161_11eb_bbba_0242ac1c0002row38_col7,#T_58b9e05e_a161_11eb_bbba_0242ac1c0002row38_col8,#T_58b9e05e_a161_11eb_bbba_0242ac1c0002row38_col9,#T_58b9e05e_a161_11eb_bbba_0242ac1c0002row38_col10,#T_58b9e05e_a161_11eb_bbba_0242ac1c0002row38_col11,#T_58b9e05e_a161_11eb_bbba_0242ac1c0002row38_col12,#T_58b9e05e_a161_11eb_bbba_0242ac1c0002row38_col13,#T_58b9e05e_a161_11eb_bbba_0242ac1c0002row38_col14,#T_58b9e05e_a161_11eb_bbba_0242ac1c0002row38_col15,#T_58b9e05e_a161_11eb_bbba_0242ac1c0002row38_col16,#T_58b9e05e_a161_11eb_bbba_0242ac1c0002row38_col17,#T_58b9e05e_a161_11eb_bbba_0242ac1c0002row38_col18,#T_58b9e05e_a161_11eb_bbba_0242ac1c0002row38_col19,#T_58b9e05e_a161_11eb_bbba_0242ac1c0002row38_col20,#T_58b9e05e_a161_11eb_bbba_0242ac1c0002row38_col21,#T_58b9e05e_a161_11eb_bbba_0242ac1c0002row38_col22,#T_58b9e05e_a161_11eb_bbba_0242ac1c0002row38_col23,#T_58b9e05e_a161_11eb_bbba_0242ac1c0002row39_col4,#T_58b9e05e_a161_11eb_bbba_0242ac1c0002row39_col5,#T_58b9e05e_a161_11eb_bbba_0242ac1c0002row39_col6,#T_58b9e05e_a161_11eb_bbba_0242ac1c0002row39_col7,#T_58b9e05e_a161_11eb_bbba_0242ac1c0002row39_col8,#T_58b9e05e_a161_11eb_bbba_0242ac1c0002row39_col9,#T_58b9e05e_a161_11eb_bbba_0242ac1c0002row39_col10,#T_58b9e05e_a161_11eb_bbba_0242ac1c0002row39_col11,#T_58b9e05e_a161_11eb_bbba_0242ac1c0002row39_col12,#T_58b9e05e_a161_11eb_bbba_0242ac1c0002row39_col13,#T_58b9e05e_a161_11eb_bbba_0242ac1c0002row39_col14,#T_58b9e05e_a161_11eb_bbba_0242ac1c0002row39_col15,#T_58b9e05e_a161_11eb_bbba_0242ac1c0002row39_col16,#T_58b9e05e_a161_11eb_bbba_0242ac1c0002row39_col17,#T_58b9e05e_a161_11eb_bbba_0242ac1c0002row39_col18,#T_58b9e05e_a161_11eb_bbba_0242ac1c0002row39_col19,#T_58b9e05e_a161_11eb_bbba_0242ac1c0002row39_col20,#T_58b9e05e_a161_11eb_bbba_0242ac1c0002row39_col21,#T_58b9e05e_a161_11eb_bbba_0242ac1c0002row39_col22,#T_58b9e05e_a161_11eb_bbba_0242ac1c0002row39_col23,#T_58b9e05e_a161_11eb_bbba_0242ac1c0002row40_col4,#T_58b9e05e_a161_11eb_bbba_0242ac1c0002row40_col5,#T_58b9e05e_a161_11eb_bbba_0242ac1c0002row40_col6,#T_58b9e05e_a161_11eb_bbba_0242ac1c0002row40_col7,#T_58b9e05e_a161_11eb_bbba_0242ac1c0002row40_col8,#T_58b9e05e_a161_11eb_bbba_0242ac1c0002row40_col9,#T_58b9e05e_a161_11eb_bbba_0242ac1c0002row40_col10,#T_58b9e05e_a161_11eb_bbba_0242ac1c0002row40_col11,#T_58b9e05e_a161_11eb_bbba_0242ac1c0002row40_col12,#T_58b9e05e_a161_11eb_bbba_0242ac1c0002row40_col13,#T_58b9e05e_a161_11eb_bbba_0242ac1c0002row40_col14,#T_58b9e05e_a161_11eb_bbba_0242ac1c0002row40_col15,#T_58b9e05e_a161_11eb_bbba_0242ac1c0002row40_col16,#T_58b9e05e_a161_11eb_bbba_0242ac1c0002row40_col17,#T_58b9e05e_a161_11eb_bbba_0242ac1c0002row40_col18,#T_58b9e05e_a161_11eb_bbba_0242ac1c0002row40_col19,#T_58b9e05e_a161_11eb_bbba_0242ac1c0002row40_col20,#T_58b9e05e_a161_11eb_bbba_0242ac1c0002row40_col21,#T_58b9e05e_a161_11eb_bbba_0242ac1c0002row40_col22,#T_58b9e05e_a161_11eb_bbba_0242ac1c0002row40_col23,#T_58b9e05e_a161_11eb_bbba_0242ac1c0002row41_col4,#T_58b9e05e_a161_11eb_bbba_0242ac1c0002row41_col5,#T_58b9e05e_a161_11eb_bbba_0242ac1c0002row41_col6,#T_58b9e05e_a161_11eb_bbba_0242ac1c0002row41_col7,#T_58b9e05e_a161_11eb_bbba_0242ac1c0002row41_col8,#T_58b9e05e_a161_11eb_bbba_0242ac1c0002row41_col9,#T_58b9e05e_a161_11eb_bbba_0242ac1c0002row41_col10,#T_58b9e05e_a161_11eb_bbba_0242ac1c0002row41_col11,#T_58b9e05e_a161_11eb_bbba_0242ac1c0002row41_col12,#T_58b9e05e_a161_11eb_bbba_0242ac1c0002row41_col13,#T_58b9e05e_a161_11eb_bbba_0242ac1c0002row41_col14,#T_58b9e05e_a161_11eb_bbba_0242ac1c0002row41_col15,#T_58b9e05e_a161_11eb_bbba_0242ac1c0002row41_col16,#T_58b9e05e_a161_11eb_bbba_0242ac1c0002row41_col17,#T_58b9e05e_a161_11eb_bbba_0242ac1c0002row41_col18,#T_58b9e05e_a161_11eb_bbba_0242ac1c0002row41_col19,#T_58b9e05e_a161_11eb_bbba_0242ac1c0002row41_col20,#T_58b9e05e_a161_11eb_bbba_0242ac1c0002row41_col21,#T_58b9e05e_a161_11eb_bbba_0242ac1c0002row41_col22,#T_58b9e05e_a161_11eb_bbba_0242ac1c0002row41_col23,#T_58b9e05e_a161_11eb_bbba_0242ac1c0002row42_col4,#T_58b9e05e_a161_11eb_bbba_0242ac1c0002row42_col5,#T_58b9e05e_a161_11eb_bbba_0242ac1c0002row42_col6,#T_58b9e05e_a161_11eb_bbba_0242ac1c0002row42_col7,#T_58b9e05e_a161_11eb_bbba_0242ac1c0002row42_col8,#T_58b9e05e_a161_11eb_bbba_0242ac1c0002row42_col9,#T_58b9e05e_a161_11eb_bbba_0242ac1c0002row42_col10,#T_58b9e05e_a161_11eb_bbba_0242ac1c0002row42_col11,#T_58b9e05e_a161_11eb_bbba_0242ac1c0002row42_col12,#T_58b9e05e_a161_11eb_bbba_0242ac1c0002row42_col13,#T_58b9e05e_a161_11eb_bbba_0242ac1c0002row42_col14,#T_58b9e05e_a161_11eb_bbba_0242ac1c0002row42_col15,#T_58b9e05e_a161_11eb_bbba_0242ac1c0002row42_col16,#T_58b9e05e_a161_11eb_bbba_0242ac1c0002row42_col17,#T_58b9e05e_a161_11eb_bbba_0242ac1c0002row42_col18,#T_58b9e05e_a161_11eb_bbba_0242ac1c0002row42_col19,#T_58b9e05e_a161_11eb_bbba_0242ac1c0002row42_col20,#T_58b9e05e_a161_11eb_bbba_0242ac1c0002row42_col21,#T_58b9e05e_a161_11eb_bbba_0242ac1c0002row42_col22,#T_58b9e05e_a161_11eb_bbba_0242ac1c0002row42_col23,#T_58b9e05e_a161_11eb_bbba_0242ac1c0002row43_col4,#T_58b9e05e_a161_11eb_bbba_0242ac1c0002row43_col5,#T_58b9e05e_a161_11eb_bbba_0242ac1c0002row43_col6,#T_58b9e05e_a161_11eb_bbba_0242ac1c0002row43_col7,#T_58b9e05e_a161_11eb_bbba_0242ac1c0002row43_col8,#T_58b9e05e_a161_11eb_bbba_0242ac1c0002row43_col9,#T_58b9e05e_a161_11eb_bbba_0242ac1c0002row43_col10,#T_58b9e05e_a161_11eb_bbba_0242ac1c0002row43_col11,#T_58b9e05e_a161_11eb_bbba_0242ac1c0002row43_col12,#T_58b9e05e_a161_11eb_bbba_0242ac1c0002row43_col13,#T_58b9e05e_a161_11eb_bbba_0242ac1c0002row43_col14,#T_58b9e05e_a161_11eb_bbba_0242ac1c0002row43_col15,#T_58b9e05e_a161_11eb_bbba_0242ac1c0002row43_col16,#T_58b9e05e_a161_11eb_bbba_0242ac1c0002row43_col17,#T_58b9e05e_a161_11eb_bbba_0242ac1c0002row43_col18,#T_58b9e05e_a161_11eb_bbba_0242ac1c0002row43_col19,#T_58b9e05e_a161_11eb_bbba_0242ac1c0002row43_col20,#T_58b9e05e_a161_11eb_bbba_0242ac1c0002row43_col21,#T_58b9e05e_a161_11eb_bbba_0242ac1c0002row43_col22,#T_58b9e05e_a161_11eb_bbba_0242ac1c0002row43_col23,#T_58b9e05e_a161_11eb_bbba_0242ac1c0002row44_col4,#T_58b9e05e_a161_11eb_bbba_0242ac1c0002row44_col5,#T_58b9e05e_a161_11eb_bbba_0242ac1c0002row44_col6,#T_58b9e05e_a161_11eb_bbba_0242ac1c0002row44_col7,#T_58b9e05e_a161_11eb_bbba_0242ac1c0002row44_col8,#T_58b9e05e_a161_11eb_bbba_0242ac1c0002row44_col9,#T_58b9e05e_a161_11eb_bbba_0242ac1c0002row44_col10,#T_58b9e05e_a161_11eb_bbba_0242ac1c0002row44_col11,#T_58b9e05e_a161_11eb_bbba_0242ac1c0002row44_col12,#T_58b9e05e_a161_11eb_bbba_0242ac1c0002row44_col13,#T_58b9e05e_a161_11eb_bbba_0242ac1c0002row44_col14,#T_58b9e05e_a161_11eb_bbba_0242ac1c0002row44_col15,#T_58b9e05e_a161_11eb_bbba_0242ac1c0002row44_col16,#T_58b9e05e_a161_11eb_bbba_0242ac1c0002row44_col17,#T_58b9e05e_a161_11eb_bbba_0242ac1c0002row44_col18,#T_58b9e05e_a161_11eb_bbba_0242ac1c0002row44_col19,#T_58b9e05e_a161_11eb_bbba_0242ac1c0002row44_col20,#T_58b9e05e_a161_11eb_bbba_0242ac1c0002row44_col21,#T_58b9e05e_a161_11eb_bbba_0242ac1c0002row44_col22,#T_58b9e05e_a161_11eb_bbba_0242ac1c0002row44_col23,#T_58b9e05e_a161_11eb_bbba_0242ac1c0002row45_col4,#T_58b9e05e_a161_11eb_bbba_0242ac1c0002row45_col5,#T_58b9e05e_a161_11eb_bbba_0242ac1c0002row45_col6,#T_58b9e05e_a161_11eb_bbba_0242ac1c0002row45_col7,#T_58b9e05e_a161_11eb_bbba_0242ac1c0002row45_col8,#T_58b9e05e_a161_11eb_bbba_0242ac1c0002row45_col9,#T_58b9e05e_a161_11eb_bbba_0242ac1c0002row45_col10,#T_58b9e05e_a161_11eb_bbba_0242ac1c0002row45_col11,#T_58b9e05e_a161_11eb_bbba_0242ac1c0002row45_col12,#T_58b9e05e_a161_11eb_bbba_0242ac1c0002row45_col13,#T_58b9e05e_a161_11eb_bbba_0242ac1c0002row45_col14,#T_58b9e05e_a161_11eb_bbba_0242ac1c0002row45_col15,#T_58b9e05e_a161_11eb_bbba_0242ac1c0002row45_col16,#T_58b9e05e_a161_11eb_bbba_0242ac1c0002row45_col17,#T_58b9e05e_a161_11eb_bbba_0242ac1c0002row45_col18,#T_58b9e05e_a161_11eb_bbba_0242ac1c0002row45_col19,#T_58b9e05e_a161_11eb_bbba_0242ac1c0002row45_col20,#T_58b9e05e_a161_11eb_bbba_0242ac1c0002row45_col21,#T_58b9e05e_a161_11eb_bbba_0242ac1c0002row45_col22,#T_58b9e05e_a161_11eb_bbba_0242ac1c0002row45_col23,#T_58b9e05e_a161_11eb_bbba_0242ac1c0002row46_col4,#T_58b9e05e_a161_11eb_bbba_0242ac1c0002row46_col5,#T_58b9e05e_a161_11eb_bbba_0242ac1c0002row46_col6,#T_58b9e05e_a161_11eb_bbba_0242ac1c0002row46_col7,#T_58b9e05e_a161_11eb_bbba_0242ac1c0002row46_col8,#T_58b9e05e_a161_11eb_bbba_0242ac1c0002row46_col9,#T_58b9e05e_a161_11eb_bbba_0242ac1c0002row46_col10,#T_58b9e05e_a161_11eb_bbba_0242ac1c0002row46_col11,#T_58b9e05e_a161_11eb_bbba_0242ac1c0002row46_col12,#T_58b9e05e_a161_11eb_bbba_0242ac1c0002row46_col13,#T_58b9e05e_a161_11eb_bbba_0242ac1c0002row46_col14,#T_58b9e05e_a161_11eb_bbba_0242ac1c0002row46_col15,#T_58b9e05e_a161_11eb_bbba_0242ac1c0002row46_col16,#T_58b9e05e_a161_11eb_bbba_0242ac1c0002row46_col17,#T_58b9e05e_a161_11eb_bbba_0242ac1c0002row46_col18,#T_58b9e05e_a161_11eb_bbba_0242ac1c0002row46_col19,#T_58b9e05e_a161_11eb_bbba_0242ac1c0002row46_col20,#T_58b9e05e_a161_11eb_bbba_0242ac1c0002row46_col21,#T_58b9e05e_a161_11eb_bbba_0242ac1c0002row46_col22,#T_58b9e05e_a161_11eb_bbba_0242ac1c0002row46_col23,#T_58b9e05e_a161_11eb_bbba_0242ac1c0002row47_col4,#T_58b9e05e_a161_11eb_bbba_0242ac1c0002row47_col5,#T_58b9e05e_a161_11eb_bbba_0242ac1c0002row47_col6,#T_58b9e05e_a161_11eb_bbba_0242ac1c0002row47_col7,#T_58b9e05e_a161_11eb_bbba_0242ac1c0002row47_col8,#T_58b9e05e_a161_11eb_bbba_0242ac1c0002row47_col9,#T_58b9e05e_a161_11eb_bbba_0242ac1c0002row47_col10,#T_58b9e05e_a161_11eb_bbba_0242ac1c0002row47_col11,#T_58b9e05e_a161_11eb_bbba_0242ac1c0002row47_col12,#T_58b9e05e_a161_11eb_bbba_0242ac1c0002row47_col13,#T_58b9e05e_a161_11eb_bbba_0242ac1c0002row47_col14,#T_58b9e05e_a161_11eb_bbba_0242ac1c0002row47_col15,#T_58b9e05e_a161_11eb_bbba_0242ac1c0002row47_col16,#T_58b9e05e_a161_11eb_bbba_0242ac1c0002row47_col17,#T_58b9e05e_a161_11eb_bbba_0242ac1c0002row47_col18,#T_58b9e05e_a161_11eb_bbba_0242ac1c0002row47_col19,#T_58b9e05e_a161_11eb_bbba_0242ac1c0002row47_col20,#T_58b9e05e_a161_11eb_bbba_0242ac1c0002row47_col21,#T_58b9e05e_a161_11eb_bbba_0242ac1c0002row47_col22,#T_58b9e05e_a161_11eb_bbba_0242ac1c0002row47_col23,#T_58b9e05e_a161_11eb_bbba_0242ac1c0002row48_col4,#T_58b9e05e_a161_11eb_bbba_0242ac1c0002row48_col5,#T_58b9e05e_a161_11eb_bbba_0242ac1c0002row48_col6,#T_58b9e05e_a161_11eb_bbba_0242ac1c0002row48_col7,#T_58b9e05e_a161_11eb_bbba_0242ac1c0002row48_col8,#T_58b9e05e_a161_11eb_bbba_0242ac1c0002row48_col9,#T_58b9e05e_a161_11eb_bbba_0242ac1c0002row48_col10,#T_58b9e05e_a161_11eb_bbba_0242ac1c0002row48_col11,#T_58b9e05e_a161_11eb_bbba_0242ac1c0002row48_col12,#T_58b9e05e_a161_11eb_bbba_0242ac1c0002row48_col13,#T_58b9e05e_a161_11eb_bbba_0242ac1c0002row48_col14,#T_58b9e05e_a161_11eb_bbba_0242ac1c0002row48_col15,#T_58b9e05e_a161_11eb_bbba_0242ac1c0002row48_col16,#T_58b9e05e_a161_11eb_bbba_0242ac1c0002row48_col17,#T_58b9e05e_a161_11eb_bbba_0242ac1c0002row48_col18,#T_58b9e05e_a161_11eb_bbba_0242ac1c0002row48_col19,#T_58b9e05e_a161_11eb_bbba_0242ac1c0002row48_col20,#T_58b9e05e_a161_11eb_bbba_0242ac1c0002row48_col21,#T_58b9e05e_a161_11eb_bbba_0242ac1c0002row48_col22,#T_58b9e05e_a161_11eb_bbba_0242ac1c0002row48_col23,#T_58b9e05e_a161_11eb_bbba_0242ac1c0002row49_col4,#T_58b9e05e_a161_11eb_bbba_0242ac1c0002row49_col5,#T_58b9e05e_a161_11eb_bbba_0242ac1c0002row49_col6,#T_58b9e05e_a161_11eb_bbba_0242ac1c0002row49_col7,#T_58b9e05e_a161_11eb_bbba_0242ac1c0002row49_col8,#T_58b9e05e_a161_11eb_bbba_0242ac1c0002row49_col9,#T_58b9e05e_a161_11eb_bbba_0242ac1c0002row49_col10,#T_58b9e05e_a161_11eb_bbba_0242ac1c0002row49_col11,#T_58b9e05e_a161_11eb_bbba_0242ac1c0002row49_col12,#T_58b9e05e_a161_11eb_bbba_0242ac1c0002row49_col13,#T_58b9e05e_a161_11eb_bbba_0242ac1c0002row49_col14,#T_58b9e05e_a161_11eb_bbba_0242ac1c0002row49_col15,#T_58b9e05e_a161_11eb_bbba_0242ac1c0002row49_col16,#T_58b9e05e_a161_11eb_bbba_0242ac1c0002row49_col17,#T_58b9e05e_a161_11eb_bbba_0242ac1c0002row49_col18,#T_58b9e05e_a161_11eb_bbba_0242ac1c0002row49_col19,#T_58b9e05e_a161_11eb_bbba_0242ac1c0002row49_col20,#T_58b9e05e_a161_11eb_bbba_0242ac1c0002row49_col21,#T_58b9e05e_a161_11eb_bbba_0242ac1c0002row49_col22,#T_58b9e05e_a161_11eb_bbba_0242ac1c0002row49_col23,#T_58b9e05e_a161_11eb_bbba_0242ac1c0002row50_col4,#T_58b9e05e_a161_11eb_bbba_0242ac1c0002row50_col5,#T_58b9e05e_a161_11eb_bbba_0242ac1c0002row50_col6,#T_58b9e05e_a161_11eb_bbba_0242ac1c0002row50_col7,#T_58b9e05e_a161_11eb_bbba_0242ac1c0002row50_col8,#T_58b9e05e_a161_11eb_bbba_0242ac1c0002row50_col9,#T_58b9e05e_a161_11eb_bbba_0242ac1c0002row50_col10,#T_58b9e05e_a161_11eb_bbba_0242ac1c0002row50_col11,#T_58b9e05e_a161_11eb_bbba_0242ac1c0002row50_col12,#T_58b9e05e_a161_11eb_bbba_0242ac1c0002row50_col13,#T_58b9e05e_a161_11eb_bbba_0242ac1c0002row50_col14,#T_58b9e05e_a161_11eb_bbba_0242ac1c0002row50_col15,#T_58b9e05e_a161_11eb_bbba_0242ac1c0002row50_col16,#T_58b9e05e_a161_11eb_bbba_0242ac1c0002row50_col17,#T_58b9e05e_a161_11eb_bbba_0242ac1c0002row50_col18,#T_58b9e05e_a161_11eb_bbba_0242ac1c0002row50_col19,#T_58b9e05e_a161_11eb_bbba_0242ac1c0002row50_col20,#T_58b9e05e_a161_11eb_bbba_0242ac1c0002row50_col21,#T_58b9e05e_a161_11eb_bbba_0242ac1c0002row50_col22,#T_58b9e05e_a161_11eb_bbba_0242ac1c0002row50_col23,#T_58b9e05e_a161_11eb_bbba_0242ac1c0002row51_col4,#T_58b9e05e_a161_11eb_bbba_0242ac1c0002row51_col5,#T_58b9e05e_a161_11eb_bbba_0242ac1c0002row51_col6,#T_58b9e05e_a161_11eb_bbba_0242ac1c0002row51_col7,#T_58b9e05e_a161_11eb_bbba_0242ac1c0002row51_col8,#T_58b9e05e_a161_11eb_bbba_0242ac1c0002row51_col9,#T_58b9e05e_a161_11eb_bbba_0242ac1c0002row51_col10,#T_58b9e05e_a161_11eb_bbba_0242ac1c0002row51_col11,#T_58b9e05e_a161_11eb_bbba_0242ac1c0002row51_col12,#T_58b9e05e_a161_11eb_bbba_0242ac1c0002row51_col13,#T_58b9e05e_a161_11eb_bbba_0242ac1c0002row51_col14,#T_58b9e05e_a161_11eb_bbba_0242ac1c0002row51_col15,#T_58b9e05e_a161_11eb_bbba_0242ac1c0002row51_col16,#T_58b9e05e_a161_11eb_bbba_0242ac1c0002row51_col17,#T_58b9e05e_a161_11eb_bbba_0242ac1c0002row51_col18,#T_58b9e05e_a161_11eb_bbba_0242ac1c0002row51_col19,#T_58b9e05e_a161_11eb_bbba_0242ac1c0002row51_col20,#T_58b9e05e_a161_11eb_bbba_0242ac1c0002row51_col21,#T_58b9e05e_a161_11eb_bbba_0242ac1c0002row51_col22,#T_58b9e05e_a161_11eb_bbba_0242ac1c0002row51_col23,#T_58b9e05e_a161_11eb_bbba_0242ac1c0002row52_col4,#T_58b9e05e_a161_11eb_bbba_0242ac1c0002row52_col5,#T_58b9e05e_a161_11eb_bbba_0242ac1c0002row52_col6,#T_58b9e05e_a161_11eb_bbba_0242ac1c0002row52_col7,#T_58b9e05e_a161_11eb_bbba_0242ac1c0002row52_col8,#T_58b9e05e_a161_11eb_bbba_0242ac1c0002row52_col9,#T_58b9e05e_a161_11eb_bbba_0242ac1c0002row52_col10,#T_58b9e05e_a161_11eb_bbba_0242ac1c0002row52_col11,#T_58b9e05e_a161_11eb_bbba_0242ac1c0002row52_col12,#T_58b9e05e_a161_11eb_bbba_0242ac1c0002row52_col13,#T_58b9e05e_a161_11eb_bbba_0242ac1c0002row52_col14,#T_58b9e05e_a161_11eb_bbba_0242ac1c0002row52_col15,#T_58b9e05e_a161_11eb_bbba_0242ac1c0002row52_col16,#T_58b9e05e_a161_11eb_bbba_0242ac1c0002row52_col17,#T_58b9e05e_a161_11eb_bbba_0242ac1c0002row52_col18,#T_58b9e05e_a161_11eb_bbba_0242ac1c0002row52_col19,#T_58b9e05e_a161_11eb_bbba_0242ac1c0002row52_col20,#T_58b9e05e_a161_11eb_bbba_0242ac1c0002row52_col21,#T_58b9e05e_a161_11eb_bbba_0242ac1c0002row52_col22,#T_58b9e05e_a161_11eb_bbba_0242ac1c0002row52_col23,#T_58b9e05e_a161_11eb_bbba_0242ac1c0002row53_col4,#T_58b9e05e_a161_11eb_bbba_0242ac1c0002row53_col5,#T_58b9e05e_a161_11eb_bbba_0242ac1c0002row53_col6,#T_58b9e05e_a161_11eb_bbba_0242ac1c0002row53_col7,#T_58b9e05e_a161_11eb_bbba_0242ac1c0002row53_col8,#T_58b9e05e_a161_11eb_bbba_0242ac1c0002row53_col9,#T_58b9e05e_a161_11eb_bbba_0242ac1c0002row53_col10,#T_58b9e05e_a161_11eb_bbba_0242ac1c0002row53_col11,#T_58b9e05e_a161_11eb_bbba_0242ac1c0002row53_col12,#T_58b9e05e_a161_11eb_bbba_0242ac1c0002row53_col13,#T_58b9e05e_a161_11eb_bbba_0242ac1c0002row53_col14,#T_58b9e05e_a161_11eb_bbba_0242ac1c0002row53_col15,#T_58b9e05e_a161_11eb_bbba_0242ac1c0002row53_col16,#T_58b9e05e_a161_11eb_bbba_0242ac1c0002row53_col17,#T_58b9e05e_a161_11eb_bbba_0242ac1c0002row53_col18,#T_58b9e05e_a161_11eb_bbba_0242ac1c0002row53_col19,#T_58b9e05e_a161_11eb_bbba_0242ac1c0002row53_col20,#T_58b9e05e_a161_11eb_bbba_0242ac1c0002row53_col21,#T_58b9e05e_a161_11eb_bbba_0242ac1c0002row53_col22,#T_58b9e05e_a161_11eb_bbba_0242ac1c0002row53_col23,#T_58b9e05e_a161_11eb_bbba_0242ac1c0002row54_col4,#T_58b9e05e_a161_11eb_bbba_0242ac1c0002row54_col5,#T_58b9e05e_a161_11eb_bbba_0242ac1c0002row54_col6,#T_58b9e05e_a161_11eb_bbba_0242ac1c0002row54_col7,#T_58b9e05e_a161_11eb_bbba_0242ac1c0002row54_col8,#T_58b9e05e_a161_11eb_bbba_0242ac1c0002row54_col9,#T_58b9e05e_a161_11eb_bbba_0242ac1c0002row54_col10,#T_58b9e05e_a161_11eb_bbba_0242ac1c0002row54_col11,#T_58b9e05e_a161_11eb_bbba_0242ac1c0002row54_col12,#T_58b9e05e_a161_11eb_bbba_0242ac1c0002row54_col13,#T_58b9e05e_a161_11eb_bbba_0242ac1c0002row54_col14,#T_58b9e05e_a161_11eb_bbba_0242ac1c0002row54_col15,#T_58b9e05e_a161_11eb_bbba_0242ac1c0002row54_col16,#T_58b9e05e_a161_11eb_bbba_0242ac1c0002row54_col17,#T_58b9e05e_a161_11eb_bbba_0242ac1c0002row54_col18,#T_58b9e05e_a161_11eb_bbba_0242ac1c0002row54_col19,#T_58b9e05e_a161_11eb_bbba_0242ac1c0002row54_col20,#T_58b9e05e_a161_11eb_bbba_0242ac1c0002row54_col21,#T_58b9e05e_a161_11eb_bbba_0242ac1c0002row54_col22,#T_58b9e05e_a161_11eb_bbba_0242ac1c0002row54_col23,#T_58b9e05e_a161_11eb_bbba_0242ac1c0002row55_col4,#T_58b9e05e_a161_11eb_bbba_0242ac1c0002row55_col5,#T_58b9e05e_a161_11eb_bbba_0242ac1c0002row55_col6,#T_58b9e05e_a161_11eb_bbba_0242ac1c0002row55_col7,#T_58b9e05e_a161_11eb_bbba_0242ac1c0002row55_col8,#T_58b9e05e_a161_11eb_bbba_0242ac1c0002row55_col9,#T_58b9e05e_a161_11eb_bbba_0242ac1c0002row55_col10,#T_58b9e05e_a161_11eb_bbba_0242ac1c0002row55_col11,#T_58b9e05e_a161_11eb_bbba_0242ac1c0002row55_col12,#T_58b9e05e_a161_11eb_bbba_0242ac1c0002row55_col13,#T_58b9e05e_a161_11eb_bbba_0242ac1c0002row55_col14,#T_58b9e05e_a161_11eb_bbba_0242ac1c0002row55_col15,#T_58b9e05e_a161_11eb_bbba_0242ac1c0002row55_col16,#T_58b9e05e_a161_11eb_bbba_0242ac1c0002row55_col17,#T_58b9e05e_a161_11eb_bbba_0242ac1c0002row55_col18,#T_58b9e05e_a161_11eb_bbba_0242ac1c0002row55_col19,#T_58b9e05e_a161_11eb_bbba_0242ac1c0002row55_col20,#T_58b9e05e_a161_11eb_bbba_0242ac1c0002row55_col21,#T_58b9e05e_a161_11eb_bbba_0242ac1c0002row55_col22,#T_58b9e05e_a161_11eb_bbba_0242ac1c0002row55_col23,#T_58b9e05e_a161_11eb_bbba_0242ac1c0002row56_col4,#T_58b9e05e_a161_11eb_bbba_0242ac1c0002row56_col5,#T_58b9e05e_a161_11eb_bbba_0242ac1c0002row56_col6,#T_58b9e05e_a161_11eb_bbba_0242ac1c0002row56_col7,#T_58b9e05e_a161_11eb_bbba_0242ac1c0002row56_col8,#T_58b9e05e_a161_11eb_bbba_0242ac1c0002row56_col9,#T_58b9e05e_a161_11eb_bbba_0242ac1c0002row56_col10,#T_58b9e05e_a161_11eb_bbba_0242ac1c0002row56_col11,#T_58b9e05e_a161_11eb_bbba_0242ac1c0002row56_col12,#T_58b9e05e_a161_11eb_bbba_0242ac1c0002row56_col13,#T_58b9e05e_a161_11eb_bbba_0242ac1c0002row56_col14,#T_58b9e05e_a161_11eb_bbba_0242ac1c0002row56_col15,#T_58b9e05e_a161_11eb_bbba_0242ac1c0002row56_col16,#T_58b9e05e_a161_11eb_bbba_0242ac1c0002row56_col17,#T_58b9e05e_a161_11eb_bbba_0242ac1c0002row56_col18,#T_58b9e05e_a161_11eb_bbba_0242ac1c0002row56_col19,#T_58b9e05e_a161_11eb_bbba_0242ac1c0002row56_col20,#T_58b9e05e_a161_11eb_bbba_0242ac1c0002row56_col21,#T_58b9e05e_a161_11eb_bbba_0242ac1c0002row56_col22,#T_58b9e05e_a161_11eb_bbba_0242ac1c0002row56_col23,#T_58b9e05e_a161_11eb_bbba_0242ac1c0002row57_col4,#T_58b9e05e_a161_11eb_bbba_0242ac1c0002row57_col5,#T_58b9e05e_a161_11eb_bbba_0242ac1c0002row57_col6,#T_58b9e05e_a161_11eb_bbba_0242ac1c0002row57_col7,#T_58b9e05e_a161_11eb_bbba_0242ac1c0002row57_col8,#T_58b9e05e_a161_11eb_bbba_0242ac1c0002row57_col9,#T_58b9e05e_a161_11eb_bbba_0242ac1c0002row57_col10,#T_58b9e05e_a161_11eb_bbba_0242ac1c0002row57_col11,#T_58b9e05e_a161_11eb_bbba_0242ac1c0002row57_col12,#T_58b9e05e_a161_11eb_bbba_0242ac1c0002row57_col13,#T_58b9e05e_a161_11eb_bbba_0242ac1c0002row57_col14,#T_58b9e05e_a161_11eb_bbba_0242ac1c0002row57_col15,#T_58b9e05e_a161_11eb_bbba_0242ac1c0002row57_col16,#T_58b9e05e_a161_11eb_bbba_0242ac1c0002row57_col17,#T_58b9e05e_a161_11eb_bbba_0242ac1c0002row57_col18,#T_58b9e05e_a161_11eb_bbba_0242ac1c0002row57_col19,#T_58b9e05e_a161_11eb_bbba_0242ac1c0002row57_col20,#T_58b9e05e_a161_11eb_bbba_0242ac1c0002row57_col21,#T_58b9e05e_a161_11eb_bbba_0242ac1c0002row57_col22,#T_58b9e05e_a161_11eb_bbba_0242ac1c0002row57_col23,#T_58b9e05e_a161_11eb_bbba_0242ac1c0002row58_col4,#T_58b9e05e_a161_11eb_bbba_0242ac1c0002row58_col5,#T_58b9e05e_a161_11eb_bbba_0242ac1c0002row58_col6,#T_58b9e05e_a161_11eb_bbba_0242ac1c0002row58_col7,#T_58b9e05e_a161_11eb_bbba_0242ac1c0002row58_col8,#T_58b9e05e_a161_11eb_bbba_0242ac1c0002row58_col9,#T_58b9e05e_a161_11eb_bbba_0242ac1c0002row58_col10,#T_58b9e05e_a161_11eb_bbba_0242ac1c0002row58_col11,#T_58b9e05e_a161_11eb_bbba_0242ac1c0002row58_col12,#T_58b9e05e_a161_11eb_bbba_0242ac1c0002row58_col13,#T_58b9e05e_a161_11eb_bbba_0242ac1c0002row58_col14,#T_58b9e05e_a161_11eb_bbba_0242ac1c0002row58_col15,#T_58b9e05e_a161_11eb_bbba_0242ac1c0002row58_col16,#T_58b9e05e_a161_11eb_bbba_0242ac1c0002row58_col17,#T_58b9e05e_a161_11eb_bbba_0242ac1c0002row58_col18,#T_58b9e05e_a161_11eb_bbba_0242ac1c0002row58_col19,#T_58b9e05e_a161_11eb_bbba_0242ac1c0002row58_col20,#T_58b9e05e_a161_11eb_bbba_0242ac1c0002row58_col21,#T_58b9e05e_a161_11eb_bbba_0242ac1c0002row58_col22,#T_58b9e05e_a161_11eb_bbba_0242ac1c0002row58_col23,#T_58b9e05e_a161_11eb_bbba_0242ac1c0002row59_col4,#T_58b9e05e_a161_11eb_bbba_0242ac1c0002row59_col5,#T_58b9e05e_a161_11eb_bbba_0242ac1c0002row59_col6,#T_58b9e05e_a161_11eb_bbba_0242ac1c0002row59_col7,#T_58b9e05e_a161_11eb_bbba_0242ac1c0002row59_col8,#T_58b9e05e_a161_11eb_bbba_0242ac1c0002row59_col9,#T_58b9e05e_a161_11eb_bbba_0242ac1c0002row59_col10,#T_58b9e05e_a161_11eb_bbba_0242ac1c0002row59_col11,#T_58b9e05e_a161_11eb_bbba_0242ac1c0002row59_col12,#T_58b9e05e_a161_11eb_bbba_0242ac1c0002row59_col13,#T_58b9e05e_a161_11eb_bbba_0242ac1c0002row59_col14,#T_58b9e05e_a161_11eb_bbba_0242ac1c0002row59_col15,#T_58b9e05e_a161_11eb_bbba_0242ac1c0002row59_col16,#T_58b9e05e_a161_11eb_bbba_0242ac1c0002row59_col17,#T_58b9e05e_a161_11eb_bbba_0242ac1c0002row59_col18,#T_58b9e05e_a161_11eb_bbba_0242ac1c0002row59_col19,#T_58b9e05e_a161_11eb_bbba_0242ac1c0002row59_col20,#T_58b9e05e_a161_11eb_bbba_0242ac1c0002row59_col21,#T_58b9e05e_a161_11eb_bbba_0242ac1c0002row59_col22,#T_58b9e05e_a161_11eb_bbba_0242ac1c0002row59_col23,#T_58b9e05e_a161_11eb_bbba_0242ac1c0002row60_col4,#T_58b9e05e_a161_11eb_bbba_0242ac1c0002row60_col5,#T_58b9e05e_a161_11eb_bbba_0242ac1c0002row60_col6,#T_58b9e05e_a161_11eb_bbba_0242ac1c0002row60_col7,#T_58b9e05e_a161_11eb_bbba_0242ac1c0002row60_col8,#T_58b9e05e_a161_11eb_bbba_0242ac1c0002row60_col9,#T_58b9e05e_a161_11eb_bbba_0242ac1c0002row60_col10,#T_58b9e05e_a161_11eb_bbba_0242ac1c0002row60_col11,#T_58b9e05e_a161_11eb_bbba_0242ac1c0002row60_col12,#T_58b9e05e_a161_11eb_bbba_0242ac1c0002row60_col13,#T_58b9e05e_a161_11eb_bbba_0242ac1c0002row60_col14,#T_58b9e05e_a161_11eb_bbba_0242ac1c0002row60_col15,#T_58b9e05e_a161_11eb_bbba_0242ac1c0002row60_col16,#T_58b9e05e_a161_11eb_bbba_0242ac1c0002row60_col17,#T_58b9e05e_a161_11eb_bbba_0242ac1c0002row60_col18,#T_58b9e05e_a161_11eb_bbba_0242ac1c0002row60_col19,#T_58b9e05e_a161_11eb_bbba_0242ac1c0002row60_col20,#T_58b9e05e_a161_11eb_bbba_0242ac1c0002row60_col21,#T_58b9e05e_a161_11eb_bbba_0242ac1c0002row60_col22,#T_58b9e05e_a161_11eb_bbba_0242ac1c0002row60_col23,#T_58b9e05e_a161_11eb_bbba_0242ac1c0002row61_col4,#T_58b9e05e_a161_11eb_bbba_0242ac1c0002row61_col5,#T_58b9e05e_a161_11eb_bbba_0242ac1c0002row61_col6,#T_58b9e05e_a161_11eb_bbba_0242ac1c0002row61_col7,#T_58b9e05e_a161_11eb_bbba_0242ac1c0002row61_col8,#T_58b9e05e_a161_11eb_bbba_0242ac1c0002row61_col9,#T_58b9e05e_a161_11eb_bbba_0242ac1c0002row61_col10,#T_58b9e05e_a161_11eb_bbba_0242ac1c0002row61_col11,#T_58b9e05e_a161_11eb_bbba_0242ac1c0002row61_col12,#T_58b9e05e_a161_11eb_bbba_0242ac1c0002row61_col13,#T_58b9e05e_a161_11eb_bbba_0242ac1c0002row61_col14,#T_58b9e05e_a161_11eb_bbba_0242ac1c0002row61_col15,#T_58b9e05e_a161_11eb_bbba_0242ac1c0002row61_col16,#T_58b9e05e_a161_11eb_bbba_0242ac1c0002row61_col17,#T_58b9e05e_a161_11eb_bbba_0242ac1c0002row61_col18,#T_58b9e05e_a161_11eb_bbba_0242ac1c0002row61_col19,#T_58b9e05e_a161_11eb_bbba_0242ac1c0002row61_col20,#T_58b9e05e_a161_11eb_bbba_0242ac1c0002row61_col21,#T_58b9e05e_a161_11eb_bbba_0242ac1c0002row61_col22,#T_58b9e05e_a161_11eb_bbba_0242ac1c0002row61_col23,#T_58b9e05e_a161_11eb_bbba_0242ac1c0002row62_col4,#T_58b9e05e_a161_11eb_bbba_0242ac1c0002row62_col5,#T_58b9e05e_a161_11eb_bbba_0242ac1c0002row62_col6,#T_58b9e05e_a161_11eb_bbba_0242ac1c0002row62_col7,#T_58b9e05e_a161_11eb_bbba_0242ac1c0002row62_col8,#T_58b9e05e_a161_11eb_bbba_0242ac1c0002row62_col9,#T_58b9e05e_a161_11eb_bbba_0242ac1c0002row62_col10,#T_58b9e05e_a161_11eb_bbba_0242ac1c0002row62_col11,#T_58b9e05e_a161_11eb_bbba_0242ac1c0002row62_col12,#T_58b9e05e_a161_11eb_bbba_0242ac1c0002row62_col13,#T_58b9e05e_a161_11eb_bbba_0242ac1c0002row62_col14,#T_58b9e05e_a161_11eb_bbba_0242ac1c0002row62_col15,#T_58b9e05e_a161_11eb_bbba_0242ac1c0002row62_col16,#T_58b9e05e_a161_11eb_bbba_0242ac1c0002row62_col17,#T_58b9e05e_a161_11eb_bbba_0242ac1c0002row62_col18,#T_58b9e05e_a161_11eb_bbba_0242ac1c0002row62_col19,#T_58b9e05e_a161_11eb_bbba_0242ac1c0002row62_col20,#T_58b9e05e_a161_11eb_bbba_0242ac1c0002row62_col21,#T_58b9e05e_a161_11eb_bbba_0242ac1c0002row62_col22,#T_58b9e05e_a161_11eb_bbba_0242ac1c0002row62_col23,#T_58b9e05e_a161_11eb_bbba_0242ac1c0002row63_col4,#T_58b9e05e_a161_11eb_bbba_0242ac1c0002row63_col5,#T_58b9e05e_a161_11eb_bbba_0242ac1c0002row63_col6,#T_58b9e05e_a161_11eb_bbba_0242ac1c0002row63_col7,#T_58b9e05e_a161_11eb_bbba_0242ac1c0002row63_col8,#T_58b9e05e_a161_11eb_bbba_0242ac1c0002row63_col9,#T_58b9e05e_a161_11eb_bbba_0242ac1c0002row63_col10,#T_58b9e05e_a161_11eb_bbba_0242ac1c0002row63_col11,#T_58b9e05e_a161_11eb_bbba_0242ac1c0002row63_col12,#T_58b9e05e_a161_11eb_bbba_0242ac1c0002row63_col13,#T_58b9e05e_a161_11eb_bbba_0242ac1c0002row63_col14,#T_58b9e05e_a161_11eb_bbba_0242ac1c0002row63_col15,#T_58b9e05e_a161_11eb_bbba_0242ac1c0002row63_col16,#T_58b9e05e_a161_11eb_bbba_0242ac1c0002row63_col17,#T_58b9e05e_a161_11eb_bbba_0242ac1c0002row63_col18,#T_58b9e05e_a161_11eb_bbba_0242ac1c0002row63_col19,#T_58b9e05e_a161_11eb_bbba_0242ac1c0002row63_col20,#T_58b9e05e_a161_11eb_bbba_0242ac1c0002row63_col21,#T_58b9e05e_a161_11eb_bbba_0242ac1c0002row63_col22,#T_58b9e05e_a161_11eb_bbba_0242ac1c0002row63_col23,#T_58b9e05e_a161_11eb_bbba_0242ac1c0002row64_col4,#T_58b9e05e_a161_11eb_bbba_0242ac1c0002row64_col5,#T_58b9e05e_a161_11eb_bbba_0242ac1c0002row64_col6,#T_58b9e05e_a161_11eb_bbba_0242ac1c0002row64_col7,#T_58b9e05e_a161_11eb_bbba_0242ac1c0002row64_col8,#T_58b9e05e_a161_11eb_bbba_0242ac1c0002row64_col9,#T_58b9e05e_a161_11eb_bbba_0242ac1c0002row64_col10,#T_58b9e05e_a161_11eb_bbba_0242ac1c0002row64_col11,#T_58b9e05e_a161_11eb_bbba_0242ac1c0002row64_col12,#T_58b9e05e_a161_11eb_bbba_0242ac1c0002row64_col13,#T_58b9e05e_a161_11eb_bbba_0242ac1c0002row64_col14,#T_58b9e05e_a161_11eb_bbba_0242ac1c0002row64_col15,#T_58b9e05e_a161_11eb_bbba_0242ac1c0002row64_col16,#T_58b9e05e_a161_11eb_bbba_0242ac1c0002row64_col17,#T_58b9e05e_a161_11eb_bbba_0242ac1c0002row64_col18,#T_58b9e05e_a161_11eb_bbba_0242ac1c0002row64_col19,#T_58b9e05e_a161_11eb_bbba_0242ac1c0002row64_col20,#T_58b9e05e_a161_11eb_bbba_0242ac1c0002row64_col21,#T_58b9e05e_a161_11eb_bbba_0242ac1c0002row64_col22,#T_58b9e05e_a161_11eb_bbba_0242ac1c0002row64_col23,#T_58b9e05e_a161_11eb_bbba_0242ac1c0002row65_col4,#T_58b9e05e_a161_11eb_bbba_0242ac1c0002row65_col5,#T_58b9e05e_a161_11eb_bbba_0242ac1c0002row65_col6,#T_58b9e05e_a161_11eb_bbba_0242ac1c0002row65_col7,#T_58b9e05e_a161_11eb_bbba_0242ac1c0002row65_col8,#T_58b9e05e_a161_11eb_bbba_0242ac1c0002row65_col9,#T_58b9e05e_a161_11eb_bbba_0242ac1c0002row65_col10,#T_58b9e05e_a161_11eb_bbba_0242ac1c0002row65_col11,#T_58b9e05e_a161_11eb_bbba_0242ac1c0002row65_col12,#T_58b9e05e_a161_11eb_bbba_0242ac1c0002row65_col13,#T_58b9e05e_a161_11eb_bbba_0242ac1c0002row65_col14,#T_58b9e05e_a161_11eb_bbba_0242ac1c0002row65_col15,#T_58b9e05e_a161_11eb_bbba_0242ac1c0002row65_col16,#T_58b9e05e_a161_11eb_bbba_0242ac1c0002row65_col17,#T_58b9e05e_a161_11eb_bbba_0242ac1c0002row65_col18,#T_58b9e05e_a161_11eb_bbba_0242ac1c0002row65_col19,#T_58b9e05e_a161_11eb_bbba_0242ac1c0002row65_col20,#T_58b9e05e_a161_11eb_bbba_0242ac1c0002row65_col21,#T_58b9e05e_a161_11eb_bbba_0242ac1c0002row65_col22,#T_58b9e05e_a161_11eb_bbba_0242ac1c0002row65_col23{\n",
              "            text-align:  center;\n",
              "        }#T_58b9e05e_a161_11eb_bbba_0242ac1c0002row1_col0{\n",
              "            text-align:  center;\n",
              "            width:  10em;\n",
              "             height:  80%;\n",
              "            background:  linear-gradient(90deg,#f5f8d6 95.0%, transparent 95.0%);\n",
              "            color:  #251e1b;\n",
              "            font-size:  12px;\n",
              "        }#T_58b9e05e_a161_11eb_bbba_0242ac1c0002row1_col1{\n",
              "            text-align:  center;\n",
              "            width:  10em;\n",
              "             height:  80%;\n",
              "            background:  linear-gradient(90deg,#c778c8 95.0%, transparent 95.0%);\n",
              "            color:  #251e1b;\n",
              "            font-size:  12px;\n",
              "        }#T_58b9e05e_a161_11eb_bbba_0242ac1c0002row1_col2{\n",
              "            text-align:  center;\n",
              "            width:  10em;\n",
              "             height:  80%;\n",
              "            background:  linear-gradient(90deg,#ff4971 95.0%, transparent 95.0%);\n",
              "            color:  #251e1b;\n",
              "            font-size:  12px;\n",
              "        }#T_58b9e05e_a161_11eb_bbba_0242ac1c0002row1_col3{\n",
              "            text-align:  center;\n",
              "            width:  10em;\n",
              "             height:  80%;\n",
              "            background:  linear-gradient(90deg,#aadbaa 95.0%, transparent 95.0%);\n",
              "            color:  #251e1b;\n",
              "            font-size:  12px;\n",
              "        }#T_58b9e05e_a161_11eb_bbba_0242ac1c0002row2_col0{\n",
              "            text-align:  center;\n",
              "            width:  10em;\n",
              "             height:  80%;\n",
              "            background:  linear-gradient(90deg,#f5f8d6 94.9%, transparent 94.9%);\n",
              "            color:  #251e1b;\n",
              "            font-size:  12px;\n",
              "        }#T_58b9e05e_a161_11eb_bbba_0242ac1c0002row2_col1{\n",
              "            text-align:  center;\n",
              "            width:  10em;\n",
              "             height:  80%;\n",
              "            background:  linear-gradient(90deg,#c778c8 94.9%, transparent 94.9%);\n",
              "            color:  #251e1b;\n",
              "            font-size:  12px;\n",
              "        }#T_58b9e05e_a161_11eb_bbba_0242ac1c0002row2_col2{\n",
              "            text-align:  center;\n",
              "            width:  10em;\n",
              "             height:  80%;\n",
              "            background:  linear-gradient(90deg,#ff4971 94.8%, transparent 94.8%);\n",
              "            color:  #251e1b;\n",
              "            font-size:  12px;\n",
              "        }#T_58b9e05e_a161_11eb_bbba_0242ac1c0002row2_col3{\n",
              "            text-align:  center;\n",
              "            width:  10em;\n",
              "             height:  80%;\n",
              "            background:  linear-gradient(90deg,#aadbaa 94.9%, transparent 94.9%);\n",
              "            color:  #251e1b;\n",
              "            font-size:  12px;\n",
              "        }#T_58b9e05e_a161_11eb_bbba_0242ac1c0002row3_col0{\n",
              "            text-align:  center;\n",
              "            width:  10em;\n",
              "             height:  80%;\n",
              "            background:  linear-gradient(90deg,#f5f8d6 94.8%, transparent 94.8%);\n",
              "            color:  #251e1b;\n",
              "            font-size:  12px;\n",
              "        }#T_58b9e05e_a161_11eb_bbba_0242ac1c0002row3_col1{\n",
              "            text-align:  center;\n",
              "            width:  10em;\n",
              "             height:  80%;\n",
              "            background:  linear-gradient(90deg,#c778c8 94.8%, transparent 94.8%);\n",
              "            color:  #251e1b;\n",
              "            font-size:  12px;\n",
              "        }#T_58b9e05e_a161_11eb_bbba_0242ac1c0002row3_col2{\n",
              "            text-align:  center;\n",
              "            width:  10em;\n",
              "             height:  80%;\n",
              "            background:  linear-gradient(90deg,#ff4971 94.7%, transparent 94.7%);\n",
              "            color:  #251e1b;\n",
              "            font-size:  12px;\n",
              "        }#T_58b9e05e_a161_11eb_bbba_0242ac1c0002row3_col3{\n",
              "            text-align:  center;\n",
              "            width:  10em;\n",
              "             height:  80%;\n",
              "            background:  linear-gradient(90deg,#aadbaa 94.8%, transparent 94.8%);\n",
              "            color:  #251e1b;\n",
              "            font-size:  12px;\n",
              "        }#T_58b9e05e_a161_11eb_bbba_0242ac1c0002row4_col0{\n",
              "            text-align:  center;\n",
              "            width:  10em;\n",
              "             height:  80%;\n",
              "            background:  linear-gradient(90deg,#f5f8d6 94.6%, transparent 94.6%);\n",
              "            color:  #251e1b;\n",
              "            font-size:  12px;\n",
              "        }#T_58b9e05e_a161_11eb_bbba_0242ac1c0002row4_col1{\n",
              "            text-align:  center;\n",
              "            width:  10em;\n",
              "             height:  80%;\n",
              "            background:  linear-gradient(90deg,#c778c8 94.6%, transparent 94.6%);\n",
              "            color:  #251e1b;\n",
              "            font-size:  12px;\n",
              "        }#T_58b9e05e_a161_11eb_bbba_0242ac1c0002row4_col2{\n",
              "            text-align:  center;\n",
              "            width:  10em;\n",
              "             height:  80%;\n",
              "            background:  linear-gradient(90deg,#ff4971 94.6%, transparent 94.6%);\n",
              "            color:  #251e1b;\n",
              "            font-size:  12px;\n",
              "        }#T_58b9e05e_a161_11eb_bbba_0242ac1c0002row4_col3{\n",
              "            text-align:  center;\n",
              "            width:  10em;\n",
              "             height:  80%;\n",
              "            background:  linear-gradient(90deg,#aadbaa 94.6%, transparent 94.6%);\n",
              "            color:  #251e1b;\n",
              "            font-size:  12px;\n",
              "        }#T_58b9e05e_a161_11eb_bbba_0242ac1c0002row5_col0{\n",
              "            text-align:  center;\n",
              "            width:  10em;\n",
              "             height:  80%;\n",
              "            background:  linear-gradient(90deg,#f5f8d6 94.5%, transparent 94.5%);\n",
              "            color:  #251e1b;\n",
              "            font-size:  12px;\n",
              "        }#T_58b9e05e_a161_11eb_bbba_0242ac1c0002row5_col1{\n",
              "            text-align:  center;\n",
              "            width:  10em;\n",
              "             height:  80%;\n",
              "            background:  linear-gradient(90deg,#c778c8 94.5%, transparent 94.5%);\n",
              "            color:  #251e1b;\n",
              "            font-size:  12px;\n",
              "        }#T_58b9e05e_a161_11eb_bbba_0242ac1c0002row5_col2{\n",
              "            text-align:  center;\n",
              "            width:  10em;\n",
              "             height:  80%;\n",
              "            background:  linear-gradient(90deg,#ff4971 94.5%, transparent 94.5%);\n",
              "            color:  #251e1b;\n",
              "            font-size:  12px;\n",
              "        }#T_58b9e05e_a161_11eb_bbba_0242ac1c0002row5_col3{\n",
              "            text-align:  center;\n",
              "            width:  10em;\n",
              "             height:  80%;\n",
              "            background:  linear-gradient(90deg,#aadbaa 94.5%, transparent 94.5%);\n",
              "            color:  #251e1b;\n",
              "            font-size:  12px;\n",
              "        }#T_58b9e05e_a161_11eb_bbba_0242ac1c0002row6_col0,#T_58b9e05e_a161_11eb_bbba_0242ac1c0002row7_col0{\n",
              "            text-align:  center;\n",
              "            width:  10em;\n",
              "             height:  80%;\n",
              "            background:  linear-gradient(90deg,#f5f8d6 94.3%, transparent 94.3%);\n",
              "            color:  #251e1b;\n",
              "            font-size:  12px;\n",
              "        }#T_58b9e05e_a161_11eb_bbba_0242ac1c0002row6_col1{\n",
              "            text-align:  center;\n",
              "            width:  10em;\n",
              "             height:  80%;\n",
              "            background:  linear-gradient(90deg,#c778c8 94.3%, transparent 94.3%);\n",
              "            color:  #251e1b;\n",
              "            font-size:  12px;\n",
              "        }#T_58b9e05e_a161_11eb_bbba_0242ac1c0002row6_col2{\n",
              "            text-align:  center;\n",
              "            width:  10em;\n",
              "             height:  80%;\n",
              "            background:  linear-gradient(90deg,#ff4971 94.3%, transparent 94.3%);\n",
              "            color:  #251e1b;\n",
              "            font-size:  12px;\n",
              "        }#T_58b9e05e_a161_11eb_bbba_0242ac1c0002row6_col3{\n",
              "            text-align:  center;\n",
              "            width:  10em;\n",
              "             height:  80%;\n",
              "            background:  linear-gradient(90deg,#aadbaa 94.4%, transparent 94.4%);\n",
              "            color:  #251e1b;\n",
              "            font-size:  12px;\n",
              "        }#T_58b9e05e_a161_11eb_bbba_0242ac1c0002row7_col1,#T_58b9e05e_a161_11eb_bbba_0242ac1c0002row8_col1,#T_58b9e05e_a161_11eb_bbba_0242ac1c0002row9_col1{\n",
              "            text-align:  center;\n",
              "            width:  10em;\n",
              "             height:  80%;\n",
              "            background:  linear-gradient(90deg,#c778c8 94.2%, transparent 94.2%);\n",
              "            color:  #251e1b;\n",
              "            font-size:  12px;\n",
              "        }#T_58b9e05e_a161_11eb_bbba_0242ac1c0002row7_col2,#T_58b9e05e_a161_11eb_bbba_0242ac1c0002row8_col2,#T_58b9e05e_a161_11eb_bbba_0242ac1c0002row9_col2{\n",
              "            text-align:  center;\n",
              "            width:  10em;\n",
              "             height:  80%;\n",
              "            background:  linear-gradient(90deg,#ff4971 94.2%, transparent 94.2%);\n",
              "            color:  #251e1b;\n",
              "            font-size:  12px;\n",
              "        }#T_58b9e05e_a161_11eb_bbba_0242ac1c0002row7_col3,#T_58b9e05e_a161_11eb_bbba_0242ac1c0002row8_col3,#T_58b9e05e_a161_11eb_bbba_0242ac1c0002row9_col3{\n",
              "            text-align:  center;\n",
              "            width:  10em;\n",
              "             height:  80%;\n",
              "            background:  linear-gradient(90deg,#aadbaa 94.2%, transparent 94.2%);\n",
              "            color:  #251e1b;\n",
              "            font-size:  12px;\n",
              "        }#T_58b9e05e_a161_11eb_bbba_0242ac1c0002row8_col0,#T_58b9e05e_a161_11eb_bbba_0242ac1c0002row9_col0{\n",
              "            text-align:  center;\n",
              "            width:  10em;\n",
              "             height:  80%;\n",
              "            background:  linear-gradient(90deg,#f5f8d6 94.2%, transparent 94.2%);\n",
              "            color:  #251e1b;\n",
              "            font-size:  12px;\n",
              "        }#T_58b9e05e_a161_11eb_bbba_0242ac1c0002row10_col0,#T_58b9e05e_a161_11eb_bbba_0242ac1c0002row11_col0,#T_58b9e05e_a161_11eb_bbba_0242ac1c0002row12_col0,#T_58b9e05e_a161_11eb_bbba_0242ac1c0002row13_col0,#T_58b9e05e_a161_11eb_bbba_0242ac1c0002row14_col0{\n",
              "            text-align:  center;\n",
              "            width:  10em;\n",
              "             height:  80%;\n",
              "            background:  linear-gradient(90deg,#f5f8d6 94.1%, transparent 94.1%);\n",
              "            color:  #251e1b;\n",
              "            font-size:  12px;\n",
              "        }#T_58b9e05e_a161_11eb_bbba_0242ac1c0002row10_col1,#T_58b9e05e_a161_11eb_bbba_0242ac1c0002row11_col1,#T_58b9e05e_a161_11eb_bbba_0242ac1c0002row12_col1,#T_58b9e05e_a161_11eb_bbba_0242ac1c0002row13_col1,#T_58b9e05e_a161_11eb_bbba_0242ac1c0002row14_col1{\n",
              "            text-align:  center;\n",
              "            width:  10em;\n",
              "             height:  80%;\n",
              "            background:  linear-gradient(90deg,#c778c8 94.1%, transparent 94.1%);\n",
              "            color:  #251e1b;\n",
              "            font-size:  12px;\n",
              "        }#T_58b9e05e_a161_11eb_bbba_0242ac1c0002row10_col2,#T_58b9e05e_a161_11eb_bbba_0242ac1c0002row11_col2,#T_58b9e05e_a161_11eb_bbba_0242ac1c0002row12_col2,#T_58b9e05e_a161_11eb_bbba_0242ac1c0002row16_col2{\n",
              "            text-align:  center;\n",
              "            width:  10em;\n",
              "             height:  80%;\n",
              "            background:  linear-gradient(90deg,#ff4971 94.1%, transparent 94.1%);\n",
              "            color:  #251e1b;\n",
              "            font-size:  12px;\n",
              "        }#T_58b9e05e_a161_11eb_bbba_0242ac1c0002row10_col3,#T_58b9e05e_a161_11eb_bbba_0242ac1c0002row11_col3,#T_58b9e05e_a161_11eb_bbba_0242ac1c0002row12_col3,#T_58b9e05e_a161_11eb_bbba_0242ac1c0002row13_col3,#T_58b9e05e_a161_11eb_bbba_0242ac1c0002row14_col3,#T_58b9e05e_a161_11eb_bbba_0242ac1c0002row15_col3{\n",
              "            text-align:  center;\n",
              "            width:  10em;\n",
              "             height:  80%;\n",
              "            background:  linear-gradient(90deg,#aadbaa 94.1%, transparent 94.1%);\n",
              "            color:  #251e1b;\n",
              "            font-size:  12px;\n",
              "        }#T_58b9e05e_a161_11eb_bbba_0242ac1c0002row13_col2,#T_58b9e05e_a161_11eb_bbba_0242ac1c0002row14_col2,#T_58b9e05e_a161_11eb_bbba_0242ac1c0002row15_col2{\n",
              "            text-align:  center;\n",
              "            width:  10em;\n",
              "             height:  80%;\n",
              "            background:  linear-gradient(90deg,#ff4971 94.0%, transparent 94.0%);\n",
              "            color:  #251e1b;\n",
              "            font-size:  12px;\n",
              "        }#T_58b9e05e_a161_11eb_bbba_0242ac1c0002row15_col0,#T_58b9e05e_a161_11eb_bbba_0242ac1c0002row17_col0{\n",
              "            text-align:  center;\n",
              "            width:  10em;\n",
              "             height:  80%;\n",
              "            background:  linear-gradient(90deg,#f5f8d6 94.0%, transparent 94.0%);\n",
              "            color:  #251e1b;\n",
              "            font-size:  12px;\n",
              "        }#T_58b9e05e_a161_11eb_bbba_0242ac1c0002row15_col1,#T_58b9e05e_a161_11eb_bbba_0242ac1c0002row17_col1{\n",
              "            text-align:  center;\n",
              "            width:  10em;\n",
              "             height:  80%;\n",
              "            background:  linear-gradient(90deg,#c778c8 94.0%, transparent 94.0%);\n",
              "            color:  #251e1b;\n",
              "            font-size:  12px;\n",
              "        }#T_58b9e05e_a161_11eb_bbba_0242ac1c0002row16_col0,#T_58b9e05e_a161_11eb_bbba_0242ac1c0002row18_col0,#T_58b9e05e_a161_11eb_bbba_0242ac1c0002row19_col0{\n",
              "            text-align:  center;\n",
              "            width:  10em;\n",
              "             height:  80%;\n",
              "            background:  linear-gradient(90deg,#f5f8d6 93.9%, transparent 93.9%);\n",
              "            color:  #251e1b;\n",
              "            font-size:  12px;\n",
              "        }#T_58b9e05e_a161_11eb_bbba_0242ac1c0002row16_col1,#T_58b9e05e_a161_11eb_bbba_0242ac1c0002row18_col1,#T_58b9e05e_a161_11eb_bbba_0242ac1c0002row19_col1{\n",
              "            text-align:  center;\n",
              "            width:  10em;\n",
              "             height:  80%;\n",
              "            background:  linear-gradient(90deg,#c778c8 93.9%, transparent 93.9%);\n",
              "            color:  #251e1b;\n",
              "            font-size:  12px;\n",
              "        }#T_58b9e05e_a161_11eb_bbba_0242ac1c0002row16_col3,#T_58b9e05e_a161_11eb_bbba_0242ac1c0002row19_col3{\n",
              "            text-align:  center;\n",
              "            width:  10em;\n",
              "             height:  80%;\n",
              "            background:  linear-gradient(90deg,#aadbaa 93.8%, transparent 93.8%);\n",
              "            color:  #251e1b;\n",
              "            font-size:  12px;\n",
              "        }#T_58b9e05e_a161_11eb_bbba_0242ac1c0002row17_col2,#T_58b9e05e_a161_11eb_bbba_0242ac1c0002row18_col2,#T_58b9e05e_a161_11eb_bbba_0242ac1c0002row19_col2,#T_58b9e05e_a161_11eb_bbba_0242ac1c0002row20_col2{\n",
              "            text-align:  center;\n",
              "            width:  10em;\n",
              "             height:  80%;\n",
              "            background:  linear-gradient(90deg,#ff4971 93.9%, transparent 93.9%);\n",
              "            color:  #251e1b;\n",
              "            font-size:  12px;\n",
              "        }#T_58b9e05e_a161_11eb_bbba_0242ac1c0002row17_col3{\n",
              "            text-align:  center;\n",
              "            width:  10em;\n",
              "             height:  80%;\n",
              "            background:  linear-gradient(90deg,#aadbaa 94.0%, transparent 94.0%);\n",
              "            color:  #251e1b;\n",
              "            font-size:  12px;\n",
              "        }#T_58b9e05e_a161_11eb_bbba_0242ac1c0002row18_col3,#T_58b9e05e_a161_11eb_bbba_0242ac1c0002row20_col3{\n",
              "            text-align:  center;\n",
              "            width:  10em;\n",
              "             height:  80%;\n",
              "            background:  linear-gradient(90deg,#aadbaa 93.9%, transparent 93.9%);\n",
              "            color:  #251e1b;\n",
              "            font-size:  12px;\n",
              "        }#T_58b9e05e_a161_11eb_bbba_0242ac1c0002row20_col0{\n",
              "            text-align:  center;\n",
              "            width:  10em;\n",
              "             height:  80%;\n",
              "            background:  linear-gradient(90deg,#f5f8d6 93.8%, transparent 93.8%);\n",
              "            color:  #251e1b;\n",
              "            font-size:  12px;\n",
              "        }#T_58b9e05e_a161_11eb_bbba_0242ac1c0002row20_col1{\n",
              "            text-align:  center;\n",
              "            width:  10em;\n",
              "             height:  80%;\n",
              "            background:  linear-gradient(90deg,#c778c8 93.8%, transparent 93.8%);\n",
              "            color:  #251e1b;\n",
              "            font-size:  12px;\n",
              "        }#T_58b9e05e_a161_11eb_bbba_0242ac1c0002row21_col0,#T_58b9e05e_a161_11eb_bbba_0242ac1c0002row22_col0{\n",
              "            text-align:  center;\n",
              "            width:  10em;\n",
              "             height:  80%;\n",
              "            background:  linear-gradient(90deg,#f5f8d6 93.7%, transparent 93.7%);\n",
              "            color:  #251e1b;\n",
              "            font-size:  12px;\n",
              "        }#T_58b9e05e_a161_11eb_bbba_0242ac1c0002row21_col1,#T_58b9e05e_a161_11eb_bbba_0242ac1c0002row22_col1{\n",
              "            text-align:  center;\n",
              "            width:  10em;\n",
              "             height:  80%;\n",
              "            background:  linear-gradient(90deg,#c778c8 93.7%, transparent 93.7%);\n",
              "            color:  #251e1b;\n",
              "            font-size:  12px;\n",
              "        }#T_58b9e05e_a161_11eb_bbba_0242ac1c0002row21_col2,#T_58b9e05e_a161_11eb_bbba_0242ac1c0002row23_col2,#T_58b9e05e_a161_11eb_bbba_0242ac1c0002row32_col2{\n",
              "            text-align:  center;\n",
              "            width:  10em;\n",
              "             height:  80%;\n",
              "            background:  linear-gradient(90deg,#ff4971 93.7%, transparent 93.7%);\n",
              "            color:  #251e1b;\n",
              "            font-size:  12px;\n",
              "        }#T_58b9e05e_a161_11eb_bbba_0242ac1c0002row21_col3{\n",
              "            text-align:  center;\n",
              "            width:  10em;\n",
              "             height:  80%;\n",
              "            background:  linear-gradient(90deg,#aadbaa 93.7%, transparent 93.7%);\n",
              "            color:  #251e1b;\n",
              "            font-size:  12px;\n",
              "        }#T_58b9e05e_a161_11eb_bbba_0242ac1c0002row22_col2,#T_58b9e05e_a161_11eb_bbba_0242ac1c0002row24_col2{\n",
              "            text-align:  center;\n",
              "            width:  10em;\n",
              "             height:  80%;\n",
              "            background:  linear-gradient(90deg,#ff4971 93.8%, transparent 93.8%);\n",
              "            color:  #251e1b;\n",
              "            font-size:  12px;\n",
              "        }#T_58b9e05e_a161_11eb_bbba_0242ac1c0002row22_col3,#T_58b9e05e_a161_11eb_bbba_0242ac1c0002row23_col3,#T_58b9e05e_a161_11eb_bbba_0242ac1c0002row25_col3,#T_58b9e05e_a161_11eb_bbba_0242ac1c0002row26_col3,#T_58b9e05e_a161_11eb_bbba_0242ac1c0002row27_col3,#T_58b9e05e_a161_11eb_bbba_0242ac1c0002row28_col3,#T_58b9e05e_a161_11eb_bbba_0242ac1c0002row30_col3{\n",
              "            text-align:  center;\n",
              "            width:  10em;\n",
              "             height:  80%;\n",
              "            background:  linear-gradient(90deg,#aadbaa 93.6%, transparent 93.6%);\n",
              "            color:  #251e1b;\n",
              "            font-size:  12px;\n",
              "        }#T_58b9e05e_a161_11eb_bbba_0242ac1c0002row23_col0,#T_58b9e05e_a161_11eb_bbba_0242ac1c0002row24_col0,#T_58b9e05e_a161_11eb_bbba_0242ac1c0002row25_col0,#T_58b9e05e_a161_11eb_bbba_0242ac1c0002row26_col0,#T_58b9e05e_a161_11eb_bbba_0242ac1c0002row28_col0,#T_58b9e05e_a161_11eb_bbba_0242ac1c0002row29_col0{\n",
              "            text-align:  center;\n",
              "            width:  10em;\n",
              "             height:  80%;\n",
              "            background:  linear-gradient(90deg,#f5f8d6 93.6%, transparent 93.6%);\n",
              "            color:  #251e1b;\n",
              "            font-size:  12px;\n",
              "        }#T_58b9e05e_a161_11eb_bbba_0242ac1c0002row23_col1,#T_58b9e05e_a161_11eb_bbba_0242ac1c0002row24_col1,#T_58b9e05e_a161_11eb_bbba_0242ac1c0002row25_col1,#T_58b9e05e_a161_11eb_bbba_0242ac1c0002row26_col1{\n",
              "            text-align:  center;\n",
              "            width:  10em;\n",
              "             height:  80%;\n",
              "            background:  linear-gradient(90deg,#c778c8 93.6%, transparent 93.6%);\n",
              "            color:  #251e1b;\n",
              "            font-size:  12px;\n",
              "        }#T_58b9e05e_a161_11eb_bbba_0242ac1c0002row24_col3,#T_58b9e05e_a161_11eb_bbba_0242ac1c0002row29_col3,#T_58b9e05e_a161_11eb_bbba_0242ac1c0002row31_col3{\n",
              "            text-align:  center;\n",
              "            width:  10em;\n",
              "             height:  80%;\n",
              "            background:  linear-gradient(90deg,#aadbaa 93.5%, transparent 93.5%);\n",
              "            color:  #251e1b;\n",
              "            font-size:  12px;\n",
              "        }#T_58b9e05e_a161_11eb_bbba_0242ac1c0002row25_col2,#T_58b9e05e_a161_11eb_bbba_0242ac1c0002row26_col2,#T_58b9e05e_a161_11eb_bbba_0242ac1c0002row27_col2,#T_58b9e05e_a161_11eb_bbba_0242ac1c0002row29_col2{\n",
              "            text-align:  center;\n",
              "            width:  10em;\n",
              "             height:  80%;\n",
              "            background:  linear-gradient(90deg,#ff4971 93.6%, transparent 93.6%);\n",
              "            color:  #251e1b;\n",
              "            font-size:  12px;\n",
              "        }#T_58b9e05e_a161_11eb_bbba_0242ac1c0002row27_col0,#T_58b9e05e_a161_11eb_bbba_0242ac1c0002row30_col0{\n",
              "            text-align:  center;\n",
              "            width:  10em;\n",
              "             height:  80%;\n",
              "            background:  linear-gradient(90deg,#f5f8d6 93.5%, transparent 93.5%);\n",
              "            color:  #251e1b;\n",
              "            font-size:  12px;\n",
              "        }#T_58b9e05e_a161_11eb_bbba_0242ac1c0002row27_col1,#T_58b9e05e_a161_11eb_bbba_0242ac1c0002row28_col1,#T_58b9e05e_a161_11eb_bbba_0242ac1c0002row29_col1,#T_58b9e05e_a161_11eb_bbba_0242ac1c0002row30_col1{\n",
              "            text-align:  center;\n",
              "            width:  10em;\n",
              "             height:  80%;\n",
              "            background:  linear-gradient(90deg,#c778c8 93.5%, transparent 93.5%);\n",
              "            color:  #251e1b;\n",
              "            font-size:  12px;\n",
              "        }#T_58b9e05e_a161_11eb_bbba_0242ac1c0002row28_col2,#T_58b9e05e_a161_11eb_bbba_0242ac1c0002row30_col2{\n",
              "            text-align:  center;\n",
              "            width:  10em;\n",
              "             height:  80%;\n",
              "            background:  linear-gradient(90deg,#ff4971 93.5%, transparent 93.5%);\n",
              "            color:  #251e1b;\n",
              "            font-size:  12px;\n",
              "        }#T_58b9e05e_a161_11eb_bbba_0242ac1c0002row31_col0{\n",
              "            text-align:  center;\n",
              "            width:  10em;\n",
              "             height:  80%;\n",
              "            background:  linear-gradient(90deg,#f5f8d6 93.4%, transparent 93.4%);\n",
              "            color:  #251e1b;\n",
              "            font-size:  12px;\n",
              "        }#T_58b9e05e_a161_11eb_bbba_0242ac1c0002row31_col1{\n",
              "            text-align:  center;\n",
              "            width:  10em;\n",
              "             height:  80%;\n",
              "            background:  linear-gradient(90deg,#c778c8 93.4%, transparent 93.4%);\n",
              "            color:  #251e1b;\n",
              "            font-size:  12px;\n",
              "        }#T_58b9e05e_a161_11eb_bbba_0242ac1c0002row31_col2{\n",
              "            text-align:  center;\n",
              "            width:  10em;\n",
              "             height:  80%;\n",
              "            background:  linear-gradient(90deg,#ff4971 93.4%, transparent 93.4%);\n",
              "            color:  #251e1b;\n",
              "            font-size:  12px;\n",
              "        }#T_58b9e05e_a161_11eb_bbba_0242ac1c0002row32_col0,#T_58b9e05e_a161_11eb_bbba_0242ac1c0002row33_col0,#T_58b9e05e_a161_11eb_bbba_0242ac1c0002row34_col0{\n",
              "            text-align:  center;\n",
              "            width:  10em;\n",
              "             height:  80%;\n",
              "            background:  linear-gradient(90deg,#f5f8d6 93.3%, transparent 93.3%);\n",
              "            color:  #251e1b;\n",
              "            font-size:  12px;\n",
              "        }#T_58b9e05e_a161_11eb_bbba_0242ac1c0002row32_col1,#T_58b9e05e_a161_11eb_bbba_0242ac1c0002row35_col1,#T_58b9e05e_a161_11eb_bbba_0242ac1c0002row36_col1,#T_58b9e05e_a161_11eb_bbba_0242ac1c0002row37_col1,#T_58b9e05e_a161_11eb_bbba_0242ac1c0002row38_col1{\n",
              "            text-align:  center;\n",
              "            width:  10em;\n",
              "             height:  80%;\n",
              "            background:  linear-gradient(90deg,#c778c8 93.2%, transparent 93.2%);\n",
              "            color:  #251e1b;\n",
              "            font-size:  12px;\n",
              "        }#T_58b9e05e_a161_11eb_bbba_0242ac1c0002row32_col3{\n",
              "            text-align:  center;\n",
              "            width:  10em;\n",
              "             height:  80%;\n",
              "            background:  linear-gradient(90deg,#aadbaa 93.1%, transparent 93.1%);\n",
              "            color:  #251e1b;\n",
              "            font-size:  12px;\n",
              "        }#T_58b9e05e_a161_11eb_bbba_0242ac1c0002row33_col1,#T_58b9e05e_a161_11eb_bbba_0242ac1c0002row34_col1{\n",
              "            text-align:  center;\n",
              "            width:  10em;\n",
              "             height:  80%;\n",
              "            background:  linear-gradient(90deg,#c778c8 93.3%, transparent 93.3%);\n",
              "            color:  #251e1b;\n",
              "            font-size:  12px;\n",
              "        }#T_58b9e05e_a161_11eb_bbba_0242ac1c0002row33_col2,#T_58b9e05e_a161_11eb_bbba_0242ac1c0002row34_col2,#T_58b9e05e_a161_11eb_bbba_0242ac1c0002row36_col2,#T_58b9e05e_a161_11eb_bbba_0242ac1c0002row37_col2,#T_58b9e05e_a161_11eb_bbba_0242ac1c0002row41_col2,#T_58b9e05e_a161_11eb_bbba_0242ac1c0002row47_col2{\n",
              "            text-align:  center;\n",
              "            width:  10em;\n",
              "             height:  80%;\n",
              "            background:  linear-gradient(90deg,#ff4971 93.3%, transparent 93.3%);\n",
              "            color:  #251e1b;\n",
              "            font-size:  12px;\n",
              "        }#T_58b9e05e_a161_11eb_bbba_0242ac1c0002row33_col3{\n",
              "            text-align:  center;\n",
              "            width:  10em;\n",
              "             height:  80%;\n",
              "            background:  linear-gradient(90deg,#aadbaa 93.4%, transparent 93.4%);\n",
              "            color:  #251e1b;\n",
              "            font-size:  12px;\n",
              "        }#T_58b9e05e_a161_11eb_bbba_0242ac1c0002row34_col3,#T_58b9e05e_a161_11eb_bbba_0242ac1c0002row35_col3,#T_58b9e05e_a161_11eb_bbba_0242ac1c0002row36_col3{\n",
              "            text-align:  center;\n",
              "            width:  10em;\n",
              "             height:  80%;\n",
              "            background:  linear-gradient(90deg,#aadbaa 93.3%, transparent 93.3%);\n",
              "            color:  #251e1b;\n",
              "            font-size:  12px;\n",
              "        }#T_58b9e05e_a161_11eb_bbba_0242ac1c0002row35_col0,#T_58b9e05e_a161_11eb_bbba_0242ac1c0002row36_col0,#T_58b9e05e_a161_11eb_bbba_0242ac1c0002row37_col0,#T_58b9e05e_a161_11eb_bbba_0242ac1c0002row38_col0{\n",
              "            text-align:  center;\n",
              "            width:  10em;\n",
              "             height:  80%;\n",
              "            background:  linear-gradient(90deg,#f5f8d6 93.2%, transparent 93.2%);\n",
              "            color:  #251e1b;\n",
              "            font-size:  12px;\n",
              "        }#T_58b9e05e_a161_11eb_bbba_0242ac1c0002row35_col2{\n",
              "            text-align:  center;\n",
              "            width:  10em;\n",
              "             height:  80%;\n",
              "            background:  linear-gradient(90deg,#ff4971 93.2%, transparent 93.2%);\n",
              "            color:  #251e1b;\n",
              "            font-size:  12px;\n",
              "        }#T_58b9e05e_a161_11eb_bbba_0242ac1c0002row37_col3,#T_58b9e05e_a161_11eb_bbba_0242ac1c0002row38_col3,#T_58b9e05e_a161_11eb_bbba_0242ac1c0002row39_col3,#T_58b9e05e_a161_11eb_bbba_0242ac1c0002row40_col3{\n",
              "            text-align:  center;\n",
              "            width:  10em;\n",
              "             height:  80%;\n",
              "            background:  linear-gradient(90deg,#aadbaa 93.2%, transparent 93.2%);\n",
              "            color:  #251e1b;\n",
              "            font-size:  12px;\n",
              "        }#T_58b9e05e_a161_11eb_bbba_0242ac1c0002row38_col2,#T_58b9e05e_a161_11eb_bbba_0242ac1c0002row39_col2,#T_58b9e05e_a161_11eb_bbba_0242ac1c0002row40_col2,#T_58b9e05e_a161_11eb_bbba_0242ac1c0002row42_col2{\n",
              "            text-align:  center;\n",
              "            width:  10em;\n",
              "             height:  80%;\n",
              "            background:  linear-gradient(90deg,#ff4971 93.1%, transparent 93.1%);\n",
              "            color:  #251e1b;\n",
              "            font-size:  12px;\n",
              "        }#T_58b9e05e_a161_11eb_bbba_0242ac1c0002row39_col0,#T_58b9e05e_a161_11eb_bbba_0242ac1c0002row40_col0{\n",
              "            text-align:  center;\n",
              "            width:  10em;\n",
              "             height:  80%;\n",
              "            background:  linear-gradient(90deg,#f5f8d6 93.1%, transparent 93.1%);\n",
              "            color:  #251e1b;\n",
              "            font-size:  12px;\n",
              "        }#T_58b9e05e_a161_11eb_bbba_0242ac1c0002row39_col1,#T_58b9e05e_a161_11eb_bbba_0242ac1c0002row40_col1{\n",
              "            text-align:  center;\n",
              "            width:  10em;\n",
              "             height:  80%;\n",
              "            background:  linear-gradient(90deg,#c778c8 93.1%, transparent 93.1%);\n",
              "            color:  #251e1b;\n",
              "            font-size:  12px;\n",
              "        }#T_58b9e05e_a161_11eb_bbba_0242ac1c0002row41_col0,#T_58b9e05e_a161_11eb_bbba_0242ac1c0002row42_col0,#T_58b9e05e_a161_11eb_bbba_0242ac1c0002row43_col0,#T_58b9e05e_a161_11eb_bbba_0242ac1c0002row44_col0{\n",
              "            text-align:  center;\n",
              "            width:  10em;\n",
              "             height:  80%;\n",
              "            background:  linear-gradient(90deg,#f5f8d6 93.0%, transparent 93.0%);\n",
              "            color:  #251e1b;\n",
              "            font-size:  12px;\n",
              "        }#T_58b9e05e_a161_11eb_bbba_0242ac1c0002row41_col1,#T_58b9e05e_a161_11eb_bbba_0242ac1c0002row45_col1{\n",
              "            text-align:  center;\n",
              "            width:  10em;\n",
              "             height:  80%;\n",
              "            background:  linear-gradient(90deg,#c778c8 92.9%, transparent 92.9%);\n",
              "            color:  #251e1b;\n",
              "            font-size:  12px;\n",
              "        }#T_58b9e05e_a161_11eb_bbba_0242ac1c0002row41_col3,#T_58b9e05e_a161_11eb_bbba_0242ac1c0002row48_col3{\n",
              "            text-align:  center;\n",
              "            width:  10em;\n",
              "             height:  80%;\n",
              "            background:  linear-gradient(90deg,#aadbaa 92.8%, transparent 92.8%);\n",
              "            color:  #251e1b;\n",
              "            font-size:  12px;\n",
              "        }#T_58b9e05e_a161_11eb_bbba_0242ac1c0002row42_col1,#T_58b9e05e_a161_11eb_bbba_0242ac1c0002row43_col1,#T_58b9e05e_a161_11eb_bbba_0242ac1c0002row44_col1{\n",
              "            text-align:  center;\n",
              "            width:  10em;\n",
              "             height:  80%;\n",
              "            background:  linear-gradient(90deg,#c778c8 93.0%, transparent 93.0%);\n",
              "            color:  #251e1b;\n",
              "            font-size:  12px;\n",
              "        }#T_58b9e05e_a161_11eb_bbba_0242ac1c0002row42_col3,#T_58b9e05e_a161_11eb_bbba_0242ac1c0002row45_col3,#T_58b9e05e_a161_11eb_bbba_0242ac1c0002row46_col3{\n",
              "            text-align:  center;\n",
              "            width:  10em;\n",
              "             height:  80%;\n",
              "            background:  linear-gradient(90deg,#aadbaa 92.9%, transparent 92.9%);\n",
              "            color:  #251e1b;\n",
              "            font-size:  12px;\n",
              "        }#T_58b9e05e_a161_11eb_bbba_0242ac1c0002row43_col2,#T_58b9e05e_a161_11eb_bbba_0242ac1c0002row44_col2,#T_58b9e05e_a161_11eb_bbba_0242ac1c0002row45_col2{\n",
              "            text-align:  center;\n",
              "            width:  10em;\n",
              "             height:  80%;\n",
              "            background:  linear-gradient(90deg,#ff4971 93.0%, transparent 93.0%);\n",
              "            color:  #251e1b;\n",
              "            font-size:  12px;\n",
              "        }#T_58b9e05e_a161_11eb_bbba_0242ac1c0002row43_col3,#T_58b9e05e_a161_11eb_bbba_0242ac1c0002row44_col3{\n",
              "            text-align:  center;\n",
              "            width:  10em;\n",
              "             height:  80%;\n",
              "            background:  linear-gradient(90deg,#aadbaa 93.0%, transparent 93.0%);\n",
              "            color:  #251e1b;\n",
              "            font-size:  12px;\n",
              "        }#T_58b9e05e_a161_11eb_bbba_0242ac1c0002row45_col0,#T_58b9e05e_a161_11eb_bbba_0242ac1c0002row46_col0,#T_58b9e05e_a161_11eb_bbba_0242ac1c0002row48_col0{\n",
              "            text-align:  center;\n",
              "            width:  10em;\n",
              "             height:  80%;\n",
              "            background:  linear-gradient(90deg,#f5f8d6 92.9%, transparent 92.9%);\n",
              "            color:  #251e1b;\n",
              "            font-size:  12px;\n",
              "        }#T_58b9e05e_a161_11eb_bbba_0242ac1c0002row46_col1,#T_58b9e05e_a161_11eb_bbba_0242ac1c0002row48_col1,#T_58b9e05e_a161_11eb_bbba_0242ac1c0002row49_col1{\n",
              "            text-align:  center;\n",
              "            width:  10em;\n",
              "             height:  80%;\n",
              "            background:  linear-gradient(90deg,#c778c8 92.8%, transparent 92.8%);\n",
              "            color:  #251e1b;\n",
              "            font-size:  12px;\n",
              "        }#T_58b9e05e_a161_11eb_bbba_0242ac1c0002row46_col2,#T_58b9e05e_a161_11eb_bbba_0242ac1c0002row48_col2,#T_58b9e05e_a161_11eb_bbba_0242ac1c0002row50_col2,#T_58b9e05e_a161_11eb_bbba_0242ac1c0002row54_col2{\n",
              "            text-align:  center;\n",
              "            width:  10em;\n",
              "             height:  80%;\n",
              "            background:  linear-gradient(90deg,#ff4971 92.8%, transparent 92.8%);\n",
              "            color:  #251e1b;\n",
              "            font-size:  12px;\n",
              "        }#T_58b9e05e_a161_11eb_bbba_0242ac1c0002row47_col0,#T_58b9e05e_a161_11eb_bbba_0242ac1c0002row49_col0,#T_58b9e05e_a161_11eb_bbba_0242ac1c0002row50_col0{\n",
              "            text-align:  center;\n",
              "            width:  10em;\n",
              "             height:  80%;\n",
              "            background:  linear-gradient(90deg,#f5f8d6 92.8%, transparent 92.8%);\n",
              "            color:  #251e1b;\n",
              "            font-size:  12px;\n",
              "        }#T_58b9e05e_a161_11eb_bbba_0242ac1c0002row47_col1,#T_58b9e05e_a161_11eb_bbba_0242ac1c0002row50_col1{\n",
              "            text-align:  center;\n",
              "            width:  10em;\n",
              "             height:  80%;\n",
              "            background:  linear-gradient(90deg,#c778c8 92.7%, transparent 92.7%);\n",
              "            color:  #251e1b;\n",
              "            font-size:  12px;\n",
              "        }#T_58b9e05e_a161_11eb_bbba_0242ac1c0002row47_col3{\n",
              "            text-align:  center;\n",
              "            width:  10em;\n",
              "             height:  80%;\n",
              "            background:  linear-gradient(90deg,#aadbaa 92.5%, transparent 92.5%);\n",
              "            color:  #251e1b;\n",
              "            font-size:  12px;\n",
              "        }#T_58b9e05e_a161_11eb_bbba_0242ac1c0002row49_col2,#T_58b9e05e_a161_11eb_bbba_0242ac1c0002row53_col2{\n",
              "            text-align:  center;\n",
              "            width:  10em;\n",
              "             height:  80%;\n",
              "            background:  linear-gradient(90deg,#ff4971 92.9%, transparent 92.9%);\n",
              "            color:  #251e1b;\n",
              "            font-size:  12px;\n",
              "        }#T_58b9e05e_a161_11eb_bbba_0242ac1c0002row49_col3,#T_58b9e05e_a161_11eb_bbba_0242ac1c0002row50_col3{\n",
              "            text-align:  center;\n",
              "            width:  10em;\n",
              "             height:  80%;\n",
              "            background:  linear-gradient(90deg,#aadbaa 92.7%, transparent 92.7%);\n",
              "            color:  #251e1b;\n",
              "            font-size:  12px;\n",
              "        }#T_58b9e05e_a161_11eb_bbba_0242ac1c0002row51_col0{\n",
              "            text-align:  center;\n",
              "            width:  10em;\n",
              "             height:  80%;\n",
              "            background:  linear-gradient(90deg,#f5f8d6 92.7%, transparent 92.7%);\n",
              "            color:  #251e1b;\n",
              "            font-size:  12px;\n",
              "        }#T_58b9e05e_a161_11eb_bbba_0242ac1c0002row51_col1,#T_58b9e05e_a161_11eb_bbba_0242ac1c0002row52_col1{\n",
              "            text-align:  center;\n",
              "            width:  10em;\n",
              "             height:  80%;\n",
              "            background:  linear-gradient(90deg,#c778c8 92.6%, transparent 92.6%);\n",
              "            color:  #251e1b;\n",
              "            font-size:  12px;\n",
              "        }#T_58b9e05e_a161_11eb_bbba_0242ac1c0002row51_col2{\n",
              "            text-align:  center;\n",
              "            width:  10em;\n",
              "             height:  80%;\n",
              "            background:  linear-gradient(90deg,#ff4971 92.7%, transparent 92.7%);\n",
              "            color:  #251e1b;\n",
              "            font-size:  12px;\n",
              "        }#T_58b9e05e_a161_11eb_bbba_0242ac1c0002row51_col3,#T_58b9e05e_a161_11eb_bbba_0242ac1c0002row52_col3{\n",
              "            text-align:  center;\n",
              "            width:  10em;\n",
              "             height:  80%;\n",
              "            background:  linear-gradient(90deg,#aadbaa 92.6%, transparent 92.6%);\n",
              "            color:  #251e1b;\n",
              "            font-size:  12px;\n",
              "        }#T_58b9e05e_a161_11eb_bbba_0242ac1c0002row52_col0{\n",
              "            text-align:  center;\n",
              "            width:  10em;\n",
              "             height:  80%;\n",
              "            background:  linear-gradient(90deg,#f5f8d6 92.6%, transparent 92.6%);\n",
              "            color:  #251e1b;\n",
              "            font-size:  12px;\n",
              "        }#T_58b9e05e_a161_11eb_bbba_0242ac1c0002row52_col2{\n",
              "            text-align:  center;\n",
              "            width:  10em;\n",
              "             height:  80%;\n",
              "            background:  linear-gradient(90deg,#ff4971 92.5%, transparent 92.5%);\n",
              "            color:  #251e1b;\n",
              "            font-size:  12px;\n",
              "        }#T_58b9e05e_a161_11eb_bbba_0242ac1c0002row53_col0,#T_58b9e05e_a161_11eb_bbba_0242ac1c0002row54_col0{\n",
              "            text-align:  center;\n",
              "            width:  10em;\n",
              "             height:  80%;\n",
              "            background:  linear-gradient(90deg,#f5f8d6 92.3%, transparent 92.3%);\n",
              "            color:  #251e1b;\n",
              "            font-size:  12px;\n",
              "        }#T_58b9e05e_a161_11eb_bbba_0242ac1c0002row53_col1,#T_58b9e05e_a161_11eb_bbba_0242ac1c0002row54_col1{\n",
              "            text-align:  center;\n",
              "            width:  10em;\n",
              "             height:  80%;\n",
              "            background:  linear-gradient(90deg,#c778c8 92.3%, transparent 92.3%);\n",
              "            color:  #251e1b;\n",
              "            font-size:  12px;\n",
              "        }#T_58b9e05e_a161_11eb_bbba_0242ac1c0002row53_col3,#T_58b9e05e_a161_11eb_bbba_0242ac1c0002row54_col3{\n",
              "            text-align:  center;\n",
              "            width:  10em;\n",
              "             height:  80%;\n",
              "            background:  linear-gradient(90deg,#aadbaa 92.1%, transparent 92.1%);\n",
              "            color:  #251e1b;\n",
              "            font-size:  12px;\n",
              "        }#T_58b9e05e_a161_11eb_bbba_0242ac1c0002row55_col0{\n",
              "            text-align:  center;\n",
              "            width:  10em;\n",
              "             height:  80%;\n",
              "            background:  linear-gradient(90deg,#f5f8d6 92.4%, transparent 92.4%);\n",
              "            color:  #251e1b;\n",
              "            font-size:  12px;\n",
              "        }#T_58b9e05e_a161_11eb_bbba_0242ac1c0002row55_col1{\n",
              "            text-align:  center;\n",
              "            width:  10em;\n",
              "             height:  80%;\n",
              "            background:  linear-gradient(90deg,#c778c8 92.4%, transparent 92.4%);\n",
              "            color:  #251e1b;\n",
              "            font-size:  12px;\n",
              "        }#T_58b9e05e_a161_11eb_bbba_0242ac1c0002row55_col2{\n",
              "            text-align:  center;\n",
              "            width:  10em;\n",
              "             height:  80%;\n",
              "            background:  linear-gradient(90deg,#ff4971 92.4%, transparent 92.4%);\n",
              "            color:  #251e1b;\n",
              "            font-size:  12px;\n",
              "        }#T_58b9e05e_a161_11eb_bbba_0242ac1c0002row55_col3{\n",
              "            text-align:  center;\n",
              "            width:  10em;\n",
              "             height:  80%;\n",
              "            background:  linear-gradient(90deg,#aadbaa 92.4%, transparent 92.4%);\n",
              "            color:  #251e1b;\n",
              "            font-size:  12px;\n",
              "        }#T_58b9e05e_a161_11eb_bbba_0242ac1c0002row56_col0,#T_58b9e05e_a161_11eb_bbba_0242ac1c0002row57_col0{\n",
              "            text-align:  center;\n",
              "            width:  10em;\n",
              "             height:  80%;\n",
              "            background:  linear-gradient(90deg,#f5f8d6 91.9%, transparent 91.9%);\n",
              "            color:  #251e1b;\n",
              "            font-size:  12px;\n",
              "        }#T_58b9e05e_a161_11eb_bbba_0242ac1c0002row56_col1{\n",
              "            text-align:  center;\n",
              "            width:  10em;\n",
              "             height:  80%;\n",
              "            background:  linear-gradient(90deg,#c778c8 91.9%, transparent 91.9%);\n",
              "            color:  #251e1b;\n",
              "            font-size:  12px;\n",
              "        }#T_58b9e05e_a161_11eb_bbba_0242ac1c0002row56_col2{\n",
              "            text-align:  center;\n",
              "            width:  10em;\n",
              "             height:  80%;\n",
              "            background:  linear-gradient(90deg,#ff4971 91.8%, transparent 91.8%);\n",
              "            color:  #251e1b;\n",
              "            font-size:  12px;\n",
              "        }#T_58b9e05e_a161_11eb_bbba_0242ac1c0002row56_col3{\n",
              "            text-align:  center;\n",
              "            width:  10em;\n",
              "             height:  80%;\n",
              "            background:  linear-gradient(90deg,#aadbaa 91.9%, transparent 91.9%);\n",
              "            color:  #251e1b;\n",
              "            font-size:  12px;\n",
              "        }#T_58b9e05e_a161_11eb_bbba_0242ac1c0002row57_col1{\n",
              "            text-align:  center;\n",
              "            width:  10em;\n",
              "             height:  80%;\n",
              "            background:  linear-gradient(90deg,#c778c8 91.8%, transparent 91.8%);\n",
              "            color:  #251e1b;\n",
              "            font-size:  12px;\n",
              "        }#T_58b9e05e_a161_11eb_bbba_0242ac1c0002row57_col2{\n",
              "            text-align:  center;\n",
              "            width:  10em;\n",
              "             height:  80%;\n",
              "            background:  linear-gradient(90deg,#ff4971 92.3%, transparent 92.3%);\n",
              "            color:  #251e1b;\n",
              "            font-size:  12px;\n",
              "        }#T_58b9e05e_a161_11eb_bbba_0242ac1c0002row57_col3{\n",
              "            text-align:  center;\n",
              "            width:  10em;\n",
              "             height:  80%;\n",
              "            background:  linear-gradient(90deg,#aadbaa 91.6%, transparent 91.6%);\n",
              "            color:  #251e1b;\n",
              "            font-size:  12px;\n",
              "        }#T_58b9e05e_a161_11eb_bbba_0242ac1c0002row58_col0{\n",
              "            text-align:  center;\n",
              "            width:  10em;\n",
              "             height:  80%;\n",
              "            background:  linear-gradient(90deg,#f5f8d6 91.4%, transparent 91.4%);\n",
              "            color:  #251e1b;\n",
              "            font-size:  12px;\n",
              "        }#T_58b9e05e_a161_11eb_bbba_0242ac1c0002row58_col1{\n",
              "            text-align:  center;\n",
              "            width:  10em;\n",
              "             height:  80%;\n",
              "            background:  linear-gradient(90deg,#c778c8 91.4%, transparent 91.4%);\n",
              "            color:  #251e1b;\n",
              "            font-size:  12px;\n",
              "        }#T_58b9e05e_a161_11eb_bbba_0242ac1c0002row58_col2{\n",
              "            text-align:  center;\n",
              "            width:  10em;\n",
              "             height:  80%;\n",
              "            background:  linear-gradient(90deg,#ff4971 91.4%, transparent 91.4%);\n",
              "            color:  #251e1b;\n",
              "            font-size:  12px;\n",
              "        }#T_58b9e05e_a161_11eb_bbba_0242ac1c0002row58_col3{\n",
              "            text-align:  center;\n",
              "            width:  10em;\n",
              "             height:  80%;\n",
              "            background:  linear-gradient(90deg,#aadbaa 91.5%, transparent 91.5%);\n",
              "            color:  #251e1b;\n",
              "            font-size:  12px;\n",
              "        }#T_58b9e05e_a161_11eb_bbba_0242ac1c0002row59_col0,#T_58b9e05e_a161_11eb_bbba_0242ac1c0002row60_col0{\n",
              "            text-align:  center;\n",
              "            width:  10em;\n",
              "             height:  80%;\n",
              "            background:  linear-gradient(90deg,#f5f8d6 90.7%, transparent 90.7%);\n",
              "            color:  #251e1b;\n",
              "            font-size:  12px;\n",
              "        }#T_58b9e05e_a161_11eb_bbba_0242ac1c0002row59_col1,#T_58b9e05e_a161_11eb_bbba_0242ac1c0002row60_col1{\n",
              "            text-align:  center;\n",
              "            width:  10em;\n",
              "             height:  80%;\n",
              "            background:  linear-gradient(90deg,#c778c8 90.7%, transparent 90.7%);\n",
              "            color:  #251e1b;\n",
              "            font-size:  12px;\n",
              "        }#T_58b9e05e_a161_11eb_bbba_0242ac1c0002row59_col2{\n",
              "            text-align:  center;\n",
              "            width:  10em;\n",
              "             height:  80%;\n",
              "            background:  linear-gradient(90deg,#ff4971 90.8%, transparent 90.8%);\n",
              "            color:  #251e1b;\n",
              "            font-size:  12px;\n",
              "        }#T_58b9e05e_a161_11eb_bbba_0242ac1c0002row59_col3{\n",
              "            text-align:  center;\n",
              "            width:  10em;\n",
              "             height:  80%;\n",
              "            background:  linear-gradient(90deg,#aadbaa 90.9%, transparent 90.9%);\n",
              "            color:  #251e1b;\n",
              "            font-size:  12px;\n",
              "        }#T_58b9e05e_a161_11eb_bbba_0242ac1c0002row60_col2{\n",
              "            text-align:  center;\n",
              "            width:  10em;\n",
              "             height:  80%;\n",
              "            background:  linear-gradient(90deg,#ff4971 90.7%, transparent 90.7%);\n",
              "            color:  #251e1b;\n",
              "            font-size:  12px;\n",
              "        }#T_58b9e05e_a161_11eb_bbba_0242ac1c0002row60_col3{\n",
              "            text-align:  center;\n",
              "            width:  10em;\n",
              "             height:  80%;\n",
              "            background:  linear-gradient(90deg,#aadbaa 90.8%, transparent 90.8%);\n",
              "            color:  #251e1b;\n",
              "            font-size:  12px;\n",
              "        }#T_58b9e05e_a161_11eb_bbba_0242ac1c0002row61_col0{\n",
              "            text-align:  center;\n",
              "            width:  10em;\n",
              "             height:  80%;\n",
              "            background:  linear-gradient(90deg,#f5f8d6 81.6%, transparent 81.6%);\n",
              "            color:  #251e1b;\n",
              "            font-size:  12px;\n",
              "        }#T_58b9e05e_a161_11eb_bbba_0242ac1c0002row61_col1{\n",
              "            text-align:  center;\n",
              "            width:  10em;\n",
              "             height:  80%;\n",
              "            background:  linear-gradient(90deg,#c778c8 81.3%, transparent 81.3%);\n",
              "            color:  #251e1b;\n",
              "            font-size:  12px;\n",
              "        }#T_58b9e05e_a161_11eb_bbba_0242ac1c0002row61_col2{\n",
              "            text-align:  center;\n",
              "            width:  10em;\n",
              "             height:  80%;\n",
              "            background:  linear-gradient(90deg,#ff4971 85.8%, transparent 85.8%);\n",
              "            color:  #251e1b;\n",
              "            font-size:  12px;\n",
              "        }#T_58b9e05e_a161_11eb_bbba_0242ac1c0002row61_col3{\n",
              "            text-align:  center;\n",
              "            width:  10em;\n",
              "             height:  80%;\n",
              "            background:  linear-gradient(90deg,#aadbaa 82.4%, transparent 82.4%);\n",
              "            color:  #251e1b;\n",
              "            font-size:  12px;\n",
              "        }#T_58b9e05e_a161_11eb_bbba_0242ac1c0002row62_col0{\n",
              "            text-align:  center;\n",
              "            width:  10em;\n",
              "             height:  80%;\n",
              "            background:  linear-gradient(90deg,#f5f8d6 63.7%, transparent 63.7%);\n",
              "            color:  #251e1b;\n",
              "            font-size:  12px;\n",
              "        }#T_58b9e05e_a161_11eb_bbba_0242ac1c0002row62_col1{\n",
              "            text-align:  center;\n",
              "            width:  10em;\n",
              "             height:  80%;\n",
              "            background:  linear-gradient(90deg,#c778c8 62.9%, transparent 62.9%);\n",
              "            color:  #251e1b;\n",
              "            font-size:  12px;\n",
              "        }#T_58b9e05e_a161_11eb_bbba_0242ac1c0002row62_col2{\n",
              "            text-align:  center;\n",
              "            width:  10em;\n",
              "             height:  80%;\n",
              "            background:  linear-gradient(90deg,#ff4971 64.0%, transparent 64.0%);\n",
              "            color:  #251e1b;\n",
              "            font-size:  12px;\n",
              "        }#T_58b9e05e_a161_11eb_bbba_0242ac1c0002row62_col3{\n",
              "            text-align:  center;\n",
              "            width:  10em;\n",
              "             height:  80%;\n",
              "            background:  linear-gradient(90deg,#aadbaa 63.1%, transparent 63.1%);\n",
              "            color:  #251e1b;\n",
              "            font-size:  12px;\n",
              "        }#T_58b9e05e_a161_11eb_bbba_0242ac1c0002row63_col0{\n",
              "            text-align:  center;\n",
              "            width:  10em;\n",
              "             height:  80%;\n",
              "            background:  linear-gradient(90deg,#f5f8d6 62.8%, transparent 62.8%);\n",
              "            color:  #251e1b;\n",
              "            font-size:  12px;\n",
              "        }#T_58b9e05e_a161_11eb_bbba_0242ac1c0002row63_col1{\n",
              "            text-align:  center;\n",
              "            width:  10em;\n",
              "             height:  80%;\n",
              "            background:  linear-gradient(90deg,#c778c8 61.8%, transparent 61.8%);\n",
              "            color:  #251e1b;\n",
              "            font-size:  12px;\n",
              "        }#T_58b9e05e_a161_11eb_bbba_0242ac1c0002row63_col2{\n",
              "            text-align:  center;\n",
              "            width:  10em;\n",
              "             height:  80%;\n",
              "            background:  linear-gradient(90deg,#ff4971 63.1%, transparent 63.1%);\n",
              "            color:  #251e1b;\n",
              "            font-size:  12px;\n",
              "        }#T_58b9e05e_a161_11eb_bbba_0242ac1c0002row63_col3{\n",
              "            text-align:  center;\n",
              "            width:  10em;\n",
              "             height:  80%;\n",
              "            background:  linear-gradient(90deg,#aadbaa 62.2%, transparent 62.2%);\n",
              "            color:  #251e1b;\n",
              "            font-size:  12px;\n",
              "        }#T_58b9e05e_a161_11eb_bbba_0242ac1c0002row64_col0{\n",
              "            text-align:  center;\n",
              "            width:  10em;\n",
              "             height:  80%;\n",
              "            background:  linear-gradient(90deg,#f5f8d6 60.1%, transparent 60.1%);\n",
              "            color:  #251e1b;\n",
              "            font-size:  12px;\n",
              "        }#T_58b9e05e_a161_11eb_bbba_0242ac1c0002row64_col1{\n",
              "            text-align:  center;\n",
              "            width:  10em;\n",
              "             height:  80%;\n",
              "            background:  linear-gradient(90deg,#c778c8 58.3%, transparent 58.3%);\n",
              "            color:  #251e1b;\n",
              "            font-size:  12px;\n",
              "        }#T_58b9e05e_a161_11eb_bbba_0242ac1c0002row64_col2{\n",
              "            text-align:  center;\n",
              "            width:  10em;\n",
              "             height:  80%;\n",
              "            background:  linear-gradient(90deg,#ff4971 60.8%, transparent 60.8%);\n",
              "            color:  #251e1b;\n",
              "            font-size:  12px;\n",
              "        }#T_58b9e05e_a161_11eb_bbba_0242ac1c0002row64_col3{\n",
              "            text-align:  center;\n",
              "            width:  10em;\n",
              "             height:  80%;\n",
              "            background:  linear-gradient(90deg,#aadbaa 59.3%, transparent 59.3%);\n",
              "            color:  #251e1b;\n",
              "            font-size:  12px;\n",
              "        }#T_58b9e05e_a161_11eb_bbba_0242ac1c0002row65_col0,#T_58b9e05e_a161_11eb_bbba_0242ac1c0002row65_col1,#T_58b9e05e_a161_11eb_bbba_0242ac1c0002row65_col2,#T_58b9e05e_a161_11eb_bbba_0242ac1c0002row65_col3{\n",
              "            text-align:  center;\n",
              "            width:  10em;\n",
              "             height:  80%;\n",
              "            color:  #251e1b;\n",
              "            font-size:  12px;\n",
              "        }</style><table id=\"T_58b9e05e_a161_11eb_bbba_0242ac1c0002\" ><thead>    <tr>        <th class=\"blank level0\" ></th>        <th class=\"col_heading level0 col0\" >accuracy</th>        <th class=\"col_heading level0 col1\" >f1_score</th>        <th class=\"col_heading level0 col2\" >precision</th>        <th class=\"col_heading level0 col3\" >recall</th>        <th class=\"col_heading level0 col4\" >ml_framework</th>        <th class=\"col_heading level0 col5\" >transfer_learning</th>        <th class=\"col_heading level0 col6\" >deep_learning</th>        <th class=\"col_heading level0 col7\" >model_type</th>        <th class=\"col_heading level0 col8\" >depth</th>        <th class=\"col_heading level0 col9\" >num_params</th>        <th class=\"col_heading level0 col10\" >bidirectional_layers</th>        <th class=\"col_heading level0 col11\" >conv1d_layers</th>        <th class=\"col_heading level0 col12\" >dense_layers</th>        <th class=\"col_heading level0 col13\" >embedding_layers</th>        <th class=\"col_heading level0 col14\" >flatten_layers</th>        <th class=\"col_heading level0 col15\" >globalmaxpooling1d_layers</th>        <th class=\"col_heading level0 col16\" >lstm_layers</th>        <th class=\"col_heading level0 col17\" >maxpooling1d_layers</th>        <th class=\"col_heading level0 col18\" >simplernn_layers</th>        <th class=\"col_heading level0 col19\" >loss</th>        <th class=\"col_heading level0 col20\" >optimizer</th>        <th class=\"col_heading level0 col21\" >model_config</th>        <th class=\"col_heading level0 col22\" >username</th>        <th class=\"col_heading level0 col23\" >version</th>    </tr></thead><tbody>\n",
              "                <tr>\n",
              "                        <th id=\"T_58b9e05e_a161_11eb_bbba_0242ac1c0002level0_row0\" class=\"row_heading level0 row0\" >0</th>\n",
              "                        <td id=\"T_58b9e05e_a161_11eb_bbba_0242ac1c0002row0_col0\" class=\"data row0 col0\" >95.09%</td>\n",
              "                        <td id=\"T_58b9e05e_a161_11eb_bbba_0242ac1c0002row0_col1\" class=\"data row0 col1\" >95.09%</td>\n",
              "                        <td id=\"T_58b9e05e_a161_11eb_bbba_0242ac1c0002row0_col2\" class=\"data row0 col2\" >95.07%</td>\n",
              "                        <td id=\"T_58b9e05e_a161_11eb_bbba_0242ac1c0002row0_col3\" class=\"data row0 col3\" >95.12%</td>\n",
              "                        <td id=\"T_58b9e05e_a161_11eb_bbba_0242ac1c0002row0_col4\" class=\"data row0 col4\" >keras</td>\n",
              "                        <td id=\"T_58b9e05e_a161_11eb_bbba_0242ac1c0002row0_col5\" class=\"data row0 col5\" >False</td>\n",
              "                        <td id=\"T_58b9e05e_a161_11eb_bbba_0242ac1c0002row0_col6\" class=\"data row0 col6\" >True</td>\n",
              "                        <td id=\"T_58b9e05e_a161_11eb_bbba_0242ac1c0002row0_col7\" class=\"data row0 col7\" >Sequential</td>\n",
              "                        <td id=\"T_58b9e05e_a161_11eb_bbba_0242ac1c0002row0_col8\" class=\"data row0 col8\" >3</td>\n",
              "                        <td id=\"T_58b9e05e_a161_11eb_bbba_0242ac1c0002row0_col9\" class=\"data row0 col9\" >161922</td>\n",
              "                        <td id=\"T_58b9e05e_a161_11eb_bbba_0242ac1c0002row0_col10\" class=\"data row0 col10\" >0.000000</td>\n",
              "                        <td id=\"T_58b9e05e_a161_11eb_bbba_0242ac1c0002row0_col11\" class=\"data row0 col11\" >0.000000</td>\n",
              "                        <td id=\"T_58b9e05e_a161_11eb_bbba_0242ac1c0002row0_col12\" class=\"data row0 col12\" >1</td>\n",
              "                        <td id=\"T_58b9e05e_a161_11eb_bbba_0242ac1c0002row0_col13\" class=\"data row0 col13\" >1</td>\n",
              "                        <td id=\"T_58b9e05e_a161_11eb_bbba_0242ac1c0002row0_col14\" class=\"data row0 col14\" >1.000000</td>\n",
              "                        <td id=\"T_58b9e05e_a161_11eb_bbba_0242ac1c0002row0_col15\" class=\"data row0 col15\" >0.000000</td>\n",
              "                        <td id=\"T_58b9e05e_a161_11eb_bbba_0242ac1c0002row0_col16\" class=\"data row0 col16\" >0.000000</td>\n",
              "                        <td id=\"T_58b9e05e_a161_11eb_bbba_0242ac1c0002row0_col17\" class=\"data row0 col17\" >0.000000</td>\n",
              "                        <td id=\"T_58b9e05e_a161_11eb_bbba_0242ac1c0002row0_col18\" class=\"data row0 col18\" >0.000000</td>\n",
              "                        <td id=\"T_58b9e05e_a161_11eb_bbba_0242ac1c0002row0_col19\" class=\"data row0 col19\" >str</td>\n",
              "                        <td id=\"T_58b9e05e_a161_11eb_bbba_0242ac1c0002row0_col20\" class=\"data row0 col20\" >RMSprop</td>\n",
              "                        <td id=\"T_58b9e05e_a161_11eb_bbba_0242ac1c0002row0_col21\" class=\"data row0 col21\" >{'name': 'sequential', 'layers...</td>\n",
              "                        <td id=\"T_58b9e05e_a161_11eb_bbba_0242ac1c0002row0_col22\" class=\"data row0 col22\" >hpeters</td>\n",
              "                        <td id=\"T_58b9e05e_a161_11eb_bbba_0242ac1c0002row0_col23\" class=\"data row0 col23\" >67</td>\n",
              "            </tr>\n",
              "            <tr>\n",
              "                        <th id=\"T_58b9e05e_a161_11eb_bbba_0242ac1c0002level0_row1\" class=\"row_heading level0 row1\" >2</th>\n",
              "                        <td id=\"T_58b9e05e_a161_11eb_bbba_0242ac1c0002row1_col0\" class=\"data row1 col0\" >95.00%</td>\n",
              "                        <td id=\"T_58b9e05e_a161_11eb_bbba_0242ac1c0002row1_col1\" class=\"data row1 col1\" >94.99%</td>\n",
              "                        <td id=\"T_58b9e05e_a161_11eb_bbba_0242ac1c0002row1_col2\" class=\"data row1 col2\" >94.97%</td>\n",
              "                        <td id=\"T_58b9e05e_a161_11eb_bbba_0242ac1c0002row1_col3\" class=\"data row1 col3\" >95.02%</td>\n",
              "                        <td id=\"T_58b9e05e_a161_11eb_bbba_0242ac1c0002row1_col4\" class=\"data row1 col4\" >keras</td>\n",
              "                        <td id=\"T_58b9e05e_a161_11eb_bbba_0242ac1c0002row1_col5\" class=\"data row1 col5\" >False</td>\n",
              "                        <td id=\"T_58b9e05e_a161_11eb_bbba_0242ac1c0002row1_col6\" class=\"data row1 col6\" >True</td>\n",
              "                        <td id=\"T_58b9e05e_a161_11eb_bbba_0242ac1c0002row1_col7\" class=\"data row1 col7\" >Sequential</td>\n",
              "                        <td id=\"T_58b9e05e_a161_11eb_bbba_0242ac1c0002row1_col8\" class=\"data row1 col8\" >5</td>\n",
              "                        <td id=\"T_58b9e05e_a161_11eb_bbba_0242ac1c0002row1_col9\" class=\"data row1 col9\" >1081482</td>\n",
              "                        <td id=\"T_58b9e05e_a161_11eb_bbba_0242ac1c0002row1_col10\" class=\"data row1 col10\" >1.000000</td>\n",
              "                        <td id=\"T_58b9e05e_a161_11eb_bbba_0242ac1c0002row1_col11\" class=\"data row1 col11\" >0.000000</td>\n",
              "                        <td id=\"T_58b9e05e_a161_11eb_bbba_0242ac1c0002row1_col12\" class=\"data row1 col12\" >2</td>\n",
              "                        <td id=\"T_58b9e05e_a161_11eb_bbba_0242ac1c0002row1_col13\" class=\"data row1 col13\" >1</td>\n",
              "                        <td id=\"T_58b9e05e_a161_11eb_bbba_0242ac1c0002row1_col14\" class=\"data row1 col14\" >0.000000</td>\n",
              "                        <td id=\"T_58b9e05e_a161_11eb_bbba_0242ac1c0002row1_col15\" class=\"data row1 col15\" >0.000000</td>\n",
              "                        <td id=\"T_58b9e05e_a161_11eb_bbba_0242ac1c0002row1_col16\" class=\"data row1 col16\" >1.000000</td>\n",
              "                        <td id=\"T_58b9e05e_a161_11eb_bbba_0242ac1c0002row1_col17\" class=\"data row1 col17\" >0.000000</td>\n",
              "                        <td id=\"T_58b9e05e_a161_11eb_bbba_0242ac1c0002row1_col18\" class=\"data row1 col18\" >0.000000</td>\n",
              "                        <td id=\"T_58b9e05e_a161_11eb_bbba_0242ac1c0002row1_col19\" class=\"data row1 col19\" >str</td>\n",
              "                        <td id=\"T_58b9e05e_a161_11eb_bbba_0242ac1c0002row1_col20\" class=\"data row1 col20\" >RMSprop</td>\n",
              "                        <td id=\"T_58b9e05e_a161_11eb_bbba_0242ac1c0002row1_col21\" class=\"data row1 col21\" >{'name': 'sequential_29', 'lay...</td>\n",
              "                        <td id=\"T_58b9e05e_a161_11eb_bbba_0242ac1c0002row1_col22\" class=\"data row1 col22\" >kagenlim</td>\n",
              "                        <td id=\"T_58b9e05e_a161_11eb_bbba_0242ac1c0002row1_col23\" class=\"data row1 col23\" >61</td>\n",
              "            </tr>\n",
              "            <tr>\n",
              "                        <th id=\"T_58b9e05e_a161_11eb_bbba_0242ac1c0002level0_row2\" class=\"row_heading level0 row2\" >3</th>\n",
              "                        <td id=\"T_58b9e05e_a161_11eb_bbba_0242ac1c0002row2_col0\" class=\"data row2 col0\" >94.86%</td>\n",
              "                        <td id=\"T_58b9e05e_a161_11eb_bbba_0242ac1c0002row2_col1\" class=\"data row2 col1\" >94.85%</td>\n",
              "                        <td id=\"T_58b9e05e_a161_11eb_bbba_0242ac1c0002row2_col2\" class=\"data row2 col2\" >94.84%</td>\n",
              "                        <td id=\"T_58b9e05e_a161_11eb_bbba_0242ac1c0002row2_col3\" class=\"data row2 col3\" >94.87%</td>\n",
              "                        <td id=\"T_58b9e05e_a161_11eb_bbba_0242ac1c0002row2_col4\" class=\"data row2 col4\" >keras</td>\n",
              "                        <td id=\"T_58b9e05e_a161_11eb_bbba_0242ac1c0002row2_col5\" class=\"data row2 col5\" >False</td>\n",
              "                        <td id=\"T_58b9e05e_a161_11eb_bbba_0242ac1c0002row2_col6\" class=\"data row2 col6\" >True</td>\n",
              "                        <td id=\"T_58b9e05e_a161_11eb_bbba_0242ac1c0002row2_col7\" class=\"data row2 col7\" >Sequential</td>\n",
              "                        <td id=\"T_58b9e05e_a161_11eb_bbba_0242ac1c0002row2_col8\" class=\"data row2 col8\" >5</td>\n",
              "                        <td id=\"T_58b9e05e_a161_11eb_bbba_0242ac1c0002row2_col9\" class=\"data row2 col9\" >1035746</td>\n",
              "                        <td id=\"T_58b9e05e_a161_11eb_bbba_0242ac1c0002row2_col10\" class=\"data row2 col10\" >0.000000</td>\n",
              "                        <td id=\"T_58b9e05e_a161_11eb_bbba_0242ac1c0002row2_col11\" class=\"data row2 col11\" >0.000000</td>\n",
              "                        <td id=\"T_58b9e05e_a161_11eb_bbba_0242ac1c0002row2_col12\" class=\"data row2 col12\" >2</td>\n",
              "                        <td id=\"T_58b9e05e_a161_11eb_bbba_0242ac1c0002row2_col13\" class=\"data row2 col13\" >1</td>\n",
              "                        <td id=\"T_58b9e05e_a161_11eb_bbba_0242ac1c0002row2_col14\" class=\"data row2 col14\" >0.000000</td>\n",
              "                        <td id=\"T_58b9e05e_a161_11eb_bbba_0242ac1c0002row2_col15\" class=\"data row2 col15\" >0.000000</td>\n",
              "                        <td id=\"T_58b9e05e_a161_11eb_bbba_0242ac1c0002row2_col16\" class=\"data row2 col16\" >2.000000</td>\n",
              "                        <td id=\"T_58b9e05e_a161_11eb_bbba_0242ac1c0002row2_col17\" class=\"data row2 col17\" >0.000000</td>\n",
              "                        <td id=\"T_58b9e05e_a161_11eb_bbba_0242ac1c0002row2_col18\" class=\"data row2 col18\" >0.000000</td>\n",
              "                        <td id=\"T_58b9e05e_a161_11eb_bbba_0242ac1c0002row2_col19\" class=\"data row2 col19\" >str</td>\n",
              "                        <td id=\"T_58b9e05e_a161_11eb_bbba_0242ac1c0002row2_col20\" class=\"data row2 col20\" >RMSprop</td>\n",
              "                        <td id=\"T_58b9e05e_a161_11eb_bbba_0242ac1c0002row2_col21\" class=\"data row2 col21\" >{'name': 'sequential_3', 'laye...</td>\n",
              "                        <td id=\"T_58b9e05e_a161_11eb_bbba_0242ac1c0002row2_col22\" class=\"data row2 col22\" >kagenlim</td>\n",
              "                        <td id=\"T_58b9e05e_a161_11eb_bbba_0242ac1c0002row2_col23\" class=\"data row2 col23\" >19</td>\n",
              "            </tr>\n",
              "            <tr>\n",
              "                        <th id=\"T_58b9e05e_a161_11eb_bbba_0242ac1c0002level0_row3\" class=\"row_heading level0 row3\" >4</th>\n",
              "                        <td id=\"T_58b9e05e_a161_11eb_bbba_0242ac1c0002row3_col0\" class=\"data row3 col0\" >94.77%</td>\n",
              "                        <td id=\"T_58b9e05e_a161_11eb_bbba_0242ac1c0002row3_col1\" class=\"data row3 col1\" >94.76%</td>\n",
              "                        <td id=\"T_58b9e05e_a161_11eb_bbba_0242ac1c0002row3_col2\" class=\"data row3 col2\" >94.74%</td>\n",
              "                        <td id=\"T_58b9e05e_a161_11eb_bbba_0242ac1c0002row3_col3\" class=\"data row3 col3\" >94.78%</td>\n",
              "                        <td id=\"T_58b9e05e_a161_11eb_bbba_0242ac1c0002row3_col4\" class=\"data row3 col4\" >keras</td>\n",
              "                        <td id=\"T_58b9e05e_a161_11eb_bbba_0242ac1c0002row3_col5\" class=\"data row3 col5\" >False</td>\n",
              "                        <td id=\"T_58b9e05e_a161_11eb_bbba_0242ac1c0002row3_col6\" class=\"data row3 col6\" >True</td>\n",
              "                        <td id=\"T_58b9e05e_a161_11eb_bbba_0242ac1c0002row3_col7\" class=\"data row3 col7\" >Sequential</td>\n",
              "                        <td id=\"T_58b9e05e_a161_11eb_bbba_0242ac1c0002row3_col8\" class=\"data row3 col8\" >9</td>\n",
              "                        <td id=\"T_58b9e05e_a161_11eb_bbba_0242ac1c0002row3_col9\" class=\"data row3 col9\" >1313030</td>\n",
              "                        <td id=\"T_58b9e05e_a161_11eb_bbba_0242ac1c0002row3_col10\" class=\"data row3 col10\" >0.000000</td>\n",
              "                        <td id=\"T_58b9e05e_a161_11eb_bbba_0242ac1c0002row3_col11\" class=\"data row3 col11\" >0.000000</td>\n",
              "                        <td id=\"T_58b9e05e_a161_11eb_bbba_0242ac1c0002row3_col12\" class=\"data row3 col12\" >2</td>\n",
              "                        <td id=\"T_58b9e05e_a161_11eb_bbba_0242ac1c0002row3_col13\" class=\"data row3 col13\" >1</td>\n",
              "                        <td id=\"T_58b9e05e_a161_11eb_bbba_0242ac1c0002row3_col14\" class=\"data row3 col14\" >1.000000</td>\n",
              "                        <td id=\"T_58b9e05e_a161_11eb_bbba_0242ac1c0002row3_col15\" class=\"data row3 col15\" >0.000000</td>\n",
              "                        <td id=\"T_58b9e05e_a161_11eb_bbba_0242ac1c0002row3_col16\" class=\"data row3 col16\" >1.000000</td>\n",
              "                        <td id=\"T_58b9e05e_a161_11eb_bbba_0242ac1c0002row3_col17\" class=\"data row3 col17\" >0.000000</td>\n",
              "                        <td id=\"T_58b9e05e_a161_11eb_bbba_0242ac1c0002row3_col18\" class=\"data row3 col18\" >4.000000</td>\n",
              "                        <td id=\"T_58b9e05e_a161_11eb_bbba_0242ac1c0002row3_col19\" class=\"data row3 col19\" >str</td>\n",
              "                        <td id=\"T_58b9e05e_a161_11eb_bbba_0242ac1c0002row3_col20\" class=\"data row3 col20\" >RMSprop</td>\n",
              "                        <td id=\"T_58b9e05e_a161_11eb_bbba_0242ac1c0002row3_col21\" class=\"data row3 col21\" >{'name': 'sequential_1', 'laye...</td>\n",
              "                        <td id=\"T_58b9e05e_a161_11eb_bbba_0242ac1c0002row3_col22\" class=\"data row3 col22\" >kka2120</td>\n",
              "                        <td id=\"T_58b9e05e_a161_11eb_bbba_0242ac1c0002row3_col23\" class=\"data row3 col23\" >69</td>\n",
              "            </tr>\n",
              "            <tr>\n",
              "                        <th id=\"T_58b9e05e_a161_11eb_bbba_0242ac1c0002level0_row4\" class=\"row_heading level0 row4\" >5</th>\n",
              "                        <td id=\"T_58b9e05e_a161_11eb_bbba_0242ac1c0002row4_col0\" class=\"data row4 col0\" >94.58%</td>\n",
              "                        <td id=\"T_58b9e05e_a161_11eb_bbba_0242ac1c0002row4_col1\" class=\"data row4 col1\" >94.57%</td>\n",
              "                        <td id=\"T_58b9e05e_a161_11eb_bbba_0242ac1c0002row4_col2\" class=\"data row4 col2\" >94.57%</td>\n",
              "                        <td id=\"T_58b9e05e_a161_11eb_bbba_0242ac1c0002row4_col3\" class=\"data row4 col3\" >94.57%</td>\n",
              "                        <td id=\"T_58b9e05e_a161_11eb_bbba_0242ac1c0002row4_col4\" class=\"data row4 col4\" >keras</td>\n",
              "                        <td id=\"T_58b9e05e_a161_11eb_bbba_0242ac1c0002row4_col5\" class=\"data row4 col5\" >False</td>\n",
              "                        <td id=\"T_58b9e05e_a161_11eb_bbba_0242ac1c0002row4_col6\" class=\"data row4 col6\" >True</td>\n",
              "                        <td id=\"T_58b9e05e_a161_11eb_bbba_0242ac1c0002row4_col7\" class=\"data row4 col7\" >Sequential</td>\n",
              "                        <td id=\"T_58b9e05e_a161_11eb_bbba_0242ac1c0002row4_col8\" class=\"data row4 col8\" >5</td>\n",
              "                        <td id=\"T_58b9e05e_a161_11eb_bbba_0242ac1c0002row4_col9\" class=\"data row4 col9\" >1070202</td>\n",
              "                        <td id=\"T_58b9e05e_a161_11eb_bbba_0242ac1c0002row4_col10\" class=\"data row4 col10\" >0.000000</td>\n",
              "                        <td id=\"T_58b9e05e_a161_11eb_bbba_0242ac1c0002row4_col11\" class=\"data row4 col11\" >0.000000</td>\n",
              "                        <td id=\"T_58b9e05e_a161_11eb_bbba_0242ac1c0002row4_col12\" class=\"data row4 col12\" >2</td>\n",
              "                        <td id=\"T_58b9e05e_a161_11eb_bbba_0242ac1c0002row4_col13\" class=\"data row4 col13\" >1</td>\n",
              "                        <td id=\"T_58b9e05e_a161_11eb_bbba_0242ac1c0002row4_col14\" class=\"data row4 col14\" >0.000000</td>\n",
              "                        <td id=\"T_58b9e05e_a161_11eb_bbba_0242ac1c0002row4_col15\" class=\"data row4 col15\" >0.000000</td>\n",
              "                        <td id=\"T_58b9e05e_a161_11eb_bbba_0242ac1c0002row4_col16\" class=\"data row4 col16\" >2.000000</td>\n",
              "                        <td id=\"T_58b9e05e_a161_11eb_bbba_0242ac1c0002row4_col17\" class=\"data row4 col17\" >0.000000</td>\n",
              "                        <td id=\"T_58b9e05e_a161_11eb_bbba_0242ac1c0002row4_col18\" class=\"data row4 col18\" >0.000000</td>\n",
              "                        <td id=\"T_58b9e05e_a161_11eb_bbba_0242ac1c0002row4_col19\" class=\"data row4 col19\" >str</td>\n",
              "                        <td id=\"T_58b9e05e_a161_11eb_bbba_0242ac1c0002row4_col20\" class=\"data row4 col20\" >RMSprop</td>\n",
              "                        <td id=\"T_58b9e05e_a161_11eb_bbba_0242ac1c0002row4_col21\" class=\"data row4 col21\" >{'name': 'sequential_4', 'laye...</td>\n",
              "                        <td id=\"T_58b9e05e_a161_11eb_bbba_0242ac1c0002row4_col22\" class=\"data row4 col22\" >kagenlim</td>\n",
              "                        <td id=\"T_58b9e05e_a161_11eb_bbba_0242ac1c0002row4_col23\" class=\"data row4 col23\" >60</td>\n",
              "            </tr>\n",
              "            <tr>\n",
              "                        <th id=\"T_58b9e05e_a161_11eb_bbba_0242ac1c0002level0_row5\" class=\"row_heading level0 row5\" >6</th>\n",
              "                        <td id=\"T_58b9e05e_a161_11eb_bbba_0242ac1c0002row5_col0\" class=\"data row5 col0\" >94.49%</td>\n",
              "                        <td id=\"T_58b9e05e_a161_11eb_bbba_0242ac1c0002row5_col1\" class=\"data row5 col1\" >94.47%</td>\n",
              "                        <td id=\"T_58b9e05e_a161_11eb_bbba_0242ac1c0002row5_col2\" class=\"data row5 col2\" >94.47%</td>\n",
              "                        <td id=\"T_58b9e05e_a161_11eb_bbba_0242ac1c0002row5_col3\" class=\"data row5 col3\" >94.48%</td>\n",
              "                        <td id=\"T_58b9e05e_a161_11eb_bbba_0242ac1c0002row5_col4\" class=\"data row5 col4\" >keras</td>\n",
              "                        <td id=\"T_58b9e05e_a161_11eb_bbba_0242ac1c0002row5_col5\" class=\"data row5 col5\" >False</td>\n",
              "                        <td id=\"T_58b9e05e_a161_11eb_bbba_0242ac1c0002row5_col6\" class=\"data row5 col6\" >True</td>\n",
              "                        <td id=\"T_58b9e05e_a161_11eb_bbba_0242ac1c0002row5_col7\" class=\"data row5 col7\" >Sequential</td>\n",
              "                        <td id=\"T_58b9e05e_a161_11eb_bbba_0242ac1c0002row5_col8\" class=\"data row5 col8\" >3</td>\n",
              "                        <td id=\"T_58b9e05e_a161_11eb_bbba_0242ac1c0002row5_col9\" class=\"data row5 col9\" >161282</td>\n",
              "                        <td id=\"T_58b9e05e_a161_11eb_bbba_0242ac1c0002row5_col10\" class=\"data row5 col10\" >0.000000</td>\n",
              "                        <td id=\"T_58b9e05e_a161_11eb_bbba_0242ac1c0002row5_col11\" class=\"data row5 col11\" >0.000000</td>\n",
              "                        <td id=\"T_58b9e05e_a161_11eb_bbba_0242ac1c0002row5_col12\" class=\"data row5 col12\" >1</td>\n",
              "                        <td id=\"T_58b9e05e_a161_11eb_bbba_0242ac1c0002row5_col13\" class=\"data row5 col13\" >1</td>\n",
              "                        <td id=\"T_58b9e05e_a161_11eb_bbba_0242ac1c0002row5_col14\" class=\"data row5 col14\" >1.000000</td>\n",
              "                        <td id=\"T_58b9e05e_a161_11eb_bbba_0242ac1c0002row5_col15\" class=\"data row5 col15\" >0.000000</td>\n",
              "                        <td id=\"T_58b9e05e_a161_11eb_bbba_0242ac1c0002row5_col16\" class=\"data row5 col16\" >0.000000</td>\n",
              "                        <td id=\"T_58b9e05e_a161_11eb_bbba_0242ac1c0002row5_col17\" class=\"data row5 col17\" >0.000000</td>\n",
              "                        <td id=\"T_58b9e05e_a161_11eb_bbba_0242ac1c0002row5_col18\" class=\"data row5 col18\" >0.000000</td>\n",
              "                        <td id=\"T_58b9e05e_a161_11eb_bbba_0242ac1c0002row5_col19\" class=\"data row5 col19\" >str</td>\n",
              "                        <td id=\"T_58b9e05e_a161_11eb_bbba_0242ac1c0002row5_col20\" class=\"data row5 col20\" >RMSprop</td>\n",
              "                        <td id=\"T_58b9e05e_a161_11eb_bbba_0242ac1c0002row5_col21\" class=\"data row5 col21\" >{'name': 'sequential', 'layers...</td>\n",
              "                        <td id=\"T_58b9e05e_a161_11eb_bbba_0242ac1c0002row5_col22\" class=\"data row5 col22\" >newusertest</td>\n",
              "                        <td id=\"T_58b9e05e_a161_11eb_bbba_0242ac1c0002row5_col23\" class=\"data row5 col23\" >4</td>\n",
              "            </tr>\n",
              "            <tr>\n",
              "                        <th id=\"T_58b9e05e_a161_11eb_bbba_0242ac1c0002level0_row6\" class=\"row_heading level0 row6\" >7</th>\n",
              "                        <td id=\"T_58b9e05e_a161_11eb_bbba_0242ac1c0002row6_col0\" class=\"data row6 col0\" >94.35%</td>\n",
              "                        <td id=\"T_58b9e05e_a161_11eb_bbba_0242ac1c0002row6_col1\" class=\"data row6 col1\" >94.34%</td>\n",
              "                        <td id=\"T_58b9e05e_a161_11eb_bbba_0242ac1c0002row6_col2\" class=\"data row6 col2\" >94.32%</td>\n",
              "                        <td id=\"T_58b9e05e_a161_11eb_bbba_0242ac1c0002row6_col3\" class=\"data row6 col3\" >94.37%</td>\n",
              "                        <td id=\"T_58b9e05e_a161_11eb_bbba_0242ac1c0002row6_col4\" class=\"data row6 col4\" >keras</td>\n",
              "                        <td id=\"T_58b9e05e_a161_11eb_bbba_0242ac1c0002row6_col5\" class=\"data row6 col5\" >False</td>\n",
              "                        <td id=\"T_58b9e05e_a161_11eb_bbba_0242ac1c0002row6_col6\" class=\"data row6 col6\" >True</td>\n",
              "                        <td id=\"T_58b9e05e_a161_11eb_bbba_0242ac1c0002row6_col7\" class=\"data row6 col7\" >Sequential</td>\n",
              "                        <td id=\"T_58b9e05e_a161_11eb_bbba_0242ac1c0002row6_col8\" class=\"data row6 col8\" >6</td>\n",
              "                        <td id=\"T_58b9e05e_a161_11eb_bbba_0242ac1c0002row6_col9\" class=\"data row6 col9\" >148066</td>\n",
              "                        <td id=\"T_58b9e05e_a161_11eb_bbba_0242ac1c0002row6_col10\" class=\"data row6 col10\" >0.000000</td>\n",
              "                        <td id=\"T_58b9e05e_a161_11eb_bbba_0242ac1c0002row6_col11\" class=\"data row6 col11\" >2.000000</td>\n",
              "                        <td id=\"T_58b9e05e_a161_11eb_bbba_0242ac1c0002row6_col12\" class=\"data row6 col12\" >1</td>\n",
              "                        <td id=\"T_58b9e05e_a161_11eb_bbba_0242ac1c0002row6_col13\" class=\"data row6 col13\" >1</td>\n",
              "                        <td id=\"T_58b9e05e_a161_11eb_bbba_0242ac1c0002row6_col14\" class=\"data row6 col14\" >1.000000</td>\n",
              "                        <td id=\"T_58b9e05e_a161_11eb_bbba_0242ac1c0002row6_col15\" class=\"data row6 col15\" >0.000000</td>\n",
              "                        <td id=\"T_58b9e05e_a161_11eb_bbba_0242ac1c0002row6_col16\" class=\"data row6 col16\" >0.000000</td>\n",
              "                        <td id=\"T_58b9e05e_a161_11eb_bbba_0242ac1c0002row6_col17\" class=\"data row6 col17\" >1.000000</td>\n",
              "                        <td id=\"T_58b9e05e_a161_11eb_bbba_0242ac1c0002row6_col18\" class=\"data row6 col18\" >0.000000</td>\n",
              "                        <td id=\"T_58b9e05e_a161_11eb_bbba_0242ac1c0002row6_col19\" class=\"data row6 col19\" >str</td>\n",
              "                        <td id=\"T_58b9e05e_a161_11eb_bbba_0242ac1c0002row6_col20\" class=\"data row6 col20\" >RMSprop</td>\n",
              "                        <td id=\"T_58b9e05e_a161_11eb_bbba_0242ac1c0002row6_col21\" class=\"data row6 col21\" >{'name': 'sequential_72', 'lay...</td>\n",
              "                        <td id=\"T_58b9e05e_a161_11eb_bbba_0242ac1c0002row6_col22\" class=\"data row6 col22\" >prajseth</td>\n",
              "                        <td id=\"T_58b9e05e_a161_11eb_bbba_0242ac1c0002row6_col23\" class=\"data row6 col23\" >40</td>\n",
              "            </tr>\n",
              "            <tr>\n",
              "                        <th id=\"T_58b9e05e_a161_11eb_bbba_0242ac1c0002level0_row7\" class=\"row_heading level0 row7\" >8</th>\n",
              "                        <td id=\"T_58b9e05e_a161_11eb_bbba_0242ac1c0002row7_col0\" class=\"data row7 col0\" >94.25%</td>\n",
              "                        <td id=\"T_58b9e05e_a161_11eb_bbba_0242ac1c0002row7_col1\" class=\"data row7 col1\" >94.24%</td>\n",
              "                        <td id=\"T_58b9e05e_a161_11eb_bbba_0242ac1c0002row7_col2\" class=\"data row7 col2\" >94.24%</td>\n",
              "                        <td id=\"T_58b9e05e_a161_11eb_bbba_0242ac1c0002row7_col3\" class=\"data row7 col3\" >94.24%</td>\n",
              "                        <td id=\"T_58b9e05e_a161_11eb_bbba_0242ac1c0002row7_col4\" class=\"data row7 col4\" >keras</td>\n",
              "                        <td id=\"T_58b9e05e_a161_11eb_bbba_0242ac1c0002row7_col5\" class=\"data row7 col5\" >False</td>\n",
              "                        <td id=\"T_58b9e05e_a161_11eb_bbba_0242ac1c0002row7_col6\" class=\"data row7 col6\" >True</td>\n",
              "                        <td id=\"T_58b9e05e_a161_11eb_bbba_0242ac1c0002row7_col7\" class=\"data row7 col7\" >Sequential</td>\n",
              "                        <td id=\"T_58b9e05e_a161_11eb_bbba_0242ac1c0002row7_col8\" class=\"data row7 col8\" >3</td>\n",
              "                        <td id=\"T_58b9e05e_a161_11eb_bbba_0242ac1c0002row7_col9\" class=\"data row7 col9\" >98818</td>\n",
              "                        <td id=\"T_58b9e05e_a161_11eb_bbba_0242ac1c0002row7_col10\" class=\"data row7 col10\" >0.000000</td>\n",
              "                        <td id=\"T_58b9e05e_a161_11eb_bbba_0242ac1c0002row7_col11\" class=\"data row7 col11\" >0.000000</td>\n",
              "                        <td id=\"T_58b9e05e_a161_11eb_bbba_0242ac1c0002row7_col12\" class=\"data row7 col12\" >1</td>\n",
              "                        <td id=\"T_58b9e05e_a161_11eb_bbba_0242ac1c0002row7_col13\" class=\"data row7 col13\" >1</td>\n",
              "                        <td id=\"T_58b9e05e_a161_11eb_bbba_0242ac1c0002row7_col14\" class=\"data row7 col14\" >0.000000</td>\n",
              "                        <td id=\"T_58b9e05e_a161_11eb_bbba_0242ac1c0002row7_col15\" class=\"data row7 col15\" >0.000000</td>\n",
              "                        <td id=\"T_58b9e05e_a161_11eb_bbba_0242ac1c0002row7_col16\" class=\"data row7 col16\" >1.000000</td>\n",
              "                        <td id=\"T_58b9e05e_a161_11eb_bbba_0242ac1c0002row7_col17\" class=\"data row7 col17\" >0.000000</td>\n",
              "                        <td id=\"T_58b9e05e_a161_11eb_bbba_0242ac1c0002row7_col18\" class=\"data row7 col18\" >0.000000</td>\n",
              "                        <td id=\"T_58b9e05e_a161_11eb_bbba_0242ac1c0002row7_col19\" class=\"data row7 col19\" >str</td>\n",
              "                        <td id=\"T_58b9e05e_a161_11eb_bbba_0242ac1c0002row7_col20\" class=\"data row7 col20\" >RMSprop</td>\n",
              "                        <td id=\"T_58b9e05e_a161_11eb_bbba_0242ac1c0002row7_col21\" class=\"data row7 col21\" >{'name': 'sequential_78', 'lay...</td>\n",
              "                        <td id=\"T_58b9e05e_a161_11eb_bbba_0242ac1c0002row7_col22\" class=\"data row7 col22\" >prajseth</td>\n",
              "                        <td id=\"T_58b9e05e_a161_11eb_bbba_0242ac1c0002row7_col23\" class=\"data row7 col23\" >41</td>\n",
              "            </tr>\n",
              "            <tr>\n",
              "                        <th id=\"T_58b9e05e_a161_11eb_bbba_0242ac1c0002level0_row8\" class=\"row_heading level0 row8\" >9</th>\n",
              "                        <td id=\"T_58b9e05e_a161_11eb_bbba_0242ac1c0002row8_col0\" class=\"data row8 col0\" >94.21%</td>\n",
              "                        <td id=\"T_58b9e05e_a161_11eb_bbba_0242ac1c0002row8_col1\" class=\"data row8 col1\" >94.19%</td>\n",
              "                        <td id=\"T_58b9e05e_a161_11eb_bbba_0242ac1c0002row8_col2\" class=\"data row8 col2\" >94.18%</td>\n",
              "                        <td id=\"T_58b9e05e_a161_11eb_bbba_0242ac1c0002row8_col3\" class=\"data row8 col3\" >94.21%</td>\n",
              "                        <td id=\"T_58b9e05e_a161_11eb_bbba_0242ac1c0002row8_col4\" class=\"data row8 col4\" >keras</td>\n",
              "                        <td id=\"T_58b9e05e_a161_11eb_bbba_0242ac1c0002row8_col5\" class=\"data row8 col5\" >False</td>\n",
              "                        <td id=\"T_58b9e05e_a161_11eb_bbba_0242ac1c0002row8_col6\" class=\"data row8 col6\" >True</td>\n",
              "                        <td id=\"T_58b9e05e_a161_11eb_bbba_0242ac1c0002row8_col7\" class=\"data row8 col7\" >Sequential</td>\n",
              "                        <td id=\"T_58b9e05e_a161_11eb_bbba_0242ac1c0002row8_col8\" class=\"data row8 col8\" >3</td>\n",
              "                        <td id=\"T_58b9e05e_a161_11eb_bbba_0242ac1c0002row8_col9\" class=\"data row8 col9\" >402690</td>\n",
              "                        <td id=\"T_58b9e05e_a161_11eb_bbba_0242ac1c0002row8_col10\" class=\"data row8 col10\" >0.000000</td>\n",
              "                        <td id=\"T_58b9e05e_a161_11eb_bbba_0242ac1c0002row8_col11\" class=\"data row8 col11\" >0.000000</td>\n",
              "                        <td id=\"T_58b9e05e_a161_11eb_bbba_0242ac1c0002row8_col12\" class=\"data row8 col12\" >1</td>\n",
              "                        <td id=\"T_58b9e05e_a161_11eb_bbba_0242ac1c0002row8_col13\" class=\"data row8 col13\" >1</td>\n",
              "                        <td id=\"T_58b9e05e_a161_11eb_bbba_0242ac1c0002row8_col14\" class=\"data row8 col14\" >0.000000</td>\n",
              "                        <td id=\"T_58b9e05e_a161_11eb_bbba_0242ac1c0002row8_col15\" class=\"data row8 col15\" >0.000000</td>\n",
              "                        <td id=\"T_58b9e05e_a161_11eb_bbba_0242ac1c0002row8_col16\" class=\"data row8 col16\" >1.000000</td>\n",
              "                        <td id=\"T_58b9e05e_a161_11eb_bbba_0242ac1c0002row8_col17\" class=\"data row8 col17\" >0.000000</td>\n",
              "                        <td id=\"T_58b9e05e_a161_11eb_bbba_0242ac1c0002row8_col18\" class=\"data row8 col18\" >0.000000</td>\n",
              "                        <td id=\"T_58b9e05e_a161_11eb_bbba_0242ac1c0002row8_col19\" class=\"data row8 col19\" >str</td>\n",
              "                        <td id=\"T_58b9e05e_a161_11eb_bbba_0242ac1c0002row8_col20\" class=\"data row8 col20\" >RMSprop</td>\n",
              "                        <td id=\"T_58b9e05e_a161_11eb_bbba_0242ac1c0002row8_col21\" class=\"data row8 col21\" >{'name': 'sequential_5', 'laye...</td>\n",
              "                        <td id=\"T_58b9e05e_a161_11eb_bbba_0242ac1c0002row8_col22\" class=\"data row8 col22\" >xc2303_xc</td>\n",
              "                        <td id=\"T_58b9e05e_a161_11eb_bbba_0242ac1c0002row8_col23\" class=\"data row8 col23\" >63</td>\n",
              "            </tr>\n",
              "            <tr>\n",
              "                        <th id=\"T_58b9e05e_a161_11eb_bbba_0242ac1c0002level0_row9\" class=\"row_heading level0 row9\" >11</th>\n",
              "                        <td id=\"T_58b9e05e_a161_11eb_bbba_0242ac1c0002row9_col0\" class=\"data row9 col0\" >94.21%</td>\n",
              "                        <td id=\"T_58b9e05e_a161_11eb_bbba_0242ac1c0002row9_col1\" class=\"data row9 col1\" >94.19%</td>\n",
              "                        <td id=\"T_58b9e05e_a161_11eb_bbba_0242ac1c0002row9_col2\" class=\"data row9 col2\" >94.20%</td>\n",
              "                        <td id=\"T_58b9e05e_a161_11eb_bbba_0242ac1c0002row9_col3\" class=\"data row9 col3\" >94.19%</td>\n",
              "                        <td id=\"T_58b9e05e_a161_11eb_bbba_0242ac1c0002row9_col4\" class=\"data row9 col4\" >keras</td>\n",
              "                        <td id=\"T_58b9e05e_a161_11eb_bbba_0242ac1c0002row9_col5\" class=\"data row9 col5\" >False</td>\n",
              "                        <td id=\"T_58b9e05e_a161_11eb_bbba_0242ac1c0002row9_col6\" class=\"data row9 col6\" >True</td>\n",
              "                        <td id=\"T_58b9e05e_a161_11eb_bbba_0242ac1c0002row9_col7\" class=\"data row9 col7\" >Sequential</td>\n",
              "                        <td id=\"T_58b9e05e_a161_11eb_bbba_0242ac1c0002row9_col8\" class=\"data row9 col8\" >7</td>\n",
              "                        <td id=\"T_58b9e05e_a161_11eb_bbba_0242ac1c0002row9_col9\" class=\"data row9 col9\" >3203362</td>\n",
              "                        <td id=\"T_58b9e05e_a161_11eb_bbba_0242ac1c0002row9_col10\" class=\"data row9 col10\" >4.000000</td>\n",
              "                        <td id=\"T_58b9e05e_a161_11eb_bbba_0242ac1c0002row9_col11\" class=\"data row9 col11\" >0.000000</td>\n",
              "                        <td id=\"T_58b9e05e_a161_11eb_bbba_0242ac1c0002row9_col12\" class=\"data row9 col12\" >1</td>\n",
              "                        <td id=\"T_58b9e05e_a161_11eb_bbba_0242ac1c0002row9_col13\" class=\"data row9 col13\" >1</td>\n",
              "                        <td id=\"T_58b9e05e_a161_11eb_bbba_0242ac1c0002row9_col14\" class=\"data row9 col14\" >1.000000</td>\n",
              "                        <td id=\"T_58b9e05e_a161_11eb_bbba_0242ac1c0002row9_col15\" class=\"data row9 col15\" >0.000000</td>\n",
              "                        <td id=\"T_58b9e05e_a161_11eb_bbba_0242ac1c0002row9_col16\" class=\"data row9 col16\" >0.000000</td>\n",
              "                        <td id=\"T_58b9e05e_a161_11eb_bbba_0242ac1c0002row9_col17\" class=\"data row9 col17\" >0.000000</td>\n",
              "                        <td id=\"T_58b9e05e_a161_11eb_bbba_0242ac1c0002row9_col18\" class=\"data row9 col18\" >0.000000</td>\n",
              "                        <td id=\"T_58b9e05e_a161_11eb_bbba_0242ac1c0002row9_col19\" class=\"data row9 col19\" >str</td>\n",
              "                        <td id=\"T_58b9e05e_a161_11eb_bbba_0242ac1c0002row9_col20\" class=\"data row9 col20\" >RMSprop</td>\n",
              "                        <td id=\"T_58b9e05e_a161_11eb_bbba_0242ac1c0002row9_col21\" class=\"data row9 col21\" >{'name': 'sequential_31', 'lay...</td>\n",
              "                        <td id=\"T_58b9e05e_a161_11eb_bbba_0242ac1c0002row9_col22\" class=\"data row9 col22\" >rboswell</td>\n",
              "                        <td id=\"T_58b9e05e_a161_11eb_bbba_0242ac1c0002row9_col23\" class=\"data row9 col23\" >71</td>\n",
              "            </tr>\n",
              "            <tr>\n",
              "                        <th id=\"T_58b9e05e_a161_11eb_bbba_0242ac1c0002level0_row10\" class=\"row_heading level0 row10\" >13</th>\n",
              "                        <td id=\"T_58b9e05e_a161_11eb_bbba_0242ac1c0002row10_col0\" class=\"data row10 col0\" >94.11%</td>\n",
              "                        <td id=\"T_58b9e05e_a161_11eb_bbba_0242ac1c0002row10_col1\" class=\"data row10 col1\" >94.10%</td>\n",
              "                        <td id=\"T_58b9e05e_a161_11eb_bbba_0242ac1c0002row10_col2\" class=\"data row10 col2\" >94.09%</td>\n",
              "                        <td id=\"T_58b9e05e_a161_11eb_bbba_0242ac1c0002row10_col3\" class=\"data row10 col3\" >94.11%</td>\n",
              "                        <td id=\"T_58b9e05e_a161_11eb_bbba_0242ac1c0002row10_col4\" class=\"data row10 col4\" >keras</td>\n",
              "                        <td id=\"T_58b9e05e_a161_11eb_bbba_0242ac1c0002row10_col5\" class=\"data row10 col5\" >False</td>\n",
              "                        <td id=\"T_58b9e05e_a161_11eb_bbba_0242ac1c0002row10_col6\" class=\"data row10 col6\" >True</td>\n",
              "                        <td id=\"T_58b9e05e_a161_11eb_bbba_0242ac1c0002row10_col7\" class=\"data row10 col7\" >Sequential</td>\n",
              "                        <td id=\"T_58b9e05e_a161_11eb_bbba_0242ac1c0002row10_col8\" class=\"data row10 col8\" >3</td>\n",
              "                        <td id=\"T_58b9e05e_a161_11eb_bbba_0242ac1c0002row10_col9\" class=\"data row10 col9\" >161282</td>\n",
              "                        <td id=\"T_58b9e05e_a161_11eb_bbba_0242ac1c0002row10_col10\" class=\"data row10 col10\" >0.000000</td>\n",
              "                        <td id=\"T_58b9e05e_a161_11eb_bbba_0242ac1c0002row10_col11\" class=\"data row10 col11\" >0.000000</td>\n",
              "                        <td id=\"T_58b9e05e_a161_11eb_bbba_0242ac1c0002row10_col12\" class=\"data row10 col12\" >1</td>\n",
              "                        <td id=\"T_58b9e05e_a161_11eb_bbba_0242ac1c0002row10_col13\" class=\"data row10 col13\" >1</td>\n",
              "                        <td id=\"T_58b9e05e_a161_11eb_bbba_0242ac1c0002row10_col14\" class=\"data row10 col14\" >1.000000</td>\n",
              "                        <td id=\"T_58b9e05e_a161_11eb_bbba_0242ac1c0002row10_col15\" class=\"data row10 col15\" >0.000000</td>\n",
              "                        <td id=\"T_58b9e05e_a161_11eb_bbba_0242ac1c0002row10_col16\" class=\"data row10 col16\" >0.000000</td>\n",
              "                        <td id=\"T_58b9e05e_a161_11eb_bbba_0242ac1c0002row10_col17\" class=\"data row10 col17\" >0.000000</td>\n",
              "                        <td id=\"T_58b9e05e_a161_11eb_bbba_0242ac1c0002row10_col18\" class=\"data row10 col18\" >0.000000</td>\n",
              "                        <td id=\"T_58b9e05e_a161_11eb_bbba_0242ac1c0002row10_col19\" class=\"data row10 col19\" >str</td>\n",
              "                        <td id=\"T_58b9e05e_a161_11eb_bbba_0242ac1c0002row10_col20\" class=\"data row10 col20\" >RMSprop</td>\n",
              "                        <td id=\"T_58b9e05e_a161_11eb_bbba_0242ac1c0002row10_col21\" class=\"data row10 col21\" >{'name': 'sequential', 'layers...</td>\n",
              "                        <td id=\"T_58b9e05e_a161_11eb_bbba_0242ac1c0002row10_col22\" class=\"data row10 col22\" >prajseth</td>\n",
              "                        <td id=\"T_58b9e05e_a161_11eb_bbba_0242ac1c0002row10_col23\" class=\"data row10 col23\" >21</td>\n",
              "            </tr>\n",
              "            <tr>\n",
              "                        <th id=\"T_58b9e05e_a161_11eb_bbba_0242ac1c0002level0_row11\" class=\"row_heading level0 row11\" >14</th>\n",
              "                        <td id=\"T_58b9e05e_a161_11eb_bbba_0242ac1c0002row11_col0\" class=\"data row11 col0\" >94.11%</td>\n",
              "                        <td id=\"T_58b9e05e_a161_11eb_bbba_0242ac1c0002row11_col1\" class=\"data row11 col1\" >94.10%</td>\n",
              "                        <td id=\"T_58b9e05e_a161_11eb_bbba_0242ac1c0002row11_col2\" class=\"data row11 col2\" >94.11%</td>\n",
              "                        <td id=\"T_58b9e05e_a161_11eb_bbba_0242ac1c0002row11_col3\" class=\"data row11 col3\" >94.09%</td>\n",
              "                        <td id=\"T_58b9e05e_a161_11eb_bbba_0242ac1c0002row11_col4\" class=\"data row11 col4\" >keras</td>\n",
              "                        <td id=\"T_58b9e05e_a161_11eb_bbba_0242ac1c0002row11_col5\" class=\"data row11 col5\" >False</td>\n",
              "                        <td id=\"T_58b9e05e_a161_11eb_bbba_0242ac1c0002row11_col6\" class=\"data row11 col6\" >True</td>\n",
              "                        <td id=\"T_58b9e05e_a161_11eb_bbba_0242ac1c0002row11_col7\" class=\"data row11 col7\" >Sequential</td>\n",
              "                        <td id=\"T_58b9e05e_a161_11eb_bbba_0242ac1c0002row11_col8\" class=\"data row11 col8\" >3</td>\n",
              "                        <td id=\"T_58b9e05e_a161_11eb_bbba_0242ac1c0002row11_col9\" class=\"data row11 col9\" >161282</td>\n",
              "                        <td id=\"T_58b9e05e_a161_11eb_bbba_0242ac1c0002row11_col10\" class=\"data row11 col10\" >0.000000</td>\n",
              "                        <td id=\"T_58b9e05e_a161_11eb_bbba_0242ac1c0002row11_col11\" class=\"data row11 col11\" >0.000000</td>\n",
              "                        <td id=\"T_58b9e05e_a161_11eb_bbba_0242ac1c0002row11_col12\" class=\"data row11 col12\" >1</td>\n",
              "                        <td id=\"T_58b9e05e_a161_11eb_bbba_0242ac1c0002row11_col13\" class=\"data row11 col13\" >1</td>\n",
              "                        <td id=\"T_58b9e05e_a161_11eb_bbba_0242ac1c0002row11_col14\" class=\"data row11 col14\" >1.000000</td>\n",
              "                        <td id=\"T_58b9e05e_a161_11eb_bbba_0242ac1c0002row11_col15\" class=\"data row11 col15\" >0.000000</td>\n",
              "                        <td id=\"T_58b9e05e_a161_11eb_bbba_0242ac1c0002row11_col16\" class=\"data row11 col16\" >0.000000</td>\n",
              "                        <td id=\"T_58b9e05e_a161_11eb_bbba_0242ac1c0002row11_col17\" class=\"data row11 col17\" >0.000000</td>\n",
              "                        <td id=\"T_58b9e05e_a161_11eb_bbba_0242ac1c0002row11_col18\" class=\"data row11 col18\" >0.000000</td>\n",
              "                        <td id=\"T_58b9e05e_a161_11eb_bbba_0242ac1c0002row11_col19\" class=\"data row11 col19\" >str</td>\n",
              "                        <td id=\"T_58b9e05e_a161_11eb_bbba_0242ac1c0002row11_col20\" class=\"data row11 col20\" >RMSprop</td>\n",
              "                        <td id=\"T_58b9e05e_a161_11eb_bbba_0242ac1c0002row11_col21\" class=\"data row11 col21\" >{'name': 'sequential_4', 'laye...</td>\n",
              "                        <td id=\"T_58b9e05e_a161_11eb_bbba_0242ac1c0002row11_col22\" class=\"data row11 col22\" >newusertest</td>\n",
              "                        <td id=\"T_58b9e05e_a161_11eb_bbba_0242ac1c0002row11_col23\" class=\"data row11 col23\" >5</td>\n",
              "            </tr>\n",
              "            <tr>\n",
              "                        <th id=\"T_58b9e05e_a161_11eb_bbba_0242ac1c0002level0_row12\" class=\"row_heading level0 row12\" >15</th>\n",
              "                        <td id=\"T_58b9e05e_a161_11eb_bbba_0242ac1c0002row12_col0\" class=\"data row12 col0\" >94.11%</td>\n",
              "                        <td id=\"T_58b9e05e_a161_11eb_bbba_0242ac1c0002row12_col1\" class=\"data row12 col1\" >94.10%</td>\n",
              "                        <td id=\"T_58b9e05e_a161_11eb_bbba_0242ac1c0002row12_col2\" class=\"data row12 col2\" >94.12%</td>\n",
              "                        <td id=\"T_58b9e05e_a161_11eb_bbba_0242ac1c0002row12_col3\" class=\"data row12 col3\" >94.08%</td>\n",
              "                        <td id=\"T_58b9e05e_a161_11eb_bbba_0242ac1c0002row12_col4\" class=\"data row12 col4\" >keras</td>\n",
              "                        <td id=\"T_58b9e05e_a161_11eb_bbba_0242ac1c0002row12_col5\" class=\"data row12 col5\" >False</td>\n",
              "                        <td id=\"T_58b9e05e_a161_11eb_bbba_0242ac1c0002row12_col6\" class=\"data row12 col6\" >True</td>\n",
              "                        <td id=\"T_58b9e05e_a161_11eb_bbba_0242ac1c0002row12_col7\" class=\"data row12 col7\" >Sequential</td>\n",
              "                        <td id=\"T_58b9e05e_a161_11eb_bbba_0242ac1c0002row12_col8\" class=\"data row12 col8\" >6</td>\n",
              "                        <td id=\"T_58b9e05e_a161_11eb_bbba_0242ac1c0002row12_col9\" class=\"data row12 col9\" >32098786</td>\n",
              "                        <td id=\"T_58b9e05e_a161_11eb_bbba_0242ac1c0002row12_col10\" class=\"data row12 col10\" >0.000000</td>\n",
              "                        <td id=\"T_58b9e05e_a161_11eb_bbba_0242ac1c0002row12_col11\" class=\"data row12 col11\" >2.000000</td>\n",
              "                        <td id=\"T_58b9e05e_a161_11eb_bbba_0242ac1c0002row12_col12\" class=\"data row12 col12\" >1</td>\n",
              "                        <td id=\"T_58b9e05e_a161_11eb_bbba_0242ac1c0002row12_col13\" class=\"data row12 col13\" >1</td>\n",
              "                        <td id=\"T_58b9e05e_a161_11eb_bbba_0242ac1c0002row12_col14\" class=\"data row12 col14\" >1.000000</td>\n",
              "                        <td id=\"T_58b9e05e_a161_11eb_bbba_0242ac1c0002row12_col15\" class=\"data row12 col15\" >0.000000</td>\n",
              "                        <td id=\"T_58b9e05e_a161_11eb_bbba_0242ac1c0002row12_col16\" class=\"data row12 col16\" >0.000000</td>\n",
              "                        <td id=\"T_58b9e05e_a161_11eb_bbba_0242ac1c0002row12_col17\" class=\"data row12 col17\" >1.000000</td>\n",
              "                        <td id=\"T_58b9e05e_a161_11eb_bbba_0242ac1c0002row12_col18\" class=\"data row12 col18\" >0.000000</td>\n",
              "                        <td id=\"T_58b9e05e_a161_11eb_bbba_0242ac1c0002row12_col19\" class=\"data row12 col19\" >str</td>\n",
              "                        <td id=\"T_58b9e05e_a161_11eb_bbba_0242ac1c0002row12_col20\" class=\"data row12 col20\" >Adam</td>\n",
              "                        <td id=\"T_58b9e05e_a161_11eb_bbba_0242ac1c0002row12_col21\" class=\"data row12 col21\" >{'name': 'sequential_122', 'la...</td>\n",
              "                        <td id=\"T_58b9e05e_a161_11eb_bbba_0242ac1c0002row12_col22\" class=\"data row12 col22\" >prajseth</td>\n",
              "                        <td id=\"T_58b9e05e_a161_11eb_bbba_0242ac1c0002row12_col23\" class=\"data row12 col23\" >53</td>\n",
              "            </tr>\n",
              "            <tr>\n",
              "                        <th id=\"T_58b9e05e_a161_11eb_bbba_0242ac1c0002level0_row13\" class=\"row_heading level0 row13\" >16</th>\n",
              "                        <td id=\"T_58b9e05e_a161_11eb_bbba_0242ac1c0002row13_col0\" class=\"data row13 col0\" >94.07%</td>\n",
              "                        <td id=\"T_58b9e05e_a161_11eb_bbba_0242ac1c0002row13_col1\" class=\"data row13 col1\" >94.06%</td>\n",
              "                        <td id=\"T_58b9e05e_a161_11eb_bbba_0242ac1c0002row13_col2\" class=\"data row13 col2\" >94.04%</td>\n",
              "                        <td id=\"T_58b9e05e_a161_11eb_bbba_0242ac1c0002row13_col3\" class=\"data row13 col3\" >94.11%</td>\n",
              "                        <td id=\"T_58b9e05e_a161_11eb_bbba_0242ac1c0002row13_col4\" class=\"data row13 col4\" >keras</td>\n",
              "                        <td id=\"T_58b9e05e_a161_11eb_bbba_0242ac1c0002row13_col5\" class=\"data row13 col5\" >False</td>\n",
              "                        <td id=\"T_58b9e05e_a161_11eb_bbba_0242ac1c0002row13_col6\" class=\"data row13 col6\" >True</td>\n",
              "                        <td id=\"T_58b9e05e_a161_11eb_bbba_0242ac1c0002row13_col7\" class=\"data row13 col7\" >Sequential</td>\n",
              "                        <td id=\"T_58b9e05e_a161_11eb_bbba_0242ac1c0002row13_col8\" class=\"data row13 col8\" >6</td>\n",
              "                        <td id=\"T_58b9e05e_a161_11eb_bbba_0242ac1c0002row13_col9\" class=\"data row13 col9\" >200834</td>\n",
              "                        <td id=\"T_58b9e05e_a161_11eb_bbba_0242ac1c0002row13_col10\" class=\"data row13 col10\" >0.000000</td>\n",
              "                        <td id=\"T_58b9e05e_a161_11eb_bbba_0242ac1c0002row13_col11\" class=\"data row13 col11\" >2.000000</td>\n",
              "                        <td id=\"T_58b9e05e_a161_11eb_bbba_0242ac1c0002row13_col12\" class=\"data row13 col12\" >1</td>\n",
              "                        <td id=\"T_58b9e05e_a161_11eb_bbba_0242ac1c0002row13_col13\" class=\"data row13 col13\" >1</td>\n",
              "                        <td id=\"T_58b9e05e_a161_11eb_bbba_0242ac1c0002row13_col14\" class=\"data row13 col14\" >1.000000</td>\n",
              "                        <td id=\"T_58b9e05e_a161_11eb_bbba_0242ac1c0002row13_col15\" class=\"data row13 col15\" >0.000000</td>\n",
              "                        <td id=\"T_58b9e05e_a161_11eb_bbba_0242ac1c0002row13_col16\" class=\"data row13 col16\" >0.000000</td>\n",
              "                        <td id=\"T_58b9e05e_a161_11eb_bbba_0242ac1c0002row13_col17\" class=\"data row13 col17\" >1.000000</td>\n",
              "                        <td id=\"T_58b9e05e_a161_11eb_bbba_0242ac1c0002row13_col18\" class=\"data row13 col18\" >0.000000</td>\n",
              "                        <td id=\"T_58b9e05e_a161_11eb_bbba_0242ac1c0002row13_col19\" class=\"data row13 col19\" >str</td>\n",
              "                        <td id=\"T_58b9e05e_a161_11eb_bbba_0242ac1c0002row13_col20\" class=\"data row13 col20\" >RMSprop</td>\n",
              "                        <td id=\"T_58b9e05e_a161_11eb_bbba_0242ac1c0002row13_col21\" class=\"data row13 col21\" >{'name': 'sequential_92', 'lay...</td>\n",
              "                        <td id=\"T_58b9e05e_a161_11eb_bbba_0242ac1c0002row13_col22\" class=\"data row13 col22\" >prajseth</td>\n",
              "                        <td id=\"T_58b9e05e_a161_11eb_bbba_0242ac1c0002row13_col23\" class=\"data row13 col23\" >47</td>\n",
              "            </tr>\n",
              "            <tr>\n",
              "                        <th id=\"T_58b9e05e_a161_11eb_bbba_0242ac1c0002level0_row14\" class=\"row_heading level0 row14\" >17</th>\n",
              "                        <td id=\"T_58b9e05e_a161_11eb_bbba_0242ac1c0002row14_col0\" class=\"data row14 col0\" >94.07%</td>\n",
              "                        <td id=\"T_58b9e05e_a161_11eb_bbba_0242ac1c0002row14_col1\" class=\"data row14 col1\" >94.06%</td>\n",
              "                        <td id=\"T_58b9e05e_a161_11eb_bbba_0242ac1c0002row14_col2\" class=\"data row14 col2\" >94.04%</td>\n",
              "                        <td id=\"T_58b9e05e_a161_11eb_bbba_0242ac1c0002row14_col3\" class=\"data row14 col3\" >94.09%</td>\n",
              "                        <td id=\"T_58b9e05e_a161_11eb_bbba_0242ac1c0002row14_col4\" class=\"data row14 col4\" >keras</td>\n",
              "                        <td id=\"T_58b9e05e_a161_11eb_bbba_0242ac1c0002row14_col5\" class=\"data row14 col5\" >False</td>\n",
              "                        <td id=\"T_58b9e05e_a161_11eb_bbba_0242ac1c0002row14_col6\" class=\"data row14 col6\" >True</td>\n",
              "                        <td id=\"T_58b9e05e_a161_11eb_bbba_0242ac1c0002row14_col7\" class=\"data row14 col7\" >Sequential</td>\n",
              "                        <td id=\"T_58b9e05e_a161_11eb_bbba_0242ac1c0002row14_col8\" class=\"data row14 col8\" >3</td>\n",
              "                        <td id=\"T_58b9e05e_a161_11eb_bbba_0242ac1c0002row14_col9\" class=\"data row14 col9\" >3208386</td>\n",
              "                        <td id=\"T_58b9e05e_a161_11eb_bbba_0242ac1c0002row14_col10\" class=\"data row14 col10\" >0.000000</td>\n",
              "                        <td id=\"T_58b9e05e_a161_11eb_bbba_0242ac1c0002row14_col11\" class=\"data row14 col11\" >0.000000</td>\n",
              "                        <td id=\"T_58b9e05e_a161_11eb_bbba_0242ac1c0002row14_col12\" class=\"data row14 col12\" >1</td>\n",
              "                        <td id=\"T_58b9e05e_a161_11eb_bbba_0242ac1c0002row14_col13\" class=\"data row14 col13\" >1</td>\n",
              "                        <td id=\"T_58b9e05e_a161_11eb_bbba_0242ac1c0002row14_col14\" class=\"data row14 col14\" >0.000000</td>\n",
              "                        <td id=\"T_58b9e05e_a161_11eb_bbba_0242ac1c0002row14_col15\" class=\"data row14 col15\" >0.000000</td>\n",
              "                        <td id=\"T_58b9e05e_a161_11eb_bbba_0242ac1c0002row14_col16\" class=\"data row14 col16\" >1.000000</td>\n",
              "                        <td id=\"T_58b9e05e_a161_11eb_bbba_0242ac1c0002row14_col17\" class=\"data row14 col17\" >0.000000</td>\n",
              "                        <td id=\"T_58b9e05e_a161_11eb_bbba_0242ac1c0002row14_col18\" class=\"data row14 col18\" >0.000000</td>\n",
              "                        <td id=\"T_58b9e05e_a161_11eb_bbba_0242ac1c0002row14_col19\" class=\"data row14 col19\" >str</td>\n",
              "                        <td id=\"T_58b9e05e_a161_11eb_bbba_0242ac1c0002row14_col20\" class=\"data row14 col20\" >RMSprop</td>\n",
              "                        <td id=\"T_58b9e05e_a161_11eb_bbba_0242ac1c0002row14_col21\" class=\"data row14 col21\" >{'name': 'sequential_40', 'lay...</td>\n",
              "                        <td id=\"T_58b9e05e_a161_11eb_bbba_0242ac1c0002row14_col22\" class=\"data row14 col22\" >prajseth</td>\n",
              "                        <td id=\"T_58b9e05e_a161_11eb_bbba_0242ac1c0002row14_col23\" class=\"data row14 col23\" >30</td>\n",
              "            </tr>\n",
              "            <tr>\n",
              "                        <th id=\"T_58b9e05e_a161_11eb_bbba_0242ac1c0002level0_row15\" class=\"row_heading level0 row15\" >19</th>\n",
              "                        <td id=\"T_58b9e05e_a161_11eb_bbba_0242ac1c0002row15_col0\" class=\"data row15 col0\" >94.02%</td>\n",
              "                        <td id=\"T_58b9e05e_a161_11eb_bbba_0242ac1c0002row15_col1\" class=\"data row15 col1\" >94.01%</td>\n",
              "                        <td id=\"T_58b9e05e_a161_11eb_bbba_0242ac1c0002row15_col2\" class=\"data row15 col2\" >93.99%</td>\n",
              "                        <td id=\"T_58b9e05e_a161_11eb_bbba_0242ac1c0002row15_col3\" class=\"data row15 col3\" >94.06%</td>\n",
              "                        <td id=\"T_58b9e05e_a161_11eb_bbba_0242ac1c0002row15_col4\" class=\"data row15 col4\" >keras</td>\n",
              "                        <td id=\"T_58b9e05e_a161_11eb_bbba_0242ac1c0002row15_col5\" class=\"data row15 col5\" >False</td>\n",
              "                        <td id=\"T_58b9e05e_a161_11eb_bbba_0242ac1c0002row15_col6\" class=\"data row15 col6\" >True</td>\n",
              "                        <td id=\"T_58b9e05e_a161_11eb_bbba_0242ac1c0002row15_col7\" class=\"data row15 col7\" >Sequential</td>\n",
              "                        <td id=\"T_58b9e05e_a161_11eb_bbba_0242ac1c0002row15_col8\" class=\"data row15 col8\" >6</td>\n",
              "                        <td id=\"T_58b9e05e_a161_11eb_bbba_0242ac1c0002row15_col9\" class=\"data row15 col9\" >148066</td>\n",
              "                        <td id=\"T_58b9e05e_a161_11eb_bbba_0242ac1c0002row15_col10\" class=\"data row15 col10\" >0.000000</td>\n",
              "                        <td id=\"T_58b9e05e_a161_11eb_bbba_0242ac1c0002row15_col11\" class=\"data row15 col11\" >2.000000</td>\n",
              "                        <td id=\"T_58b9e05e_a161_11eb_bbba_0242ac1c0002row15_col12\" class=\"data row15 col12\" >1</td>\n",
              "                        <td id=\"T_58b9e05e_a161_11eb_bbba_0242ac1c0002row15_col13\" class=\"data row15 col13\" >1</td>\n",
              "                        <td id=\"T_58b9e05e_a161_11eb_bbba_0242ac1c0002row15_col14\" class=\"data row15 col14\" >1.000000</td>\n",
              "                        <td id=\"T_58b9e05e_a161_11eb_bbba_0242ac1c0002row15_col15\" class=\"data row15 col15\" >0.000000</td>\n",
              "                        <td id=\"T_58b9e05e_a161_11eb_bbba_0242ac1c0002row15_col16\" class=\"data row15 col16\" >0.000000</td>\n",
              "                        <td id=\"T_58b9e05e_a161_11eb_bbba_0242ac1c0002row15_col17\" class=\"data row15 col17\" >1.000000</td>\n",
              "                        <td id=\"T_58b9e05e_a161_11eb_bbba_0242ac1c0002row15_col18\" class=\"data row15 col18\" >0.000000</td>\n",
              "                        <td id=\"T_58b9e05e_a161_11eb_bbba_0242ac1c0002row15_col19\" class=\"data row15 col19\" >str</td>\n",
              "                        <td id=\"T_58b9e05e_a161_11eb_bbba_0242ac1c0002row15_col20\" class=\"data row15 col20\" >RMSprop</td>\n",
              "                        <td id=\"T_58b9e05e_a161_11eb_bbba_0242ac1c0002row15_col21\" class=\"data row15 col21\" >{'name': 'sequential_101', 'la...</td>\n",
              "                        <td id=\"T_58b9e05e_a161_11eb_bbba_0242ac1c0002row15_col22\" class=\"data row15 col22\" >prajseth</td>\n",
              "                        <td id=\"T_58b9e05e_a161_11eb_bbba_0242ac1c0002row15_col23\" class=\"data row15 col23\" >48</td>\n",
              "            </tr>\n",
              "            <tr>\n",
              "                        <th id=\"T_58b9e05e_a161_11eb_bbba_0242ac1c0002level0_row16\" class=\"row_heading level0 row16\" >20</th>\n",
              "                        <td id=\"T_58b9e05e_a161_11eb_bbba_0242ac1c0002row16_col0\" class=\"data row16 col0\" >93.93%</td>\n",
              "                        <td id=\"T_58b9e05e_a161_11eb_bbba_0242ac1c0002row16_col1\" class=\"data row16 col1\" >93.89%</td>\n",
              "                        <td id=\"T_58b9e05e_a161_11eb_bbba_0242ac1c0002row16_col2\" class=\"data row16 col2\" >94.13%</td>\n",
              "                        <td id=\"T_58b9e05e_a161_11eb_bbba_0242ac1c0002row16_col3\" class=\"data row16 col3\" >93.79%</td>\n",
              "                        <td id=\"T_58b9e05e_a161_11eb_bbba_0242ac1c0002row16_col4\" class=\"data row16 col4\" >keras</td>\n",
              "                        <td id=\"T_58b9e05e_a161_11eb_bbba_0242ac1c0002row16_col5\" class=\"data row16 col5\" >False</td>\n",
              "                        <td id=\"T_58b9e05e_a161_11eb_bbba_0242ac1c0002row16_col6\" class=\"data row16 col6\" >True</td>\n",
              "                        <td id=\"T_58b9e05e_a161_11eb_bbba_0242ac1c0002row16_col7\" class=\"data row16 col7\" >Sequential</td>\n",
              "                        <td id=\"T_58b9e05e_a161_11eb_bbba_0242ac1c0002row16_col8\" class=\"data row16 col8\" >5</td>\n",
              "                        <td id=\"T_58b9e05e_a161_11eb_bbba_0242ac1c0002row16_col9\" class=\"data row16 col9\" >345026</td>\n",
              "                        <td id=\"T_58b9e05e_a161_11eb_bbba_0242ac1c0002row16_col10\" class=\"data row16 col10\" >0.000000</td>\n",
              "                        <td id=\"T_58b9e05e_a161_11eb_bbba_0242ac1c0002row16_col11\" class=\"data row16 col11\" >0.000000</td>\n",
              "                        <td id=\"T_58b9e05e_a161_11eb_bbba_0242ac1c0002row16_col12\" class=\"data row16 col12\" >1</td>\n",
              "                        <td id=\"T_58b9e05e_a161_11eb_bbba_0242ac1c0002row16_col13\" class=\"data row16 col13\" >1</td>\n",
              "                        <td id=\"T_58b9e05e_a161_11eb_bbba_0242ac1c0002row16_col14\" class=\"data row16 col14\" >0.000000</td>\n",
              "                        <td id=\"T_58b9e05e_a161_11eb_bbba_0242ac1c0002row16_col15\" class=\"data row16 col15\" >0.000000</td>\n",
              "                        <td id=\"T_58b9e05e_a161_11eb_bbba_0242ac1c0002row16_col16\" class=\"data row16 col16\" >3.000000</td>\n",
              "                        <td id=\"T_58b9e05e_a161_11eb_bbba_0242ac1c0002row16_col17\" class=\"data row16 col17\" >0.000000</td>\n",
              "                        <td id=\"T_58b9e05e_a161_11eb_bbba_0242ac1c0002row16_col18\" class=\"data row16 col18\" >0.000000</td>\n",
              "                        <td id=\"T_58b9e05e_a161_11eb_bbba_0242ac1c0002row16_col19\" class=\"data row16 col19\" >str</td>\n",
              "                        <td id=\"T_58b9e05e_a161_11eb_bbba_0242ac1c0002row16_col20\" class=\"data row16 col20\" >RMSprop</td>\n",
              "                        <td id=\"T_58b9e05e_a161_11eb_bbba_0242ac1c0002row16_col21\" class=\"data row16 col21\" >{'name': 'sequential_24', 'lay...</td>\n",
              "                        <td id=\"T_58b9e05e_a161_11eb_bbba_0242ac1c0002row16_col22\" class=\"data row16 col22\" >mro9395</td>\n",
              "                        <td id=\"T_58b9e05e_a161_11eb_bbba_0242ac1c0002row16_col23\" class=\"data row16 col23\" >73</td>\n",
              "            </tr>\n",
              "            <tr>\n",
              "                        <th id=\"T_58b9e05e_a161_11eb_bbba_0242ac1c0002level0_row17\" class=\"row_heading level0 row17\" >21</th>\n",
              "                        <td id=\"T_58b9e05e_a161_11eb_bbba_0242ac1c0002row17_col0\" class=\"data row17 col0\" >93.97%</td>\n",
              "                        <td id=\"T_58b9e05e_a161_11eb_bbba_0242ac1c0002row17_col1\" class=\"data row17 col1\" >93.96%</td>\n",
              "                        <td id=\"T_58b9e05e_a161_11eb_bbba_0242ac1c0002row17_col2\" class=\"data row17 col2\" >93.94%</td>\n",
              "                        <td id=\"T_58b9e05e_a161_11eb_bbba_0242ac1c0002row17_col3\" class=\"data row17 col3\" >94.00%</td>\n",
              "                        <td id=\"T_58b9e05e_a161_11eb_bbba_0242ac1c0002row17_col4\" class=\"data row17 col4\" >keras</td>\n",
              "                        <td id=\"T_58b9e05e_a161_11eb_bbba_0242ac1c0002row17_col5\" class=\"data row17 col5\" >False</td>\n",
              "                        <td id=\"T_58b9e05e_a161_11eb_bbba_0242ac1c0002row17_col6\" class=\"data row17 col6\" >True</td>\n",
              "                        <td id=\"T_58b9e05e_a161_11eb_bbba_0242ac1c0002row17_col7\" class=\"data row17 col7\" >Sequential</td>\n",
              "                        <td id=\"T_58b9e05e_a161_11eb_bbba_0242ac1c0002row17_col8\" class=\"data row17 col8\" >4</td>\n",
              "                        <td id=\"T_58b9e05e_a161_11eb_bbba_0242ac1c0002row17_col9\" class=\"data row17 col9\" >3218754</td>\n",
              "                        <td id=\"T_58b9e05e_a161_11eb_bbba_0242ac1c0002row17_col10\" class=\"data row17 col10\" >0.000000</td>\n",
              "                        <td id=\"T_58b9e05e_a161_11eb_bbba_0242ac1c0002row17_col11\" class=\"data row17 col11\" >1.000000</td>\n",
              "                        <td id=\"T_58b9e05e_a161_11eb_bbba_0242ac1c0002row17_col12\" class=\"data row17 col12\" >1</td>\n",
              "                        <td id=\"T_58b9e05e_a161_11eb_bbba_0242ac1c0002row17_col13\" class=\"data row17 col13\" >1</td>\n",
              "                        <td id=\"T_58b9e05e_a161_11eb_bbba_0242ac1c0002row17_col14\" class=\"data row17 col14\" >1.000000</td>\n",
              "                        <td id=\"T_58b9e05e_a161_11eb_bbba_0242ac1c0002row17_col15\" class=\"data row17 col15\" >0.000000</td>\n",
              "                        <td id=\"T_58b9e05e_a161_11eb_bbba_0242ac1c0002row17_col16\" class=\"data row17 col16\" >0.000000</td>\n",
              "                        <td id=\"T_58b9e05e_a161_11eb_bbba_0242ac1c0002row17_col17\" class=\"data row17 col17\" >0.000000</td>\n",
              "                        <td id=\"T_58b9e05e_a161_11eb_bbba_0242ac1c0002row17_col18\" class=\"data row17 col18\" >0.000000</td>\n",
              "                        <td id=\"T_58b9e05e_a161_11eb_bbba_0242ac1c0002row17_col19\" class=\"data row17 col19\" >str</td>\n",
              "                        <td id=\"T_58b9e05e_a161_11eb_bbba_0242ac1c0002row17_col20\" class=\"data row17 col20\" >RMSprop</td>\n",
              "                        <td id=\"T_58b9e05e_a161_11eb_bbba_0242ac1c0002row17_col21\" class=\"data row17 col21\" >{'name': 'sequential_29', 'lay...</td>\n",
              "                        <td id=\"T_58b9e05e_a161_11eb_bbba_0242ac1c0002row17_col22\" class=\"data row17 col22\" >prajseth</td>\n",
              "                        <td id=\"T_58b9e05e_a161_11eb_bbba_0242ac1c0002row17_col23\" class=\"data row17 col23\" >24</td>\n",
              "            </tr>\n",
              "            <tr>\n",
              "                        <th id=\"T_58b9e05e_a161_11eb_bbba_0242ac1c0002level0_row18\" class=\"row_heading level0 row18\" >23</th>\n",
              "                        <td id=\"T_58b9e05e_a161_11eb_bbba_0242ac1c0002row18_col0\" class=\"data row18 col0\" >93.88%</td>\n",
              "                        <td id=\"T_58b9e05e_a161_11eb_bbba_0242ac1c0002row18_col1\" class=\"data row18 col1\" >93.86%</td>\n",
              "                        <td id=\"T_58b9e05e_a161_11eb_bbba_0242ac1c0002row18_col2\" class=\"data row18 col2\" >93.87%</td>\n",
              "                        <td id=\"T_58b9e05e_a161_11eb_bbba_0242ac1c0002row18_col3\" class=\"data row18 col3\" >93.86%</td>\n",
              "                        <td id=\"T_58b9e05e_a161_11eb_bbba_0242ac1c0002row18_col4\" class=\"data row18 col4\" >keras</td>\n",
              "                        <td id=\"T_58b9e05e_a161_11eb_bbba_0242ac1c0002row18_col5\" class=\"data row18 col5\" >False</td>\n",
              "                        <td id=\"T_58b9e05e_a161_11eb_bbba_0242ac1c0002row18_col6\" class=\"data row18 col6\" >True</td>\n",
              "                        <td id=\"T_58b9e05e_a161_11eb_bbba_0242ac1c0002row18_col7\" class=\"data row18 col7\" >Sequential</td>\n",
              "                        <td id=\"T_58b9e05e_a161_11eb_bbba_0242ac1c0002row18_col8\" class=\"data row18 col8\" >4</td>\n",
              "                        <td id=\"T_58b9e05e_a161_11eb_bbba_0242ac1c0002row18_col9\" class=\"data row18 col9\" >851842</td>\n",
              "                        <td id=\"T_58b9e05e_a161_11eb_bbba_0242ac1c0002row18_col10\" class=\"data row18 col10\" >0.000000</td>\n",
              "                        <td id=\"T_58b9e05e_a161_11eb_bbba_0242ac1c0002row18_col11\" class=\"data row18 col11\" >0.000000</td>\n",
              "                        <td id=\"T_58b9e05e_a161_11eb_bbba_0242ac1c0002row18_col12\" class=\"data row18 col12\" >1</td>\n",
              "                        <td id=\"T_58b9e05e_a161_11eb_bbba_0242ac1c0002row18_col13\" class=\"data row18 col13\" >1</td>\n",
              "                        <td id=\"T_58b9e05e_a161_11eb_bbba_0242ac1c0002row18_col14\" class=\"data row18 col14\" >0.000000</td>\n",
              "                        <td id=\"T_58b9e05e_a161_11eb_bbba_0242ac1c0002row18_col15\" class=\"data row18 col15\" >0.000000</td>\n",
              "                        <td id=\"T_58b9e05e_a161_11eb_bbba_0242ac1c0002row18_col16\" class=\"data row18 col16\" >2.000000</td>\n",
              "                        <td id=\"T_58b9e05e_a161_11eb_bbba_0242ac1c0002row18_col17\" class=\"data row18 col17\" >0.000000</td>\n",
              "                        <td id=\"T_58b9e05e_a161_11eb_bbba_0242ac1c0002row18_col18\" class=\"data row18 col18\" >0.000000</td>\n",
              "                        <td id=\"T_58b9e05e_a161_11eb_bbba_0242ac1c0002row18_col19\" class=\"data row18 col19\" >str</td>\n",
              "                        <td id=\"T_58b9e05e_a161_11eb_bbba_0242ac1c0002row18_col20\" class=\"data row18 col20\" >RMSprop</td>\n",
              "                        <td id=\"T_58b9e05e_a161_11eb_bbba_0242ac1c0002row18_col21\" class=\"data row18 col21\" >{'name': 'sequential_123', 'la...</td>\n",
              "                        <td id=\"T_58b9e05e_a161_11eb_bbba_0242ac1c0002row18_col22\" class=\"data row18 col22\" >prajseth</td>\n",
              "                        <td id=\"T_58b9e05e_a161_11eb_bbba_0242ac1c0002row18_col23\" class=\"data row18 col23\" >54</td>\n",
              "            </tr>\n",
              "            <tr>\n",
              "                        <th id=\"T_58b9e05e_a161_11eb_bbba_0242ac1c0002level0_row19\" class=\"row_heading level0 row19\" >24</th>\n",
              "                        <td id=\"T_58b9e05e_a161_11eb_bbba_0242ac1c0002row19_col0\" class=\"data row19 col0\" >93.88%</td>\n",
              "                        <td id=\"T_58b9e05e_a161_11eb_bbba_0242ac1c0002row19_col1\" class=\"data row19 col1\" >93.86%</td>\n",
              "                        <td id=\"T_58b9e05e_a161_11eb_bbba_0242ac1c0002row19_col2\" class=\"data row19 col2\" >93.94%</td>\n",
              "                        <td id=\"T_58b9e05e_a161_11eb_bbba_0242ac1c0002row19_col3\" class=\"data row19 col3\" >93.81%</td>\n",
              "                        <td id=\"T_58b9e05e_a161_11eb_bbba_0242ac1c0002row19_col4\" class=\"data row19 col4\" >keras</td>\n",
              "                        <td id=\"T_58b9e05e_a161_11eb_bbba_0242ac1c0002row19_col5\" class=\"data row19 col5\" >False</td>\n",
              "                        <td id=\"T_58b9e05e_a161_11eb_bbba_0242ac1c0002row19_col6\" class=\"data row19 col6\" >True</td>\n",
              "                        <td id=\"T_58b9e05e_a161_11eb_bbba_0242ac1c0002row19_col7\" class=\"data row19 col7\" >Sequential</td>\n",
              "                        <td id=\"T_58b9e05e_a161_11eb_bbba_0242ac1c0002row19_col8\" class=\"data row19 col8\" >5</td>\n",
              "                        <td id=\"T_58b9e05e_a161_11eb_bbba_0242ac1c0002row19_col9\" class=\"data row19 col9\" >1629160</td>\n",
              "                        <td id=\"T_58b9e05e_a161_11eb_bbba_0242ac1c0002row19_col10\" class=\"data row19 col10\" >0.000000</td>\n",
              "                        <td id=\"T_58b9e05e_a161_11eb_bbba_0242ac1c0002row19_col11\" class=\"data row19 col11\" >1.000000</td>\n",
              "                        <td id=\"T_58b9e05e_a161_11eb_bbba_0242ac1c0002row19_col12\" class=\"data row19 col12\" >2</td>\n",
              "                        <td id=\"T_58b9e05e_a161_11eb_bbba_0242ac1c0002row19_col13\" class=\"data row19 col13\" >1</td>\n",
              "                        <td id=\"T_58b9e05e_a161_11eb_bbba_0242ac1c0002row19_col14\" class=\"data row19 col14\" >1.000000</td>\n",
              "                        <td id=\"T_58b9e05e_a161_11eb_bbba_0242ac1c0002row19_col15\" class=\"data row19 col15\" >0.000000</td>\n",
              "                        <td id=\"T_58b9e05e_a161_11eb_bbba_0242ac1c0002row19_col16\" class=\"data row19 col16\" >0.000000</td>\n",
              "                        <td id=\"T_58b9e05e_a161_11eb_bbba_0242ac1c0002row19_col17\" class=\"data row19 col17\" >0.000000</td>\n",
              "                        <td id=\"T_58b9e05e_a161_11eb_bbba_0242ac1c0002row19_col18\" class=\"data row19 col18\" >0.000000</td>\n",
              "                        <td id=\"T_58b9e05e_a161_11eb_bbba_0242ac1c0002row19_col19\" class=\"data row19 col19\" >str</td>\n",
              "                        <td id=\"T_58b9e05e_a161_11eb_bbba_0242ac1c0002row19_col20\" class=\"data row19 col20\" >RMSprop</td>\n",
              "                        <td id=\"T_58b9e05e_a161_11eb_bbba_0242ac1c0002row19_col21\" class=\"data row19 col21\" >{'name': 'sequential_9', 'laye...</td>\n",
              "                        <td id=\"T_58b9e05e_a161_11eb_bbba_0242ac1c0002row19_col22\" class=\"data row19 col22\" >prajseth</td>\n",
              "                        <td id=\"T_58b9e05e_a161_11eb_bbba_0242ac1c0002row19_col23\" class=\"data row19 col23\" >33</td>\n",
              "            </tr>\n",
              "            <tr>\n",
              "                        <th id=\"T_58b9e05e_a161_11eb_bbba_0242ac1c0002level0_row20\" class=\"row_heading level0 row20\" >25</th>\n",
              "                        <td id=\"T_58b9e05e_a161_11eb_bbba_0242ac1c0002row20_col0\" class=\"data row20 col0\" >93.83%</td>\n",
              "                        <td id=\"T_58b9e05e_a161_11eb_bbba_0242ac1c0002row20_col1\" class=\"data row20 col1\" >93.83%</td>\n",
              "                        <td id=\"T_58b9e05e_a161_11eb_bbba_0242ac1c0002row20_col2\" class=\"data row20 col2\" >93.86%</td>\n",
              "                        <td id=\"T_58b9e05e_a161_11eb_bbba_0242ac1c0002row20_col3\" class=\"data row20 col3\" >93.95%</td>\n",
              "                        <td id=\"T_58b9e05e_a161_11eb_bbba_0242ac1c0002row20_col4\" class=\"data row20 col4\" >keras</td>\n",
              "                        <td id=\"T_58b9e05e_a161_11eb_bbba_0242ac1c0002row20_col5\" class=\"data row20 col5\" >False</td>\n",
              "                        <td id=\"T_58b9e05e_a161_11eb_bbba_0242ac1c0002row20_col6\" class=\"data row20 col6\" >True</td>\n",
              "                        <td id=\"T_58b9e05e_a161_11eb_bbba_0242ac1c0002row20_col7\" class=\"data row20 col7\" >Sequential</td>\n",
              "                        <td id=\"T_58b9e05e_a161_11eb_bbba_0242ac1c0002row20_col8\" class=\"data row20 col8\" >3</td>\n",
              "                        <td id=\"T_58b9e05e_a161_11eb_bbba_0242ac1c0002row20_col9\" class=\"data row20 col9\" >402690</td>\n",
              "                        <td id=\"T_58b9e05e_a161_11eb_bbba_0242ac1c0002row20_col10\" class=\"data row20 col10\" >0.000000</td>\n",
              "                        <td id=\"T_58b9e05e_a161_11eb_bbba_0242ac1c0002row20_col11\" class=\"data row20 col11\" >0.000000</td>\n",
              "                        <td id=\"T_58b9e05e_a161_11eb_bbba_0242ac1c0002row20_col12\" class=\"data row20 col12\" >1</td>\n",
              "                        <td id=\"T_58b9e05e_a161_11eb_bbba_0242ac1c0002row20_col13\" class=\"data row20 col13\" >1</td>\n",
              "                        <td id=\"T_58b9e05e_a161_11eb_bbba_0242ac1c0002row20_col14\" class=\"data row20 col14\" >0.000000</td>\n",
              "                        <td id=\"T_58b9e05e_a161_11eb_bbba_0242ac1c0002row20_col15\" class=\"data row20 col15\" >0.000000</td>\n",
              "                        <td id=\"T_58b9e05e_a161_11eb_bbba_0242ac1c0002row20_col16\" class=\"data row20 col16\" >1.000000</td>\n",
              "                        <td id=\"T_58b9e05e_a161_11eb_bbba_0242ac1c0002row20_col17\" class=\"data row20 col17\" >0.000000</td>\n",
              "                        <td id=\"T_58b9e05e_a161_11eb_bbba_0242ac1c0002row20_col18\" class=\"data row20 col18\" >0.000000</td>\n",
              "                        <td id=\"T_58b9e05e_a161_11eb_bbba_0242ac1c0002row20_col19\" class=\"data row20 col19\" >str</td>\n",
              "                        <td id=\"T_58b9e05e_a161_11eb_bbba_0242ac1c0002row20_col20\" class=\"data row20 col20\" >RMSprop</td>\n",
              "                        <td id=\"T_58b9e05e_a161_11eb_bbba_0242ac1c0002row20_col21\" class=\"data row20 col21\" >{'name': 'sequential_24', 'lay...</td>\n",
              "                        <td id=\"T_58b9e05e_a161_11eb_bbba_0242ac1c0002row20_col22\" class=\"data row20 col22\" >xc2303_xc</td>\n",
              "                        <td id=\"T_58b9e05e_a161_11eb_bbba_0242ac1c0002row20_col23\" class=\"data row20 col23\" >17</td>\n",
              "            </tr>\n",
              "            <tr>\n",
              "                        <th id=\"T_58b9e05e_a161_11eb_bbba_0242ac1c0002level0_row21\" class=\"row_heading level0 row21\" >26</th>\n",
              "                        <td id=\"T_58b9e05e_a161_11eb_bbba_0242ac1c0002row21_col0\" class=\"data row21 col0\" >93.69%</td>\n",
              "                        <td id=\"T_58b9e05e_a161_11eb_bbba_0242ac1c0002row21_col1\" class=\"data row21 col1\" >93.68%</td>\n",
              "                        <td id=\"T_58b9e05e_a161_11eb_bbba_0242ac1c0002row21_col2\" class=\"data row21 col2\" >93.66%</td>\n",
              "                        <td id=\"T_58b9e05e_a161_11eb_bbba_0242ac1c0002row21_col3\" class=\"data row21 col3\" >93.74%</td>\n",
              "                        <td id=\"T_58b9e05e_a161_11eb_bbba_0242ac1c0002row21_col4\" class=\"data row21 col4\" >keras</td>\n",
              "                        <td id=\"T_58b9e05e_a161_11eb_bbba_0242ac1c0002row21_col5\" class=\"data row21 col5\" >False</td>\n",
              "                        <td id=\"T_58b9e05e_a161_11eb_bbba_0242ac1c0002row21_col6\" class=\"data row21 col6\" >True</td>\n",
              "                        <td id=\"T_58b9e05e_a161_11eb_bbba_0242ac1c0002row21_col7\" class=\"data row21 col7\" >Sequential</td>\n",
              "                        <td id=\"T_58b9e05e_a161_11eb_bbba_0242ac1c0002row21_col8\" class=\"data row21 col8\" >4</td>\n",
              "                        <td id=\"T_58b9e05e_a161_11eb_bbba_0242ac1c0002row21_col9\" class=\"data row21 col9\" >1602898</td>\n",
              "                        <td id=\"T_58b9e05e_a161_11eb_bbba_0242ac1c0002row21_col10\" class=\"data row21 col10\" >0.000000</td>\n",
              "                        <td id=\"T_58b9e05e_a161_11eb_bbba_0242ac1c0002row21_col11\" class=\"data row21 col11\" >1.000000</td>\n",
              "                        <td id=\"T_58b9e05e_a161_11eb_bbba_0242ac1c0002row21_col12\" class=\"data row21 col12\" >1</td>\n",
              "                        <td id=\"T_58b9e05e_a161_11eb_bbba_0242ac1c0002row21_col13\" class=\"data row21 col13\" >1</td>\n",
              "                        <td id=\"T_58b9e05e_a161_11eb_bbba_0242ac1c0002row21_col14\" class=\"data row21 col14\" >1.000000</td>\n",
              "                        <td id=\"T_58b9e05e_a161_11eb_bbba_0242ac1c0002row21_col15\" class=\"data row21 col15\" >0.000000</td>\n",
              "                        <td id=\"T_58b9e05e_a161_11eb_bbba_0242ac1c0002row21_col16\" class=\"data row21 col16\" >0.000000</td>\n",
              "                        <td id=\"T_58b9e05e_a161_11eb_bbba_0242ac1c0002row21_col17\" class=\"data row21 col17\" >0.000000</td>\n",
              "                        <td id=\"T_58b9e05e_a161_11eb_bbba_0242ac1c0002row21_col18\" class=\"data row21 col18\" >0.000000</td>\n",
              "                        <td id=\"T_58b9e05e_a161_11eb_bbba_0242ac1c0002row21_col19\" class=\"data row21 col19\" >str</td>\n",
              "                        <td id=\"T_58b9e05e_a161_11eb_bbba_0242ac1c0002row21_col20\" class=\"data row21 col20\" >RMSprop</td>\n",
              "                        <td id=\"T_58b9e05e_a161_11eb_bbba_0242ac1c0002row21_col21\" class=\"data row21 col21\" >{'name': 'sequential_35', 'lay...</td>\n",
              "                        <td id=\"T_58b9e05e_a161_11eb_bbba_0242ac1c0002row21_col22\" class=\"data row21 col22\" >prajseth</td>\n",
              "                        <td id=\"T_58b9e05e_a161_11eb_bbba_0242ac1c0002row21_col23\" class=\"data row21 col23\" >27</td>\n",
              "            </tr>\n",
              "            <tr>\n",
              "                        <th id=\"T_58b9e05e_a161_11eb_bbba_0242ac1c0002level0_row22\" class=\"row_heading level0 row22\" >27</th>\n",
              "                        <td id=\"T_58b9e05e_a161_11eb_bbba_0242ac1c0002row22_col0\" class=\"data row22 col0\" >93.69%</td>\n",
              "                        <td id=\"T_58b9e05e_a161_11eb_bbba_0242ac1c0002row22_col1\" class=\"data row22 col1\" >93.66%</td>\n",
              "                        <td id=\"T_58b9e05e_a161_11eb_bbba_0242ac1c0002row22_col2\" class=\"data row22 col2\" >93.80%</td>\n",
              "                        <td id=\"T_58b9e05e_a161_11eb_bbba_0242ac1c0002row22_col3\" class=\"data row22 col3\" >93.59%</td>\n",
              "                        <td id=\"T_58b9e05e_a161_11eb_bbba_0242ac1c0002row22_col4\" class=\"data row22 col4\" >keras</td>\n",
              "                        <td id=\"T_58b9e05e_a161_11eb_bbba_0242ac1c0002row22_col5\" class=\"data row22 col5\" >False</td>\n",
              "                        <td id=\"T_58b9e05e_a161_11eb_bbba_0242ac1c0002row22_col6\" class=\"data row22 col6\" >True</td>\n",
              "                        <td id=\"T_58b9e05e_a161_11eb_bbba_0242ac1c0002row22_col7\" class=\"data row22 col7\" >Sequential</td>\n",
              "                        <td id=\"T_58b9e05e_a161_11eb_bbba_0242ac1c0002row22_col8\" class=\"data row22 col8\" >7</td>\n",
              "                        <td id=\"T_58b9e05e_a161_11eb_bbba_0242ac1c0002row22_col9\" class=\"data row22 col9\" >1277586</td>\n",
              "                        <td id=\"T_58b9e05e_a161_11eb_bbba_0242ac1c0002row22_col10\" class=\"data row22 col10\" >4.000000</td>\n",
              "                        <td id=\"T_58b9e05e_a161_11eb_bbba_0242ac1c0002row22_col11\" class=\"data row22 col11\" >0.000000</td>\n",
              "                        <td id=\"T_58b9e05e_a161_11eb_bbba_0242ac1c0002row22_col12\" class=\"data row22 col12\" >1</td>\n",
              "                        <td id=\"T_58b9e05e_a161_11eb_bbba_0242ac1c0002row22_col13\" class=\"data row22 col13\" >1</td>\n",
              "                        <td id=\"T_58b9e05e_a161_11eb_bbba_0242ac1c0002row22_col14\" class=\"data row22 col14\" >1.000000</td>\n",
              "                        <td id=\"T_58b9e05e_a161_11eb_bbba_0242ac1c0002row22_col15\" class=\"data row22 col15\" >0.000000</td>\n",
              "                        <td id=\"T_58b9e05e_a161_11eb_bbba_0242ac1c0002row22_col16\" class=\"data row22 col16\" >0.000000</td>\n",
              "                        <td id=\"T_58b9e05e_a161_11eb_bbba_0242ac1c0002row22_col17\" class=\"data row22 col17\" >0.000000</td>\n",
              "                        <td id=\"T_58b9e05e_a161_11eb_bbba_0242ac1c0002row22_col18\" class=\"data row22 col18\" >0.000000</td>\n",
              "                        <td id=\"T_58b9e05e_a161_11eb_bbba_0242ac1c0002row22_col19\" class=\"data row22 col19\" >str</td>\n",
              "                        <td id=\"T_58b9e05e_a161_11eb_bbba_0242ac1c0002row22_col20\" class=\"data row22 col20\" >RMSprop</td>\n",
              "                        <td id=\"T_58b9e05e_a161_11eb_bbba_0242ac1c0002row22_col21\" class=\"data row22 col21\" >{'name': 'sequential_7', 'laye...</td>\n",
              "                        <td id=\"T_58b9e05e_a161_11eb_bbba_0242ac1c0002row22_col22\" class=\"data row22 col22\" >rboswell</td>\n",
              "                        <td id=\"T_58b9e05e_a161_11eb_bbba_0242ac1c0002row22_col23\" class=\"data row22 col23\" >75</td>\n",
              "            </tr>\n",
              "            <tr>\n",
              "                        <th id=\"T_58b9e05e_a161_11eb_bbba_0242ac1c0002level0_row23\" class=\"row_heading level0 row23\" >28</th>\n",
              "                        <td id=\"T_58b9e05e_a161_11eb_bbba_0242ac1c0002row23_col0\" class=\"data row23 col0\" >93.64%</td>\n",
              "                        <td id=\"T_58b9e05e_a161_11eb_bbba_0242ac1c0002row23_col1\" class=\"data row23 col1\" >93.63%</td>\n",
              "                        <td id=\"T_58b9e05e_a161_11eb_bbba_0242ac1c0002row23_col2\" class=\"data row23 col2\" >93.66%</td>\n",
              "                        <td id=\"T_58b9e05e_a161_11eb_bbba_0242ac1c0002row23_col3\" class=\"data row23 col3\" >93.60%</td>\n",
              "                        <td id=\"T_58b9e05e_a161_11eb_bbba_0242ac1c0002row23_col4\" class=\"data row23 col4\" >keras</td>\n",
              "                        <td id=\"T_58b9e05e_a161_11eb_bbba_0242ac1c0002row23_col5\" class=\"data row23 col5\" >False</td>\n",
              "                        <td id=\"T_58b9e05e_a161_11eb_bbba_0242ac1c0002row23_col6\" class=\"data row23 col6\" >True</td>\n",
              "                        <td id=\"T_58b9e05e_a161_11eb_bbba_0242ac1c0002row23_col7\" class=\"data row23 col7\" >Sequential</td>\n",
              "                        <td id=\"T_58b9e05e_a161_11eb_bbba_0242ac1c0002row23_col8\" class=\"data row23 col8\" >3</td>\n",
              "                        <td id=\"T_58b9e05e_a161_11eb_bbba_0242ac1c0002row23_col9\" class=\"data row23 col9\" >161282</td>\n",
              "                        <td id=\"T_58b9e05e_a161_11eb_bbba_0242ac1c0002row23_col10\" class=\"data row23 col10\" >0.000000</td>\n",
              "                        <td id=\"T_58b9e05e_a161_11eb_bbba_0242ac1c0002row23_col11\" class=\"data row23 col11\" >0.000000</td>\n",
              "                        <td id=\"T_58b9e05e_a161_11eb_bbba_0242ac1c0002row23_col12\" class=\"data row23 col12\" >1</td>\n",
              "                        <td id=\"T_58b9e05e_a161_11eb_bbba_0242ac1c0002row23_col13\" class=\"data row23 col13\" >1</td>\n",
              "                        <td id=\"T_58b9e05e_a161_11eb_bbba_0242ac1c0002row23_col14\" class=\"data row23 col14\" >1.000000</td>\n",
              "                        <td id=\"T_58b9e05e_a161_11eb_bbba_0242ac1c0002row23_col15\" class=\"data row23 col15\" >0.000000</td>\n",
              "                        <td id=\"T_58b9e05e_a161_11eb_bbba_0242ac1c0002row23_col16\" class=\"data row23 col16\" >0.000000</td>\n",
              "                        <td id=\"T_58b9e05e_a161_11eb_bbba_0242ac1c0002row23_col17\" class=\"data row23 col17\" >0.000000</td>\n",
              "                        <td id=\"T_58b9e05e_a161_11eb_bbba_0242ac1c0002row23_col18\" class=\"data row23 col18\" >0.000000</td>\n",
              "                        <td id=\"T_58b9e05e_a161_11eb_bbba_0242ac1c0002row23_col19\" class=\"data row23 col19\" >str</td>\n",
              "                        <td id=\"T_58b9e05e_a161_11eb_bbba_0242ac1c0002row23_col20\" class=\"data row23 col20\" >RMSprop</td>\n",
              "                        <td id=\"T_58b9e05e_a161_11eb_bbba_0242ac1c0002row23_col21\" class=\"data row23 col21\" >{'name': 'sequential_4', 'laye...</td>\n",
              "                        <td id=\"T_58b9e05e_a161_11eb_bbba_0242ac1c0002row23_col22\" class=\"data row23 col22\" >newusertest</td>\n",
              "                        <td id=\"T_58b9e05e_a161_11eb_bbba_0242ac1c0002row23_col23\" class=\"data row23 col23\" >6</td>\n",
              "            </tr>\n",
              "            <tr>\n",
              "                        <th id=\"T_58b9e05e_a161_11eb_bbba_0242ac1c0002level0_row24\" class=\"row_heading level0 row24\" >30</th>\n",
              "                        <td id=\"T_58b9e05e_a161_11eb_bbba_0242ac1c0002row24_col0\" class=\"data row24 col0\" >93.64%</td>\n",
              "                        <td id=\"T_58b9e05e_a161_11eb_bbba_0242ac1c0002row24_col1\" class=\"data row24 col1\" >93.62%</td>\n",
              "                        <td id=\"T_58b9e05e_a161_11eb_bbba_0242ac1c0002row24_col2\" class=\"data row24 col2\" >93.79%</td>\n",
              "                        <td id=\"T_58b9e05e_a161_11eb_bbba_0242ac1c0002row24_col3\" class=\"data row24 col3\" >93.53%</td>\n",
              "                        <td id=\"T_58b9e05e_a161_11eb_bbba_0242ac1c0002row24_col4\" class=\"data row24 col4\" >keras</td>\n",
              "                        <td id=\"T_58b9e05e_a161_11eb_bbba_0242ac1c0002row24_col5\" class=\"data row24 col5\" >False</td>\n",
              "                        <td id=\"T_58b9e05e_a161_11eb_bbba_0242ac1c0002row24_col6\" class=\"data row24 col6\" >True</td>\n",
              "                        <td id=\"T_58b9e05e_a161_11eb_bbba_0242ac1c0002row24_col7\" class=\"data row24 col7\" >Sequential</td>\n",
              "                        <td id=\"T_58b9e05e_a161_11eb_bbba_0242ac1c0002row24_col8\" class=\"data row24 col8\" >4</td>\n",
              "                        <td id=\"T_58b9e05e_a161_11eb_bbba_0242ac1c0002row24_col9\" class=\"data row24 col9\" >1605794</td>\n",
              "                        <td id=\"T_58b9e05e_a161_11eb_bbba_0242ac1c0002row24_col10\" class=\"data row24 col10\" >0.000000</td>\n",
              "                        <td id=\"T_58b9e05e_a161_11eb_bbba_0242ac1c0002row24_col11\" class=\"data row24 col11\" >1.000000</td>\n",
              "                        <td id=\"T_58b9e05e_a161_11eb_bbba_0242ac1c0002row24_col12\" class=\"data row24 col12\" >1</td>\n",
              "                        <td id=\"T_58b9e05e_a161_11eb_bbba_0242ac1c0002row24_col13\" class=\"data row24 col13\" >1</td>\n",
              "                        <td id=\"T_58b9e05e_a161_11eb_bbba_0242ac1c0002row24_col14\" class=\"data row24 col14\" >1.000000</td>\n",
              "                        <td id=\"T_58b9e05e_a161_11eb_bbba_0242ac1c0002row24_col15\" class=\"data row24 col15\" >0.000000</td>\n",
              "                        <td id=\"T_58b9e05e_a161_11eb_bbba_0242ac1c0002row24_col16\" class=\"data row24 col16\" >0.000000</td>\n",
              "                        <td id=\"T_58b9e05e_a161_11eb_bbba_0242ac1c0002row24_col17\" class=\"data row24 col17\" >0.000000</td>\n",
              "                        <td id=\"T_58b9e05e_a161_11eb_bbba_0242ac1c0002row24_col18\" class=\"data row24 col18\" >0.000000</td>\n",
              "                        <td id=\"T_58b9e05e_a161_11eb_bbba_0242ac1c0002row24_col19\" class=\"data row24 col19\" >str</td>\n",
              "                        <td id=\"T_58b9e05e_a161_11eb_bbba_0242ac1c0002row24_col20\" class=\"data row24 col20\" >RMSprop</td>\n",
              "                        <td id=\"T_58b9e05e_a161_11eb_bbba_0242ac1c0002row24_col21\" class=\"data row24 col21\" >{'name': 'sequential_33', 'lay...</td>\n",
              "                        <td id=\"T_58b9e05e_a161_11eb_bbba_0242ac1c0002row24_col22\" class=\"data row24 col22\" >prajseth</td>\n",
              "                        <td id=\"T_58b9e05e_a161_11eb_bbba_0242ac1c0002row24_col23\" class=\"data row24 col23\" >26</td>\n",
              "            </tr>\n",
              "            <tr>\n",
              "                        <th id=\"T_58b9e05e_a161_11eb_bbba_0242ac1c0002level0_row25\" class=\"row_heading level0 row25\" >31</th>\n",
              "                        <td id=\"T_58b9e05e_a161_11eb_bbba_0242ac1c0002row25_col0\" class=\"data row25 col0\" >93.60%</td>\n",
              "                        <td id=\"T_58b9e05e_a161_11eb_bbba_0242ac1c0002row25_col1\" class=\"data row25 col1\" >93.59%</td>\n",
              "                        <td id=\"T_58b9e05e_a161_11eb_bbba_0242ac1c0002row25_col2\" class=\"data row25 col2\" >93.57%</td>\n",
              "                        <td id=\"T_58b9e05e_a161_11eb_bbba_0242ac1c0002row25_col3\" class=\"data row25 col3\" >93.64%</td>\n",
              "                        <td id=\"T_58b9e05e_a161_11eb_bbba_0242ac1c0002row25_col4\" class=\"data row25 col4\" >keras</td>\n",
              "                        <td id=\"T_58b9e05e_a161_11eb_bbba_0242ac1c0002row25_col5\" class=\"data row25 col5\" >False</td>\n",
              "                        <td id=\"T_58b9e05e_a161_11eb_bbba_0242ac1c0002row25_col6\" class=\"data row25 col6\" >True</td>\n",
              "                        <td id=\"T_58b9e05e_a161_11eb_bbba_0242ac1c0002row25_col7\" class=\"data row25 col7\" >Sequential</td>\n",
              "                        <td id=\"T_58b9e05e_a161_11eb_bbba_0242ac1c0002row25_col8\" class=\"data row25 col8\" >3</td>\n",
              "                        <td id=\"T_58b9e05e_a161_11eb_bbba_0242ac1c0002row25_col9\" class=\"data row25 col9\" >3208386</td>\n",
              "                        <td id=\"T_58b9e05e_a161_11eb_bbba_0242ac1c0002row25_col10\" class=\"data row25 col10\" >0.000000</td>\n",
              "                        <td id=\"T_58b9e05e_a161_11eb_bbba_0242ac1c0002row25_col11\" class=\"data row25 col11\" >0.000000</td>\n",
              "                        <td id=\"T_58b9e05e_a161_11eb_bbba_0242ac1c0002row25_col12\" class=\"data row25 col12\" >1</td>\n",
              "                        <td id=\"T_58b9e05e_a161_11eb_bbba_0242ac1c0002row25_col13\" class=\"data row25 col13\" >1</td>\n",
              "                        <td id=\"T_58b9e05e_a161_11eb_bbba_0242ac1c0002row25_col14\" class=\"data row25 col14\" >0.000000</td>\n",
              "                        <td id=\"T_58b9e05e_a161_11eb_bbba_0242ac1c0002row25_col15\" class=\"data row25 col15\" >0.000000</td>\n",
              "                        <td id=\"T_58b9e05e_a161_11eb_bbba_0242ac1c0002row25_col16\" class=\"data row25 col16\" >1.000000</td>\n",
              "                        <td id=\"T_58b9e05e_a161_11eb_bbba_0242ac1c0002row25_col17\" class=\"data row25 col17\" >0.000000</td>\n",
              "                        <td id=\"T_58b9e05e_a161_11eb_bbba_0242ac1c0002row25_col18\" class=\"data row25 col18\" >0.000000</td>\n",
              "                        <td id=\"T_58b9e05e_a161_11eb_bbba_0242ac1c0002row25_col19\" class=\"data row25 col19\" >str</td>\n",
              "                        <td id=\"T_58b9e05e_a161_11eb_bbba_0242ac1c0002row25_col20\" class=\"data row25 col20\" >RMSprop</td>\n",
              "                        <td id=\"T_58b9e05e_a161_11eb_bbba_0242ac1c0002row25_col21\" class=\"data row25 col21\" >{'name': 'sequential_38', 'lay...</td>\n",
              "                        <td id=\"T_58b9e05e_a161_11eb_bbba_0242ac1c0002row25_col22\" class=\"data row25 col22\" >prajseth</td>\n",
              "                        <td id=\"T_58b9e05e_a161_11eb_bbba_0242ac1c0002row25_col23\" class=\"data row25 col23\" >28</td>\n",
              "            </tr>\n",
              "            <tr>\n",
              "                        <th id=\"T_58b9e05e_a161_11eb_bbba_0242ac1c0002level0_row26\" class=\"row_heading level0 row26\" >32</th>\n",
              "                        <td id=\"T_58b9e05e_a161_11eb_bbba_0242ac1c0002row26_col0\" class=\"data row26 col0\" >93.60%</td>\n",
              "                        <td id=\"T_58b9e05e_a161_11eb_bbba_0242ac1c0002row26_col1\" class=\"data row26 col1\" >93.59%</td>\n",
              "                        <td id=\"T_58b9e05e_a161_11eb_bbba_0242ac1c0002row26_col2\" class=\"data row26 col2\" >93.57%</td>\n",
              "                        <td id=\"T_58b9e05e_a161_11eb_bbba_0242ac1c0002row26_col3\" class=\"data row26 col3\" >93.62%</td>\n",
              "                        <td id=\"T_58b9e05e_a161_11eb_bbba_0242ac1c0002row26_col4\" class=\"data row26 col4\" >keras</td>\n",
              "                        <td id=\"T_58b9e05e_a161_11eb_bbba_0242ac1c0002row26_col5\" class=\"data row26 col5\" >False</td>\n",
              "                        <td id=\"T_58b9e05e_a161_11eb_bbba_0242ac1c0002row26_col6\" class=\"data row26 col6\" >True</td>\n",
              "                        <td id=\"T_58b9e05e_a161_11eb_bbba_0242ac1c0002row26_col7\" class=\"data row26 col7\" >Sequential</td>\n",
              "                        <td id=\"T_58b9e05e_a161_11eb_bbba_0242ac1c0002row26_col8\" class=\"data row26 col8\" >6</td>\n",
              "                        <td id=\"T_58b9e05e_a161_11eb_bbba_0242ac1c0002row26_col9\" class=\"data row26 col9\" >347552</td>\n",
              "                        <td id=\"T_58b9e05e_a161_11eb_bbba_0242ac1c0002row26_col10\" class=\"data row26 col10\" >0.000000</td>\n",
              "                        <td id=\"T_58b9e05e_a161_11eb_bbba_0242ac1c0002row26_col11\" class=\"data row26 col11\" >1.000000</td>\n",
              "                        <td id=\"T_58b9e05e_a161_11eb_bbba_0242ac1c0002row26_col12\" class=\"data row26 col12\" >3</td>\n",
              "                        <td id=\"T_58b9e05e_a161_11eb_bbba_0242ac1c0002row26_col13\" class=\"data row26 col13\" >1</td>\n",
              "                        <td id=\"T_58b9e05e_a161_11eb_bbba_0242ac1c0002row26_col14\" class=\"data row26 col14\" >1.000000</td>\n",
              "                        <td id=\"T_58b9e05e_a161_11eb_bbba_0242ac1c0002row26_col15\" class=\"data row26 col15\" >0.000000</td>\n",
              "                        <td id=\"T_58b9e05e_a161_11eb_bbba_0242ac1c0002row26_col16\" class=\"data row26 col16\" >0.000000</td>\n",
              "                        <td id=\"T_58b9e05e_a161_11eb_bbba_0242ac1c0002row26_col17\" class=\"data row26 col17\" >0.000000</td>\n",
              "                        <td id=\"T_58b9e05e_a161_11eb_bbba_0242ac1c0002row26_col18\" class=\"data row26 col18\" >0.000000</td>\n",
              "                        <td id=\"T_58b9e05e_a161_11eb_bbba_0242ac1c0002row26_col19\" class=\"data row26 col19\" >str</td>\n",
              "                        <td id=\"T_58b9e05e_a161_11eb_bbba_0242ac1c0002row26_col20\" class=\"data row26 col20\" >RMSprop</td>\n",
              "                        <td id=\"T_58b9e05e_a161_11eb_bbba_0242ac1c0002row26_col21\" class=\"data row26 col21\" >{'name': 'sequential_22', 'lay...</td>\n",
              "                        <td id=\"T_58b9e05e_a161_11eb_bbba_0242ac1c0002row26_col22\" class=\"data row26 col22\" >prajseth</td>\n",
              "                        <td id=\"T_58b9e05e_a161_11eb_bbba_0242ac1c0002row26_col23\" class=\"data row26 col23\" >35</td>\n",
              "            </tr>\n",
              "            <tr>\n",
              "                        <th id=\"T_58b9e05e_a161_11eb_bbba_0242ac1c0002level0_row27\" class=\"row_heading level0 row27\" >33</th>\n",
              "                        <td id=\"T_58b9e05e_a161_11eb_bbba_0242ac1c0002row27_col0\" class=\"data row27 col0\" >93.50%</td>\n",
              "                        <td id=\"T_58b9e05e_a161_11eb_bbba_0242ac1c0002row27_col1\" class=\"data row27 col1\" >93.50%</td>\n",
              "                        <td id=\"T_58b9e05e_a161_11eb_bbba_0242ac1c0002row27_col2\" class=\"data row27 col2\" >93.56%</td>\n",
              "                        <td id=\"T_58b9e05e_a161_11eb_bbba_0242ac1c0002row27_col3\" class=\"data row27 col3\" >93.64%</td>\n",
              "                        <td id=\"T_58b9e05e_a161_11eb_bbba_0242ac1c0002row27_col4\" class=\"data row27 col4\" >keras</td>\n",
              "                        <td id=\"T_58b9e05e_a161_11eb_bbba_0242ac1c0002row27_col5\" class=\"data row27 col5\" >False</td>\n",
              "                        <td id=\"T_58b9e05e_a161_11eb_bbba_0242ac1c0002row27_col6\" class=\"data row27 col6\" >True</td>\n",
              "                        <td id=\"T_58b9e05e_a161_11eb_bbba_0242ac1c0002row27_col7\" class=\"data row27 col7\" >Sequential</td>\n",
              "                        <td id=\"T_58b9e05e_a161_11eb_bbba_0242ac1c0002row27_col8\" class=\"data row27 col8\" >6</td>\n",
              "                        <td id=\"T_58b9e05e_a161_11eb_bbba_0242ac1c0002row27_col9\" class=\"data row27 col9\" >148066</td>\n",
              "                        <td id=\"T_58b9e05e_a161_11eb_bbba_0242ac1c0002row27_col10\" class=\"data row27 col10\" >0.000000</td>\n",
              "                        <td id=\"T_58b9e05e_a161_11eb_bbba_0242ac1c0002row27_col11\" class=\"data row27 col11\" >2.000000</td>\n",
              "                        <td id=\"T_58b9e05e_a161_11eb_bbba_0242ac1c0002row27_col12\" class=\"data row27 col12\" >1</td>\n",
              "                        <td id=\"T_58b9e05e_a161_11eb_bbba_0242ac1c0002row27_col13\" class=\"data row27 col13\" >1</td>\n",
              "                        <td id=\"T_58b9e05e_a161_11eb_bbba_0242ac1c0002row27_col14\" class=\"data row27 col14\" >1.000000</td>\n",
              "                        <td id=\"T_58b9e05e_a161_11eb_bbba_0242ac1c0002row27_col15\" class=\"data row27 col15\" >0.000000</td>\n",
              "                        <td id=\"T_58b9e05e_a161_11eb_bbba_0242ac1c0002row27_col16\" class=\"data row27 col16\" >0.000000</td>\n",
              "                        <td id=\"T_58b9e05e_a161_11eb_bbba_0242ac1c0002row27_col17\" class=\"data row27 col17\" >1.000000</td>\n",
              "                        <td id=\"T_58b9e05e_a161_11eb_bbba_0242ac1c0002row27_col18\" class=\"data row27 col18\" >0.000000</td>\n",
              "                        <td id=\"T_58b9e05e_a161_11eb_bbba_0242ac1c0002row27_col19\" class=\"data row27 col19\" >str</td>\n",
              "                        <td id=\"T_58b9e05e_a161_11eb_bbba_0242ac1c0002row27_col20\" class=\"data row27 col20\" >RMSprop</td>\n",
              "                        <td id=\"T_58b9e05e_a161_11eb_bbba_0242ac1c0002row27_col21\" class=\"data row27 col21\" >{'name': 'sequential_114', 'la...</td>\n",
              "                        <td id=\"T_58b9e05e_a161_11eb_bbba_0242ac1c0002row27_col22\" class=\"data row27 col22\" >prajseth</td>\n",
              "                        <td id=\"T_58b9e05e_a161_11eb_bbba_0242ac1c0002row27_col23\" class=\"data row27 col23\" >50</td>\n",
              "            </tr>\n",
              "            <tr>\n",
              "                        <th id=\"T_58b9e05e_a161_11eb_bbba_0242ac1c0002level0_row28\" class=\"row_heading level0 row28\" >34</th>\n",
              "                        <td id=\"T_58b9e05e_a161_11eb_bbba_0242ac1c0002row28_col0\" class=\"data row28 col0\" >93.55%</td>\n",
              "                        <td id=\"T_58b9e05e_a161_11eb_bbba_0242ac1c0002row28_col1\" class=\"data row28 col1\" >93.54%</td>\n",
              "                        <td id=\"T_58b9e05e_a161_11eb_bbba_0242ac1c0002row28_col2\" class=\"data row28 col2\" >93.52%</td>\n",
              "                        <td id=\"T_58b9e05e_a161_11eb_bbba_0242ac1c0002row28_col3\" class=\"data row28 col3\" >93.57%</td>\n",
              "                        <td id=\"T_58b9e05e_a161_11eb_bbba_0242ac1c0002row28_col4\" class=\"data row28 col4\" >keras</td>\n",
              "                        <td id=\"T_58b9e05e_a161_11eb_bbba_0242ac1c0002row28_col5\" class=\"data row28 col5\" >False</td>\n",
              "                        <td id=\"T_58b9e05e_a161_11eb_bbba_0242ac1c0002row28_col6\" class=\"data row28 col6\" >True</td>\n",
              "                        <td id=\"T_58b9e05e_a161_11eb_bbba_0242ac1c0002row28_col7\" class=\"data row28 col7\" >Sequential</td>\n",
              "                        <td id=\"T_58b9e05e_a161_11eb_bbba_0242ac1c0002row28_col8\" class=\"data row28 col8\" >3</td>\n",
              "                        <td id=\"T_58b9e05e_a161_11eb_bbba_0242ac1c0002row28_col9\" class=\"data row28 col9\" >402690</td>\n",
              "                        <td id=\"T_58b9e05e_a161_11eb_bbba_0242ac1c0002row28_col10\" class=\"data row28 col10\" >0.000000</td>\n",
              "                        <td id=\"T_58b9e05e_a161_11eb_bbba_0242ac1c0002row28_col11\" class=\"data row28 col11\" >0.000000</td>\n",
              "                        <td id=\"T_58b9e05e_a161_11eb_bbba_0242ac1c0002row28_col12\" class=\"data row28 col12\" >1</td>\n",
              "                        <td id=\"T_58b9e05e_a161_11eb_bbba_0242ac1c0002row28_col13\" class=\"data row28 col13\" >1</td>\n",
              "                        <td id=\"T_58b9e05e_a161_11eb_bbba_0242ac1c0002row28_col14\" class=\"data row28 col14\" >0.000000</td>\n",
              "                        <td id=\"T_58b9e05e_a161_11eb_bbba_0242ac1c0002row28_col15\" class=\"data row28 col15\" >0.000000</td>\n",
              "                        <td id=\"T_58b9e05e_a161_11eb_bbba_0242ac1c0002row28_col16\" class=\"data row28 col16\" >1.000000</td>\n",
              "                        <td id=\"T_58b9e05e_a161_11eb_bbba_0242ac1c0002row28_col17\" class=\"data row28 col17\" >0.000000</td>\n",
              "                        <td id=\"T_58b9e05e_a161_11eb_bbba_0242ac1c0002row28_col18\" class=\"data row28 col18\" >0.000000</td>\n",
              "                        <td id=\"T_58b9e05e_a161_11eb_bbba_0242ac1c0002row28_col19\" class=\"data row28 col19\" >str</td>\n",
              "                        <td id=\"T_58b9e05e_a161_11eb_bbba_0242ac1c0002row28_col20\" class=\"data row28 col20\" >RMSprop</td>\n",
              "                        <td id=\"T_58b9e05e_a161_11eb_bbba_0242ac1c0002row28_col21\" class=\"data row28 col21\" >{'name': 'sequential_12', 'lay...</td>\n",
              "                        <td id=\"T_58b9e05e_a161_11eb_bbba_0242ac1c0002row28_col22\" class=\"data row28 col22\" >xc2303_xc</td>\n",
              "                        <td id=\"T_58b9e05e_a161_11eb_bbba_0242ac1c0002row28_col23\" class=\"data row28 col23\" >76</td>\n",
              "            </tr>\n",
              "            <tr>\n",
              "                        <th id=\"T_58b9e05e_a161_11eb_bbba_0242ac1c0002level0_row29\" class=\"row_heading level0 row29\" >35</th>\n",
              "                        <td id=\"T_58b9e05e_a161_11eb_bbba_0242ac1c0002row29_col0\" class=\"data row29 col0\" >93.55%</td>\n",
              "                        <td id=\"T_58b9e05e_a161_11eb_bbba_0242ac1c0002row29_col1\" class=\"data row29 col1\" >93.53%</td>\n",
              "                        <td id=\"T_58b9e05e_a161_11eb_bbba_0242ac1c0002row29_col2\" class=\"data row29 col2\" >93.60%</td>\n",
              "                        <td id=\"T_58b9e05e_a161_11eb_bbba_0242ac1c0002row29_col3\" class=\"data row29 col3\" >93.48%</td>\n",
              "                        <td id=\"T_58b9e05e_a161_11eb_bbba_0242ac1c0002row29_col4\" class=\"data row29 col4\" >keras</td>\n",
              "                        <td id=\"T_58b9e05e_a161_11eb_bbba_0242ac1c0002row29_col5\" class=\"data row29 col5\" >False</td>\n",
              "                        <td id=\"T_58b9e05e_a161_11eb_bbba_0242ac1c0002row29_col6\" class=\"data row29 col6\" >True</td>\n",
              "                        <td id=\"T_58b9e05e_a161_11eb_bbba_0242ac1c0002row29_col7\" class=\"data row29 col7\" >Sequential</td>\n",
              "                        <td id=\"T_58b9e05e_a161_11eb_bbba_0242ac1c0002row29_col8\" class=\"data row29 col8\" >4</td>\n",
              "                        <td id=\"T_58b9e05e_a161_11eb_bbba_0242ac1c0002row29_col9\" class=\"data row29 col9\" >84002</td>\n",
              "                        <td id=\"T_58b9e05e_a161_11eb_bbba_0242ac1c0002row29_col10\" class=\"data row29 col10\" >0.000000</td>\n",
              "                        <td id=\"T_58b9e05e_a161_11eb_bbba_0242ac1c0002row29_col11\" class=\"data row29 col11\" >1.000000</td>\n",
              "                        <td id=\"T_58b9e05e_a161_11eb_bbba_0242ac1c0002row29_col12\" class=\"data row29 col12\" >1</td>\n",
              "                        <td id=\"T_58b9e05e_a161_11eb_bbba_0242ac1c0002row29_col13\" class=\"data row29 col13\" >1</td>\n",
              "                        <td id=\"T_58b9e05e_a161_11eb_bbba_0242ac1c0002row29_col14\" class=\"data row29 col14\" >1.000000</td>\n",
              "                        <td id=\"T_58b9e05e_a161_11eb_bbba_0242ac1c0002row29_col15\" class=\"data row29 col15\" >0.000000</td>\n",
              "                        <td id=\"T_58b9e05e_a161_11eb_bbba_0242ac1c0002row29_col16\" class=\"data row29 col16\" >0.000000</td>\n",
              "                        <td id=\"T_58b9e05e_a161_11eb_bbba_0242ac1c0002row29_col17\" class=\"data row29 col17\" >0.000000</td>\n",
              "                        <td id=\"T_58b9e05e_a161_11eb_bbba_0242ac1c0002row29_col18\" class=\"data row29 col18\" >0.000000</td>\n",
              "                        <td id=\"T_58b9e05e_a161_11eb_bbba_0242ac1c0002row29_col19\" class=\"data row29 col19\" >str</td>\n",
              "                        <td id=\"T_58b9e05e_a161_11eb_bbba_0242ac1c0002row29_col20\" class=\"data row29 col20\" >RMSprop</td>\n",
              "                        <td id=\"T_58b9e05e_a161_11eb_bbba_0242ac1c0002row29_col21\" class=\"data row29 col21\" >{'name': 'sequential_41', 'lay...</td>\n",
              "                        <td id=\"T_58b9e05e_a161_11eb_bbba_0242ac1c0002row29_col22\" class=\"data row29 col22\" >prajseth</td>\n",
              "                        <td id=\"T_58b9e05e_a161_11eb_bbba_0242ac1c0002row29_col23\" class=\"data row29 col23\" >38</td>\n",
              "            </tr>\n",
              "            <tr>\n",
              "                        <th id=\"T_58b9e05e_a161_11eb_bbba_0242ac1c0002level0_row30\" class=\"row_heading level0 row30\" >36</th>\n",
              "                        <td id=\"T_58b9e05e_a161_11eb_bbba_0242ac1c0002row30_col0\" class=\"data row30 col0\" >93.50%</td>\n",
              "                        <td id=\"T_58b9e05e_a161_11eb_bbba_0242ac1c0002row30_col1\" class=\"data row30 col1\" >93.50%</td>\n",
              "                        <td id=\"T_58b9e05e_a161_11eb_bbba_0242ac1c0002row30_col2\" class=\"data row30 col2\" >93.50%</td>\n",
              "                        <td id=\"T_58b9e05e_a161_11eb_bbba_0242ac1c0002row30_col3\" class=\"data row30 col3\" >93.60%</td>\n",
              "                        <td id=\"T_58b9e05e_a161_11eb_bbba_0242ac1c0002row30_col4\" class=\"data row30 col4\" >keras</td>\n",
              "                        <td id=\"T_58b9e05e_a161_11eb_bbba_0242ac1c0002row30_col5\" class=\"data row30 col5\" >False</td>\n",
              "                        <td id=\"T_58b9e05e_a161_11eb_bbba_0242ac1c0002row30_col6\" class=\"data row30 col6\" >True</td>\n",
              "                        <td id=\"T_58b9e05e_a161_11eb_bbba_0242ac1c0002row30_col7\" class=\"data row30 col7\" >Sequential</td>\n",
              "                        <td id=\"T_58b9e05e_a161_11eb_bbba_0242ac1c0002row30_col8\" class=\"data row30 col8\" >3</td>\n",
              "                        <td id=\"T_58b9e05e_a161_11eb_bbba_0242ac1c0002row30_col9\" class=\"data row30 col9\" >3216770</td>\n",
              "                        <td id=\"T_58b9e05e_a161_11eb_bbba_0242ac1c0002row30_col10\" class=\"data row30 col10\" >1.000000</td>\n",
              "                        <td id=\"T_58b9e05e_a161_11eb_bbba_0242ac1c0002row30_col11\" class=\"data row30 col11\" >0.000000</td>\n",
              "                        <td id=\"T_58b9e05e_a161_11eb_bbba_0242ac1c0002row30_col12\" class=\"data row30 col12\" >1</td>\n",
              "                        <td id=\"T_58b9e05e_a161_11eb_bbba_0242ac1c0002row30_col13\" class=\"data row30 col13\" >1</td>\n",
              "                        <td id=\"T_58b9e05e_a161_11eb_bbba_0242ac1c0002row30_col14\" class=\"data row30 col14\" >0.000000</td>\n",
              "                        <td id=\"T_58b9e05e_a161_11eb_bbba_0242ac1c0002row30_col15\" class=\"data row30 col15\" >0.000000</td>\n",
              "                        <td id=\"T_58b9e05e_a161_11eb_bbba_0242ac1c0002row30_col16\" class=\"data row30 col16\" >0.000000</td>\n",
              "                        <td id=\"T_58b9e05e_a161_11eb_bbba_0242ac1c0002row30_col17\" class=\"data row30 col17\" >0.000000</td>\n",
              "                        <td id=\"T_58b9e05e_a161_11eb_bbba_0242ac1c0002row30_col18\" class=\"data row30 col18\" >0.000000</td>\n",
              "                        <td id=\"T_58b9e05e_a161_11eb_bbba_0242ac1c0002row30_col19\" class=\"data row30 col19\" >str</td>\n",
              "                        <td id=\"T_58b9e05e_a161_11eb_bbba_0242ac1c0002row30_col20\" class=\"data row30 col20\" >RMSprop</td>\n",
              "                        <td id=\"T_58b9e05e_a161_11eb_bbba_0242ac1c0002row30_col21\" class=\"data row30 col21\" >{'name': 'sequential_39', 'lay...</td>\n",
              "                        <td id=\"T_58b9e05e_a161_11eb_bbba_0242ac1c0002row30_col22\" class=\"data row30 col22\" >prajseth</td>\n",
              "                        <td id=\"T_58b9e05e_a161_11eb_bbba_0242ac1c0002row30_col23\" class=\"data row30 col23\" >29</td>\n",
              "            </tr>\n",
              "            <tr>\n",
              "                        <th id=\"T_58b9e05e_a161_11eb_bbba_0242ac1c0002level0_row31\" class=\"row_heading level0 row31\" >37</th>\n",
              "                        <td id=\"T_58b9e05e_a161_11eb_bbba_0242ac1c0002row31_col0\" class=\"data row31 col0\" >93.41%</td>\n",
              "                        <td id=\"T_58b9e05e_a161_11eb_bbba_0242ac1c0002row31_col1\" class=\"data row31 col1\" >93.41%</td>\n",
              "                        <td id=\"T_58b9e05e_a161_11eb_bbba_0242ac1c0002row31_col2\" class=\"data row31 col2\" >93.39%</td>\n",
              "                        <td id=\"T_58b9e05e_a161_11eb_bbba_0242ac1c0002row31_col3\" class=\"data row31 col3\" >93.49%</td>\n",
              "                        <td id=\"T_58b9e05e_a161_11eb_bbba_0242ac1c0002row31_col4\" class=\"data row31 col4\" >keras</td>\n",
              "                        <td id=\"T_58b9e05e_a161_11eb_bbba_0242ac1c0002row31_col5\" class=\"data row31 col5\" >False</td>\n",
              "                        <td id=\"T_58b9e05e_a161_11eb_bbba_0242ac1c0002row31_col6\" class=\"data row31 col6\" >True</td>\n",
              "                        <td id=\"T_58b9e05e_a161_11eb_bbba_0242ac1c0002row31_col7\" class=\"data row31 col7\" >Sequential</td>\n",
              "                        <td id=\"T_58b9e05e_a161_11eb_bbba_0242ac1c0002row31_col8\" class=\"data row31 col8\" >4</td>\n",
              "                        <td id=\"T_58b9e05e_a161_11eb_bbba_0242ac1c0002row31_col9\" class=\"data row31 col9\" >112102</td>\n",
              "                        <td id=\"T_58b9e05e_a161_11eb_bbba_0242ac1c0002row31_col10\" class=\"data row31 col10\" >0.000000</td>\n",
              "                        <td id=\"T_58b9e05e_a161_11eb_bbba_0242ac1c0002row31_col11\" class=\"data row31 col11\" >0.000000</td>\n",
              "                        <td id=\"T_58b9e05e_a161_11eb_bbba_0242ac1c0002row31_col12\" class=\"data row31 col12\" >1</td>\n",
              "                        <td id=\"T_58b9e05e_a161_11eb_bbba_0242ac1c0002row31_col13\" class=\"data row31 col13\" >1</td>\n",
              "                        <td id=\"T_58b9e05e_a161_11eb_bbba_0242ac1c0002row31_col14\" class=\"data row31 col14\" >0.000000</td>\n",
              "                        <td id=\"T_58b9e05e_a161_11eb_bbba_0242ac1c0002row31_col15\" class=\"data row31 col15\" >0.000000</td>\n",
              "                        <td id=\"T_58b9e05e_a161_11eb_bbba_0242ac1c0002row31_col16\" class=\"data row31 col16\" >2.000000</td>\n",
              "                        <td id=\"T_58b9e05e_a161_11eb_bbba_0242ac1c0002row31_col17\" class=\"data row31 col17\" >0.000000</td>\n",
              "                        <td id=\"T_58b9e05e_a161_11eb_bbba_0242ac1c0002row31_col18\" class=\"data row31 col18\" >0.000000</td>\n",
              "                        <td id=\"T_58b9e05e_a161_11eb_bbba_0242ac1c0002row31_col19\" class=\"data row31 col19\" >str</td>\n",
              "                        <td id=\"T_58b9e05e_a161_11eb_bbba_0242ac1c0002row31_col20\" class=\"data row31 col20\" >RMSprop</td>\n",
              "                        <td id=\"T_58b9e05e_a161_11eb_bbba_0242ac1c0002row31_col21\" class=\"data row31 col21\" >{'name': 'sequential_89', 'lay...</td>\n",
              "                        <td id=\"T_58b9e05e_a161_11eb_bbba_0242ac1c0002row31_col22\" class=\"data row31 col22\" >prajseth</td>\n",
              "                        <td id=\"T_58b9e05e_a161_11eb_bbba_0242ac1c0002row31_col23\" class=\"data row31 col23\" >46</td>\n",
              "            </tr>\n",
              "            <tr>\n",
              "                        <th id=\"T_58b9e05e_a161_11eb_bbba_0242ac1c0002level0_row32\" class=\"row_heading level0 row32\" >38</th>\n",
              "                        <td id=\"T_58b9e05e_a161_11eb_bbba_0242ac1c0002row32_col0\" class=\"data row32 col0\" >93.27%</td>\n",
              "                        <td id=\"T_58b9e05e_a161_11eb_bbba_0242ac1c0002row32_col1\" class=\"data row32 col1\" >93.22%</td>\n",
              "                        <td id=\"T_58b9e05e_a161_11eb_bbba_0242ac1c0002row32_col2\" class=\"data row32 col2\" >93.71%</td>\n",
              "                        <td id=\"T_58b9e05e_a161_11eb_bbba_0242ac1c0002row32_col3\" class=\"data row32 col3\" >93.06%</td>\n",
              "                        <td id=\"T_58b9e05e_a161_11eb_bbba_0242ac1c0002row32_col4\" class=\"data row32 col4\" >keras</td>\n",
              "                        <td id=\"T_58b9e05e_a161_11eb_bbba_0242ac1c0002row32_col5\" class=\"data row32 col5\" >False</td>\n",
              "                        <td id=\"T_58b9e05e_a161_11eb_bbba_0242ac1c0002row32_col6\" class=\"data row32 col6\" >True</td>\n",
              "                        <td id=\"T_58b9e05e_a161_11eb_bbba_0242ac1c0002row32_col7\" class=\"data row32 col7\" >Sequential</td>\n",
              "                        <td id=\"T_58b9e05e_a161_11eb_bbba_0242ac1c0002row32_col8\" class=\"data row32 col8\" >6</td>\n",
              "                        <td id=\"T_58b9e05e_a161_11eb_bbba_0242ac1c0002row32_col9\" class=\"data row32 col9\" >1036226</td>\n",
              "                        <td id=\"T_58b9e05e_a161_11eb_bbba_0242ac1c0002row32_col10\" class=\"data row32 col10\" >0.000000</td>\n",
              "                        <td id=\"T_58b9e05e_a161_11eb_bbba_0242ac1c0002row32_col11\" class=\"data row32 col11\" >0.000000</td>\n",
              "                        <td id=\"T_58b9e05e_a161_11eb_bbba_0242ac1c0002row32_col12\" class=\"data row32 col12\" >1</td>\n",
              "                        <td id=\"T_58b9e05e_a161_11eb_bbba_0242ac1c0002row32_col13\" class=\"data row32 col13\" >1</td>\n",
              "                        <td id=\"T_58b9e05e_a161_11eb_bbba_0242ac1c0002row32_col14\" class=\"data row32 col14\" >1.000000</td>\n",
              "                        <td id=\"T_58b9e05e_a161_11eb_bbba_0242ac1c0002row32_col15\" class=\"data row32 col15\" >0.000000</td>\n",
              "                        <td id=\"T_58b9e05e_a161_11eb_bbba_0242ac1c0002row32_col16\" class=\"data row32 col16\" >3.000000</td>\n",
              "                        <td id=\"T_58b9e05e_a161_11eb_bbba_0242ac1c0002row32_col17\" class=\"data row32 col17\" >0.000000</td>\n",
              "                        <td id=\"T_58b9e05e_a161_11eb_bbba_0242ac1c0002row32_col18\" class=\"data row32 col18\" >0.000000</td>\n",
              "                        <td id=\"T_58b9e05e_a161_11eb_bbba_0242ac1c0002row32_col19\" class=\"data row32 col19\" >str</td>\n",
              "                        <td id=\"T_58b9e05e_a161_11eb_bbba_0242ac1c0002row32_col20\" class=\"data row32 col20\" >RMSprop</td>\n",
              "                        <td id=\"T_58b9e05e_a161_11eb_bbba_0242ac1c0002row32_col21\" class=\"data row32 col21\" >{'name': 'sequential_14', 'lay...</td>\n",
              "                        <td id=\"T_58b9e05e_a161_11eb_bbba_0242ac1c0002row32_col22\" class=\"data row32 col22\" >TheStreett</td>\n",
              "                        <td id=\"T_58b9e05e_a161_11eb_bbba_0242ac1c0002row32_col23\" class=\"data row32 col23\" >72</td>\n",
              "            </tr>\n",
              "            <tr>\n",
              "                        <th id=\"T_58b9e05e_a161_11eb_bbba_0242ac1c0002level0_row33\" class=\"row_heading level0 row33\" >39</th>\n",
              "                        <td id=\"T_58b9e05e_a161_11eb_bbba_0242ac1c0002row33_col0\" class=\"data row33 col0\" >93.32%</td>\n",
              "                        <td id=\"T_58b9e05e_a161_11eb_bbba_0242ac1c0002row33_col1\" class=\"data row33 col1\" >93.31%</td>\n",
              "                        <td id=\"T_58b9e05e_a161_11eb_bbba_0242ac1c0002row33_col2\" class=\"data row33 col2\" >93.31%</td>\n",
              "                        <td id=\"T_58b9e05e_a161_11eb_bbba_0242ac1c0002row33_col3\" class=\"data row33 col3\" >93.40%</td>\n",
              "                        <td id=\"T_58b9e05e_a161_11eb_bbba_0242ac1c0002row33_col4\" class=\"data row33 col4\" >keras</td>\n",
              "                        <td id=\"T_58b9e05e_a161_11eb_bbba_0242ac1c0002row33_col5\" class=\"data row33 col5\" >False</td>\n",
              "                        <td id=\"T_58b9e05e_a161_11eb_bbba_0242ac1c0002row33_col6\" class=\"data row33 col6\" >True</td>\n",
              "                        <td id=\"T_58b9e05e_a161_11eb_bbba_0242ac1c0002row33_col7\" class=\"data row33 col7\" >Sequential</td>\n",
              "                        <td id=\"T_58b9e05e_a161_11eb_bbba_0242ac1c0002row33_col8\" class=\"data row33 col8\" >5</td>\n",
              "                        <td id=\"T_58b9e05e_a161_11eb_bbba_0242ac1c0002row33_col9\" class=\"data row33 col9\" >91926</td>\n",
              "                        <td id=\"T_58b9e05e_a161_11eb_bbba_0242ac1c0002row33_col10\" class=\"data row33 col10\" >0.000000</td>\n",
              "                        <td id=\"T_58b9e05e_a161_11eb_bbba_0242ac1c0002row33_col11\" class=\"data row33 col11\" >1.000000</td>\n",
              "                        <td id=\"T_58b9e05e_a161_11eb_bbba_0242ac1c0002row33_col12\" class=\"data row33 col12\" >2</td>\n",
              "                        <td id=\"T_58b9e05e_a161_11eb_bbba_0242ac1c0002row33_col13\" class=\"data row33 col13\" >1</td>\n",
              "                        <td id=\"T_58b9e05e_a161_11eb_bbba_0242ac1c0002row33_col14\" class=\"data row33 col14\" >1.000000</td>\n",
              "                        <td id=\"T_58b9e05e_a161_11eb_bbba_0242ac1c0002row33_col15\" class=\"data row33 col15\" >0.000000</td>\n",
              "                        <td id=\"T_58b9e05e_a161_11eb_bbba_0242ac1c0002row33_col16\" class=\"data row33 col16\" >0.000000</td>\n",
              "                        <td id=\"T_58b9e05e_a161_11eb_bbba_0242ac1c0002row33_col17\" class=\"data row33 col17\" >0.000000</td>\n",
              "                        <td id=\"T_58b9e05e_a161_11eb_bbba_0242ac1c0002row33_col18\" class=\"data row33 col18\" >0.000000</td>\n",
              "                        <td id=\"T_58b9e05e_a161_11eb_bbba_0242ac1c0002row33_col19\" class=\"data row33 col19\" >str</td>\n",
              "                        <td id=\"T_58b9e05e_a161_11eb_bbba_0242ac1c0002row33_col20\" class=\"data row33 col20\" >RMSprop</td>\n",
              "                        <td id=\"T_58b9e05e_a161_11eb_bbba_0242ac1c0002row33_col21\" class=\"data row33 col21\" >{'name': 'sequential_36', 'lay...</td>\n",
              "                        <td id=\"T_58b9e05e_a161_11eb_bbba_0242ac1c0002row33_col22\" class=\"data row33 col22\" >prajseth</td>\n",
              "                        <td id=\"T_58b9e05e_a161_11eb_bbba_0242ac1c0002row33_col23\" class=\"data row33 col23\" >36</td>\n",
              "            </tr>\n",
              "            <tr>\n",
              "                        <th id=\"T_58b9e05e_a161_11eb_bbba_0242ac1c0002level0_row34\" class=\"row_heading level0 row34\" >40</th>\n",
              "                        <td id=\"T_58b9e05e_a161_11eb_bbba_0242ac1c0002row34_col0\" class=\"data row34 col0\" >93.27%</td>\n",
              "                        <td id=\"T_58b9e05e_a161_11eb_bbba_0242ac1c0002row34_col1\" class=\"data row34 col1\" >93.26%</td>\n",
              "                        <td id=\"T_58b9e05e_a161_11eb_bbba_0242ac1c0002row34_col2\" class=\"data row34 col2\" >93.26%</td>\n",
              "                        <td id=\"T_58b9e05e_a161_11eb_bbba_0242ac1c0002row34_col3\" class=\"data row34 col3\" >93.26%</td>\n",
              "                        <td id=\"T_58b9e05e_a161_11eb_bbba_0242ac1c0002row34_col4\" class=\"data row34 col4\" >keras</td>\n",
              "                        <td id=\"T_58b9e05e_a161_11eb_bbba_0242ac1c0002row34_col5\" class=\"data row34 col5\" >False</td>\n",
              "                        <td id=\"T_58b9e05e_a161_11eb_bbba_0242ac1c0002row34_col6\" class=\"data row34 col6\" >True</td>\n",
              "                        <td id=\"T_58b9e05e_a161_11eb_bbba_0242ac1c0002row34_col7\" class=\"data row34 col7\" >Sequential</td>\n",
              "                        <td id=\"T_58b9e05e_a161_11eb_bbba_0242ac1c0002row34_col8\" class=\"data row34 col8\" >6</td>\n",
              "                        <td id=\"T_58b9e05e_a161_11eb_bbba_0242ac1c0002row34_col9\" class=\"data row34 col9\" >868066</td>\n",
              "                        <td id=\"T_58b9e05e_a161_11eb_bbba_0242ac1c0002row34_col10\" class=\"data row34 col10\" >0.000000</td>\n",
              "                        <td id=\"T_58b9e05e_a161_11eb_bbba_0242ac1c0002row34_col11\" class=\"data row34 col11\" >2.000000</td>\n",
              "                        <td id=\"T_58b9e05e_a161_11eb_bbba_0242ac1c0002row34_col12\" class=\"data row34 col12\" >1</td>\n",
              "                        <td id=\"T_58b9e05e_a161_11eb_bbba_0242ac1c0002row34_col13\" class=\"data row34 col13\" >1</td>\n",
              "                        <td id=\"T_58b9e05e_a161_11eb_bbba_0242ac1c0002row34_col14\" class=\"data row34 col14\" >1.000000</td>\n",
              "                        <td id=\"T_58b9e05e_a161_11eb_bbba_0242ac1c0002row34_col15\" class=\"data row34 col15\" >0.000000</td>\n",
              "                        <td id=\"T_58b9e05e_a161_11eb_bbba_0242ac1c0002row34_col16\" class=\"data row34 col16\" >0.000000</td>\n",
              "                        <td id=\"T_58b9e05e_a161_11eb_bbba_0242ac1c0002row34_col17\" class=\"data row34 col17\" >1.000000</td>\n",
              "                        <td id=\"T_58b9e05e_a161_11eb_bbba_0242ac1c0002row34_col18\" class=\"data row34 col18\" >0.000000</td>\n",
              "                        <td id=\"T_58b9e05e_a161_11eb_bbba_0242ac1c0002row34_col19\" class=\"data row34 col19\" >str</td>\n",
              "                        <td id=\"T_58b9e05e_a161_11eb_bbba_0242ac1c0002row34_col20\" class=\"data row34 col20\" >RMSprop</td>\n",
              "                        <td id=\"T_58b9e05e_a161_11eb_bbba_0242ac1c0002row34_col21\" class=\"data row34 col21\" >{'name': 'sequential_113', 'la...</td>\n",
              "                        <td id=\"T_58b9e05e_a161_11eb_bbba_0242ac1c0002row34_col22\" class=\"data row34 col22\" >prajseth</td>\n",
              "                        <td id=\"T_58b9e05e_a161_11eb_bbba_0242ac1c0002row34_col23\" class=\"data row34 col23\" >49</td>\n",
              "            </tr>\n",
              "            <tr>\n",
              "                        <th id=\"T_58b9e05e_a161_11eb_bbba_0242ac1c0002level0_row35\" class=\"row_heading level0 row35\" >41</th>\n",
              "                        <td id=\"T_58b9e05e_a161_11eb_bbba_0242ac1c0002row35_col0\" class=\"data row35 col0\" >93.22%</td>\n",
              "                        <td id=\"T_58b9e05e_a161_11eb_bbba_0242ac1c0002row35_col1\" class=\"data row35 col1\" >93.22%</td>\n",
              "                        <td id=\"T_58b9e05e_a161_11eb_bbba_0242ac1c0002row35_col2\" class=\"data row35 col2\" >93.19%</td>\n",
              "                        <td id=\"T_58b9e05e_a161_11eb_bbba_0242ac1c0002row35_col3\" class=\"data row35 col3\" >93.26%</td>\n",
              "                        <td id=\"T_58b9e05e_a161_11eb_bbba_0242ac1c0002row35_col4\" class=\"data row35 col4\" >keras</td>\n",
              "                        <td id=\"T_58b9e05e_a161_11eb_bbba_0242ac1c0002row35_col5\" class=\"data row35 col5\" >False</td>\n",
              "                        <td id=\"T_58b9e05e_a161_11eb_bbba_0242ac1c0002row35_col6\" class=\"data row35 col6\" >True</td>\n",
              "                        <td id=\"T_58b9e05e_a161_11eb_bbba_0242ac1c0002row35_col7\" class=\"data row35 col7\" >Sequential</td>\n",
              "                        <td id=\"T_58b9e05e_a161_11eb_bbba_0242ac1c0002row35_col8\" class=\"data row35 col8\" >4</td>\n",
              "                        <td id=\"T_58b9e05e_a161_11eb_bbba_0242ac1c0002row35_col9\" class=\"data row35 col9\" >3222682</td>\n",
              "                        <td id=\"T_58b9e05e_a161_11eb_bbba_0242ac1c0002row35_col10\" class=\"data row35 col10\" >2.000000</td>\n",
              "                        <td id=\"T_58b9e05e_a161_11eb_bbba_0242ac1c0002row35_col11\" class=\"data row35 col11\" >0.000000</td>\n",
              "                        <td id=\"T_58b9e05e_a161_11eb_bbba_0242ac1c0002row35_col12\" class=\"data row35 col12\" >1</td>\n",
              "                        <td id=\"T_58b9e05e_a161_11eb_bbba_0242ac1c0002row35_col13\" class=\"data row35 col13\" >1</td>\n",
              "                        <td id=\"T_58b9e05e_a161_11eb_bbba_0242ac1c0002row35_col14\" class=\"data row35 col14\" >0.000000</td>\n",
              "                        <td id=\"T_58b9e05e_a161_11eb_bbba_0242ac1c0002row35_col15\" class=\"data row35 col15\" >0.000000</td>\n",
              "                        <td id=\"T_58b9e05e_a161_11eb_bbba_0242ac1c0002row35_col16\" class=\"data row35 col16\" >0.000000</td>\n",
              "                        <td id=\"T_58b9e05e_a161_11eb_bbba_0242ac1c0002row35_col17\" class=\"data row35 col17\" >0.000000</td>\n",
              "                        <td id=\"T_58b9e05e_a161_11eb_bbba_0242ac1c0002row35_col18\" class=\"data row35 col18\" >0.000000</td>\n",
              "                        <td id=\"T_58b9e05e_a161_11eb_bbba_0242ac1c0002row35_col19\" class=\"data row35 col19\" >str</td>\n",
              "                        <td id=\"T_58b9e05e_a161_11eb_bbba_0242ac1c0002row35_col20\" class=\"data row35 col20\" >RMSprop</td>\n",
              "                        <td id=\"T_58b9e05e_a161_11eb_bbba_0242ac1c0002row35_col21\" class=\"data row35 col21\" >{'name': 'sequential_131', 'la...</td>\n",
              "                        <td id=\"T_58b9e05e_a161_11eb_bbba_0242ac1c0002row35_col22\" class=\"data row35 col22\" >prajseth</td>\n",
              "                        <td id=\"T_58b9e05e_a161_11eb_bbba_0242ac1c0002row35_col23\" class=\"data row35 col23\" >57</td>\n",
              "            </tr>\n",
              "            <tr>\n",
              "                        <th id=\"T_58b9e05e_a161_11eb_bbba_0242ac1c0002level0_row36\" class=\"row_heading level0 row36\" >42</th>\n",
              "                        <td id=\"T_58b9e05e_a161_11eb_bbba_0242ac1c0002row36_col0\" class=\"data row36 col0\" >93.18%</td>\n",
              "                        <td id=\"T_58b9e05e_a161_11eb_bbba_0242ac1c0002row36_col1\" class=\"data row36 col1\" >93.18%</td>\n",
              "                        <td id=\"T_58b9e05e_a161_11eb_bbba_0242ac1c0002row36_col2\" class=\"data row36 col2\" >93.25%</td>\n",
              "                        <td id=\"T_58b9e05e_a161_11eb_bbba_0242ac1c0002row36_col3\" class=\"data row36 col3\" >93.32%</td>\n",
              "                        <td id=\"T_58b9e05e_a161_11eb_bbba_0242ac1c0002row36_col4\" class=\"data row36 col4\" >keras</td>\n",
              "                        <td id=\"T_58b9e05e_a161_11eb_bbba_0242ac1c0002row36_col5\" class=\"data row36 col5\" >False</td>\n",
              "                        <td id=\"T_58b9e05e_a161_11eb_bbba_0242ac1c0002row36_col6\" class=\"data row36 col6\" >True</td>\n",
              "                        <td id=\"T_58b9e05e_a161_11eb_bbba_0242ac1c0002row36_col7\" class=\"data row36 col7\" >Sequential</td>\n",
              "                        <td id=\"T_58b9e05e_a161_11eb_bbba_0242ac1c0002row36_col8\" class=\"data row36 col8\" >3</td>\n",
              "                        <td id=\"T_58b9e05e_a161_11eb_bbba_0242ac1c0002row36_col9\" class=\"data row36 col9\" >85314</td>\n",
              "                        <td id=\"T_58b9e05e_a161_11eb_bbba_0242ac1c0002row36_col10\" class=\"data row36 col10\" >0.000000</td>\n",
              "                        <td id=\"T_58b9e05e_a161_11eb_bbba_0242ac1c0002row36_col11\" class=\"data row36 col11\" >0.000000</td>\n",
              "                        <td id=\"T_58b9e05e_a161_11eb_bbba_0242ac1c0002row36_col12\" class=\"data row36 col12\" >1</td>\n",
              "                        <td id=\"T_58b9e05e_a161_11eb_bbba_0242ac1c0002row36_col13\" class=\"data row36 col13\" >1</td>\n",
              "                        <td id=\"T_58b9e05e_a161_11eb_bbba_0242ac1c0002row36_col14\" class=\"data row36 col14\" >0.000000</td>\n",
              "                        <td id=\"T_58b9e05e_a161_11eb_bbba_0242ac1c0002row36_col15\" class=\"data row36 col15\" >0.000000</td>\n",
              "                        <td id=\"T_58b9e05e_a161_11eb_bbba_0242ac1c0002row36_col16\" class=\"data row36 col16\" >1.000000</td>\n",
              "                        <td id=\"T_58b9e05e_a161_11eb_bbba_0242ac1c0002row36_col17\" class=\"data row36 col17\" >0.000000</td>\n",
              "                        <td id=\"T_58b9e05e_a161_11eb_bbba_0242ac1c0002row36_col18\" class=\"data row36 col18\" >0.000000</td>\n",
              "                        <td id=\"T_58b9e05e_a161_11eb_bbba_0242ac1c0002row36_col19\" class=\"data row36 col19\" >str</td>\n",
              "                        <td id=\"T_58b9e05e_a161_11eb_bbba_0242ac1c0002row36_col20\" class=\"data row36 col20\" >RMSprop</td>\n",
              "                        <td id=\"T_58b9e05e_a161_11eb_bbba_0242ac1c0002row36_col21\" class=\"data row36 col21\" >{'name': 'sequential_129', 'la...</td>\n",
              "                        <td id=\"T_58b9e05e_a161_11eb_bbba_0242ac1c0002row36_col22\" class=\"data row36 col22\" >prajseth</td>\n",
              "                        <td id=\"T_58b9e05e_a161_11eb_bbba_0242ac1c0002row36_col23\" class=\"data row36 col23\" >55</td>\n",
              "            </tr>\n",
              "            <tr>\n",
              "                        <th id=\"T_58b9e05e_a161_11eb_bbba_0242ac1c0002level0_row37\" class=\"row_heading level0 row37\" >45</th>\n",
              "                        <td id=\"T_58b9e05e_a161_11eb_bbba_0242ac1c0002row37_col0\" class=\"data row37 col0\" >93.22%</td>\n",
              "                        <td id=\"T_58b9e05e_a161_11eb_bbba_0242ac1c0002row37_col1\" class=\"data row37 col1\" >93.20%</td>\n",
              "                        <td id=\"T_58b9e05e_a161_11eb_bbba_0242ac1c0002row37_col2\" class=\"data row37 col2\" >93.25%</td>\n",
              "                        <td id=\"T_58b9e05e_a161_11eb_bbba_0242ac1c0002row37_col3\" class=\"data row37 col3\" >93.17%</td>\n",
              "                        <td id=\"T_58b9e05e_a161_11eb_bbba_0242ac1c0002row37_col4\" class=\"data row37 col4\" >keras</td>\n",
              "                        <td id=\"T_58b9e05e_a161_11eb_bbba_0242ac1c0002row37_col5\" class=\"data row37 col5\" >False</td>\n",
              "                        <td id=\"T_58b9e05e_a161_11eb_bbba_0242ac1c0002row37_col6\" class=\"data row37 col6\" >True</td>\n",
              "                        <td id=\"T_58b9e05e_a161_11eb_bbba_0242ac1c0002row37_col7\" class=\"data row37 col7\" >Sequential</td>\n",
              "                        <td id=\"T_58b9e05e_a161_11eb_bbba_0242ac1c0002row37_col8\" class=\"data row37 col8\" >5</td>\n",
              "                        <td id=\"T_58b9e05e_a161_11eb_bbba_0242ac1c0002row37_col9\" class=\"data row37 col9\" >1629160</td>\n",
              "                        <td id=\"T_58b9e05e_a161_11eb_bbba_0242ac1c0002row37_col10\" class=\"data row37 col10\" >0.000000</td>\n",
              "                        <td id=\"T_58b9e05e_a161_11eb_bbba_0242ac1c0002row37_col11\" class=\"data row37 col11\" >1.000000</td>\n",
              "                        <td id=\"T_58b9e05e_a161_11eb_bbba_0242ac1c0002row37_col12\" class=\"data row37 col12\" >2</td>\n",
              "                        <td id=\"T_58b9e05e_a161_11eb_bbba_0242ac1c0002row37_col13\" class=\"data row37 col13\" >1</td>\n",
              "                        <td id=\"T_58b9e05e_a161_11eb_bbba_0242ac1c0002row37_col14\" class=\"data row37 col14\" >1.000000</td>\n",
              "                        <td id=\"T_58b9e05e_a161_11eb_bbba_0242ac1c0002row37_col15\" class=\"data row37 col15\" >0.000000</td>\n",
              "                        <td id=\"T_58b9e05e_a161_11eb_bbba_0242ac1c0002row37_col16\" class=\"data row37 col16\" >0.000000</td>\n",
              "                        <td id=\"T_58b9e05e_a161_11eb_bbba_0242ac1c0002row37_col17\" class=\"data row37 col17\" >0.000000</td>\n",
              "                        <td id=\"T_58b9e05e_a161_11eb_bbba_0242ac1c0002row37_col18\" class=\"data row37 col18\" >0.000000</td>\n",
              "                        <td id=\"T_58b9e05e_a161_11eb_bbba_0242ac1c0002row37_col19\" class=\"data row37 col19\" >str</td>\n",
              "                        <td id=\"T_58b9e05e_a161_11eb_bbba_0242ac1c0002row37_col20\" class=\"data row37 col20\" >RMSprop</td>\n",
              "                        <td id=\"T_58b9e05e_a161_11eb_bbba_0242ac1c0002row37_col21\" class=\"data row37 col21\" >{'name': 'sequential_10', 'lay...</td>\n",
              "                        <td id=\"T_58b9e05e_a161_11eb_bbba_0242ac1c0002row37_col22\" class=\"data row37 col22\" >prajseth</td>\n",
              "                        <td id=\"T_58b9e05e_a161_11eb_bbba_0242ac1c0002row37_col23\" class=\"data row37 col23\" >34</td>\n",
              "            </tr>\n",
              "            <tr>\n",
              "                        <th id=\"T_58b9e05e_a161_11eb_bbba_0242ac1c0002level0_row38\" class=\"row_heading level0 row38\" >46</th>\n",
              "                        <td id=\"T_58b9e05e_a161_11eb_bbba_0242ac1c0002row38_col0\" class=\"data row38 col0\" >93.18%</td>\n",
              "                        <td id=\"T_58b9e05e_a161_11eb_bbba_0242ac1c0002row38_col1\" class=\"data row38 col1\" >93.17%</td>\n",
              "                        <td id=\"T_58b9e05e_a161_11eb_bbba_0242ac1c0002row38_col2\" class=\"data row38 col2\" >93.15%</td>\n",
              "                        <td id=\"T_58b9e05e_a161_11eb_bbba_0242ac1c0002row38_col3\" class=\"data row38 col3\" >93.20%</td>\n",
              "                        <td id=\"T_58b9e05e_a161_11eb_bbba_0242ac1c0002row38_col4\" class=\"data row38 col4\" >keras</td>\n",
              "                        <td id=\"T_58b9e05e_a161_11eb_bbba_0242ac1c0002row38_col5\" class=\"data row38 col5\" >False</td>\n",
              "                        <td id=\"T_58b9e05e_a161_11eb_bbba_0242ac1c0002row38_col6\" class=\"data row38 col6\" >True</td>\n",
              "                        <td id=\"T_58b9e05e_a161_11eb_bbba_0242ac1c0002row38_col7\" class=\"data row38 col7\" >Sequential</td>\n",
              "                        <td id=\"T_58b9e05e_a161_11eb_bbba_0242ac1c0002row38_col8\" class=\"data row38 col8\" >3</td>\n",
              "                        <td id=\"T_58b9e05e_a161_11eb_bbba_0242ac1c0002row38_col9\" class=\"data row38 col9\" >656770</td>\n",
              "                        <td id=\"T_58b9e05e_a161_11eb_bbba_0242ac1c0002row38_col10\" class=\"data row38 col10\" >1.000000</td>\n",
              "                        <td id=\"T_58b9e05e_a161_11eb_bbba_0242ac1c0002row38_col11\" class=\"data row38 col11\" >0.000000</td>\n",
              "                        <td id=\"T_58b9e05e_a161_11eb_bbba_0242ac1c0002row38_col12\" class=\"data row38 col12\" >1</td>\n",
              "                        <td id=\"T_58b9e05e_a161_11eb_bbba_0242ac1c0002row38_col13\" class=\"data row38 col13\" >1</td>\n",
              "                        <td id=\"T_58b9e05e_a161_11eb_bbba_0242ac1c0002row38_col14\" class=\"data row38 col14\" >0.000000</td>\n",
              "                        <td id=\"T_58b9e05e_a161_11eb_bbba_0242ac1c0002row38_col15\" class=\"data row38 col15\" >0.000000</td>\n",
              "                        <td id=\"T_58b9e05e_a161_11eb_bbba_0242ac1c0002row38_col16\" class=\"data row38 col16\" >0.000000</td>\n",
              "                        <td id=\"T_58b9e05e_a161_11eb_bbba_0242ac1c0002row38_col17\" class=\"data row38 col17\" >0.000000</td>\n",
              "                        <td id=\"T_58b9e05e_a161_11eb_bbba_0242ac1c0002row38_col18\" class=\"data row38 col18\" >0.000000</td>\n",
              "                        <td id=\"T_58b9e05e_a161_11eb_bbba_0242ac1c0002row38_col19\" class=\"data row38 col19\" >str</td>\n",
              "                        <td id=\"T_58b9e05e_a161_11eb_bbba_0242ac1c0002row38_col20\" class=\"data row38 col20\" >RMSprop</td>\n",
              "                        <td id=\"T_58b9e05e_a161_11eb_bbba_0242ac1c0002row38_col21\" class=\"data row38 col21\" >{'name': 'sequential_55', 'lay...</td>\n",
              "                        <td id=\"T_58b9e05e_a161_11eb_bbba_0242ac1c0002row38_col22\" class=\"data row38 col22\" >xuejingli</td>\n",
              "                        <td id=\"T_58b9e05e_a161_11eb_bbba_0242ac1c0002row38_col23\" class=\"data row38 col23\" >81</td>\n",
              "            </tr>\n",
              "            <tr>\n",
              "                        <th id=\"T_58b9e05e_a161_11eb_bbba_0242ac1c0002level0_row39\" class=\"row_heading level0 row39\" >48</th>\n",
              "                        <td id=\"T_58b9e05e_a161_11eb_bbba_0242ac1c0002row39_col0\" class=\"data row39 col0\" >93.13%</td>\n",
              "                        <td id=\"T_58b9e05e_a161_11eb_bbba_0242ac1c0002row39_col1\" class=\"data row39 col1\" >93.13%</td>\n",
              "                        <td id=\"T_58b9e05e_a161_11eb_bbba_0242ac1c0002row39_col2\" class=\"data row39 col2\" >93.13%</td>\n",
              "                        <td id=\"T_58b9e05e_a161_11eb_bbba_0242ac1c0002row39_col3\" class=\"data row39 col3\" >93.23%</td>\n",
              "                        <td id=\"T_58b9e05e_a161_11eb_bbba_0242ac1c0002row39_col4\" class=\"data row39 col4\" >keras</td>\n",
              "                        <td id=\"T_58b9e05e_a161_11eb_bbba_0242ac1c0002row39_col5\" class=\"data row39 col5\" >False</td>\n",
              "                        <td id=\"T_58b9e05e_a161_11eb_bbba_0242ac1c0002row39_col6\" class=\"data row39 col6\" >True</td>\n",
              "                        <td id=\"T_58b9e05e_a161_11eb_bbba_0242ac1c0002row39_col7\" class=\"data row39 col7\" >Sequential</td>\n",
              "                        <td id=\"T_58b9e05e_a161_11eb_bbba_0242ac1c0002row39_col8\" class=\"data row39 col8\" >6</td>\n",
              "                        <td id=\"T_58b9e05e_a161_11eb_bbba_0242ac1c0002row39_col9\" class=\"data row39 col9\" >148066</td>\n",
              "                        <td id=\"T_58b9e05e_a161_11eb_bbba_0242ac1c0002row39_col10\" class=\"data row39 col10\" >0.000000</td>\n",
              "                        <td id=\"T_58b9e05e_a161_11eb_bbba_0242ac1c0002row39_col11\" class=\"data row39 col11\" >2.000000</td>\n",
              "                        <td id=\"T_58b9e05e_a161_11eb_bbba_0242ac1c0002row39_col12\" class=\"data row39 col12\" >1</td>\n",
              "                        <td id=\"T_58b9e05e_a161_11eb_bbba_0242ac1c0002row39_col13\" class=\"data row39 col13\" >1</td>\n",
              "                        <td id=\"T_58b9e05e_a161_11eb_bbba_0242ac1c0002row39_col14\" class=\"data row39 col14\" >1.000000</td>\n",
              "                        <td id=\"T_58b9e05e_a161_11eb_bbba_0242ac1c0002row39_col15\" class=\"data row39 col15\" >0.000000</td>\n",
              "                        <td id=\"T_58b9e05e_a161_11eb_bbba_0242ac1c0002row39_col16\" class=\"data row39 col16\" >0.000000</td>\n",
              "                        <td id=\"T_58b9e05e_a161_11eb_bbba_0242ac1c0002row39_col17\" class=\"data row39 col17\" >1.000000</td>\n",
              "                        <td id=\"T_58b9e05e_a161_11eb_bbba_0242ac1c0002row39_col18\" class=\"data row39 col18\" >0.000000</td>\n",
              "                        <td id=\"T_58b9e05e_a161_11eb_bbba_0242ac1c0002row39_col19\" class=\"data row39 col19\" >str</td>\n",
              "                        <td id=\"T_58b9e05e_a161_11eb_bbba_0242ac1c0002row39_col20\" class=\"data row39 col20\" >RMSprop</td>\n",
              "                        <td id=\"T_58b9e05e_a161_11eb_bbba_0242ac1c0002row39_col21\" class=\"data row39 col21\" >{'name': 'sequential_62', 'lay...</td>\n",
              "                        <td id=\"T_58b9e05e_a161_11eb_bbba_0242ac1c0002row39_col22\" class=\"data row39 col22\" >prajseth</td>\n",
              "                        <td id=\"T_58b9e05e_a161_11eb_bbba_0242ac1c0002row39_col23\" class=\"data row39 col23\" >39</td>\n",
              "            </tr>\n",
              "            <tr>\n",
              "                        <th id=\"T_58b9e05e_a161_11eb_bbba_0242ac1c0002level0_row40\" class=\"row_heading level0 row40\" >49</th>\n",
              "                        <td id=\"T_58b9e05e_a161_11eb_bbba_0242ac1c0002row40_col0\" class=\"data row40 col0\" >93.13%</td>\n",
              "                        <td id=\"T_58b9e05e_a161_11eb_bbba_0242ac1c0002row40_col1\" class=\"data row40 col1\" >93.13%</td>\n",
              "                        <td id=\"T_58b9e05e_a161_11eb_bbba_0242ac1c0002row40_col2\" class=\"data row40 col2\" >93.11%</td>\n",
              "                        <td id=\"T_58b9e05e_a161_11eb_bbba_0242ac1c0002row40_col3\" class=\"data row40 col3\" >93.20%</td>\n",
              "                        <td id=\"T_58b9e05e_a161_11eb_bbba_0242ac1c0002row40_col4\" class=\"data row40 col4\" >keras</td>\n",
              "                        <td id=\"T_58b9e05e_a161_11eb_bbba_0242ac1c0002row40_col5\" class=\"data row40 col5\" >False</td>\n",
              "                        <td id=\"T_58b9e05e_a161_11eb_bbba_0242ac1c0002row40_col6\" class=\"data row40 col6\" >True</td>\n",
              "                        <td id=\"T_58b9e05e_a161_11eb_bbba_0242ac1c0002row40_col7\" class=\"data row40 col7\" >Sequential</td>\n",
              "                        <td id=\"T_58b9e05e_a161_11eb_bbba_0242ac1c0002row40_col8\" class=\"data row40 col8\" >4</td>\n",
              "                        <td id=\"T_58b9e05e_a161_11eb_bbba_0242ac1c0002row40_col9\" class=\"data row40 col9\" >12830882</td>\n",
              "                        <td id=\"T_58b9e05e_a161_11eb_bbba_0242ac1c0002row40_col10\" class=\"data row40 col10\" >0.000000</td>\n",
              "                        <td id=\"T_58b9e05e_a161_11eb_bbba_0242ac1c0002row40_col11\" class=\"data row40 col11\" >1.000000</td>\n",
              "                        <td id=\"T_58b9e05e_a161_11eb_bbba_0242ac1c0002row40_col12\" class=\"data row40 col12\" >1</td>\n",
              "                        <td id=\"T_58b9e05e_a161_11eb_bbba_0242ac1c0002row40_col13\" class=\"data row40 col13\" >1</td>\n",
              "                        <td id=\"T_58b9e05e_a161_11eb_bbba_0242ac1c0002row40_col14\" class=\"data row40 col14\" >1.000000</td>\n",
              "                        <td id=\"T_58b9e05e_a161_11eb_bbba_0242ac1c0002row40_col15\" class=\"data row40 col15\" >0.000000</td>\n",
              "                        <td id=\"T_58b9e05e_a161_11eb_bbba_0242ac1c0002row40_col16\" class=\"data row40 col16\" >0.000000</td>\n",
              "                        <td id=\"T_58b9e05e_a161_11eb_bbba_0242ac1c0002row40_col17\" class=\"data row40 col17\" >0.000000</td>\n",
              "                        <td id=\"T_58b9e05e_a161_11eb_bbba_0242ac1c0002row40_col18\" class=\"data row40 col18\" >0.000000</td>\n",
              "                        <td id=\"T_58b9e05e_a161_11eb_bbba_0242ac1c0002row40_col19\" class=\"data row40 col19\" >str</td>\n",
              "                        <td id=\"T_58b9e05e_a161_11eb_bbba_0242ac1c0002row40_col20\" class=\"data row40 col20\" >RMSprop</td>\n",
              "                        <td id=\"T_58b9e05e_a161_11eb_bbba_0242ac1c0002row40_col21\" class=\"data row40 col21\" >{'name': 'sequential_40', 'lay...</td>\n",
              "                        <td id=\"T_58b9e05e_a161_11eb_bbba_0242ac1c0002row40_col22\" class=\"data row40 col22\" >prajseth</td>\n",
              "                        <td id=\"T_58b9e05e_a161_11eb_bbba_0242ac1c0002row40_col23\" class=\"data row40 col23\" >37</td>\n",
              "            </tr>\n",
              "            <tr>\n",
              "                        <th id=\"T_58b9e05e_a161_11eb_bbba_0242ac1c0002level0_row41\" class=\"row_heading level0 row41\" >50</th>\n",
              "                        <td id=\"T_58b9e05e_a161_11eb_bbba_0242ac1c0002row41_col0\" class=\"data row41 col0\" >92.99%</td>\n",
              "                        <td id=\"T_58b9e05e_a161_11eb_bbba_0242ac1c0002row41_col1\" class=\"data row41 col1\" >92.94%</td>\n",
              "                        <td id=\"T_58b9e05e_a161_11eb_bbba_0242ac1c0002row41_col2\" class=\"data row41 col2\" >93.35%</td>\n",
              "                        <td id=\"T_58b9e05e_a161_11eb_bbba_0242ac1c0002row41_col3\" class=\"data row41 col3\" >92.80%</td>\n",
              "                        <td id=\"T_58b9e05e_a161_11eb_bbba_0242ac1c0002row41_col4\" class=\"data row41 col4\" >keras</td>\n",
              "                        <td id=\"T_58b9e05e_a161_11eb_bbba_0242ac1c0002row41_col5\" class=\"data row41 col5\" >False</td>\n",
              "                        <td id=\"T_58b9e05e_a161_11eb_bbba_0242ac1c0002row41_col6\" class=\"data row41 col6\" >True</td>\n",
              "                        <td id=\"T_58b9e05e_a161_11eb_bbba_0242ac1c0002row41_col7\" class=\"data row41 col7\" >Sequential</td>\n",
              "                        <td id=\"T_58b9e05e_a161_11eb_bbba_0242ac1c0002row41_col8\" class=\"data row41 col8\" >4</td>\n",
              "                        <td id=\"T_58b9e05e_a161_11eb_bbba_0242ac1c0002row41_col9\" class=\"data row41 col9\" >6433090</td>\n",
              "                        <td id=\"T_58b9e05e_a161_11eb_bbba_0242ac1c0002row41_col10\" class=\"data row41 col10\" >0.000000</td>\n",
              "                        <td id=\"T_58b9e05e_a161_11eb_bbba_0242ac1c0002row41_col11\" class=\"data row41 col11\" >1.000000</td>\n",
              "                        <td id=\"T_58b9e05e_a161_11eb_bbba_0242ac1c0002row41_col12\" class=\"data row41 col12\" >1</td>\n",
              "                        <td id=\"T_58b9e05e_a161_11eb_bbba_0242ac1c0002row41_col13\" class=\"data row41 col13\" >1</td>\n",
              "                        <td id=\"T_58b9e05e_a161_11eb_bbba_0242ac1c0002row41_col14\" class=\"data row41 col14\" >1.000000</td>\n",
              "                        <td id=\"T_58b9e05e_a161_11eb_bbba_0242ac1c0002row41_col15\" class=\"data row41 col15\" >0.000000</td>\n",
              "                        <td id=\"T_58b9e05e_a161_11eb_bbba_0242ac1c0002row41_col16\" class=\"data row41 col16\" >0.000000</td>\n",
              "                        <td id=\"T_58b9e05e_a161_11eb_bbba_0242ac1c0002row41_col17\" class=\"data row41 col17\" >0.000000</td>\n",
              "                        <td id=\"T_58b9e05e_a161_11eb_bbba_0242ac1c0002row41_col18\" class=\"data row41 col18\" >0.000000</td>\n",
              "                        <td id=\"T_58b9e05e_a161_11eb_bbba_0242ac1c0002row41_col19\" class=\"data row41 col19\" >str</td>\n",
              "                        <td id=\"T_58b9e05e_a161_11eb_bbba_0242ac1c0002row41_col20\" class=\"data row41 col20\" >RMSprop</td>\n",
              "                        <td id=\"T_58b9e05e_a161_11eb_bbba_0242ac1c0002row41_col21\" class=\"data row41 col21\" >{'name': 'sequential_31', 'lay...</td>\n",
              "                        <td id=\"T_58b9e05e_a161_11eb_bbba_0242ac1c0002row41_col22\" class=\"data row41 col22\" >prajseth</td>\n",
              "                        <td id=\"T_58b9e05e_a161_11eb_bbba_0242ac1c0002row41_col23\" class=\"data row41 col23\" >25</td>\n",
              "            </tr>\n",
              "            <tr>\n",
              "                        <th id=\"T_58b9e05e_a161_11eb_bbba_0242ac1c0002level0_row42\" class=\"row_heading level0 row42\" >51</th>\n",
              "                        <td id=\"T_58b9e05e_a161_11eb_bbba_0242ac1c0002row42_col0\" class=\"data row42 col0\" >92.99%</td>\n",
              "                        <td id=\"T_58b9e05e_a161_11eb_bbba_0242ac1c0002row42_col1\" class=\"data row42 col1\" >92.96%</td>\n",
              "                        <td id=\"T_58b9e05e_a161_11eb_bbba_0242ac1c0002row42_col2\" class=\"data row42 col2\" >93.15%</td>\n",
              "                        <td id=\"T_58b9e05e_a161_11eb_bbba_0242ac1c0002row42_col3\" class=\"data row42 col3\" >92.87%</td>\n",
              "                        <td id=\"T_58b9e05e_a161_11eb_bbba_0242ac1c0002row42_col4\" class=\"data row42 col4\" >keras</td>\n",
              "                        <td id=\"T_58b9e05e_a161_11eb_bbba_0242ac1c0002row42_col5\" class=\"data row42 col5\" >False</td>\n",
              "                        <td id=\"T_58b9e05e_a161_11eb_bbba_0242ac1c0002row42_col6\" class=\"data row42 col6\" >True</td>\n",
              "                        <td id=\"T_58b9e05e_a161_11eb_bbba_0242ac1c0002row42_col7\" class=\"data row42 col7\" >Sequential</td>\n",
              "                        <td id=\"T_58b9e05e_a161_11eb_bbba_0242ac1c0002row42_col8\" class=\"data row42 col8\" >5</td>\n",
              "                        <td id=\"T_58b9e05e_a161_11eb_bbba_0242ac1c0002row42_col9\" class=\"data row42 col9\" >112434</td>\n",
              "                        <td id=\"T_58b9e05e_a161_11eb_bbba_0242ac1c0002row42_col10\" class=\"data row42 col10\" >0.000000</td>\n",
              "                        <td id=\"T_58b9e05e_a161_11eb_bbba_0242ac1c0002row42_col11\" class=\"data row42 col11\" >0.000000</td>\n",
              "                        <td id=\"T_58b9e05e_a161_11eb_bbba_0242ac1c0002row42_col12\" class=\"data row42 col12\" >1</td>\n",
              "                        <td id=\"T_58b9e05e_a161_11eb_bbba_0242ac1c0002row42_col13\" class=\"data row42 col13\" >1</td>\n",
              "                        <td id=\"T_58b9e05e_a161_11eb_bbba_0242ac1c0002row42_col14\" class=\"data row42 col14\" >0.000000</td>\n",
              "                        <td id=\"T_58b9e05e_a161_11eb_bbba_0242ac1c0002row42_col15\" class=\"data row42 col15\" >0.000000</td>\n",
              "                        <td id=\"T_58b9e05e_a161_11eb_bbba_0242ac1c0002row42_col16\" class=\"data row42 col16\" >3.000000</td>\n",
              "                        <td id=\"T_58b9e05e_a161_11eb_bbba_0242ac1c0002row42_col17\" class=\"data row42 col17\" >0.000000</td>\n",
              "                        <td id=\"T_58b9e05e_a161_11eb_bbba_0242ac1c0002row42_col18\" class=\"data row42 col18\" >0.000000</td>\n",
              "                        <td id=\"T_58b9e05e_a161_11eb_bbba_0242ac1c0002row42_col19\" class=\"data row42 col19\" >str</td>\n",
              "                        <td id=\"T_58b9e05e_a161_11eb_bbba_0242ac1c0002row42_col20\" class=\"data row42 col20\" >RMSprop</td>\n",
              "                        <td id=\"T_58b9e05e_a161_11eb_bbba_0242ac1c0002row42_col21\" class=\"data row42 col21\" >{'name': 'sequential_81', 'lay...</td>\n",
              "                        <td id=\"T_58b9e05e_a161_11eb_bbba_0242ac1c0002row42_col22\" class=\"data row42 col22\" >prajseth</td>\n",
              "                        <td id=\"T_58b9e05e_a161_11eb_bbba_0242ac1c0002row42_col23\" class=\"data row42 col23\" >42</td>\n",
              "            </tr>\n",
              "            <tr>\n",
              "                        <th id=\"T_58b9e05e_a161_11eb_bbba_0242ac1c0002level0_row43\" class=\"row_heading level0 row43\" >52</th>\n",
              "                        <td id=\"T_58b9e05e_a161_11eb_bbba_0242ac1c0002row43_col0\" class=\"data row43 col0\" >92.99%</td>\n",
              "                        <td id=\"T_58b9e05e_a161_11eb_bbba_0242ac1c0002row43_col1\" class=\"data row43 col1\" >92.98%</td>\n",
              "                        <td id=\"T_58b9e05e_a161_11eb_bbba_0242ac1c0002row43_col2\" class=\"data row43 col2\" >92.97%</td>\n",
              "                        <td id=\"T_58b9e05e_a161_11eb_bbba_0242ac1c0002row43_col3\" class=\"data row43 col3\" >92.98%</td>\n",
              "                        <td id=\"T_58b9e05e_a161_11eb_bbba_0242ac1c0002row43_col4\" class=\"data row43 col4\" >keras</td>\n",
              "                        <td id=\"T_58b9e05e_a161_11eb_bbba_0242ac1c0002row43_col5\" class=\"data row43 col5\" >False</td>\n",
              "                        <td id=\"T_58b9e05e_a161_11eb_bbba_0242ac1c0002row43_col6\" class=\"data row43 col6\" >True</td>\n",
              "                        <td id=\"T_58b9e05e_a161_11eb_bbba_0242ac1c0002row43_col7\" class=\"data row43 col7\" >Sequential</td>\n",
              "                        <td id=\"T_58b9e05e_a161_11eb_bbba_0242ac1c0002row43_col8\" class=\"data row43 col8\" >6</td>\n",
              "                        <td id=\"T_58b9e05e_a161_11eb_bbba_0242ac1c0002row43_col9\" class=\"data row43 col9\" >334626</td>\n",
              "                        <td id=\"T_58b9e05e_a161_11eb_bbba_0242ac1c0002row43_col10\" class=\"data row43 col10\" >0.000000</td>\n",
              "                        <td id=\"T_58b9e05e_a161_11eb_bbba_0242ac1c0002row43_col11\" class=\"data row43 col11\" >0.000000</td>\n",
              "                        <td id=\"T_58b9e05e_a161_11eb_bbba_0242ac1c0002row43_col12\" class=\"data row43 col12\" >1</td>\n",
              "                        <td id=\"T_58b9e05e_a161_11eb_bbba_0242ac1c0002row43_col13\" class=\"data row43 col13\" >1</td>\n",
              "                        <td id=\"T_58b9e05e_a161_11eb_bbba_0242ac1c0002row43_col14\" class=\"data row43 col14\" >0.000000</td>\n",
              "                        <td id=\"T_58b9e05e_a161_11eb_bbba_0242ac1c0002row43_col15\" class=\"data row43 col15\" >0.000000</td>\n",
              "                        <td id=\"T_58b9e05e_a161_11eb_bbba_0242ac1c0002row43_col16\" class=\"data row43 col16\" >1.000000</td>\n",
              "                        <td id=\"T_58b9e05e_a161_11eb_bbba_0242ac1c0002row43_col17\" class=\"data row43 col17\" >0.000000</td>\n",
              "                        <td id=\"T_58b9e05e_a161_11eb_bbba_0242ac1c0002row43_col18\" class=\"data row43 col18\" >3.000000</td>\n",
              "                        <td id=\"T_58b9e05e_a161_11eb_bbba_0242ac1c0002row43_col19\" class=\"data row43 col19\" >str</td>\n",
              "                        <td id=\"T_58b9e05e_a161_11eb_bbba_0242ac1c0002row43_col20\" class=\"data row43 col20\" >RMSprop</td>\n",
              "                        <td id=\"T_58b9e05e_a161_11eb_bbba_0242ac1c0002row43_col21\" class=\"data row43 col21\" >{'name': 'sequential_15', 'lay...</td>\n",
              "                        <td id=\"T_58b9e05e_a161_11eb_bbba_0242ac1c0002row43_col22\" class=\"data row43 col22\" >xc2303_xc</td>\n",
              "                        <td id=\"T_58b9e05e_a161_11eb_bbba_0242ac1c0002row43_col23\" class=\"data row43 col23\" >13</td>\n",
              "            </tr>\n",
              "            <tr>\n",
              "                        <th id=\"T_58b9e05e_a161_11eb_bbba_0242ac1c0002level0_row44\" class=\"row_heading level0 row44\" >53</th>\n",
              "                        <td id=\"T_58b9e05e_a161_11eb_bbba_0242ac1c0002row44_col0\" class=\"data row44 col0\" >92.99%</td>\n",
              "                        <td id=\"T_58b9e05e_a161_11eb_bbba_0242ac1c0002row44_col1\" class=\"data row44 col1\" >92.98%</td>\n",
              "                        <td id=\"T_58b9e05e_a161_11eb_bbba_0242ac1c0002row44_col2\" class=\"data row44 col2\" >92.97%</td>\n",
              "                        <td id=\"T_58b9e05e_a161_11eb_bbba_0242ac1c0002row44_col3\" class=\"data row44 col3\" >92.98%</td>\n",
              "                        <td id=\"T_58b9e05e_a161_11eb_bbba_0242ac1c0002row44_col4\" class=\"data row44 col4\" >keras</td>\n",
              "                        <td id=\"T_58b9e05e_a161_11eb_bbba_0242ac1c0002row44_col5\" class=\"data row44 col5\" >False</td>\n",
              "                        <td id=\"T_58b9e05e_a161_11eb_bbba_0242ac1c0002row44_col6\" class=\"data row44 col6\" >True</td>\n",
              "                        <td id=\"T_58b9e05e_a161_11eb_bbba_0242ac1c0002row44_col7\" class=\"data row44 col7\" >Sequential</td>\n",
              "                        <td id=\"T_58b9e05e_a161_11eb_bbba_0242ac1c0002row44_col8\" class=\"data row44 col8\" >6</td>\n",
              "                        <td id=\"T_58b9e05e_a161_11eb_bbba_0242ac1c0002row44_col9\" class=\"data row44 col9\" >334626</td>\n",
              "                        <td id=\"T_58b9e05e_a161_11eb_bbba_0242ac1c0002row44_col10\" class=\"data row44 col10\" >0.000000</td>\n",
              "                        <td id=\"T_58b9e05e_a161_11eb_bbba_0242ac1c0002row44_col11\" class=\"data row44 col11\" >0.000000</td>\n",
              "                        <td id=\"T_58b9e05e_a161_11eb_bbba_0242ac1c0002row44_col12\" class=\"data row44 col12\" >1</td>\n",
              "                        <td id=\"T_58b9e05e_a161_11eb_bbba_0242ac1c0002row44_col13\" class=\"data row44 col13\" >1</td>\n",
              "                        <td id=\"T_58b9e05e_a161_11eb_bbba_0242ac1c0002row44_col14\" class=\"data row44 col14\" >0.000000</td>\n",
              "                        <td id=\"T_58b9e05e_a161_11eb_bbba_0242ac1c0002row44_col15\" class=\"data row44 col15\" >0.000000</td>\n",
              "                        <td id=\"T_58b9e05e_a161_11eb_bbba_0242ac1c0002row44_col16\" class=\"data row44 col16\" >1.000000</td>\n",
              "                        <td id=\"T_58b9e05e_a161_11eb_bbba_0242ac1c0002row44_col17\" class=\"data row44 col17\" >0.000000</td>\n",
              "                        <td id=\"T_58b9e05e_a161_11eb_bbba_0242ac1c0002row44_col18\" class=\"data row44 col18\" >3.000000</td>\n",
              "                        <td id=\"T_58b9e05e_a161_11eb_bbba_0242ac1c0002row44_col19\" class=\"data row44 col19\" >str</td>\n",
              "                        <td id=\"T_58b9e05e_a161_11eb_bbba_0242ac1c0002row44_col20\" class=\"data row44 col20\" >RMSprop</td>\n",
              "                        <td id=\"T_58b9e05e_a161_11eb_bbba_0242ac1c0002row44_col21\" class=\"data row44 col21\" >{'name': 'sequential_15', 'lay...</td>\n",
              "                        <td id=\"T_58b9e05e_a161_11eb_bbba_0242ac1c0002row44_col22\" class=\"data row44 col22\" >xc2303_xc</td>\n",
              "                        <td id=\"T_58b9e05e_a161_11eb_bbba_0242ac1c0002row44_col23\" class=\"data row44 col23\" >14</td>\n",
              "            </tr>\n",
              "            <tr>\n",
              "                        <th id=\"T_58b9e05e_a161_11eb_bbba_0242ac1c0002level0_row45\" class=\"row_heading level0 row45\" >54</th>\n",
              "                        <td id=\"T_58b9e05e_a161_11eb_bbba_0242ac1c0002row45_col0\" class=\"data row45 col0\" >92.94%</td>\n",
              "                        <td id=\"T_58b9e05e_a161_11eb_bbba_0242ac1c0002row45_col1\" class=\"data row45 col1\" >92.92%</td>\n",
              "                        <td id=\"T_58b9e05e_a161_11eb_bbba_0242ac1c0002row45_col2\" class=\"data row45 col2\" >92.98%</td>\n",
              "                        <td id=\"T_58b9e05e_a161_11eb_bbba_0242ac1c0002row45_col3\" class=\"data row45 col3\" >92.88%</td>\n",
              "                        <td id=\"T_58b9e05e_a161_11eb_bbba_0242ac1c0002row45_col4\" class=\"data row45 col4\" >keras</td>\n",
              "                        <td id=\"T_58b9e05e_a161_11eb_bbba_0242ac1c0002row45_col5\" class=\"data row45 col5\" >False</td>\n",
              "                        <td id=\"T_58b9e05e_a161_11eb_bbba_0242ac1c0002row45_col6\" class=\"data row45 col6\" >True</td>\n",
              "                        <td id=\"T_58b9e05e_a161_11eb_bbba_0242ac1c0002row45_col7\" class=\"data row45 col7\" >Sequential</td>\n",
              "                        <td id=\"T_58b9e05e_a161_11eb_bbba_0242ac1c0002row45_col8\" class=\"data row45 col8\" >5</td>\n",
              "                        <td id=\"T_58b9e05e_a161_11eb_bbba_0242ac1c0002row45_col9\" class=\"data row45 col9\" >168114</td>\n",
              "                        <td id=\"T_58b9e05e_a161_11eb_bbba_0242ac1c0002row45_col10\" class=\"data row45 col10\" >0.000000</td>\n",
              "                        <td id=\"T_58b9e05e_a161_11eb_bbba_0242ac1c0002row45_col11\" class=\"data row45 col11\" >2.000000</td>\n",
              "                        <td id=\"T_58b9e05e_a161_11eb_bbba_0242ac1c0002row45_col12\" class=\"data row45 col12\" >1</td>\n",
              "                        <td id=\"T_58b9e05e_a161_11eb_bbba_0242ac1c0002row45_col13\" class=\"data row45 col13\" >1</td>\n",
              "                        <td id=\"T_58b9e05e_a161_11eb_bbba_0242ac1c0002row45_col14\" class=\"data row45 col14\" >1.000000</td>\n",
              "                        <td id=\"T_58b9e05e_a161_11eb_bbba_0242ac1c0002row45_col15\" class=\"data row45 col15\" >0.000000</td>\n",
              "                        <td id=\"T_58b9e05e_a161_11eb_bbba_0242ac1c0002row45_col16\" class=\"data row45 col16\" >0.000000</td>\n",
              "                        <td id=\"T_58b9e05e_a161_11eb_bbba_0242ac1c0002row45_col17\" class=\"data row45 col17\" >0.000000</td>\n",
              "                        <td id=\"T_58b9e05e_a161_11eb_bbba_0242ac1c0002row45_col18\" class=\"data row45 col18\" >0.000000</td>\n",
              "                        <td id=\"T_58b9e05e_a161_11eb_bbba_0242ac1c0002row45_col19\" class=\"data row45 col19\" >str</td>\n",
              "                        <td id=\"T_58b9e05e_a161_11eb_bbba_0242ac1c0002row45_col20\" class=\"data row45 col20\" >RMSprop</td>\n",
              "                        <td id=\"T_58b9e05e_a161_11eb_bbba_0242ac1c0002row45_col21\" class=\"data row45 col21\" >{'name': 'sequential_21', 'lay...</td>\n",
              "                        <td id=\"T_58b9e05e_a161_11eb_bbba_0242ac1c0002row45_col22\" class=\"data row45 col22\" >prajseth</td>\n",
              "                        <td id=\"T_58b9e05e_a161_11eb_bbba_0242ac1c0002row45_col23\" class=\"data row45 col23\" >22</td>\n",
              "            </tr>\n",
              "            <tr>\n",
              "                        <th id=\"T_58b9e05e_a161_11eb_bbba_0242ac1c0002level0_row46\" class=\"row_heading level0 row46\" >55</th>\n",
              "                        <td id=\"T_58b9e05e_a161_11eb_bbba_0242ac1c0002row46_col0\" class=\"data row46 col0\" >92.85%</td>\n",
              "                        <td id=\"T_58b9e05e_a161_11eb_bbba_0242ac1c0002row46_col1\" class=\"data row46 col1\" >92.84%</td>\n",
              "                        <td id=\"T_58b9e05e_a161_11eb_bbba_0242ac1c0002row46_col2\" class=\"data row46 col2\" >92.82%</td>\n",
              "                        <td id=\"T_58b9e05e_a161_11eb_bbba_0242ac1c0002row46_col3\" class=\"data row46 col3\" >92.88%</td>\n",
              "                        <td id=\"T_58b9e05e_a161_11eb_bbba_0242ac1c0002row46_col4\" class=\"data row46 col4\" >keras</td>\n",
              "                        <td id=\"T_58b9e05e_a161_11eb_bbba_0242ac1c0002row46_col5\" class=\"data row46 col5\" >False</td>\n",
              "                        <td id=\"T_58b9e05e_a161_11eb_bbba_0242ac1c0002row46_col6\" class=\"data row46 col6\" >True</td>\n",
              "                        <td id=\"T_58b9e05e_a161_11eb_bbba_0242ac1c0002row46_col7\" class=\"data row46 col7\" >Sequential</td>\n",
              "                        <td id=\"T_58b9e05e_a161_11eb_bbba_0242ac1c0002row46_col8\" class=\"data row46 col8\" >3</td>\n",
              "                        <td id=\"T_58b9e05e_a161_11eb_bbba_0242ac1c0002row46_col9\" class=\"data row46 col9\" >328386</td>\n",
              "                        <td id=\"T_58b9e05e_a161_11eb_bbba_0242ac1c0002row46_col10\" class=\"data row46 col10\" >0.000000</td>\n",
              "                        <td id=\"T_58b9e05e_a161_11eb_bbba_0242ac1c0002row46_col11\" class=\"data row46 col11\" >0.000000</td>\n",
              "                        <td id=\"T_58b9e05e_a161_11eb_bbba_0242ac1c0002row46_col12\" class=\"data row46 col12\" >1</td>\n",
              "                        <td id=\"T_58b9e05e_a161_11eb_bbba_0242ac1c0002row46_col13\" class=\"data row46 col13\" >1</td>\n",
              "                        <td id=\"T_58b9e05e_a161_11eb_bbba_0242ac1c0002row46_col14\" class=\"data row46 col14\" >0.000000</td>\n",
              "                        <td id=\"T_58b9e05e_a161_11eb_bbba_0242ac1c0002row46_col15\" class=\"data row46 col15\" >0.000000</td>\n",
              "                        <td id=\"T_58b9e05e_a161_11eb_bbba_0242ac1c0002row46_col16\" class=\"data row46 col16\" >1.000000</td>\n",
              "                        <td id=\"T_58b9e05e_a161_11eb_bbba_0242ac1c0002row46_col17\" class=\"data row46 col17\" >0.000000</td>\n",
              "                        <td id=\"T_58b9e05e_a161_11eb_bbba_0242ac1c0002row46_col18\" class=\"data row46 col18\" >0.000000</td>\n",
              "                        <td id=\"T_58b9e05e_a161_11eb_bbba_0242ac1c0002row46_col19\" class=\"data row46 col19\" >0</td>\n",
              "                        <td id=\"T_58b9e05e_a161_11eb_bbba_0242ac1c0002row46_col20\" class=\"data row46 col20\" >NoneType</td>\n",
              "                        <td id=\"T_58b9e05e_a161_11eb_bbba_0242ac1c0002row46_col21\" class=\"data row46 col21\" >{'name': 'sequential_9', 'laye...</td>\n",
              "                        <td id=\"T_58b9e05e_a161_11eb_bbba_0242ac1c0002row46_col22\" class=\"data row46 col22\" >dv2438</td>\n",
              "                        <td id=\"T_58b9e05e_a161_11eb_bbba_0242ac1c0002row46_col23\" class=\"data row46 col23\" >82</td>\n",
              "            </tr>\n",
              "            <tr>\n",
              "                        <th id=\"T_58b9e05e_a161_11eb_bbba_0242ac1c0002level0_row47\" class=\"row_heading level0 row47\" >56</th>\n",
              "                        <td id=\"T_58b9e05e_a161_11eb_bbba_0242ac1c0002row47_col0\" class=\"data row47 col0\" >92.76%</td>\n",
              "                        <td id=\"T_58b9e05e_a161_11eb_bbba_0242ac1c0002row47_col1\" class=\"data row47 col1\" >92.70%</td>\n",
              "                        <td id=\"T_58b9e05e_a161_11eb_bbba_0242ac1c0002row47_col2\" class=\"data row47 col2\" >93.25%</td>\n",
              "                        <td id=\"T_58b9e05e_a161_11eb_bbba_0242ac1c0002row47_col3\" class=\"data row47 col3\" >92.53%</td>\n",
              "                        <td id=\"T_58b9e05e_a161_11eb_bbba_0242ac1c0002row47_col4\" class=\"data row47 col4\" >keras</td>\n",
              "                        <td id=\"T_58b9e05e_a161_11eb_bbba_0242ac1c0002row47_col5\" class=\"data row47 col5\" >False</td>\n",
              "                        <td id=\"T_58b9e05e_a161_11eb_bbba_0242ac1c0002row47_col6\" class=\"data row47 col6\" >True</td>\n",
              "                        <td id=\"T_58b9e05e_a161_11eb_bbba_0242ac1c0002row47_col7\" class=\"data row47 col7\" >Sequential</td>\n",
              "                        <td id=\"T_58b9e05e_a161_11eb_bbba_0242ac1c0002row47_col8\" class=\"data row47 col8\" >3</td>\n",
              "                        <td id=\"T_58b9e05e_a161_11eb_bbba_0242ac1c0002row47_col9\" class=\"data row47 col9\" >328386</td>\n",
              "                        <td id=\"T_58b9e05e_a161_11eb_bbba_0242ac1c0002row47_col10\" class=\"data row47 col10\" >0.000000</td>\n",
              "                        <td id=\"T_58b9e05e_a161_11eb_bbba_0242ac1c0002row47_col11\" class=\"data row47 col11\" >0.000000</td>\n",
              "                        <td id=\"T_58b9e05e_a161_11eb_bbba_0242ac1c0002row47_col12\" class=\"data row47 col12\" >1</td>\n",
              "                        <td id=\"T_58b9e05e_a161_11eb_bbba_0242ac1c0002row47_col13\" class=\"data row47 col13\" >1</td>\n",
              "                        <td id=\"T_58b9e05e_a161_11eb_bbba_0242ac1c0002row47_col14\" class=\"data row47 col14\" >0.000000</td>\n",
              "                        <td id=\"T_58b9e05e_a161_11eb_bbba_0242ac1c0002row47_col15\" class=\"data row47 col15\" >0.000000</td>\n",
              "                        <td id=\"T_58b9e05e_a161_11eb_bbba_0242ac1c0002row47_col16\" class=\"data row47 col16\" >1.000000</td>\n",
              "                        <td id=\"T_58b9e05e_a161_11eb_bbba_0242ac1c0002row47_col17\" class=\"data row47 col17\" >0.000000</td>\n",
              "                        <td id=\"T_58b9e05e_a161_11eb_bbba_0242ac1c0002row47_col18\" class=\"data row47 col18\" >0.000000</td>\n",
              "                        <td id=\"T_58b9e05e_a161_11eb_bbba_0242ac1c0002row47_col19\" class=\"data row47 col19\" >str</td>\n",
              "                        <td id=\"T_58b9e05e_a161_11eb_bbba_0242ac1c0002row47_col20\" class=\"data row47 col20\" >RMSprop</td>\n",
              "                        <td id=\"T_58b9e05e_a161_11eb_bbba_0242ac1c0002row47_col21\" class=\"data row47 col21\" >{'name': 'sequential_19', 'lay...</td>\n",
              "                        <td id=\"T_58b9e05e_a161_11eb_bbba_0242ac1c0002row47_col22\" class=\"data row47 col22\" >xc2303_xc</td>\n",
              "                        <td id=\"T_58b9e05e_a161_11eb_bbba_0242ac1c0002row47_col23\" class=\"data row47 col23\" >15</td>\n",
              "            </tr>\n",
              "            <tr>\n",
              "                        <th id=\"T_58b9e05e_a161_11eb_bbba_0242ac1c0002level0_row48\" class=\"row_heading level0 row48\" >57</th>\n",
              "                        <td id=\"T_58b9e05e_a161_11eb_bbba_0242ac1c0002row48_col0\" class=\"data row48 col0\" >92.85%</td>\n",
              "                        <td id=\"T_58b9e05e_a161_11eb_bbba_0242ac1c0002row48_col1\" class=\"data row48 col1\" >92.83%</td>\n",
              "                        <td id=\"T_58b9e05e_a161_11eb_bbba_0242ac1c0002row48_col2\" class=\"data row48 col2\" >92.84%</td>\n",
              "                        <td id=\"T_58b9e05e_a161_11eb_bbba_0242ac1c0002row48_col3\" class=\"data row48 col3\" >92.82%</td>\n",
              "                        <td id=\"T_58b9e05e_a161_11eb_bbba_0242ac1c0002row48_col4\" class=\"data row48 col4\" >keras</td>\n",
              "                        <td id=\"T_58b9e05e_a161_11eb_bbba_0242ac1c0002row48_col5\" class=\"data row48 col5\" >False</td>\n",
              "                        <td id=\"T_58b9e05e_a161_11eb_bbba_0242ac1c0002row48_col6\" class=\"data row48 col6\" >True</td>\n",
              "                        <td id=\"T_58b9e05e_a161_11eb_bbba_0242ac1c0002row48_col7\" class=\"data row48 col7\" >Sequential</td>\n",
              "                        <td id=\"T_58b9e05e_a161_11eb_bbba_0242ac1c0002row48_col8\" class=\"data row48 col8\" >5</td>\n",
              "                        <td id=\"T_58b9e05e_a161_11eb_bbba_0242ac1c0002row48_col9\" class=\"data row48 col9\" >3211698</td>\n",
              "                        <td id=\"T_58b9e05e_a161_11eb_bbba_0242ac1c0002row48_col10\" class=\"data row48 col10\" >0.000000</td>\n",
              "                        <td id=\"T_58b9e05e_a161_11eb_bbba_0242ac1c0002row48_col11\" class=\"data row48 col11\" >2.000000</td>\n",
              "                        <td id=\"T_58b9e05e_a161_11eb_bbba_0242ac1c0002row48_col12\" class=\"data row48 col12\" >1</td>\n",
              "                        <td id=\"T_58b9e05e_a161_11eb_bbba_0242ac1c0002row48_col13\" class=\"data row48 col13\" >1</td>\n",
              "                        <td id=\"T_58b9e05e_a161_11eb_bbba_0242ac1c0002row48_col14\" class=\"data row48 col14\" >1.000000</td>\n",
              "                        <td id=\"T_58b9e05e_a161_11eb_bbba_0242ac1c0002row48_col15\" class=\"data row48 col15\" >0.000000</td>\n",
              "                        <td id=\"T_58b9e05e_a161_11eb_bbba_0242ac1c0002row48_col16\" class=\"data row48 col16\" >0.000000</td>\n",
              "                        <td id=\"T_58b9e05e_a161_11eb_bbba_0242ac1c0002row48_col17\" class=\"data row48 col17\" >0.000000</td>\n",
              "                        <td id=\"T_58b9e05e_a161_11eb_bbba_0242ac1c0002row48_col18\" class=\"data row48 col18\" >0.000000</td>\n",
              "                        <td id=\"T_58b9e05e_a161_11eb_bbba_0242ac1c0002row48_col19\" class=\"data row48 col19\" >str</td>\n",
              "                        <td id=\"T_58b9e05e_a161_11eb_bbba_0242ac1c0002row48_col20\" class=\"data row48 col20\" >RMSprop</td>\n",
              "                        <td id=\"T_58b9e05e_a161_11eb_bbba_0242ac1c0002row48_col21\" class=\"data row48 col21\" >{'name': 'sequential_23', 'lay...</td>\n",
              "                        <td id=\"T_58b9e05e_a161_11eb_bbba_0242ac1c0002row48_col22\" class=\"data row48 col22\" >prajseth</td>\n",
              "                        <td id=\"T_58b9e05e_a161_11eb_bbba_0242ac1c0002row48_col23\" class=\"data row48 col23\" >23</td>\n",
              "            </tr>\n",
              "            <tr>\n",
              "                        <th id=\"T_58b9e05e_a161_11eb_bbba_0242ac1c0002level0_row49\" class=\"row_heading level0 row49\" >58</th>\n",
              "                        <td id=\"T_58b9e05e_a161_11eb_bbba_0242ac1c0002row49_col0\" class=\"data row49 col0\" >92.80%</td>\n",
              "                        <td id=\"T_58b9e05e_a161_11eb_bbba_0242ac1c0002row49_col1\" class=\"data row49 col1\" >92.78%</td>\n",
              "                        <td id=\"T_58b9e05e_a161_11eb_bbba_0242ac1c0002row49_col2\" class=\"data row49 col2\" >92.85%</td>\n",
              "                        <td id=\"T_58b9e05e_a161_11eb_bbba_0242ac1c0002row49_col3\" class=\"data row49 col3\" >92.73%</td>\n",
              "                        <td id=\"T_58b9e05e_a161_11eb_bbba_0242ac1c0002row49_col4\" class=\"data row49 col4\" >keras</td>\n",
              "                        <td id=\"T_58b9e05e_a161_11eb_bbba_0242ac1c0002row49_col5\" class=\"data row49 col5\" >False</td>\n",
              "                        <td id=\"T_58b9e05e_a161_11eb_bbba_0242ac1c0002row49_col6\" class=\"data row49 col6\" >True</td>\n",
              "                        <td id=\"T_58b9e05e_a161_11eb_bbba_0242ac1c0002row49_col7\" class=\"data row49 col7\" >Sequential</td>\n",
              "                        <td id=\"T_58b9e05e_a161_11eb_bbba_0242ac1c0002row49_col8\" class=\"data row49 col8\" >3</td>\n",
              "                        <td id=\"T_58b9e05e_a161_11eb_bbba_0242ac1c0002row49_col9\" class=\"data row49 col9\" >336770</td>\n",
              "                        <td id=\"T_58b9e05e_a161_11eb_bbba_0242ac1c0002row49_col10\" class=\"data row49 col10\" >1.000000</td>\n",
              "                        <td id=\"T_58b9e05e_a161_11eb_bbba_0242ac1c0002row49_col11\" class=\"data row49 col11\" >0.000000</td>\n",
              "                        <td id=\"T_58b9e05e_a161_11eb_bbba_0242ac1c0002row49_col12\" class=\"data row49 col12\" >1</td>\n",
              "                        <td id=\"T_58b9e05e_a161_11eb_bbba_0242ac1c0002row49_col13\" class=\"data row49 col13\" >1</td>\n",
              "                        <td id=\"T_58b9e05e_a161_11eb_bbba_0242ac1c0002row49_col14\" class=\"data row49 col14\" >0.000000</td>\n",
              "                        <td id=\"T_58b9e05e_a161_11eb_bbba_0242ac1c0002row49_col15\" class=\"data row49 col15\" >0.000000</td>\n",
              "                        <td id=\"T_58b9e05e_a161_11eb_bbba_0242ac1c0002row49_col16\" class=\"data row49 col16\" >0.000000</td>\n",
              "                        <td id=\"T_58b9e05e_a161_11eb_bbba_0242ac1c0002row49_col17\" class=\"data row49 col17\" >0.000000</td>\n",
              "                        <td id=\"T_58b9e05e_a161_11eb_bbba_0242ac1c0002row49_col18\" class=\"data row49 col18\" >0.000000</td>\n",
              "                        <td id=\"T_58b9e05e_a161_11eb_bbba_0242ac1c0002row49_col19\" class=\"data row49 col19\" >str</td>\n",
              "                        <td id=\"T_58b9e05e_a161_11eb_bbba_0242ac1c0002row49_col20\" class=\"data row49 col20\" >RMSprop</td>\n",
              "                        <td id=\"T_58b9e05e_a161_11eb_bbba_0242ac1c0002row49_col21\" class=\"data row49 col21\" >{'name': 'sequential_21', 'lay...</td>\n",
              "                        <td id=\"T_58b9e05e_a161_11eb_bbba_0242ac1c0002row49_col22\" class=\"data row49 col22\" >xc2303_xc</td>\n",
              "                        <td id=\"T_58b9e05e_a161_11eb_bbba_0242ac1c0002row49_col23\" class=\"data row49 col23\" >16</td>\n",
              "            </tr>\n",
              "            <tr>\n",
              "                        <th id=\"T_58b9e05e_a161_11eb_bbba_0242ac1c0002level0_row50\" class=\"row_heading level0 row50\" >59</th>\n",
              "                        <td id=\"T_58b9e05e_a161_11eb_bbba_0242ac1c0002row50_col0\" class=\"data row50 col0\" >92.76%</td>\n",
              "                        <td id=\"T_58b9e05e_a161_11eb_bbba_0242ac1c0002row50_col1\" class=\"data row50 col1\" >92.73%</td>\n",
              "                        <td id=\"T_58b9e05e_a161_11eb_bbba_0242ac1c0002row50_col2\" class=\"data row50 col2\" >92.79%</td>\n",
              "                        <td id=\"T_58b9e05e_a161_11eb_bbba_0242ac1c0002row50_col3\" class=\"data row50 col3\" >92.70%</td>\n",
              "                        <td id=\"T_58b9e05e_a161_11eb_bbba_0242ac1c0002row50_col4\" class=\"data row50 col4\" >keras</td>\n",
              "                        <td id=\"T_58b9e05e_a161_11eb_bbba_0242ac1c0002row50_col5\" class=\"data row50 col5\" >False</td>\n",
              "                        <td id=\"T_58b9e05e_a161_11eb_bbba_0242ac1c0002row50_col6\" class=\"data row50 col6\" >True</td>\n",
              "                        <td id=\"T_58b9e05e_a161_11eb_bbba_0242ac1c0002row50_col7\" class=\"data row50 col7\" >Sequential</td>\n",
              "                        <td id=\"T_58b9e05e_a161_11eb_bbba_0242ac1c0002row50_col8\" class=\"data row50 col8\" >3</td>\n",
              "                        <td id=\"T_58b9e05e_a161_11eb_bbba_0242ac1c0002row50_col9\" class=\"data row50 col9\" >322146</td>\n",
              "                        <td id=\"T_58b9e05e_a161_11eb_bbba_0242ac1c0002row50_col10\" class=\"data row50 col10\" >0.000000</td>\n",
              "                        <td id=\"T_58b9e05e_a161_11eb_bbba_0242ac1c0002row50_col11\" class=\"data row50 col11\" >0.000000</td>\n",
              "                        <td id=\"T_58b9e05e_a161_11eb_bbba_0242ac1c0002row50_col12\" class=\"data row50 col12\" >1</td>\n",
              "                        <td id=\"T_58b9e05e_a161_11eb_bbba_0242ac1c0002row50_col13\" class=\"data row50 col13\" >1</td>\n",
              "                        <td id=\"T_58b9e05e_a161_11eb_bbba_0242ac1c0002row50_col14\" class=\"data row50 col14\" >0.000000</td>\n",
              "                        <td id=\"T_58b9e05e_a161_11eb_bbba_0242ac1c0002row50_col15\" class=\"data row50 col15\" >0.000000</td>\n",
              "                        <td id=\"T_58b9e05e_a161_11eb_bbba_0242ac1c0002row50_col16\" class=\"data row50 col16\" >0.000000</td>\n",
              "                        <td id=\"T_58b9e05e_a161_11eb_bbba_0242ac1c0002row50_col17\" class=\"data row50 col17\" >0.000000</td>\n",
              "                        <td id=\"T_58b9e05e_a161_11eb_bbba_0242ac1c0002row50_col18\" class=\"data row50 col18\" >1.000000</td>\n",
              "                        <td id=\"T_58b9e05e_a161_11eb_bbba_0242ac1c0002row50_col19\" class=\"data row50 col19\" >str</td>\n",
              "                        <td id=\"T_58b9e05e_a161_11eb_bbba_0242ac1c0002row50_col20\" class=\"data row50 col20\" >RMSprop</td>\n",
              "                        <td id=\"T_58b9e05e_a161_11eb_bbba_0242ac1c0002row50_col21\" class=\"data row50 col21\" >{'name': 'sequential_11', 'lay...</td>\n",
              "                        <td id=\"T_58b9e05e_a161_11eb_bbba_0242ac1c0002row50_col22\" class=\"data row50 col22\" >xc2303_xc</td>\n",
              "                        <td id=\"T_58b9e05e_a161_11eb_bbba_0242ac1c0002row50_col23\" class=\"data row50 col23\" >12</td>\n",
              "            </tr>\n",
              "            <tr>\n",
              "                        <th id=\"T_58b9e05e_a161_11eb_bbba_0242ac1c0002level0_row51\" class=\"row_heading level0 row51\" >60</th>\n",
              "                        <td id=\"T_58b9e05e_a161_11eb_bbba_0242ac1c0002row51_col0\" class=\"data row51 col0\" >92.66%</td>\n",
              "                        <td id=\"T_58b9e05e_a161_11eb_bbba_0242ac1c0002row51_col1\" class=\"data row51 col1\" >92.64%</td>\n",
              "                        <td id=\"T_58b9e05e_a161_11eb_bbba_0242ac1c0002row51_col2\" class=\"data row51 col2\" >92.73%</td>\n",
              "                        <td id=\"T_58b9e05e_a161_11eb_bbba_0242ac1c0002row51_col3\" class=\"data row51 col3\" >92.58%</td>\n",
              "                        <td id=\"T_58b9e05e_a161_11eb_bbba_0242ac1c0002row51_col4\" class=\"data row51 col4\" >keras</td>\n",
              "                        <td id=\"T_58b9e05e_a161_11eb_bbba_0242ac1c0002row51_col5\" class=\"data row51 col5\" >False</td>\n",
              "                        <td id=\"T_58b9e05e_a161_11eb_bbba_0242ac1c0002row51_col6\" class=\"data row51 col6\" >True</td>\n",
              "                        <td id=\"T_58b9e05e_a161_11eb_bbba_0242ac1c0002row51_col7\" class=\"data row51 col7\" >Sequential</td>\n",
              "                        <td id=\"T_58b9e05e_a161_11eb_bbba_0242ac1c0002row51_col8\" class=\"data row51 col8\" >4</td>\n",
              "                        <td id=\"T_58b9e05e_a161_11eb_bbba_0242ac1c0002row51_col9\" class=\"data row51 col9\" >112102</td>\n",
              "                        <td id=\"T_58b9e05e_a161_11eb_bbba_0242ac1c0002row51_col10\" class=\"data row51 col10\" >0.000000</td>\n",
              "                        <td id=\"T_58b9e05e_a161_11eb_bbba_0242ac1c0002row51_col11\" class=\"data row51 col11\" >0.000000</td>\n",
              "                        <td id=\"T_58b9e05e_a161_11eb_bbba_0242ac1c0002row51_col12\" class=\"data row51 col12\" >1</td>\n",
              "                        <td id=\"T_58b9e05e_a161_11eb_bbba_0242ac1c0002row51_col13\" class=\"data row51 col13\" >1</td>\n",
              "                        <td id=\"T_58b9e05e_a161_11eb_bbba_0242ac1c0002row51_col14\" class=\"data row51 col14\" >0.000000</td>\n",
              "                        <td id=\"T_58b9e05e_a161_11eb_bbba_0242ac1c0002row51_col15\" class=\"data row51 col15\" >0.000000</td>\n",
              "                        <td id=\"T_58b9e05e_a161_11eb_bbba_0242ac1c0002row51_col16\" class=\"data row51 col16\" >2.000000</td>\n",
              "                        <td id=\"T_58b9e05e_a161_11eb_bbba_0242ac1c0002row51_col17\" class=\"data row51 col17\" >0.000000</td>\n",
              "                        <td id=\"T_58b9e05e_a161_11eb_bbba_0242ac1c0002row51_col18\" class=\"data row51 col18\" >0.000000</td>\n",
              "                        <td id=\"T_58b9e05e_a161_11eb_bbba_0242ac1c0002row51_col19\" class=\"data row51 col19\" >str</td>\n",
              "                        <td id=\"T_58b9e05e_a161_11eb_bbba_0242ac1c0002row51_col20\" class=\"data row51 col20\" >RMSprop</td>\n",
              "                        <td id=\"T_58b9e05e_a161_11eb_bbba_0242ac1c0002row51_col21\" class=\"data row51 col21\" >{'name': 'sequential_86', 'lay...</td>\n",
              "                        <td id=\"T_58b9e05e_a161_11eb_bbba_0242ac1c0002row51_col22\" class=\"data row51 col22\" >prajseth</td>\n",
              "                        <td id=\"T_58b9e05e_a161_11eb_bbba_0242ac1c0002row51_col23\" class=\"data row51 col23\" >43</td>\n",
              "            </tr>\n",
              "            <tr>\n",
              "                        <th id=\"T_58b9e05e_a161_11eb_bbba_0242ac1c0002level0_row52\" class=\"row_heading level0 row52\" >61</th>\n",
              "                        <td id=\"T_58b9e05e_a161_11eb_bbba_0242ac1c0002row52_col0\" class=\"data row52 col0\" >92.57%</td>\n",
              "                        <td id=\"T_58b9e05e_a161_11eb_bbba_0242ac1c0002row52_col1\" class=\"data row52 col1\" >92.56%</td>\n",
              "                        <td id=\"T_58b9e05e_a161_11eb_bbba_0242ac1c0002row52_col2\" class=\"data row52 col2\" >92.54%</td>\n",
              "                        <td id=\"T_58b9e05e_a161_11eb_bbba_0242ac1c0002row52_col3\" class=\"data row52 col3\" >92.61%</td>\n",
              "                        <td id=\"T_58b9e05e_a161_11eb_bbba_0242ac1c0002row52_col4\" class=\"data row52 col4\" >keras</td>\n",
              "                        <td id=\"T_58b9e05e_a161_11eb_bbba_0242ac1c0002row52_col5\" class=\"data row52 col5\" >False</td>\n",
              "                        <td id=\"T_58b9e05e_a161_11eb_bbba_0242ac1c0002row52_col6\" class=\"data row52 col6\" >True</td>\n",
              "                        <td id=\"T_58b9e05e_a161_11eb_bbba_0242ac1c0002row52_col7\" class=\"data row52 col7\" >Sequential</td>\n",
              "                        <td id=\"T_58b9e05e_a161_11eb_bbba_0242ac1c0002row52_col8\" class=\"data row52 col8\" >7</td>\n",
              "                        <td id=\"T_58b9e05e_a161_11eb_bbba_0242ac1c0002row52_col9\" class=\"data row52 col9\" >3215962</td>\n",
              "                        <td id=\"T_58b9e05e_a161_11eb_bbba_0242ac1c0002row52_col10\" class=\"data row52 col10\" >0.000000</td>\n",
              "                        <td id=\"T_58b9e05e_a161_11eb_bbba_0242ac1c0002row52_col11\" class=\"data row52 col11\" >0.000000</td>\n",
              "                        <td id=\"T_58b9e05e_a161_11eb_bbba_0242ac1c0002row52_col12\" class=\"data row52 col12\" >2</td>\n",
              "                        <td id=\"T_58b9e05e_a161_11eb_bbba_0242ac1c0002row52_col13\" class=\"data row52 col13\" >1</td>\n",
              "                        <td id=\"T_58b9e05e_a161_11eb_bbba_0242ac1c0002row52_col14\" class=\"data row52 col14\" >0.000000</td>\n",
              "                        <td id=\"T_58b9e05e_a161_11eb_bbba_0242ac1c0002row52_col15\" class=\"data row52 col15\" >0.000000</td>\n",
              "                        <td id=\"T_58b9e05e_a161_11eb_bbba_0242ac1c0002row52_col16\" class=\"data row52 col16\" >1.000000</td>\n",
              "                        <td id=\"T_58b9e05e_a161_11eb_bbba_0242ac1c0002row52_col17\" class=\"data row52 col17\" >0.000000</td>\n",
              "                        <td id=\"T_58b9e05e_a161_11eb_bbba_0242ac1c0002row52_col18\" class=\"data row52 col18\" >3.000000</td>\n",
              "                        <td id=\"T_58b9e05e_a161_11eb_bbba_0242ac1c0002row52_col19\" class=\"data row52 col19\" >str</td>\n",
              "                        <td id=\"T_58b9e05e_a161_11eb_bbba_0242ac1c0002row52_col20\" class=\"data row52 col20\" >RMSprop</td>\n",
              "                        <td id=\"T_58b9e05e_a161_11eb_bbba_0242ac1c0002row52_col21\" class=\"data row52 col21\" >{'name': 'sequential_5', 'laye...</td>\n",
              "                        <td id=\"T_58b9e05e_a161_11eb_bbba_0242ac1c0002row52_col22\" class=\"data row52 col22\" >prajseth</td>\n",
              "                        <td id=\"T_58b9e05e_a161_11eb_bbba_0242ac1c0002row52_col23\" class=\"data row52 col23\" >32</td>\n",
              "            </tr>\n",
              "            <tr>\n",
              "                        <th id=\"T_58b9e05e_a161_11eb_bbba_0242ac1c0002level0_row53\" class=\"row_heading level0 row53\" >62</th>\n",
              "                        <td id=\"T_58b9e05e_a161_11eb_bbba_0242ac1c0002row53_col0\" class=\"data row53 col0\" >92.34%</td>\n",
              "                        <td id=\"T_58b9e05e_a161_11eb_bbba_0242ac1c0002row53_col1\" class=\"data row53 col1\" >92.27%</td>\n",
              "                        <td id=\"T_58b9e05e_a161_11eb_bbba_0242ac1c0002row53_col2\" class=\"data row53 col2\" >92.87%</td>\n",
              "                        <td id=\"T_58b9e05e_a161_11eb_bbba_0242ac1c0002row53_col3\" class=\"data row53 col3\" >92.10%</td>\n",
              "                        <td id=\"T_58b9e05e_a161_11eb_bbba_0242ac1c0002row53_col4\" class=\"data row53 col4\" >keras</td>\n",
              "                        <td id=\"T_58b9e05e_a161_11eb_bbba_0242ac1c0002row53_col5\" class=\"data row53 col5\" >False</td>\n",
              "                        <td id=\"T_58b9e05e_a161_11eb_bbba_0242ac1c0002row53_col6\" class=\"data row53 col6\" >True</td>\n",
              "                        <td id=\"T_58b9e05e_a161_11eb_bbba_0242ac1c0002row53_col7\" class=\"data row53 col7\" >Sequential</td>\n",
              "                        <td id=\"T_58b9e05e_a161_11eb_bbba_0242ac1c0002row53_col8\" class=\"data row53 col8\" >6</td>\n",
              "                        <td id=\"T_58b9e05e_a161_11eb_bbba_0242ac1c0002row53_col9\" class=\"data row53 col9\" >32098786</td>\n",
              "                        <td id=\"T_58b9e05e_a161_11eb_bbba_0242ac1c0002row53_col10\" class=\"data row53 col10\" >0.000000</td>\n",
              "                        <td id=\"T_58b9e05e_a161_11eb_bbba_0242ac1c0002row53_col11\" class=\"data row53 col11\" >2.000000</td>\n",
              "                        <td id=\"T_58b9e05e_a161_11eb_bbba_0242ac1c0002row53_col12\" class=\"data row53 col12\" >1</td>\n",
              "                        <td id=\"T_58b9e05e_a161_11eb_bbba_0242ac1c0002row53_col13\" class=\"data row53 col13\" >1</td>\n",
              "                        <td id=\"T_58b9e05e_a161_11eb_bbba_0242ac1c0002row53_col14\" class=\"data row53 col14\" >1.000000</td>\n",
              "                        <td id=\"T_58b9e05e_a161_11eb_bbba_0242ac1c0002row53_col15\" class=\"data row53 col15\" >0.000000</td>\n",
              "                        <td id=\"T_58b9e05e_a161_11eb_bbba_0242ac1c0002row53_col16\" class=\"data row53 col16\" >0.000000</td>\n",
              "                        <td id=\"T_58b9e05e_a161_11eb_bbba_0242ac1c0002row53_col17\" class=\"data row53 col17\" >1.000000</td>\n",
              "                        <td id=\"T_58b9e05e_a161_11eb_bbba_0242ac1c0002row53_col18\" class=\"data row53 col18\" >0.000000</td>\n",
              "                        <td id=\"T_58b9e05e_a161_11eb_bbba_0242ac1c0002row53_col19\" class=\"data row53 col19\" >str</td>\n",
              "                        <td id=\"T_58b9e05e_a161_11eb_bbba_0242ac1c0002row53_col20\" class=\"data row53 col20\" >RMSprop</td>\n",
              "                        <td id=\"T_58b9e05e_a161_11eb_bbba_0242ac1c0002row53_col21\" class=\"data row53 col21\" >{'name': 'sequential_121', 'la...</td>\n",
              "                        <td id=\"T_58b9e05e_a161_11eb_bbba_0242ac1c0002row53_col22\" class=\"data row53 col22\" >prajseth</td>\n",
              "                        <td id=\"T_58b9e05e_a161_11eb_bbba_0242ac1c0002row53_col23\" class=\"data row53 col23\" >52</td>\n",
              "            </tr>\n",
              "            <tr>\n",
              "                        <th id=\"T_58b9e05e_a161_11eb_bbba_0242ac1c0002level0_row54\" class=\"row_heading level0 row54\" >63</th>\n",
              "                        <td id=\"T_58b9e05e_a161_11eb_bbba_0242ac1c0002row54_col0\" class=\"data row54 col0\" >92.34%</td>\n",
              "                        <td id=\"T_58b9e05e_a161_11eb_bbba_0242ac1c0002row54_col1\" class=\"data row54 col1\" >92.27%</td>\n",
              "                        <td id=\"T_58b9e05e_a161_11eb_bbba_0242ac1c0002row54_col2\" class=\"data row54 col2\" >92.80%</td>\n",
              "                        <td id=\"T_58b9e05e_a161_11eb_bbba_0242ac1c0002row54_col3\" class=\"data row54 col3\" >92.11%</td>\n",
              "                        <td id=\"T_58b9e05e_a161_11eb_bbba_0242ac1c0002row54_col4\" class=\"data row54 col4\" >keras</td>\n",
              "                        <td id=\"T_58b9e05e_a161_11eb_bbba_0242ac1c0002row54_col5\" class=\"data row54 col5\" >False</td>\n",
              "                        <td id=\"T_58b9e05e_a161_11eb_bbba_0242ac1c0002row54_col6\" class=\"data row54 col6\" >True</td>\n",
              "                        <td id=\"T_58b9e05e_a161_11eb_bbba_0242ac1c0002row54_col7\" class=\"data row54 col7\" >Sequential</td>\n",
              "                        <td id=\"T_58b9e05e_a161_11eb_bbba_0242ac1c0002row54_col8\" class=\"data row54 col8\" >4</td>\n",
              "                        <td id=\"T_58b9e05e_a161_11eb_bbba_0242ac1c0002row54_col9\" class=\"data row54 col9\" >183706</td>\n",
              "                        <td id=\"T_58b9e05e_a161_11eb_bbba_0242ac1c0002row54_col10\" class=\"data row54 col10\" >0.000000</td>\n",
              "                        <td id=\"T_58b9e05e_a161_11eb_bbba_0242ac1c0002row54_col11\" class=\"data row54 col11\" >0.000000</td>\n",
              "                        <td id=\"T_58b9e05e_a161_11eb_bbba_0242ac1c0002row54_col12\" class=\"data row54 col12\" >1</td>\n",
              "                        <td id=\"T_58b9e05e_a161_11eb_bbba_0242ac1c0002row54_col13\" class=\"data row54 col13\" >1</td>\n",
              "                        <td id=\"T_58b9e05e_a161_11eb_bbba_0242ac1c0002row54_col14\" class=\"data row54 col14\" >0.000000</td>\n",
              "                        <td id=\"T_58b9e05e_a161_11eb_bbba_0242ac1c0002row54_col15\" class=\"data row54 col15\" >0.000000</td>\n",
              "                        <td id=\"T_58b9e05e_a161_11eb_bbba_0242ac1c0002row54_col16\" class=\"data row54 col16\" >2.000000</td>\n",
              "                        <td id=\"T_58b9e05e_a161_11eb_bbba_0242ac1c0002row54_col17\" class=\"data row54 col17\" >0.000000</td>\n",
              "                        <td id=\"T_58b9e05e_a161_11eb_bbba_0242ac1c0002row54_col18\" class=\"data row54 col18\" >0.000000</td>\n",
              "                        <td id=\"T_58b9e05e_a161_11eb_bbba_0242ac1c0002row54_col19\" class=\"data row54 col19\" >str</td>\n",
              "                        <td id=\"T_58b9e05e_a161_11eb_bbba_0242ac1c0002row54_col20\" class=\"data row54 col20\" >RMSprop</td>\n",
              "                        <td id=\"T_58b9e05e_a161_11eb_bbba_0242ac1c0002row54_col21\" class=\"data row54 col21\" >{'name': 'sequential_88', 'lay...</td>\n",
              "                        <td id=\"T_58b9e05e_a161_11eb_bbba_0242ac1c0002row54_col22\" class=\"data row54 col22\" >prajseth</td>\n",
              "                        <td id=\"T_58b9e05e_a161_11eb_bbba_0242ac1c0002row54_col23\" class=\"data row54 col23\" >45</td>\n",
              "            </tr>\n",
              "            <tr>\n",
              "                        <th id=\"T_58b9e05e_a161_11eb_bbba_0242ac1c0002level0_row55\" class=\"row_heading level0 row55\" >64</th>\n",
              "                        <td id=\"T_58b9e05e_a161_11eb_bbba_0242ac1c0002row55_col0\" class=\"data row55 col0\" >92.43%</td>\n",
              "                        <td id=\"T_58b9e05e_a161_11eb_bbba_0242ac1c0002row55_col1\" class=\"data row55 col1\" >92.42%</td>\n",
              "                        <td id=\"T_58b9e05e_a161_11eb_bbba_0242ac1c0002row55_col2\" class=\"data row55 col2\" >92.40%</td>\n",
              "                        <td id=\"T_58b9e05e_a161_11eb_bbba_0242ac1c0002row55_col3\" class=\"data row55 col3\" >92.44%</td>\n",
              "                        <td id=\"T_58b9e05e_a161_11eb_bbba_0242ac1c0002row55_col4\" class=\"data row55 col4\" >keras</td>\n",
              "                        <td id=\"T_58b9e05e_a161_11eb_bbba_0242ac1c0002row55_col5\" class=\"data row55 col5\" >False</td>\n",
              "                        <td id=\"T_58b9e05e_a161_11eb_bbba_0242ac1c0002row55_col6\" class=\"data row55 col6\" >True</td>\n",
              "                        <td id=\"T_58b9e05e_a161_11eb_bbba_0242ac1c0002row55_col7\" class=\"data row55 col7\" >Sequential</td>\n",
              "                        <td id=\"T_58b9e05e_a161_11eb_bbba_0242ac1c0002row55_col8\" class=\"data row55 col8\" >3</td>\n",
              "                        <td id=\"T_58b9e05e_a161_11eb_bbba_0242ac1c0002row55_col9\" class=\"data row55 col9\" >322146</td>\n",
              "                        <td id=\"T_58b9e05e_a161_11eb_bbba_0242ac1c0002row55_col10\" class=\"data row55 col10\" >0.000000</td>\n",
              "                        <td id=\"T_58b9e05e_a161_11eb_bbba_0242ac1c0002row55_col11\" class=\"data row55 col11\" >0.000000</td>\n",
              "                        <td id=\"T_58b9e05e_a161_11eb_bbba_0242ac1c0002row55_col12\" class=\"data row55 col12\" >1</td>\n",
              "                        <td id=\"T_58b9e05e_a161_11eb_bbba_0242ac1c0002row55_col13\" class=\"data row55 col13\" >1</td>\n",
              "                        <td id=\"T_58b9e05e_a161_11eb_bbba_0242ac1c0002row55_col14\" class=\"data row55 col14\" >0.000000</td>\n",
              "                        <td id=\"T_58b9e05e_a161_11eb_bbba_0242ac1c0002row55_col15\" class=\"data row55 col15\" >0.000000</td>\n",
              "                        <td id=\"T_58b9e05e_a161_11eb_bbba_0242ac1c0002row55_col16\" class=\"data row55 col16\" >0.000000</td>\n",
              "                        <td id=\"T_58b9e05e_a161_11eb_bbba_0242ac1c0002row55_col17\" class=\"data row55 col17\" >0.000000</td>\n",
              "                        <td id=\"T_58b9e05e_a161_11eb_bbba_0242ac1c0002row55_col18\" class=\"data row55 col18\" >1.000000</td>\n",
              "                        <td id=\"T_58b9e05e_a161_11eb_bbba_0242ac1c0002row55_col19\" class=\"data row55 col19\" >str</td>\n",
              "                        <td id=\"T_58b9e05e_a161_11eb_bbba_0242ac1c0002row55_col20\" class=\"data row55 col20\" >RMSprop</td>\n",
              "                        <td id=\"T_58b9e05e_a161_11eb_bbba_0242ac1c0002row55_col21\" class=\"data row55 col21\" >{'name': 'sequential_7', 'laye...</td>\n",
              "                        <td id=\"T_58b9e05e_a161_11eb_bbba_0242ac1c0002row55_col22\" class=\"data row55 col22\" >xc2303_xc</td>\n",
              "                        <td id=\"T_58b9e05e_a161_11eb_bbba_0242ac1c0002row55_col23\" class=\"data row55 col23\" >11</td>\n",
              "            </tr>\n",
              "            <tr>\n",
              "                        <th id=\"T_58b9e05e_a161_11eb_bbba_0242ac1c0002level0_row56\" class=\"row_heading level0 row56\" >65</th>\n",
              "                        <td id=\"T_58b9e05e_a161_11eb_bbba_0242ac1c0002row56_col0\" class=\"data row56 col0\" >91.87%</td>\n",
              "                        <td id=\"T_58b9e05e_a161_11eb_bbba_0242ac1c0002row56_col1\" class=\"data row56 col1\" >91.86%</td>\n",
              "                        <td id=\"T_58b9e05e_a161_11eb_bbba_0242ac1c0002row56_col2\" class=\"data row56 col2\" >91.85%</td>\n",
              "                        <td id=\"T_58b9e05e_a161_11eb_bbba_0242ac1c0002row56_col3\" class=\"data row56 col3\" >91.93%</td>\n",
              "                        <td id=\"T_58b9e05e_a161_11eb_bbba_0242ac1c0002row56_col4\" class=\"data row56 col4\" >keras</td>\n",
              "                        <td id=\"T_58b9e05e_a161_11eb_bbba_0242ac1c0002row56_col5\" class=\"data row56 col5\" >False</td>\n",
              "                        <td id=\"T_58b9e05e_a161_11eb_bbba_0242ac1c0002row56_col6\" class=\"data row56 col6\" >True</td>\n",
              "                        <td id=\"T_58b9e05e_a161_11eb_bbba_0242ac1c0002row56_col7\" class=\"data row56 col7\" >Sequential</td>\n",
              "                        <td id=\"T_58b9e05e_a161_11eb_bbba_0242ac1c0002row56_col8\" class=\"data row56 col8\" >3</td>\n",
              "                        <td id=\"T_58b9e05e_a161_11eb_bbba_0242ac1c0002row56_col9\" class=\"data row56 col9\" >402690</td>\n",
              "                        <td id=\"T_58b9e05e_a161_11eb_bbba_0242ac1c0002row56_col10\" class=\"data row56 col10\" >0.000000</td>\n",
              "                        <td id=\"T_58b9e05e_a161_11eb_bbba_0242ac1c0002row56_col11\" class=\"data row56 col11\" >0.000000</td>\n",
              "                        <td id=\"T_58b9e05e_a161_11eb_bbba_0242ac1c0002row56_col12\" class=\"data row56 col12\" >1</td>\n",
              "                        <td id=\"T_58b9e05e_a161_11eb_bbba_0242ac1c0002row56_col13\" class=\"data row56 col13\" >1</td>\n",
              "                        <td id=\"T_58b9e05e_a161_11eb_bbba_0242ac1c0002row56_col14\" class=\"data row56 col14\" >0.000000</td>\n",
              "                        <td id=\"T_58b9e05e_a161_11eb_bbba_0242ac1c0002row56_col15\" class=\"data row56 col15\" >0.000000</td>\n",
              "                        <td id=\"T_58b9e05e_a161_11eb_bbba_0242ac1c0002row56_col16\" class=\"data row56 col16\" >1.000000</td>\n",
              "                        <td id=\"T_58b9e05e_a161_11eb_bbba_0242ac1c0002row56_col17\" class=\"data row56 col17\" >0.000000</td>\n",
              "                        <td id=\"T_58b9e05e_a161_11eb_bbba_0242ac1c0002row56_col18\" class=\"data row56 col18\" >0.000000</td>\n",
              "                        <td id=\"T_58b9e05e_a161_11eb_bbba_0242ac1c0002row56_col19\" class=\"data row56 col19\" >str</td>\n",
              "                        <td id=\"T_58b9e05e_a161_11eb_bbba_0242ac1c0002row56_col20\" class=\"data row56 col20\" >RMSprop</td>\n",
              "                        <td id=\"T_58b9e05e_a161_11eb_bbba_0242ac1c0002row56_col21\" class=\"data row56 col21\" >{'name': 'sequential_5', 'laye...</td>\n",
              "                        <td id=\"T_58b9e05e_a161_11eb_bbba_0242ac1c0002row56_col22\" class=\"data row56 col22\" >xc2303_xc</td>\n",
              "                        <td id=\"T_58b9e05e_a161_11eb_bbba_0242ac1c0002row56_col23\" class=\"data row56 col23\" >64</td>\n",
              "            </tr>\n",
              "            <tr>\n",
              "                        <th id=\"T_58b9e05e_a161_11eb_bbba_0242ac1c0002level0_row57\" class=\"row_heading level0 row57\" >66</th>\n",
              "                        <td id=\"T_58b9e05e_a161_11eb_bbba_0242ac1c0002row57_col0\" class=\"data row57 col0\" >91.87%</td>\n",
              "                        <td id=\"T_58b9e05e_a161_11eb_bbba_0242ac1c0002row57_col1\" class=\"data row57 col1\" >91.80%</td>\n",
              "                        <td id=\"T_58b9e05e_a161_11eb_bbba_0242ac1c0002row57_col2\" class=\"data row57 col2\" >92.34%</td>\n",
              "                        <td id=\"T_58b9e05e_a161_11eb_bbba_0242ac1c0002row57_col3\" class=\"data row57 col3\" >91.64%</td>\n",
              "                        <td id=\"T_58b9e05e_a161_11eb_bbba_0242ac1c0002row57_col4\" class=\"data row57 col4\" >keras</td>\n",
              "                        <td id=\"T_58b9e05e_a161_11eb_bbba_0242ac1c0002row57_col5\" class=\"data row57 col5\" >False</td>\n",
              "                        <td id=\"T_58b9e05e_a161_11eb_bbba_0242ac1c0002row57_col6\" class=\"data row57 col6\" >True</td>\n",
              "                        <td id=\"T_58b9e05e_a161_11eb_bbba_0242ac1c0002row57_col7\" class=\"data row57 col7\" >Sequential</td>\n",
              "                        <td id=\"T_58b9e05e_a161_11eb_bbba_0242ac1c0002row57_col8\" class=\"data row57 col8\" >5</td>\n",
              "                        <td id=\"T_58b9e05e_a161_11eb_bbba_0242ac1c0002row57_col9\" class=\"data row57 col9\" >903938</td>\n",
              "                        <td id=\"T_58b9e05e_a161_11eb_bbba_0242ac1c0002row57_col10\" class=\"data row57 col10\" >3.000000</td>\n",
              "                        <td id=\"T_58b9e05e_a161_11eb_bbba_0242ac1c0002row57_col11\" class=\"data row57 col11\" >0.000000</td>\n",
              "                        <td id=\"T_58b9e05e_a161_11eb_bbba_0242ac1c0002row57_col12\" class=\"data row57 col12\" >1</td>\n",
              "                        <td id=\"T_58b9e05e_a161_11eb_bbba_0242ac1c0002row57_col13\" class=\"data row57 col13\" >1</td>\n",
              "                        <td id=\"T_58b9e05e_a161_11eb_bbba_0242ac1c0002row57_col14\" class=\"data row57 col14\" >0.000000</td>\n",
              "                        <td id=\"T_58b9e05e_a161_11eb_bbba_0242ac1c0002row57_col15\" class=\"data row57 col15\" >0.000000</td>\n",
              "                        <td id=\"T_58b9e05e_a161_11eb_bbba_0242ac1c0002row57_col16\" class=\"data row57 col16\" >0.000000</td>\n",
              "                        <td id=\"T_58b9e05e_a161_11eb_bbba_0242ac1c0002row57_col17\" class=\"data row57 col17\" >0.000000</td>\n",
              "                        <td id=\"T_58b9e05e_a161_11eb_bbba_0242ac1c0002row57_col18\" class=\"data row57 col18\" >0.000000</td>\n",
              "                        <td id=\"T_58b9e05e_a161_11eb_bbba_0242ac1c0002row57_col19\" class=\"data row57 col19\" >str</td>\n",
              "                        <td id=\"T_58b9e05e_a161_11eb_bbba_0242ac1c0002row57_col20\" class=\"data row57 col20\" >RMSprop</td>\n",
              "                        <td id=\"T_58b9e05e_a161_11eb_bbba_0242ac1c0002row57_col21\" class=\"data row57 col21\" >{'name': 'sequential', 'layers...</td>\n",
              "                        <td id=\"T_58b9e05e_a161_11eb_bbba_0242ac1c0002row57_col22\" class=\"data row57 col22\" >newusertest</td>\n",
              "                        <td id=\"T_58b9e05e_a161_11eb_bbba_0242ac1c0002row57_col23\" class=\"data row57 col23\" >9</td>\n",
              "            </tr>\n",
              "            <tr>\n",
              "                        <th id=\"T_58b9e05e_a161_11eb_bbba_0242ac1c0002level0_row58\" class=\"row_heading level0 row58\" >67</th>\n",
              "                        <td id=\"T_58b9e05e_a161_11eb_bbba_0242ac1c0002row58_col0\" class=\"data row58 col0\" >91.40%</td>\n",
              "                        <td id=\"T_58b9e05e_a161_11eb_bbba_0242ac1c0002row58_col1\" class=\"data row58 col1\" >91.40%</td>\n",
              "                        <td id=\"T_58b9e05e_a161_11eb_bbba_0242ac1c0002row58_col2\" class=\"data row58 col2\" >91.39%</td>\n",
              "                        <td id=\"T_58b9e05e_a161_11eb_bbba_0242ac1c0002row58_col3\" class=\"data row58 col3\" >91.48%</td>\n",
              "                        <td id=\"T_58b9e05e_a161_11eb_bbba_0242ac1c0002row58_col4\" class=\"data row58 col4\" >keras</td>\n",
              "                        <td id=\"T_58b9e05e_a161_11eb_bbba_0242ac1c0002row58_col5\" class=\"data row58 col5\" >False</td>\n",
              "                        <td id=\"T_58b9e05e_a161_11eb_bbba_0242ac1c0002row58_col6\" class=\"data row58 col6\" >True</td>\n",
              "                        <td id=\"T_58b9e05e_a161_11eb_bbba_0242ac1c0002row58_col7\" class=\"data row58 col7\" >Sequential</td>\n",
              "                        <td id=\"T_58b9e05e_a161_11eb_bbba_0242ac1c0002row58_col8\" class=\"data row58 col8\" >3</td>\n",
              "                        <td id=\"T_58b9e05e_a161_11eb_bbba_0242ac1c0002row58_col9\" class=\"data row58 col9\" >402690</td>\n",
              "                        <td id=\"T_58b9e05e_a161_11eb_bbba_0242ac1c0002row58_col10\" class=\"data row58 col10\" >0.000000</td>\n",
              "                        <td id=\"T_58b9e05e_a161_11eb_bbba_0242ac1c0002row58_col11\" class=\"data row58 col11\" >0.000000</td>\n",
              "                        <td id=\"T_58b9e05e_a161_11eb_bbba_0242ac1c0002row58_col12\" class=\"data row58 col12\" >1</td>\n",
              "                        <td id=\"T_58b9e05e_a161_11eb_bbba_0242ac1c0002row58_col13\" class=\"data row58 col13\" >1</td>\n",
              "                        <td id=\"T_58b9e05e_a161_11eb_bbba_0242ac1c0002row58_col14\" class=\"data row58 col14\" >0.000000</td>\n",
              "                        <td id=\"T_58b9e05e_a161_11eb_bbba_0242ac1c0002row58_col15\" class=\"data row58 col15\" >0.000000</td>\n",
              "                        <td id=\"T_58b9e05e_a161_11eb_bbba_0242ac1c0002row58_col16\" class=\"data row58 col16\" >1.000000</td>\n",
              "                        <td id=\"T_58b9e05e_a161_11eb_bbba_0242ac1c0002row58_col17\" class=\"data row58 col17\" >0.000000</td>\n",
              "                        <td id=\"T_58b9e05e_a161_11eb_bbba_0242ac1c0002row58_col18\" class=\"data row58 col18\" >0.000000</td>\n",
              "                        <td id=\"T_58b9e05e_a161_11eb_bbba_0242ac1c0002row58_col19\" class=\"data row58 col19\" >str</td>\n",
              "                        <td id=\"T_58b9e05e_a161_11eb_bbba_0242ac1c0002row58_col20\" class=\"data row58 col20\" >RMSprop</td>\n",
              "                        <td id=\"T_58b9e05e_a161_11eb_bbba_0242ac1c0002row58_col21\" class=\"data row58 col21\" >{'name': 'sequential_5', 'laye...</td>\n",
              "                        <td id=\"T_58b9e05e_a161_11eb_bbba_0242ac1c0002row58_col22\" class=\"data row58 col22\" >xc2303_xc</td>\n",
              "                        <td id=\"T_58b9e05e_a161_11eb_bbba_0242ac1c0002row58_col23\" class=\"data row58 col23\" >65</td>\n",
              "            </tr>\n",
              "            <tr>\n",
              "                        <th id=\"T_58b9e05e_a161_11eb_bbba_0242ac1c0002level0_row59\" class=\"row_heading level0 row59\" >68</th>\n",
              "                        <td id=\"T_58b9e05e_a161_11eb_bbba_0242ac1c0002row59_col0\" class=\"data row59 col0\" >90.75%</td>\n",
              "                        <td id=\"T_58b9e05e_a161_11eb_bbba_0242ac1c0002row59_col1\" class=\"data row59 col1\" >90.74%</td>\n",
              "                        <td id=\"T_58b9e05e_a161_11eb_bbba_0242ac1c0002row59_col2\" class=\"data row59 col2\" >90.77%</td>\n",
              "                        <td id=\"T_58b9e05e_a161_11eb_bbba_0242ac1c0002row59_col3\" class=\"data row59 col3\" >90.86%</td>\n",
              "                        <td id=\"T_58b9e05e_a161_11eb_bbba_0242ac1c0002row59_col4\" class=\"data row59 col4\" >keras</td>\n",
              "                        <td id=\"T_58b9e05e_a161_11eb_bbba_0242ac1c0002row59_col5\" class=\"data row59 col5\" >False</td>\n",
              "                        <td id=\"T_58b9e05e_a161_11eb_bbba_0242ac1c0002row59_col6\" class=\"data row59 col6\" >True</td>\n",
              "                        <td id=\"T_58b9e05e_a161_11eb_bbba_0242ac1c0002row59_col7\" class=\"data row59 col7\" >Sequential</td>\n",
              "                        <td id=\"T_58b9e05e_a161_11eb_bbba_0242ac1c0002row59_col8\" class=\"data row59 col8\" >3</td>\n",
              "                        <td id=\"T_58b9e05e_a161_11eb_bbba_0242ac1c0002row59_col9\" class=\"data row59 col9\" >402690</td>\n",
              "                        <td id=\"T_58b9e05e_a161_11eb_bbba_0242ac1c0002row59_col10\" class=\"data row59 col10\" >0.000000</td>\n",
              "                        <td id=\"T_58b9e05e_a161_11eb_bbba_0242ac1c0002row59_col11\" class=\"data row59 col11\" >0.000000</td>\n",
              "                        <td id=\"T_58b9e05e_a161_11eb_bbba_0242ac1c0002row59_col12\" class=\"data row59 col12\" >1</td>\n",
              "                        <td id=\"T_58b9e05e_a161_11eb_bbba_0242ac1c0002row59_col13\" class=\"data row59 col13\" >1</td>\n",
              "                        <td id=\"T_58b9e05e_a161_11eb_bbba_0242ac1c0002row59_col14\" class=\"data row59 col14\" >0.000000</td>\n",
              "                        <td id=\"T_58b9e05e_a161_11eb_bbba_0242ac1c0002row59_col15\" class=\"data row59 col15\" >0.000000</td>\n",
              "                        <td id=\"T_58b9e05e_a161_11eb_bbba_0242ac1c0002row59_col16\" class=\"data row59 col16\" >1.000000</td>\n",
              "                        <td id=\"T_58b9e05e_a161_11eb_bbba_0242ac1c0002row59_col17\" class=\"data row59 col17\" >0.000000</td>\n",
              "                        <td id=\"T_58b9e05e_a161_11eb_bbba_0242ac1c0002row59_col18\" class=\"data row59 col18\" >0.000000</td>\n",
              "                        <td id=\"T_58b9e05e_a161_11eb_bbba_0242ac1c0002row59_col19\" class=\"data row59 col19\" >str</td>\n",
              "                        <td id=\"T_58b9e05e_a161_11eb_bbba_0242ac1c0002row59_col20\" class=\"data row59 col20\" >RMSprop</td>\n",
              "                        <td id=\"T_58b9e05e_a161_11eb_bbba_0242ac1c0002row59_col21\" class=\"data row59 col21\" >{'name': 'sequential_5', 'laye...</td>\n",
              "                        <td id=\"T_58b9e05e_a161_11eb_bbba_0242ac1c0002row59_col22\" class=\"data row59 col22\" >xc2303_xc</td>\n",
              "                        <td id=\"T_58b9e05e_a161_11eb_bbba_0242ac1c0002row59_col23\" class=\"data row59 col23\" >68</td>\n",
              "            </tr>\n",
              "            <tr>\n",
              "                        <th id=\"T_58b9e05e_a161_11eb_bbba_0242ac1c0002level0_row60\" class=\"row_heading level0 row60\" >69</th>\n",
              "                        <td id=\"T_58b9e05e_a161_11eb_bbba_0242ac1c0002row60_col0\" class=\"data row60 col0\" >90.75%</td>\n",
              "                        <td id=\"T_58b9e05e_a161_11eb_bbba_0242ac1c0002row60_col1\" class=\"data row60 col1\" >90.74%</td>\n",
              "                        <td id=\"T_58b9e05e_a161_11eb_bbba_0242ac1c0002row60_col2\" class=\"data row60 col2\" >90.74%</td>\n",
              "                        <td id=\"T_58b9e05e_a161_11eb_bbba_0242ac1c0002row60_col3\" class=\"data row60 col3\" >90.83%</td>\n",
              "                        <td id=\"T_58b9e05e_a161_11eb_bbba_0242ac1c0002row60_col4\" class=\"data row60 col4\" >keras</td>\n",
              "                        <td id=\"T_58b9e05e_a161_11eb_bbba_0242ac1c0002row60_col5\" class=\"data row60 col5\" >False</td>\n",
              "                        <td id=\"T_58b9e05e_a161_11eb_bbba_0242ac1c0002row60_col6\" class=\"data row60 col6\" >True</td>\n",
              "                        <td id=\"T_58b9e05e_a161_11eb_bbba_0242ac1c0002row60_col7\" class=\"data row60 col7\" >Sequential</td>\n",
              "                        <td id=\"T_58b9e05e_a161_11eb_bbba_0242ac1c0002row60_col8\" class=\"data row60 col8\" >6</td>\n",
              "                        <td id=\"T_58b9e05e_a161_11eb_bbba_0242ac1c0002row60_col9\" class=\"data row60 col9\" >88066</td>\n",
              "                        <td id=\"T_58b9e05e_a161_11eb_bbba_0242ac1c0002row60_col10\" class=\"data row60 col10\" >0.000000</td>\n",
              "                        <td id=\"T_58b9e05e_a161_11eb_bbba_0242ac1c0002row60_col11\" class=\"data row60 col11\" >2.000000</td>\n",
              "                        <td id=\"T_58b9e05e_a161_11eb_bbba_0242ac1c0002row60_col12\" class=\"data row60 col12\" >1</td>\n",
              "                        <td id=\"T_58b9e05e_a161_11eb_bbba_0242ac1c0002row60_col13\" class=\"data row60 col13\" >1</td>\n",
              "                        <td id=\"T_58b9e05e_a161_11eb_bbba_0242ac1c0002row60_col14\" class=\"data row60 col14\" >0.000000</td>\n",
              "                        <td id=\"T_58b9e05e_a161_11eb_bbba_0242ac1c0002row60_col15\" class=\"data row60 col15\" >1.000000</td>\n",
              "                        <td id=\"T_58b9e05e_a161_11eb_bbba_0242ac1c0002row60_col16\" class=\"data row60 col16\" >0.000000</td>\n",
              "                        <td id=\"T_58b9e05e_a161_11eb_bbba_0242ac1c0002row60_col17\" class=\"data row60 col17\" >1.000000</td>\n",
              "                        <td id=\"T_58b9e05e_a161_11eb_bbba_0242ac1c0002row60_col18\" class=\"data row60 col18\" >0.000000</td>\n",
              "                        <td id=\"T_58b9e05e_a161_11eb_bbba_0242ac1c0002row60_col19\" class=\"data row60 col19\" >str</td>\n",
              "                        <td id=\"T_58b9e05e_a161_11eb_bbba_0242ac1c0002row60_col20\" class=\"data row60 col20\" >RMSprop</td>\n",
              "                        <td id=\"T_58b9e05e_a161_11eb_bbba_0242ac1c0002row60_col21\" class=\"data row60 col21\" >{'name': 'sequential_29', 'lay...</td>\n",
              "                        <td id=\"T_58b9e05e_a161_11eb_bbba_0242ac1c0002row60_col22\" class=\"data row60 col22\" >xc2303_xc</td>\n",
              "                        <td id=\"T_58b9e05e_a161_11eb_bbba_0242ac1c0002row60_col23\" class=\"data row60 col23\" >18</td>\n",
              "            </tr>\n",
              "            <tr>\n",
              "                        <th id=\"T_58b9e05e_a161_11eb_bbba_0242ac1c0002level0_row61\" class=\"row_heading level0 row61\" >70</th>\n",
              "                        <td id=\"T_58b9e05e_a161_11eb_bbba_0242ac1c0002row61_col0\" class=\"data row61 col0\" >81.59%</td>\n",
              "                        <td id=\"T_58b9e05e_a161_11eb_bbba_0242ac1c0002row61_col1\" class=\"data row61 col1\" >81.26%</td>\n",
              "                        <td id=\"T_58b9e05e_a161_11eb_bbba_0242ac1c0002row61_col2\" class=\"data row61 col2\" >85.76%</td>\n",
              "                        <td id=\"T_58b9e05e_a161_11eb_bbba_0242ac1c0002row61_col3\" class=\"data row61 col3\" >82.38%</td>\n",
              "                        <td id=\"T_58b9e05e_a161_11eb_bbba_0242ac1c0002row61_col4\" class=\"data row61 col4\" >keras</td>\n",
              "                        <td id=\"T_58b9e05e_a161_11eb_bbba_0242ac1c0002row61_col5\" class=\"data row61 col5\" >False</td>\n",
              "                        <td id=\"T_58b9e05e_a161_11eb_bbba_0242ac1c0002row61_col6\" class=\"data row61 col6\" >True</td>\n",
              "                        <td id=\"T_58b9e05e_a161_11eb_bbba_0242ac1c0002row61_col7\" class=\"data row61 col7\" >Sequential</td>\n",
              "                        <td id=\"T_58b9e05e_a161_11eb_bbba_0242ac1c0002row61_col8\" class=\"data row61 col8\" >3</td>\n",
              "                        <td id=\"T_58b9e05e_a161_11eb_bbba_0242ac1c0002row61_col9\" class=\"data row61 col9\" >402690</td>\n",
              "                        <td id=\"T_58b9e05e_a161_11eb_bbba_0242ac1c0002row61_col10\" class=\"data row61 col10\" >0.000000</td>\n",
              "                        <td id=\"T_58b9e05e_a161_11eb_bbba_0242ac1c0002row61_col11\" class=\"data row61 col11\" >0.000000</td>\n",
              "                        <td id=\"T_58b9e05e_a161_11eb_bbba_0242ac1c0002row61_col12\" class=\"data row61 col12\" >1</td>\n",
              "                        <td id=\"T_58b9e05e_a161_11eb_bbba_0242ac1c0002row61_col13\" class=\"data row61 col13\" >1</td>\n",
              "                        <td id=\"T_58b9e05e_a161_11eb_bbba_0242ac1c0002row61_col14\" class=\"data row61 col14\" >0.000000</td>\n",
              "                        <td id=\"T_58b9e05e_a161_11eb_bbba_0242ac1c0002row61_col15\" class=\"data row61 col15\" >0.000000</td>\n",
              "                        <td id=\"T_58b9e05e_a161_11eb_bbba_0242ac1c0002row61_col16\" class=\"data row61 col16\" >1.000000</td>\n",
              "                        <td id=\"T_58b9e05e_a161_11eb_bbba_0242ac1c0002row61_col17\" class=\"data row61 col17\" >0.000000</td>\n",
              "                        <td id=\"T_58b9e05e_a161_11eb_bbba_0242ac1c0002row61_col18\" class=\"data row61 col18\" >0.000000</td>\n",
              "                        <td id=\"T_58b9e05e_a161_11eb_bbba_0242ac1c0002row61_col19\" class=\"data row61 col19\" >str</td>\n",
              "                        <td id=\"T_58b9e05e_a161_11eb_bbba_0242ac1c0002row61_col20\" class=\"data row61 col20\" >RMSprop</td>\n",
              "                        <td id=\"T_58b9e05e_a161_11eb_bbba_0242ac1c0002row61_col21\" class=\"data row61 col21\" >{'name': 'sequential_5', 'laye...</td>\n",
              "                        <td id=\"T_58b9e05e_a161_11eb_bbba_0242ac1c0002row61_col22\" class=\"data row61 col22\" >xc2303_xc</td>\n",
              "                        <td id=\"T_58b9e05e_a161_11eb_bbba_0242ac1c0002row61_col23\" class=\"data row61 col23\" >77</td>\n",
              "            </tr>\n",
              "            <tr>\n",
              "                        <th id=\"T_58b9e05e_a161_11eb_bbba_0242ac1c0002level0_row62\" class=\"row_heading level0 row62\" >71</th>\n",
              "                        <td id=\"T_58b9e05e_a161_11eb_bbba_0242ac1c0002row62_col0\" class=\"data row62 col0\" >63.69%</td>\n",
              "                        <td id=\"T_58b9e05e_a161_11eb_bbba_0242ac1c0002row62_col1\" class=\"data row62 col1\" >62.88%</td>\n",
              "                        <td id=\"T_58b9e05e_a161_11eb_bbba_0242ac1c0002row62_col2\" class=\"data row62 col2\" >63.98%</td>\n",
              "                        <td id=\"T_58b9e05e_a161_11eb_bbba_0242ac1c0002row62_col3\" class=\"data row62 col3\" >63.14%</td>\n",
              "                        <td id=\"T_58b9e05e_a161_11eb_bbba_0242ac1c0002row62_col4\" class=\"data row62 col4\" >keras</td>\n",
              "                        <td id=\"T_58b9e05e_a161_11eb_bbba_0242ac1c0002row62_col5\" class=\"data row62 col5\" >False</td>\n",
              "                        <td id=\"T_58b9e05e_a161_11eb_bbba_0242ac1c0002row62_col6\" class=\"data row62 col6\" >True</td>\n",
              "                        <td id=\"T_58b9e05e_a161_11eb_bbba_0242ac1c0002row62_col7\" class=\"data row62 col7\" >Sequential</td>\n",
              "                        <td id=\"T_58b9e05e_a161_11eb_bbba_0242ac1c0002row62_col8\" class=\"data row62 col8\" >3</td>\n",
              "                        <td id=\"T_58b9e05e_a161_11eb_bbba_0242ac1c0002row62_col9\" class=\"data row62 col9\" >163202</td>\n",
              "                        <td id=\"T_58b9e05e_a161_11eb_bbba_0242ac1c0002row62_col10\" class=\"data row62 col10\" >0.000000</td>\n",
              "                        <td id=\"T_58b9e05e_a161_11eb_bbba_0242ac1c0002row62_col11\" class=\"data row62 col11\" >0.000000</td>\n",
              "                        <td id=\"T_58b9e05e_a161_11eb_bbba_0242ac1c0002row62_col12\" class=\"data row62 col12\" >1</td>\n",
              "                        <td id=\"T_58b9e05e_a161_11eb_bbba_0242ac1c0002row62_col13\" class=\"data row62 col13\" >1</td>\n",
              "                        <td id=\"T_58b9e05e_a161_11eb_bbba_0242ac1c0002row62_col14\" class=\"data row62 col14\" >1.000000</td>\n",
              "                        <td id=\"T_58b9e05e_a161_11eb_bbba_0242ac1c0002row62_col15\" class=\"data row62 col15\" >0.000000</td>\n",
              "                        <td id=\"T_58b9e05e_a161_11eb_bbba_0242ac1c0002row62_col16\" class=\"data row62 col16\" >0.000000</td>\n",
              "                        <td id=\"T_58b9e05e_a161_11eb_bbba_0242ac1c0002row62_col17\" class=\"data row62 col17\" >0.000000</td>\n",
              "                        <td id=\"T_58b9e05e_a161_11eb_bbba_0242ac1c0002row62_col18\" class=\"data row62 col18\" >0.000000</td>\n",
              "                        <td id=\"T_58b9e05e_a161_11eb_bbba_0242ac1c0002row62_col19\" class=\"data row62 col19\" >str</td>\n",
              "                        <td id=\"T_58b9e05e_a161_11eb_bbba_0242ac1c0002row62_col20\" class=\"data row62 col20\" >RMSprop</td>\n",
              "                        <td id=\"T_58b9e05e_a161_11eb_bbba_0242ac1c0002row62_col21\" class=\"data row62 col21\" >{'name': 'sequential', 'layers...</td>\n",
              "                        <td id=\"T_58b9e05e_a161_11eb_bbba_0242ac1c0002row62_col22\" class=\"data row62 col22\" >hpeters</td>\n",
              "                        <td id=\"T_58b9e05e_a161_11eb_bbba_0242ac1c0002row62_col23\" class=\"data row62 col23\" >2</td>\n",
              "            </tr>\n",
              "            <tr>\n",
              "                        <th id=\"T_58b9e05e_a161_11eb_bbba_0242ac1c0002level0_row63\" class=\"row_heading level0 row63\" >72</th>\n",
              "                        <td id=\"T_58b9e05e_a161_11eb_bbba_0242ac1c0002row63_col0\" class=\"data row63 col0\" >62.76%</td>\n",
              "                        <td id=\"T_58b9e05e_a161_11eb_bbba_0242ac1c0002row63_col1\" class=\"data row63 col1\" >61.83%</td>\n",
              "                        <td id=\"T_58b9e05e_a161_11eb_bbba_0242ac1c0002row63_col2\" class=\"data row63 col2\" >63.05%</td>\n",
              "                        <td id=\"T_58b9e05e_a161_11eb_bbba_0242ac1c0002row63_col3\" class=\"data row63 col3\" >62.17%</td>\n",
              "                        <td id=\"T_58b9e05e_a161_11eb_bbba_0242ac1c0002row63_col4\" class=\"data row63 col4\" >keras</td>\n",
              "                        <td id=\"T_58b9e05e_a161_11eb_bbba_0242ac1c0002row63_col5\" class=\"data row63 col5\" >False</td>\n",
              "                        <td id=\"T_58b9e05e_a161_11eb_bbba_0242ac1c0002row63_col6\" class=\"data row63 col6\" >True</td>\n",
              "                        <td id=\"T_58b9e05e_a161_11eb_bbba_0242ac1c0002row63_col7\" class=\"data row63 col7\" >Sequential</td>\n",
              "                        <td id=\"T_58b9e05e_a161_11eb_bbba_0242ac1c0002row63_col8\" class=\"data row63 col8\" >3</td>\n",
              "                        <td id=\"T_58b9e05e_a161_11eb_bbba_0242ac1c0002row63_col9\" class=\"data row63 col9\" >161282</td>\n",
              "                        <td id=\"T_58b9e05e_a161_11eb_bbba_0242ac1c0002row63_col10\" class=\"data row63 col10\" >0.000000</td>\n",
              "                        <td id=\"T_58b9e05e_a161_11eb_bbba_0242ac1c0002row63_col11\" class=\"data row63 col11\" >0.000000</td>\n",
              "                        <td id=\"T_58b9e05e_a161_11eb_bbba_0242ac1c0002row63_col12\" class=\"data row63 col12\" >1</td>\n",
              "                        <td id=\"T_58b9e05e_a161_11eb_bbba_0242ac1c0002row63_col13\" class=\"data row63 col13\" >1</td>\n",
              "                        <td id=\"T_58b9e05e_a161_11eb_bbba_0242ac1c0002row63_col14\" class=\"data row63 col14\" >1.000000</td>\n",
              "                        <td id=\"T_58b9e05e_a161_11eb_bbba_0242ac1c0002row63_col15\" class=\"data row63 col15\" >0.000000</td>\n",
              "                        <td id=\"T_58b9e05e_a161_11eb_bbba_0242ac1c0002row63_col16\" class=\"data row63 col16\" >0.000000</td>\n",
              "                        <td id=\"T_58b9e05e_a161_11eb_bbba_0242ac1c0002row63_col17\" class=\"data row63 col17\" >0.000000</td>\n",
              "                        <td id=\"T_58b9e05e_a161_11eb_bbba_0242ac1c0002row63_col18\" class=\"data row63 col18\" >0.000000</td>\n",
              "                        <td id=\"T_58b9e05e_a161_11eb_bbba_0242ac1c0002row63_col19\" class=\"data row63 col19\" >str</td>\n",
              "                        <td id=\"T_58b9e05e_a161_11eb_bbba_0242ac1c0002row63_col20\" class=\"data row63 col20\" >RMSprop</td>\n",
              "                        <td id=\"T_58b9e05e_a161_11eb_bbba_0242ac1c0002row63_col21\" class=\"data row63 col21\" >{'name': 'sequential', 'layers...</td>\n",
              "                        <td id=\"T_58b9e05e_a161_11eb_bbba_0242ac1c0002row63_col22\" class=\"data row63 col22\" >hpeters</td>\n",
              "                        <td id=\"T_58b9e05e_a161_11eb_bbba_0242ac1c0002row63_col23\" class=\"data row63 col23\" >3</td>\n",
              "            </tr>\n",
              "            <tr>\n",
              "                        <th id=\"T_58b9e05e_a161_11eb_bbba_0242ac1c0002level0_row64\" class=\"row_heading level0 row64\" >73</th>\n",
              "                        <td id=\"T_58b9e05e_a161_11eb_bbba_0242ac1c0002row64_col0\" class=\"data row64 col0\" >60.14%</td>\n",
              "                        <td id=\"T_58b9e05e_a161_11eb_bbba_0242ac1c0002row64_col1\" class=\"data row64 col1\" >58.25%</td>\n",
              "                        <td id=\"T_58b9e05e_a161_11eb_bbba_0242ac1c0002row64_col2\" class=\"data row64 col2\" >60.80%</td>\n",
              "                        <td id=\"T_58b9e05e_a161_11eb_bbba_0242ac1c0002row64_col3\" class=\"data row64 col3\" >59.28%</td>\n",
              "                        <td id=\"T_58b9e05e_a161_11eb_bbba_0242ac1c0002row64_col4\" class=\"data row64 col4\" >keras</td>\n",
              "                        <td id=\"T_58b9e05e_a161_11eb_bbba_0242ac1c0002row64_col5\" class=\"data row64 col5\" >False</td>\n",
              "                        <td id=\"T_58b9e05e_a161_11eb_bbba_0242ac1c0002row64_col6\" class=\"data row64 col6\" >True</td>\n",
              "                        <td id=\"T_58b9e05e_a161_11eb_bbba_0242ac1c0002row64_col7\" class=\"data row64 col7\" >Sequential</td>\n",
              "                        <td id=\"T_58b9e05e_a161_11eb_bbba_0242ac1c0002row64_col8\" class=\"data row64 col8\" >3</td>\n",
              "                        <td id=\"T_58b9e05e_a161_11eb_bbba_0242ac1c0002row64_col9\" class=\"data row64 col9\" >163202</td>\n",
              "                        <td id=\"T_58b9e05e_a161_11eb_bbba_0242ac1c0002row64_col10\" class=\"data row64 col10\" >0.000000</td>\n",
              "                        <td id=\"T_58b9e05e_a161_11eb_bbba_0242ac1c0002row64_col11\" class=\"data row64 col11\" >0.000000</td>\n",
              "                        <td id=\"T_58b9e05e_a161_11eb_bbba_0242ac1c0002row64_col12\" class=\"data row64 col12\" >1</td>\n",
              "                        <td id=\"T_58b9e05e_a161_11eb_bbba_0242ac1c0002row64_col13\" class=\"data row64 col13\" >1</td>\n",
              "                        <td id=\"T_58b9e05e_a161_11eb_bbba_0242ac1c0002row64_col14\" class=\"data row64 col14\" >1.000000</td>\n",
              "                        <td id=\"T_58b9e05e_a161_11eb_bbba_0242ac1c0002row64_col15\" class=\"data row64 col15\" >0.000000</td>\n",
              "                        <td id=\"T_58b9e05e_a161_11eb_bbba_0242ac1c0002row64_col16\" class=\"data row64 col16\" >0.000000</td>\n",
              "                        <td id=\"T_58b9e05e_a161_11eb_bbba_0242ac1c0002row64_col17\" class=\"data row64 col17\" >0.000000</td>\n",
              "                        <td id=\"T_58b9e05e_a161_11eb_bbba_0242ac1c0002row64_col18\" class=\"data row64 col18\" >0.000000</td>\n",
              "                        <td id=\"T_58b9e05e_a161_11eb_bbba_0242ac1c0002row64_col19\" class=\"data row64 col19\" >str</td>\n",
              "                        <td id=\"T_58b9e05e_a161_11eb_bbba_0242ac1c0002row64_col20\" class=\"data row64 col20\" >RMSprop</td>\n",
              "                        <td id=\"T_58b9e05e_a161_11eb_bbba_0242ac1c0002row64_col21\" class=\"data row64 col21\" >{'name': 'sequential_1', 'laye...</td>\n",
              "                        <td id=\"T_58b9e05e_a161_11eb_bbba_0242ac1c0002row64_col22\" class=\"data row64 col22\" >hpeters</td>\n",
              "                        <td id=\"T_58b9e05e_a161_11eb_bbba_0242ac1c0002row64_col23\" class=\"data row64 col23\" >1</td>\n",
              "            </tr>\n",
              "            <tr>\n",
              "                        <th id=\"T_58b9e05e_a161_11eb_bbba_0242ac1c0002level0_row65\" class=\"row_heading level0 row65\" >74</th>\n",
              "                        <td id=\"T_58b9e05e_a161_11eb_bbba_0242ac1c0002row65_col0\" class=\"data row65 col0\" >0.00%</td>\n",
              "                        <td id=\"T_58b9e05e_a161_11eb_bbba_0242ac1c0002row65_col1\" class=\"data row65 col1\" >0.00%</td>\n",
              "                        <td id=\"T_58b9e05e_a161_11eb_bbba_0242ac1c0002row65_col2\" class=\"data row65 col2\" >0.00%</td>\n",
              "                        <td id=\"T_58b9e05e_a161_11eb_bbba_0242ac1c0002row65_col3\" class=\"data row65 col3\" >0.00%</td>\n",
              "                        <td id=\"T_58b9e05e_a161_11eb_bbba_0242ac1c0002row65_col4\" class=\"data row65 col4\" >keras</td>\n",
              "                        <td id=\"T_58b9e05e_a161_11eb_bbba_0242ac1c0002row65_col5\" class=\"data row65 col5\" >False</td>\n",
              "                        <td id=\"T_58b9e05e_a161_11eb_bbba_0242ac1c0002row65_col6\" class=\"data row65 col6\" >True</td>\n",
              "                        <td id=\"T_58b9e05e_a161_11eb_bbba_0242ac1c0002row65_col7\" class=\"data row65 col7\" >Sequential</td>\n",
              "                        <td id=\"T_58b9e05e_a161_11eb_bbba_0242ac1c0002row65_col8\" class=\"data row65 col8\" >4</td>\n",
              "                        <td id=\"T_58b9e05e_a161_11eb_bbba_0242ac1c0002row65_col9\" class=\"data row65 col9\" >406338</td>\n",
              "                        <td id=\"T_58b9e05e_a161_11eb_bbba_0242ac1c0002row65_col10\" class=\"data row65 col10\" >0.000000</td>\n",
              "                        <td id=\"T_58b9e05e_a161_11eb_bbba_0242ac1c0002row65_col11\" class=\"data row65 col11\" >0.000000</td>\n",
              "                        <td id=\"T_58b9e05e_a161_11eb_bbba_0242ac1c0002row65_col12\" class=\"data row65 col12\" >1</td>\n",
              "                        <td id=\"T_58b9e05e_a161_11eb_bbba_0242ac1c0002row65_col13\" class=\"data row65 col13\" >1</td>\n",
              "                        <td id=\"T_58b9e05e_a161_11eb_bbba_0242ac1c0002row65_col14\" class=\"data row65 col14\" >1.000000</td>\n",
              "                        <td id=\"T_58b9e05e_a161_11eb_bbba_0242ac1c0002row65_col15\" class=\"data row65 col15\" >0.000000</td>\n",
              "                        <td id=\"T_58b9e05e_a161_11eb_bbba_0242ac1c0002row65_col16\" class=\"data row65 col16\" >1.000000</td>\n",
              "                        <td id=\"T_58b9e05e_a161_11eb_bbba_0242ac1c0002row65_col17\" class=\"data row65 col17\" >0.000000</td>\n",
              "                        <td id=\"T_58b9e05e_a161_11eb_bbba_0242ac1c0002row65_col18\" class=\"data row65 col18\" >0.000000</td>\n",
              "                        <td id=\"T_58b9e05e_a161_11eb_bbba_0242ac1c0002row65_col19\" class=\"data row65 col19\" >str</td>\n",
              "                        <td id=\"T_58b9e05e_a161_11eb_bbba_0242ac1c0002row65_col20\" class=\"data row65 col20\" >RMSprop</td>\n",
              "                        <td id=\"T_58b9e05e_a161_11eb_bbba_0242ac1c0002row65_col21\" class=\"data row65 col21\" >{'name': 'sequential_64', 'lay...</td>\n",
              "                        <td id=\"T_58b9e05e_a161_11eb_bbba_0242ac1c0002row65_col22\" class=\"data row65 col22\" >rboswell</td>\n",
              "                        <td id=\"T_58b9e05e_a161_11eb_bbba_0242ac1c0002row65_col23\" class=\"data row65 col23\" >74</td>\n",
              "            </tr>\n",
              "    </tbody></table>"
            ],
            "text/plain": [
              "<pandas.io.formats.style.Styler at 0x7f98848baad0>"
            ]
          },
          "metadata": {
            "tags": []
          },
          "execution_count": 85
        }
      ]
    },
    {
      "cell_type": "code",
      "metadata": {
        "colab": {
          "base_uri": "https://localhost:8080/"
        },
        "id": "aGOLnKcZcPev",
        "outputId": "27d168de-8fa1-4d66-c030-81eaf2dabaf6"
      },
      "source": [
        " # Get best model architecture and view model summary, change version arg as needed\n",
        " \n",
        " bestmodel = ai.aimsonnx.instantiate_model(api_url, version=67) \n",
        "\n",
        " bestmodel.summary()"
      ],
      "execution_count": 86,
      "outputs": [
        {
          "output_type": "stream",
          "text": [
            "Model: \"sequential\"\n",
            "_________________________________________________________________\n",
            "Layer (type)                 Output Shape              Param #   \n",
            "=================================================================\n",
            "embedding (Embedding)        (None, 60, 16)            160000    \n",
            "_________________________________________________________________\n",
            "flatten (Flatten)            (None, 960)               0         \n",
            "_________________________________________________________________\n",
            "dense (Dense)                (None, 2)                 1922      \n",
            "=================================================================\n",
            "Total params: 161,922\n",
            "Trainable params: 161,922\n",
            "Non-trainable params: 0\n",
            "_________________________________________________________________\n"
          ],
          "name": "stdout"
        }
      ]
    },
    {
      "cell_type": "markdown",
      "metadata": {
        "id": "dEchX9EJVQtK"
      },
      "source": [
        "Ironically, the best model for this competition happened to be a non-sequential model. The best model is composed of just three layers: embedding, flatten, and dense. My best model has an LSTM layer instead of the flatten."
      ]
    },
    {
      "cell_type": "code",
      "metadata": {
        "colab": {
          "base_uri": "https://localhost:8080/",
          "height": 93
        },
        "id": "UaUJu2T5cqsf",
        "outputId": "81366272-d852-4894-e822-8f21a8fee856"
      },
      "source": [
        "# Compare two model versions to see diffs\n",
        "ai.aimsonnx.compare_models(api_url, version_list=[1,3]) \n",
        "\n"
      ],
      "execution_count": 87,
      "outputs": [
        {
          "output_type": "execute_result",
          "data": {
            "text/html": [
              "<style  type=\"text/css\" >\n",
              "#T_0bab9c02_a162_11eb_bbba_0242ac1c0002row2_col0,#T_0bab9c02_a162_11eb_bbba_0242ac1c0002row2_col3{\n",
              "            background:  tomato;\n",
              "        }</style><table id=\"T_0bab9c02_a162_11eb_bbba_0242ac1c0002\" ><thead>    <tr>        <th class=\"blank level0\" ></th>        <th class=\"col_heading level0 col0\" >Model_1_Layer</th>        <th class=\"col_heading level0 col1\" >Model_1_Shape</th>        <th class=\"col_heading level0 col2\" >Model_1_Params</th>        <th class=\"col_heading level0 col3\" >Model_3_Layer</th>        <th class=\"col_heading level0 col4\" >Model_3_Shape</th>        <th class=\"col_heading level0 col5\" >Model_3_Params</th>    </tr></thead><tbody>\n",
              "                <tr>\n",
              "                        <th id=\"T_0bab9c02_a162_11eb_bbba_0242ac1c0002level0_row0\" class=\"row_heading level0 row0\" >0</th>\n",
              "                        <td id=\"T_0bab9c02_a162_11eb_bbba_0242ac1c0002row0_col0\" class=\"data row0 col0\" >Embedding</td>\n",
              "                        <td id=\"T_0bab9c02_a162_11eb_bbba_0242ac1c0002row0_col1\" class=\"data row0 col1\" >(None, 100, 16)</td>\n",
              "                        <td id=\"T_0bab9c02_a162_11eb_bbba_0242ac1c0002row0_col2\" class=\"data row0 col2\" >160000</td>\n",
              "                        <td id=\"T_0bab9c02_a162_11eb_bbba_0242ac1c0002row0_col3\" class=\"data row0 col3\" >Embedding</td>\n",
              "                        <td id=\"T_0bab9c02_a162_11eb_bbba_0242ac1c0002row0_col4\" class=\"data row0 col4\" >(None, 40, 16)</td>\n",
              "                        <td id=\"T_0bab9c02_a162_11eb_bbba_0242ac1c0002row0_col5\" class=\"data row0 col5\" >160000</td>\n",
              "            </tr>\n",
              "            <tr>\n",
              "                        <th id=\"T_0bab9c02_a162_11eb_bbba_0242ac1c0002level0_row1\" class=\"row_heading level0 row1\" >1</th>\n",
              "                        <td id=\"T_0bab9c02_a162_11eb_bbba_0242ac1c0002row1_col0\" class=\"data row1 col0\" >Flatten</td>\n",
              "                        <td id=\"T_0bab9c02_a162_11eb_bbba_0242ac1c0002row1_col1\" class=\"data row1 col1\" >(None, 1600)</td>\n",
              "                        <td id=\"T_0bab9c02_a162_11eb_bbba_0242ac1c0002row1_col2\" class=\"data row1 col2\" >0</td>\n",
              "                        <td id=\"T_0bab9c02_a162_11eb_bbba_0242ac1c0002row1_col3\" class=\"data row1 col3\" >Flatten</td>\n",
              "                        <td id=\"T_0bab9c02_a162_11eb_bbba_0242ac1c0002row1_col4\" class=\"data row1 col4\" >(None, 640)</td>\n",
              "                        <td id=\"T_0bab9c02_a162_11eb_bbba_0242ac1c0002row1_col5\" class=\"data row1 col5\" >0</td>\n",
              "            </tr>\n",
              "            <tr>\n",
              "                        <th id=\"T_0bab9c02_a162_11eb_bbba_0242ac1c0002level0_row2\" class=\"row_heading level0 row2\" >2</th>\n",
              "                        <td id=\"T_0bab9c02_a162_11eb_bbba_0242ac1c0002row2_col0\" class=\"data row2 col0\" >Dense</td>\n",
              "                        <td id=\"T_0bab9c02_a162_11eb_bbba_0242ac1c0002row2_col1\" class=\"data row2 col1\" >(None, 2)</td>\n",
              "                        <td id=\"T_0bab9c02_a162_11eb_bbba_0242ac1c0002row2_col2\" class=\"data row2 col2\" >3202</td>\n",
              "                        <td id=\"T_0bab9c02_a162_11eb_bbba_0242ac1c0002row2_col3\" class=\"data row2 col3\" >Dense</td>\n",
              "                        <td id=\"T_0bab9c02_a162_11eb_bbba_0242ac1c0002row2_col4\" class=\"data row2 col4\" >(None, 2)</td>\n",
              "                        <td id=\"T_0bab9c02_a162_11eb_bbba_0242ac1c0002row2_col5\" class=\"data row2 col5\" >1282</td>\n",
              "            </tr>\n",
              "    </tbody></table>"
            ],
            "text/plain": [
              "<pandas.io.formats.style.Styler at 0x7f98195a3390>"
            ]
          },
          "metadata": {
            "tags": []
          },
          "execution_count": 87
        }
      ]
    },
    {
      "cell_type": "markdown",
      "metadata": {
        "id": "4mK7s4iCVta3"
      },
      "source": [
        "Let's see the configuration of the best model."
      ]
    },
    {
      "cell_type": "code",
      "metadata": {
        "colab": {
          "base_uri": "https://localhost:8080/",
          "height": 86
        },
        "id": "Gzwj7jgBluGH",
        "outputId": "899548d7-e7d5-4c72-a34e-3fe641903b7e"
      },
      "source": [
        "data.iloc[0]['model_config']"
      ],
      "execution_count": 88,
      "outputs": [
        {
          "output_type": "execute_result",
          "data": {
            "application/vnd.google.colaboratory.intrinsic+json": {
              "type": "string"
            },
            "text/plain": [
              "\"{'name': 'sequential', 'layers': [{'class_name': 'InputLayer', 'config': {'batch_input_shape': (None, 60), 'dtype': 'float32', 'sparse': False, 'ragged': False, 'name': 'embedding_input'}}, {'class_name': 'Embedding', 'config': {'name': 'embedding', 'trainable': True, 'batch_input_shape': (None, 60), 'dtype': 'float32', 'input_dim': 10000, 'output_dim': 16, 'embeddings_initializer': {'class_name': 'RandomUniform', 'config': {'minval': -0.05, 'maxval': 0.05, 'seed': None}}, 'embeddings_regularizer': None, 'activity_regularizer': None, 'embeddings_constraint': None, 'mask_zero': False, 'input_length': 60}}, {'class_name': 'Flatten', 'config': {'name': 'flatten', 'trainable': True, 'dtype': 'float32', 'data_format': 'channels_last'}}, {'class_name': 'Dense', 'config': {'name': 'dense', 'trainable': True, 'dtype': 'float32', 'units': 2, 'activation': 'softmax', 'use_bias': True, 'kernel_initializer': {'class_name': 'GlorotUniform', 'config': {'seed': None}}, 'bias_initializer': {'class_name': 'Zeros', 'config': {}}, 'kernel_regularizer': None, 'bias_regularizer': None, 'activity_regularizer': None, 'kernel_constraint': None, 'bias_constraint': None}}]}\""
            ]
          },
          "metadata": {
            "tags": []
          },
          "execution_count": 88
        }
      ]
    },
    {
      "cell_type": "code",
      "metadata": {
        "id": "Xf-vTOE1Wyid"
      },
      "source": [
        "maxlen = 60"
      ],
      "execution_count": 93,
      "outputs": []
    },
    {
      "cell_type": "code",
      "metadata": {
        "id": "gu9Rj0K5Wyie"
      },
      "source": [
        "# tokenize and pad X data\n",
        "X_train = preprocessor(trainingdata.tweet, maxlen=maxlen, max_words=10000)\n",
        "X_test = preprocessor(testdata.tweet, maxlen=maxlen, max_words=10000)\n",
        "\n",
        "# ohe encode Y data\n",
        "y_train = pd.get_dummies(trainingdata.label)\n",
        "y_test = pd.get_dummies(testdata.label)"
      ],
      "execution_count": 94,
      "outputs": []
    },
    {
      "cell_type": "code",
      "metadata": {
        "id": "XrfD2h5wV9dA"
      },
      "source": [
        "bestmodel.compile(optimizer='rmsprop', loss='categorical_crossentropy', metrics=['acc'])"
      ],
      "execution_count": 95,
      "outputs": []
    },
    {
      "cell_type": "code",
      "metadata": {
        "id": "kDBx7jXyWaoV"
      },
      "source": [
        "mc = ModelCheckpoint('model_ai.h5', monitor='val_acc',mode='max', verbose=1, save_best_only=True) # evaluating val_acc maximization\n",
        "red_lr= ReduceLROnPlateau(monitor='val_acc',patience=3,verbose=1,factor=0.5, min_lr=0) # dividing lr by half when val_accuracy fails to improve after 2 epochs\n",
        "es = EarlyStopping(monitor='val_loss', mode='min', verbose=1, patience=15)\n",
        "\n",
        "history = bestmodel.fit(X_train, y_train,\n",
        "                    epochs=50,\n",
        "                    batch_size=32,\n",
        "                    validation_split=0.2, callbacks=[mc, red_lr, es])"
      ],
      "execution_count": null,
      "outputs": []
    },
    {
      "cell_type": "code",
      "metadata": {
        "id": "W3jWaPynW_T1"
      },
      "source": [
        "bestmodel.load_weights('model_ai.h5')\n",
        "\n",
        "y_pred = bestmodel.predict(X_test).argmax(axis=1)\n",
        "predicted_labels = [y_test.columns[i] for i in y_pred]\n",
        "labels_pred = pd.get_dummies(predicted_labels)"
      ],
      "execution_count": 100,
      "outputs": []
    },
    {
      "cell_type": "code",
      "metadata": {
        "colab": {
          "base_uri": "https://localhost:8080/"
        },
        "id": "fAcKLk2XW_T2",
        "outputId": "84092359-7b8d-47e0-c36f-d0cb8b02d38a"
      },
      "source": [
        "accuracy = accuracy_score(y_test, labels_pred)\n",
        "print('Accuracy: %f' % accuracy)\n",
        "precision = precision_score(y_test, labels_pred, average=None)\n",
        "print('Precision:', precision)\n",
        "recall = recall_score(y_test, labels_pred, average=None)\n",
        "print('Recall:', recall)\n",
        "f1 = f1_score(y_test, labels_pred, average=None)\n",
        "print('F1 score:', f1)\n",
        "\n",
        "auc = roc_auc_score(y_test, labels_pred)\n",
        "print('ROC AUC: %f' % auc)"
      ],
      "execution_count": 101,
      "outputs": [
        {
          "output_type": "stream",
          "text": [
            "Accuracy: 0.932243\n",
            "Precision: [0.92766373 0.93643688]\n",
            "Recall: [0.93039216 0.93392857]\n",
            "F1 score: [0.92902594 0.93518105]\n",
            "ROC AUC: 0.932160\n"
          ],
          "name": "stdout"
        }
      ]
    },
    {
      "cell_type": "markdown",
      "metadata": {
        "id": "etyxvAQyXKaj"
      },
      "source": [
        "On my data the best model from the leaderboard didn't achieve the same results. This is likely to be because of my different preprocessing."
      ]
    },
    {
      "cell_type": "markdown",
      "metadata": {
        "id": "bzod4i3lXaxK"
      },
      "source": [
        "# Conclusion\n",
        "To conclude, I want to feed my best model with some sample tweets I've found the web and some I created myself."
      ]
    },
    {
      "cell_type": "code",
      "metadata": {
        "id": "8CEfW5goXx4a"
      },
      "source": [
        "maxlen = 100"
      ],
      "execution_count": 103,
      "outputs": []
    },
    {
      "cell_type": "code",
      "metadata": {
        "id": "w6AMB4sSXx4b"
      },
      "source": [
        "# tokenize and pad X data\n",
        "X_train = preprocessor(trainingdata.tweet, maxlen=maxlen, max_words=10000)\n",
        "X_test = preprocessor(testdata.tweet, maxlen=maxlen, max_words=10000)\n",
        "\n",
        "# ohe encode Y data\n",
        "y_train = pd.get_dummies(trainingdata.label)\n",
        "y_test = pd.get_dummies(testdata.label)"
      ],
      "execution_count": 104,
      "outputs": []
    },
    {
      "cell_type": "code",
      "metadata": {
        "id": "lHWfnjWBXubY"
      },
      "source": [
        "model.load_weights('best_model_3.h5')\n",
        "\n",
        "y_pred = model.predict(X_test).argmax(axis=1)\n",
        "predicted_labels = [y_test.columns[i] for i in y_pred]\n",
        "labels_pred = pd.get_dummies(predicted_labels)"
      ],
      "execution_count": 105,
      "outputs": []
    },
    {
      "cell_type": "code",
      "metadata": {
        "colab": {
          "base_uri": "https://localhost:8080/"
        },
        "id": "ahhUVVpHX5yU",
        "outputId": "c4f63226-3cf5-4472-b4ad-4559dbec0f7d"
      },
      "source": [
        "tweet_online = \"#COVID: If they haven’t isolated the virus, how can they make a vaccine?\"\n",
        "tweet_stats(tweet_online)"
      ],
      "execution_count": 109,
      "outputs": [
        {
          "output_type": "stream",
          "text": [
            "Tweet: #COVID: If they haven’t isolated the virus, how can they make a vaccine?\n",
            "Tweet chances: [[0.9540024  0.04599761]]\n",
            "95.40023803710938 % CHANCE OF BEING FAKE NEEEWS\n"
          ],
          "name": "stdout"
        }
      ]
    },
    {
      "cell_type": "code",
      "metadata": {
        "colab": {
          "base_uri": "https://localhost:8080/"
        },
        "id": "qFHU0cg1YVxH",
        "outputId": "3299435b-b2b1-4f19-d0b3-05433ba6099b"
      },
      "source": [
        "tweet_online2 = \"#Covid isn’t dangerous to elite athletes. The #Covid vaccine, however...\"\n",
        "tweet_stats(tweet_online2)"
      ],
      "execution_count": 112,
      "outputs": [
        {
          "output_type": "stream",
          "text": [
            "Tweet: #Covid isn’t dangerous to elite athletes. The #Covid vaccine, however...\n",
            "Tweet chances: [[0.9887743  0.01122575]]\n",
            "98.8774299621582 % CHANCE OF BEING FAKE NEEEWS\n"
          ],
          "name": "stdout"
        }
      ]
    },
    {
      "cell_type": "code",
      "metadata": {
        "colab": {
          "base_uri": "https://localhost:8080/"
        },
        "id": "xHkyFhZjY6nW",
        "outputId": "dda87ead-8c53-4feb-c352-7e35f02143a5"
      },
      "source": [
        "tweet_online3 = \"Getting my #CovidVaccination on Thursday!!! Yes!!! #COVID19\"\n",
        "tweet_stats(tweet_online3)"
      ],
      "execution_count": 123,
      "outputs": [
        {
          "output_type": "stream",
          "text": [
            "Tweet: Getting my #CovidVaccination on Thursday!!! Yes!!! #COVID19\n",
            "Tweet chances: [[0.5742912  0.42570874]]\n",
            "57.42912292480469 % CHANCE OF BEING FAKE NEEEWS\n"
          ],
          "name": "stdout"
        }
      ]
    },
    {
      "cell_type": "markdown",
      "metadata": {
        "id": "JZsvek4CZ4fk"
      },
      "source": [
        "Here the model is a little off. I'd consider this tweet to be truthful."
      ]
    },
    {
      "cell_type": "code",
      "metadata": {
        "colab": {
          "base_uri": "https://localhost:8080/"
        },
        "id": "TZlYXTbHaATl",
        "outputId": "3e49d6e4-adb8-4874-b974-a1d39922ec5d"
      },
      "source": [
        "tweet_online4 = \"Frontline workers: We need more resources to deal with #COVID19\"\n",
        "tweet_stats(tweet_online4)"
      ],
      "execution_count": 129,
      "outputs": [
        {
          "output_type": "stream",
          "text": [
            "Tweet: Frontline workers: We need more resources to deal with #COVID19\n",
            "Tweet chances: [[0.08119022 0.9188098 ]]\n",
            "It's telling the truth\n"
          ],
          "name": "stdout"
        }
      ]
    },
    {
      "cell_type": "markdown",
      "metadata": {
        "id": "1xEy-QQSao9J"
      },
      "source": [
        "After testing it, I wouldn't say this model does a good job with real Twitter data outside the dataset. Nonetheless, I was surprised about how much time I needed to spend on Twitter to find truthful information! (I looked at #covid and #covid19 hashtags. There really is a lot of misinformation out-there!)"
      ]
    },
    {
      "cell_type": "code",
      "metadata": {
        "colab": {
          "base_uri": "https://localhost:8080/"
        },
        "id": "oPLRNNxUX6ry",
        "outputId": "c4e50c4a-bcd8-4fd4-8080-ec3b4212f62d"
      },
      "source": [
        "fantasy_tweet = \"Covid-19 killed more than 2 million people worldwide\"\n",
        "tweet_stats(fantasy_tweet)"
      ],
      "execution_count": 134,
      "outputs": [
        {
          "output_type": "stream",
          "text": [
            "Tweet: Covid-19 killed more than 2 million people worldwide\n",
            "Tweet chances: [[0.89894193 0.10105804]]\n",
            "89.89419341087341 % CHANCE OF BEING FAKE NEEEWS\n"
          ],
          "name": "stdout"
        }
      ]
    },
    {
      "cell_type": "markdown",
      "metadata": {
        "id": "AEGI9-dGbXRe"
      },
      "source": [
        "Unfortunately, this is true."
      ]
    },
    {
      "cell_type": "code",
      "metadata": {
        "colab": {
          "base_uri": "https://localhost:8080/"
        },
        "id": "HE0Y6qUhbcIO",
        "outputId": "ef15f9c0-c8e4-40a1-d78a-b1888fe4fdb8"
      },
      "source": [
        "fantasy_tweet2 = \"Vaccines are deadlier than the virus!!\"\n",
        "tweet_stats(fantasy_tweet2)"
      ],
      "execution_count": 135,
      "outputs": [
        {
          "output_type": "stream",
          "text": [
            "Tweet: Vaccines are deadlier than the virus!!\n",
            "Tweet chances: [[0.98448527 0.01551468]]\n",
            "98.44852685928345 % CHANCE OF BEING FAKE NEEEWS\n"
          ],
          "name": "stdout"
        }
      ]
    },
    {
      "cell_type": "code",
      "metadata": {
        "colab": {
          "base_uri": "https://localhost:8080/"
        },
        "id": "Du7mPfjFboD4",
        "outputId": "cf26fcb6-0454-4ecb-996f-30fb00c205c9"
      },
      "source": [
        "fantasy_tweet3 = \"Coronaviruses are viruses that circulate among animals. Some coronaviruses can infect humans.\"\n",
        "tweet_stats(fantasy_tweet3)"
      ],
      "execution_count": 138,
      "outputs": [
        {
          "output_type": "stream",
          "text": [
            "Tweet: Coronaviruses are viruses that circulate among animals\n",
            "Tweet chances: [[0.9915074  0.00849254]]\n",
            "99.15074110031128 % CHANCE OF BEING FAKE NEEEWS\n"
          ],
          "name": "stdout"
        }
      ]
    },
    {
      "cell_type": "markdown",
      "metadata": {
        "id": "uvAFFWXzb81N"
      },
      "source": [
        "Unfortunately, also true! This model is not ready for real-world deployment!"
      ]
    },
    {
      "cell_type": "code",
      "metadata": {
        "colab": {
          "base_uri": "https://localhost:8080/"
        },
        "id": "3AgfFs_McD_-",
        "outputId": "79bd3146-739e-4d29-f9a1-44620a6bc0e7"
      },
      "source": [
        "fantasy_tweet4 = \"The vaccines are helping us diminishing infection numbers. The total number active cases COVID-19 worldwide has been diminishing steadly.\"\n",
        "tweet_stats(fantasy_tweet4)"
      ],
      "execution_count": 147,
      "outputs": [
        {
          "output_type": "stream",
          "text": [
            "Tweet: The vaccines are helping us diminishing infection numbers. The total number active cases COVID-19 worldwide has been diminishing steadly.\n",
            "Tweet chances: [[0.2424441 0.7575559]]\n",
            "It's telling the truth\n"
          ],
          "name": "stdout"
        }
      ]
    },
    {
      "cell_type": "markdown",
      "metadata": {
        "id": "objls-7odRin"
      },
      "source": [
        "Seems like a more articulated phrase with better vocabulary has better chances of being labeled as \"true\"."
      ]
    }
  ]
}